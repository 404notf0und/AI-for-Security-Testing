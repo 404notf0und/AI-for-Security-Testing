{
 "cells": [
  {
   "cell_type": "code",
   "execution_count": 1,
   "metadata": {},
   "outputs": [],
   "source": [
    "import os\n",
    "import gc\n",
    "from functools import partial, wraps\n",
    "from datetime import datetime as dt\n",
    "import warnings\n",
    "warnings.simplefilter('ignore', FutureWarning)\n",
    "\n",
    "import numpy as np # linear algebra\n",
    "import pandas as pd # data processing, CSV file I/O (e.g. pd.read_csv)\n",
    "\n",
    "import seaborn as sns\n",
    "import matplotlib.pyplot as plt\n",
    "\n",
    "from sklearn.metrics import roc_auc_score\n",
    "from sklearn.model_selection import StratifiedKFold\n",
    "\n",
    "import lightgbm as lgb"
   ]
  },
  {
   "cell_type": "code",
   "execution_count": 2,
   "metadata": {},
   "outputs": [],
   "source": [
    "TARGET = 'HasDetections'\n",
    "TARGET_INDEX = 'MachineIdentifier'\n",
    "\n",
    "\n",
    "def modeling_cross_validation(params, X, y, nr_folds=5):\n",
    "    clfs = list()\n",
    "    oof_preds = np.zeros(X.shape[0])\n",
    "    # Split data with kfold\n",
    "    kfolds = StratifiedKFold(n_splits=nr_folds, shuffle=False, random_state=42)\n",
    "    for n_fold, (trn_idx, val_idx) in enumerate(kfolds.split(X, y)):\n",
    "        X_train, y_train = X.iloc[trn_idx], y.iloc[trn_idx]\n",
    "        X_valid, y_valid = X.iloc[val_idx], y.iloc[val_idx]\n",
    "\n",
    "        print(\"Fold {}\".format(n_fold+1))\n",
    "        \n",
    "        model = lgb.LGBMClassifier(**params)\n",
    "        model.fit(\n",
    "            X_train, y_train,\n",
    "            eval_set=[(X_valid, y_valid)],\n",
    "            verbose=200, eval_metric='auc',\n",
    "            early_stopping_rounds=150\n",
    "        )\n",
    "\n",
    "        clfs.append(model)\n",
    "        oof_preds[val_idx] = model.predict(X_valid, num_iteration=model.best_iteration_)\n",
    "        \n",
    "    score = roc_auc_score(y, oof_preds)\n",
    "    print(score)\n",
    "    return clfs, score\n",
    "\n"
   ]
  },
  {
   "cell_type": "code",
   "execution_count": 3,
   "metadata": {},
   "outputs": [],
   "source": [
    "def predict_cross_validation(test, clfs):\n",
    "    sub_preds = np.zeros(test.shape[0])\n",
    "    for i, model in enumerate(clfs, 1):    \n",
    "        test_preds = model.predict_proba(test, num_iteration=model.best_iteration_)\n",
    "        sub_preds += test_preds[:,1]\n",
    "\n",
    "    sub_preds = sub_preds / len(clfs)\n",
    "    ret = pd.Series(sub_preds, index=test.index)\n",
    "    ret.index.name = test.index.name\n",
    "    return ret"
   ]
  },
  {
   "cell_type": "code",
   "execution_count": 4,
   "metadata": {},
   "outputs": [],
   "source": [
    "def predict_test_chunk(features, clfs, dtypes, filename='tmp.csv', chunks=100000):\n",
    "    \n",
    "    for i_c, df in enumerate(pd.read_csv('test.csv', \n",
    "                                         chunksize=chunks, \n",
    "                                         dtype=dtypes, \n",
    "                                         iterator=True)):\n",
    "        \n",
    "        df.set_index(TARGET_INDEX, inplace=True)\n",
    "        preds_df = predict_cross_validation(df[features], clfs)\n",
    "        preds_df = preds_df.to_frame(TARGET)\n",
    "\n",
    "        if i_c == 0:\n",
    "            preds_df.to_csv(filename, header=True, mode='a', index=True)\n",
    "        else:\n",
    "            preds_df.to_csv(filename, header=False, mode='a', index=True)\n",
    "    \n",
    "        del preds_df\n",
    "        gc.collect()"
   ]
  },
  {
   "cell_type": "code",
   "execution_count": 5,
   "metadata": {},
   "outputs": [],
   "source": [
    "# cf Theo Viel https://www.kaggle.com/theoviel/load-the-totality-of-the-data\n",
    "dtypes = {\n",
    "        #'MachineIdentifier':                                    'category',\n",
    "        'ProductName':                                          'category',\n",
    "        'EngineVersion':                                        'category',\n",
    "        'AppVersion':                                           'category',\n",
    "        'AvSigVersion':                                         'category',\n",
    "        'IsBeta':                                               'int8',\n",
    "        'RtpStateBitfield':                                     'float16',\n",
    "        'IsSxsPassiveMode':                                     'int8',\n",
    "        'DefaultBrowsersIdentifier':                            'float16',\n",
    "        'AVProductStatesIdentifier':                            'float32',\n",
    "        'AVProductsInstalled':                                  'float16',\n",
    "        'AVProductsEnabled':                                    'float16',\n",
    "        'HasTpm':                                               'int8',\n",
    "        'CountryIdentifier':                                    'int32',\n",
    "        'CityIdentifier':                                       'float32',\n",
    "        'OrganizationIdentifier':                               'float16',\n",
    "        'GeoNameIdentifier':                                    'float32',\n",
    "        'LocaleEnglishNameIdentifier':                          'int32',\n",
    "        'Platform':                                             'category',\n",
    "        'Processor':                                            'category',\n",
    "        'OsVer':                                                'category',\n",
    "        'OsBuild':                                              'int16',\n",
    "        'OsSuite':                                              'int16',\n",
    "        'OsPlatformSubRelease':                                 'category',\n",
    "        'OsBuildLab':                                           'category',\n",
    "        'SkuEdition':                                           'category',\n",
    "        'IsProtected':                                          'float16',\n",
    "        'AutoSampleOptIn':                                      'int8',\n",
    "        'PuaMode':                                              'category',\n",
    "        'SMode':                                                'float16',\n",
    "        'IeVerIdentifier':                                      'float32',\n",
    "        'SmartScreen':                                          'category',\n",
    "        'Firewall':                                             'float16',\n",
    "        'UacLuaenable':                                         'float64',\n",
    "        'Census_MDC2FormFactor':                                'category',\n",
    "        'Census_DeviceFamily':                                  'category',\n",
    "        'Census_OEMNameIdentifier':                             'float32',\n",
    "        'Census_OEMModelIdentifier':                            'float32',\n",
    "        'Census_ProcessorCoreCount':                            'float16',\n",
    "        'Census_ProcessorManufacturerIdentifier':               'float16',\n",
    "        'Census_ProcessorModelIdentifier':                      'float32',\n",
    "        'Census_ProcessorClass':                                'category',\n",
    "        'Census_PrimaryDiskTotalCapacity':                      'float32',\n",
    "        'Census_PrimaryDiskTypeName':                           'category',\n",
    "        'Census_SystemVolumeTotalCapacity':                     'float32',\n",
    "        'Census_HasOpticalDiskDrive':                           'int8',\n",
    "        'Census_TotalPhysicalRAM':                              'float32',\n",
    "        'Census_ChassisTypeName':                               'category',\n",
    "        'Census_InternalPrimaryDiagonalDisplaySizeInInches':    'float32',\n",
    "        'Census_InternalPrimaryDisplayResolutionHorizontal':    'float32',\n",
    "        'Census_InternalPrimaryDisplayResolutionVertical':      'float32',\n",
    "        'Census_PowerPlatformRoleName':                         'category',\n",
    "        'Census_InternalBatteryType':                           'category',\n",
    "        'Census_InternalBatteryNumberOfCharges':                'float32',\n",
    "        'Census_OSVersion':                                     'category',\n",
    "        'Census_OSArchitecture':                                'category',\n",
    "        'Census_OSBranch':                                      'category',\n",
    "        'Census_OSBuildNumber':                                 'int32',\n",
    "        'Census_OSBuildRevision':                               'int32',\n",
    "        'Census_OSEdition':                                     'category',\n",
    "        'Census_OSSkuName':                                     'category',\n",
    "        'Census_OSInstallTypeName':                             'category',\n",
    "        'Census_OSInstallLanguageIdentifier':                   'float16',\n",
    "        'Census_OSUILocaleIdentifier':                          'int32',\n",
    "        'Census_OSWUAutoUpdateOptionsName':                     'category',\n",
    "        'Census_IsPortableOperatingSystem':                     'int8',\n",
    "        'Census_GenuineStateName':                              'category',\n",
    "        'Census_ActivationChannel':                             'category',\n",
    "        'Census_IsFlightingInternal':                           'float16',\n",
    "        'Census_IsFlightsDisabled':                             'float16',\n",
    "        'Census_FlightRing':                                    'category',\n",
    "        'Census_ThresholdOptIn':                                'float16',\n",
    "        'Census_FirmwareManufacturerIdentifier':                'float32',\n",
    "        'Census_FirmwareVersionIdentifier':                     'float32',\n",
    "        'Census_IsSecureBootEnabled':                           'int8',\n",
    "        'Census_IsWIMBootEnabled':                              'float16',\n",
    "        'Census_IsVirtualDevice':                               'float16',\n",
    "        'Census_IsTouchEnabled':                                'int8',\n",
    "        'Census_IsPenCapable':                                  'int8',\n",
    "        'Census_IsAlwaysOnAlwaysConnectedCapable':              'float16',\n",
    "        'Wdft_IsGamer':                                         'float16',\n",
    "        'Wdft_RegionIdentifier':                                'float32',\n",
    "        'HasDetections':                                        'int8'\n",
    "    }\n",
    "        \n",
    "# Some of these might be redundant, tried to reduce overfitting (num_leaves < 2^max_depth)\n",
    "model_params = {\n",
    "            'device': 'cpu', \n",
    "        \"objective\": \"binary\",\n",
    "        \"boosting_type\": \"gbdt\", \n",
    "        \"learning_rate\": 0.05,\n",
    "        \"max_depth\": 8,\n",
    "        \"num_leaves\": 120,\n",
    "        \"n_estimators\": 1000,\n",
    "        \"bagging_fraction\": 0.7,\n",
    "        \"feature_fraction\": 0.7,\n",
    "        \"bagging_freq\": 5,\n",
    "        \"bagging_seed\": 2018,\n",
    "        'min_child_samples': 80, \n",
    "        'min_child_weight': 100.0, \n",
    "        'min_split_gain': 0.1, \n",
    "        'reg_alpha': 0.005, \n",
    "        'reg_lambda': 0.1, \n",
    "        'subsample_for_bin': 25000, \n",
    "        'min_data_per_group': 100, \n",
    "        'max_cat_to_onehot': 4, \n",
    "        'cat_l2': 25.0, \n",
    "        'cat_smooth': 2.0, \n",
    "        'max_cat_threshold': 32, \n",
    "        \"random_state\": 1,\n",
    "        \"silent\": True,\n",
    "        \"metric\": \"auc\",\n",
    "    }\n"
   ]
  },
  {
   "cell_type": "code",
   "execution_count": 6,
   "metadata": {},
   "outputs": [
    {
     "name": "stdout",
     "output_type": "stream",
     "text": [
      "Fold 1\n",
      "Training until validation scores don't improve for 150 rounds.\n",
      "[200]\tvalid_0's auc: 0.721514\n",
      "[400]\tvalid_0's auc: 0.726878\n",
      "[600]\tvalid_0's auc: 0.728874\n",
      "[800]\tvalid_0's auc: 0.729963\n",
      "[1000]\tvalid_0's auc: 0.730857\n",
      "Did not meet early stopping. Best iteration is:\n",
      "[997]\tvalid_0's auc: 0.730859\n"
     ]
    },
    {
     "name": "stderr",
     "output_type": "stream",
     "text": [
      "/home/admin/anaconda3/lib/python3.6/site-packages/sklearn/preprocessing/label.py:151: DeprecationWarning: The truth value of an empty array is ambiguous. Returning False, but in future this will result in an error. Use `array.size > 0` to check that an array is not empty.\n",
      "  if diff:\n"
     ]
    },
    {
     "name": "stdout",
     "output_type": "stream",
     "text": [
      "Fold 2\n",
      "Training until validation scores don't improve for 150 rounds.\n",
      "[200]\tvalid_0's auc: 0.72087\n",
      "[400]\tvalid_0's auc: 0.726214\n",
      "[600]\tvalid_0's auc: 0.728356\n",
      "[800]\tvalid_0's auc: 0.729533\n",
      "[1000]\tvalid_0's auc: 0.730474\n",
      "Did not meet early stopping. Best iteration is:\n",
      "[997]\tvalid_0's auc: 0.730476\n"
     ]
    },
    {
     "name": "stderr",
     "output_type": "stream",
     "text": [
      "/home/admin/anaconda3/lib/python3.6/site-packages/sklearn/preprocessing/label.py:151: DeprecationWarning: The truth value of an empty array is ambiguous. Returning False, but in future this will result in an error. Use `array.size > 0` to check that an array is not empty.\n",
      "  if diff:\n"
     ]
    },
    {
     "name": "stdout",
     "output_type": "stream",
     "text": [
      "Fold 3\n",
      "Training until validation scores don't improve for 150 rounds.\n",
      "[200]\tvalid_0's auc: 0.721066\n",
      "[400]\tvalid_0's auc: 0.726799\n",
      "[600]\tvalid_0's auc: 0.728576\n",
      "[800]\tvalid_0's auc: 0.72972\n",
      "[1000]\tvalid_0's auc: 0.730465\n",
      "Did not meet early stopping. Best iteration is:\n",
      "[1000]\tvalid_0's auc: 0.730465\n"
     ]
    },
    {
     "name": "stderr",
     "output_type": "stream",
     "text": [
      "/home/admin/anaconda3/lib/python3.6/site-packages/sklearn/preprocessing/label.py:151: DeprecationWarning: The truth value of an empty array is ambiguous. Returning False, but in future this will result in an error. Use `array.size > 0` to check that an array is not empty.\n",
      "  if diff:\n"
     ]
    },
    {
     "name": "stdout",
     "output_type": "stream",
     "text": [
      "Fold 4\n",
      "Training until validation scores don't improve for 150 rounds.\n",
      "[200]\tvalid_0's auc: 0.720944\n",
      "[400]\tvalid_0's auc: 0.726279\n",
      "[600]\tvalid_0's auc: 0.72844\n",
      "[800]\tvalid_0's auc: 0.729594\n",
      "[1000]\tvalid_0's auc: 0.73031\n",
      "Did not meet early stopping. Best iteration is:\n",
      "[998]\tvalid_0's auc: 0.730313\n"
     ]
    },
    {
     "name": "stderr",
     "output_type": "stream",
     "text": [
      "/home/admin/anaconda3/lib/python3.6/site-packages/sklearn/preprocessing/label.py:151: DeprecationWarning: The truth value of an empty array is ambiguous. Returning False, but in future this will result in an error. Use `array.size > 0` to check that an array is not empty.\n",
      "  if diff:\n"
     ]
    },
    {
     "name": "stdout",
     "output_type": "stream",
     "text": [
      "Fold 5\n",
      "Training until validation scores don't improve for 150 rounds.\n",
      "[200]\tvalid_0's auc: 0.720887\n",
      "[400]\tvalid_0's auc: 0.726252\n",
      "[600]\tvalid_0's auc: 0.728268\n",
      "[800]\tvalid_0's auc: 0.729233\n",
      "[1000]\tvalid_0's auc: 0.730018\n",
      "Did not meet early stopping. Best iteration is:\n",
      "[998]\tvalid_0's auc: 0.730021\n"
     ]
    },
    {
     "name": "stderr",
     "output_type": "stream",
     "text": [
      "/home/admin/anaconda3/lib/python3.6/site-packages/sklearn/preprocessing/label.py:151: DeprecationWarning: The truth value of an empty array is ambiguous. Returning False, but in future this will result in an error. Use `array.size > 0` to check that an array is not empty.\n",
      "  if diff:\n"
     ]
    },
    {
     "name": "stdout",
     "output_type": "stream",
     "text": [
      "0.6645974452397293\n"
     ]
    }
   ],
   "source": [
    "train_features = list()\n",
    "    \n",
    "train = pd.read_csv('train.csv', dtype=dtypes).set_index(TARGET_INDEX)\n",
    "train_features = [f for f in train.columns if f != TARGET]\n",
    "    \n",
    "# modeling\n",
    "clfs, score = modeling_cross_validation(model_params, train[train_features], train[TARGET])\n",
    "filename = 'subm_{:.6f}_{}_{}.csv'.format(score, 'LGBM', dt.now().strftime('%Y-%m-%d-%H-%M'))\n",
    "predict_test_chunk(train_features, clfs, dtypes, filename=filename, chunks=100000)\n",
    "\n"
   ]
  },
  {
   "cell_type": "code",
   "execution_count": 9,
   "metadata": {},
   "outputs": [
    {
     "data": {
      "text/plain": [
       "LGBMClassifier(bagging_fraction=0.7, bagging_freq=5, bagging_seed=2018,\n",
       "        boosting_type='gbdt', cat_l2=25.0, cat_smooth=2.0,\n",
       "        class_weight=None, colsample_bytree=1.0, device='cpu',\n",
       "        feature_fraction=0.7, importance_type='split', learning_rate=0.05,\n",
       "        max_cat_threshold=32, max_cat_to_onehot=4, max_depth=8,\n",
       "        metric='auc', min_child_samples=80, min_child_weight=100.0,\n",
       "        min_data_per_group=100, min_split_gain=0.1, n_estimators=1000,\n",
       "        n_jobs=-1, num_leaves=120, objective='binary', random_state=1,\n",
       "        reg_alpha=0.005, reg_lambda=0.1, silent=True, subsample=1.0,\n",
       "        subsample_for_bin=25000, subsample_freq=0)"
      ]
     },
     "execution_count": 9,
     "metadata": {},
     "output_type": "execute_result"
    }
   ],
   "source": [
    "clfs[0]"
   ]
  },
  {
   "cell_type": "code",
   "execution_count": 54,
   "metadata": {},
   "outputs": [
    {
     "data": {
      "text/plain": [
       "<Figure size 1152x720 with 0 Axes>"
      ]
     },
     "metadata": {},
     "output_type": "display_data"
    },
    {
     "data": {
      "image/png": "[encoded data removed]",
      "text/plain": [
       "<Figure size 432x288 with 1 Axes>"
      ]
     },
     "metadata": {},
     "output_type": "display_data"
    }
   ],
   "source": [
    "plt.figure(figsize=(16,10))\n",
    "lgb.plot_importance(clfs[0],max_num_features=10)\n",
    "plt.title(\"Featurertances\")\n",
    "plt.show()"
   ]
  },
  {
   "cell_type": "code",
   "execution_count": 35,
   "metadata": {},
   "outputs": [],
   "source": [
    "booster = clfs[0].booster_\n",
    "importance = booster.feature_importance(importance_type='split')"
   ]
  },
  {
   "cell_type": "code",
   "execution_count": 36,
   "metadata": {},
   "outputs": [],
   "source": [
    "feature_name = booster.feature_name()"
   ]
  },
  {
   "cell_type": "code",
   "execution_count": 37,
   "metadata": {},
   "outputs": [
    {
     "name": "stdout",
     "output_type": "stream",
     "text": [
      "ProductName 2\n",
      "EngineVersion 2090\n",
      "AppVersion 4954\n",
      "AvSigVersion 12714\n",
      "IsBeta 0\n",
      "RtpStateBitfield 429\n",
      "IsSxsPassiveMode 187\n",
      "DefaultBrowsersIdentifier 260\n",
      "AVProductStatesIdentifier 3138\n",
      "AVProductsInstalled 519\n",
      "AVProductsEnabled 151\n",
      "HasTpm 36\n",
      "CountryIdentifier 2216\n",
      "CityIdentifier 2082\n",
      "OrganizationIdentifier 608\n",
      "GeoNameIdentifier 1329\n",
      "LocaleEnglishNameIdentifier 1617\n",
      "Platform 16\n",
      "Processor 58\n",
      "OsVer 2\n",
      "OsBuild 199\n",
      "OsSuite 139\n",
      "OsPlatformSubRelease 147\n",
      "OsBuildLab 9216\n",
      "SkuEdition 108\n",
      "IsProtected 151\n",
      "AutoSampleOptIn 0\n",
      "PuaMode 32\n",
      "SMode 280\n",
      "IeVerIdentifier 429\n",
      "SmartScreen 1060\n",
      "Firewall 117\n",
      "UacLuaenable 59\n",
      "Census_MDC2FormFactor 304\n",
      "Census_DeviceFamily 1\n",
      "Census_OEMNameIdentifier 1002\n",
      "Census_OEMModelIdentifier 1606\n",
      "Census_ProcessorCoreCount 311\n",
      "Census_ProcessorManufacturerIdentifier 7\n",
      "Census_ProcessorModelIdentifier 1728\n",
      "Census_ProcessorClass 50\n",
      "Census_PrimaryDiskTotalCapacity 845\n",
      "Census_PrimaryDiskTypeName 258\n",
      "Census_SystemVolumeTotalCapacity 1826\n",
      "Census_HasOpticalDiskDrive 92\n",
      "Census_TotalPhysicalRAM 640\n",
      "Census_ChassisTypeName 1033\n",
      "Census_InternalPrimaryDiagonalDisplaySizeInInches 1168\n",
      "Census_InternalPrimaryDisplayResolutionHorizontal 423\n",
      "Census_InternalPrimaryDisplayResolutionVertical 405\n",
      "Census_PowerPlatformRoleName 127\n",
      "Census_InternalBatteryType 88\n",
      "Census_InternalBatteryNumberOfCharges 856\n",
      "Census_OSVersion 14818\n",
      "Census_OSArchitecture 32\n",
      "Census_OSBranch 184\n",
      "Census_OSBuildNumber 168\n",
      "Census_OSBuildRevision 492\n",
      "Census_OSEdition 513\n",
      "Census_OSSkuName 247\n",
      "Census_OSInstallTypeName 1821\n",
      "Census_OSInstallLanguageIdentifier 861\n",
      "Census_OSUILocaleIdentifier 856\n",
      "Census_OSWUAutoUpdateOptionsName 317\n",
      "Census_IsPortableOperatingSystem 7\n",
      "Census_GenuineStateName 291\n",
      "Census_ActivationChannel 856\n",
      "Census_IsFlightingInternal 64\n",
      "Census_IsFlightsDisabled 9\n",
      "Census_FlightRing 101\n",
      "Census_ThresholdOptIn 179\n",
      "Census_FirmwareManufacturerIdentifier 950\n",
      "Census_FirmwareVersionIdentifier 1665\n",
      "Census_IsSecureBootEnabled 154\n",
      "Census_IsWIMBootEnabled 119\n",
      "Census_IsVirtualDevice 110\n",
      "Census_IsTouchEnabled 56\n",
      "Census_IsPenCapable 21\n",
      "Census_IsAlwaysOnAlwaysConnectedCapable 33\n",
      "Wdft_IsGamer 842\n",
      "Wdft_RegionIdentifier 2256\n"
     ]
    }
   ],
   "source": [
    "#{'feature_name':feature_name,'importance':importance}\n",
    "for (feature_name,importance) in zip(feature_name,importance):\n",
    "    print (feature_name,importance)"
   ]
  },
  {
   "cell_type": "code",
   "execution_count": 48,
   "metadata": {},
   "outputs": [
    {
     "ename": "AttributeError",
     "evalue": "'LGBMClassifier' object has no attribute 'feature_importance'",
     "output_type": "error",
     "traceback": [
      "\u001b[0;31m---------------------------------------------------------------------------\u001b[0m",
      "\u001b[0;31mAttributeError\u001b[0m                            Traceback (most recent call last)",
      "\u001b[0;32m<ipython-input-48-5c95fccfc7ea>\u001b[0m in \u001b[0;36m<module>\u001b[0;34m()\u001b[0m\n\u001b[0;32m----> 1\u001b[0;31m \u001b[0mclfs\u001b[0m\u001b[0;34m[\u001b[0m\u001b[0;36m0\u001b[0m\u001b[0;34m]\u001b[0m\u001b[0;34m.\u001b[0m\u001b[0mfeature_importance\u001b[0m\u001b[0;34m(\u001b[0m\u001b[0;34m)\u001b[0m\u001b[0;34m\u001b[0m\u001b[0m\n\u001b[0m",
      "\u001b[0;31mAttributeError\u001b[0m: 'LGBMClassifier' object has no attribute 'feature_importance'"
     ]
    }
   ],
   "source": [
    "clfs[0].feature_importance()"
   ]
  },
  {
   "cell_type": "code",
   "execution_count": null,
   "metadata": {},
   "outputs": [],
   "source": []
  }
 ],
 "metadata": {
  "kernelspec": {
   "display_name": "Python 3",
   "language": "python",
   "name": "python3"
  },
  "language_info": {
   "codemirror_mode": {
    "name": "ipython",
    "version": 3
   },
   "file_extension": ".py",
   "mimetype": "text/x-python",
   "name": "python",
   "nbconvert_exporter": "python",
   "pygments_lexer": "ipython3",
   "version": "3.6.5"
  }
 },
 "nbformat": 4,
 "nbformat_minor": 2
}
