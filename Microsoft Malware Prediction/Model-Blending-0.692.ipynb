{
 "cells": [
  {
   "cell_type": "code",
   "execution_count": 56,
   "metadata": {},
   "outputs": [],
   "source": [
    "import numpy as np\n",
    "import pandas as pd\n",
    "import os\n",
    "\n",
    "from scipy.stats import rankdata\n",
    "\n",
    "LABELS = [\"HasDetections\"]"
   ]
  },
  {
   "cell_type": "code",
   "execution_count": 57,
   "metadata": {},
   "outputs": [],
   "source": [
    "predict_list = []\n",
    "\n",
    "#predict_list.append(pd.read_csv(\"submission_ftrl.csv\")[LABELS].values)\n",
    "predict_list.append(pd.read_csv(\"ms_malware.csv\")[LABELS].values)\n",
    "predict_list.append(pd.read_csv(\"submission_lgbm_5.csv\")[LABELS].values)\n",
    "predict_list.append(pd.read_csv(\"submission_lgbm_6.csv\")[LABELS].values)\n",
    "predict_list.append(pd.read_csv(\"submission_lgbm_7.csv\")[LABELS].values)\n",
    "predict_list.append(pd.read_csv(\"submission_lgbm_8.csv\")[LABELS].values)\n",
    "predict_list.append(pd.read_csv(\"submission_lgbm_9.csv\")[LABELS].values)\n",
    "#predict_list.append(pd.read_csv(\"subm_0.738729meanlogloss_Feature_Encoding_LGBM_2019-01-12-15-57.csv\")[LABELS].values)\n",
    "#predict_list.append(pd.read_csv(\"submission_lgbm.csv\")[LABELS].values)\n",
    "#predict_list.append(pd.read_csv(\"lgb_rank.csv\")[LABELS].values)"
   ]
  },
  {
   "cell_type": "code",
   "execution_count": 60,
   "metadata": {},
   "outputs": [],
   "source": [
    "#predict_list.append(pd.read_csv(\"subm_0.739557meanencodidngFeature_Encoding_LGBM_2019-01-13-08-32.csv\")[LABELS].values)\n",
    "#predict_list.append(pd.read_csv(\"subm_0.736399engineversion_Feature_Encoding_LGBM_2019-01-05-03-20.csv\")[LABELS].values)\n",
    "#predict_list.append(pd.read_csv(\"subm_0.743117meanencodidngFeature_Encoding_LGBM_2019-01-14-06-22.csv\")[LABELS].values)\n",
    "predict_list.append(pd.read_csv(\"subm_0.744146pastfutureFeature_Encoding_LGBM_2019-01-15-12-18.csv\")[LABELS].values)"
   ]
  },
  {
   "cell_type": "code",
   "execution_count": 61,
   "metadata": {},
   "outputs": [
    {
     "name": "stdout",
     "output_type": "stream",
     "text": [
      "Rank averaging on  7  files\n"
     ]
    }
   ],
   "source": [
    "print(\"Rank averaging on \", len(predict_list), \" files\")\n",
    "predictions = np.zeros_like(predict_list[0])\n",
    "for predict in predict_list:\n",
    "    for i in range(1):\n",
    "        predictions[:, i] = np.add(predictions[:, i], rankdata(predict[:, i])/predictions.shape[0])  \n",
    "predictions /= len(predict_list)\n",
    "\n",
    "submission = pd.read_csv('sample_submission.csv')\n",
    "submission[LABELS] = predictions\n",
    "submission.to_csv('tes0.688.csv', index=False)"
   ]
  },
  {
   "cell_type": "code",
   "execution_count": null,
   "metadata": {},
   "outputs": [],
   "source": []
  }
 ],
 "metadata": {
  "kernelspec": {
   "display_name": "Python 3",
   "language": "python",
   "name": "python3"
  },
  "language_info": {
   "codemirror_mode": {
    "name": "ipython",
    "version": 3
   },
   "file_extension": ".py",
   "mimetype": "text/x-python",
   "name": "python",
   "nbconvert_exporter": "python",
   "pygments_lexer": "ipython3",
   "version": "3.7.0"
  }
 },
 "nbformat": 4,
 "nbformat_minor": 2
}
