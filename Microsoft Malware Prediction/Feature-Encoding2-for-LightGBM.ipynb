{
 "cells": [
  {
   "cell_type": "markdown",
   "metadata": {
    "_uuid": "b3854c36b54da1331d0c551ce179f96a1f3ab0c0"
   },
   "source": [
    "## Microsoft Malware Prediction\n",
    "\n",
    "The goal of this competition is to predict a Windows machine’s probability of getting infected by various families of malware, based on different properties of that machine. It is really important to find out whether the computer is infected and cure it.\n",
    "\n",
    "We have a huge dataset of data, where most features are categorical. I think that correct mean encoding should be important. Also the number of columns is quite high so it could be tempting to make some automatical processing for all columns. I personally think that it is important to analyze each variable and it could help to do a better processing.\n",
    "\n",
    "In this kernel I'll do a detailed EDA, feature engineering and modelling.\n",
    "\n",
    "![](https://storage.googleapis.com/kaggle-competitions/kaggle/10683/logos/thumb76_76.png?t=2018-09-19-16-55-15)"
   ]
  },
  {
   "cell_type": "code",
   "execution_count": 3,
   "metadata": {
    "_cell_guid": "b1076dfc-b9ad-4769-8c92-a6c4dae69d19",
    "_kg_hide-input": true,
    "_uuid": "8f2839f25d086af736a60e9eeb907d3b93b6e0e5"
   },
   "outputs": [
    {
     "data": {
      "text/html": [
       "<script type=\"text/javascript\">window.PlotlyConfig = {MathJaxConfig: 'local'};</script><script type=\"text/javascript\">if (window.MathJax) {MathJax.Hub.Config({SVG: {font: \"STIX-Web\"}});}</script><script>requirejs.config({paths: { 'plotly': ['https://cdn.plot.ly/plotly-latest.min']},});if(!window._Plotly) {require(['plotly'],function(plotly) {window._Plotly=plotly;});}</script>"
      ],
      "text/vnd.plotly.v1+html": [
       "<script type=\"text/javascript\">window.PlotlyConfig = {MathJaxConfig: 'local'};</script><script type=\"text/javascript\">if (window.MathJax) {MathJax.Hub.Config({SVG: {font: \"STIX-Web\"}});}</script><script>requirejs.config({paths: { 'plotly': ['https://cdn.plot.ly/plotly-latest.min']},});if(!window._Plotly) {require(['plotly'],function(plotly) {window._Plotly=plotly;});}</script>"
      ]
     },
     "metadata": {},
     "output_type": "display_data"
    }
   ],
   "source": [
    "#https://www.kaggle.com/artgor/is-this-malware-eda-fe-and-lgb-updated\n",
    "#libraries\n",
    "import numpy as np \n",
    "import pandas as pd \n",
    "import os\n",
    "import seaborn as sns \n",
    "import matplotlib.pyplot as plt\n",
    "%matplotlib inline\n",
    "plt.style.use('ggplot')\n",
    "import lightgbm as lgb\n",
    "#import xgboost as xgb\n",
    "import time\n",
    "import datetime\n",
    "\n",
    "from sklearn.preprocessing import LabelEncoder\n",
    "from sklearn.model_selection import StratifiedKFold, KFold, TimeSeriesSplit\n",
    "from sklearn.metrics import mean_squared_error, roc_auc_score\n",
    "from sklearn.linear_model import LogisticRegression, LogisticRegressionCV\n",
    "import gc\n",
    "#from catboost import CatBoostClassifier\n",
    "from tqdm import tqdm_notebook\n",
    "import plotly.offline as py\n",
    "py.init_notebook_mode(connected=True)\n",
    "import plotly.graph_objs as go\n",
    "import plotly.tools as tls\n",
    "\n",
    "import warnings\n",
    "warnings.filterwarnings(\"ignore\")\n",
    "\n",
    "import logging\n",
    "\n",
    "logging.basicConfig(filename='log.txt',level=logging.DEBUG, format='%(asctime)s %(message)s')\n",
    "\n",
    "pd.set_option('max_colwidth', 500)\n",
    "pd.set_option('max_columns', 500)\n",
    "pd.set_option('max_rows', 100)\n",
    "import os\n",
    "#print(os.listdir(\"../input/microsoft-malware-prediction\"))\n"
   ]
  },
  {
   "cell_type": "markdown",
   "metadata": {
    "_uuid": "a88bd62cf2a3786801c774f55fe64c23d86e996c"
   },
   "source": [
    "## Loading data\n",
    "Let's try loading data in a naive way"
   ]
  },
  {
   "cell_type": "code",
   "execution_count": 4,
   "metadata": {
    "_kg_hide-input": true,
    "_uuid": "2ec62825ad4db2d713100b64da6672902fc65386"
   },
   "outputs": [],
   "source": [
    "#https://www.kaggle.com/theoviel/load-the-totality-of-the-data\n",
    "dtypes = {\n",
    "        'MachineIdentifier':                                    'category',\n",
    "        'ProductName':                                          'category',\n",
    "        'EngineVersion':                                        'category',\n",
    "        'AppVersion':                                           'category',\n",
    "        'AvSigVersion':                                         'category',\n",
    "        'IsBeta':                                               'int8',\n",
    "        'RtpStateBitfield':                                     'float16',\n",
    "        'IsSxsPassiveMode':                                     'int8',\n",
    "        'DefaultBrowsersIdentifier':                            'float16',\n",
    "        'AVProductStatesIdentifier':                            'float32',\n",
    "        'AVProductsInstalled':                                  'float16',\n",
    "        'AVProductsEnabled':                                    'float16',\n",
    "        'HasTpm':                                               'int8',\n",
    "        'CountryIdentifier':                                    'int16',\n",
    "        'CityIdentifier':                                       'float32',\n",
    "        'OrganizationIdentifier':                               'float16',\n",
    "        'GeoNameIdentifier':                                    'float16',\n",
    "        'LocaleEnglishNameIdentifier':                          'int8',\n",
    "        'Platform':                                             'category',\n",
    "        'Processor':                                            'category',\n",
    "        'OsVer':                                                'category',\n",
    "        'OsBuild':                                              'int16',\n",
    "        'OsSuite':                                              'int16',\n",
    "        'OsPlatformSubRelease':                                 'category',\n",
    "        'OsBuildLab':                                           'category',\n",
    "        'SkuEdition':                                           'category',\n",
    "        'IsProtected':                                          'float16',\n",
    "        'AutoSampleOptIn':                                      'int8',\n",
    "        'PuaMode':                                              'category',\n",
    "        'SMode':                                                'float16',\n",
    "        'IeVerIdentifier':                                      'float16',\n",
    "        'SmartScreen':                                          'category',\n",
    "        'Firewall':                                             'float16',\n",
    "        'UacLuaenable':                                         'float32',\n",
    "        'Census_MDC2FormFactor':                                'category',\n",
    "        'Census_DeviceFamily':                                  'category',\n",
    "        'Census_OEMNameIdentifier':                             'float16',\n",
    "        'Census_OEMModelIdentifier':                            'float32',\n",
    "        'Census_ProcessorCoreCount':                            'float16',\n",
    "        'Census_ProcessorManufacturerIdentifier':               'float16',\n",
    "        'Census_ProcessorModelIdentifier':                      'float16',\n",
    "        'Census_ProcessorClass':                                'category',\n",
    "        'Census_PrimaryDiskTotalCapacity':                      'float32',\n",
    "        'Census_PrimaryDiskTypeName':                           'category',\n",
    "        'Census_SystemVolumeTotalCapacity':                     'float32',\n",
    "        'Census_HasOpticalDiskDrive':                           'int8',\n",
    "        'Census_TotalPhysicalRAM':                              'float32',\n",
    "        'Census_ChassisTypeName':                               'category',\n",
    "        'Census_InternalPrimaryDiagonalDisplaySizeInInches':    'float16',\n",
    "        'Census_InternalPrimaryDisplayResolutionHorizontal':    'float16',\n",
    "        'Census_InternalPrimaryDisplayResolutionVertical':      'float16',\n",
    "        'Census_PowerPlatformRoleName':                         'category',\n",
    "        'Census_InternalBatteryType':                           'category',\n",
    "        'Census_InternalBatteryNumberOfCharges':                'float32',\n",
    "        'Census_OSVersion':                                     'category',\n",
    "        'Census_OSArchitecture':                                'category',\n",
    "        'Census_OSBranch':                                      'category',\n",
    "        'Census_OSBuildNumber':                                 'int16',\n",
    "        'Census_OSBuildRevision':                               'int32',\n",
    "        'Census_OSEdition':                                     'category',\n",
    "        'Census_OSSkuName':                                     'category',\n",
    "        'Census_OSInstallTypeName':                             'category',\n",
    "        'Census_OSInstallLanguageIdentifier':                   'float16',\n",
    "        'Census_OSUILocaleIdentifier':                          'int16',\n",
    "        'Census_OSWUAutoUpdateOptionsName':                     'category',\n",
    "        'Census_IsPortableOperatingSystem':                     'int8',\n",
    "        'Census_GenuineStateName':                              'category',\n",
    "        'Census_ActivationChannel':                             'category',\n",
    "        'Census_IsFlightingInternal':                           'float16',\n",
    "        'Census_IsFlightsDisabled':                             'float16',\n",
    "        'Census_FlightRing':                                    'category',\n",
    "        'Census_ThresholdOptIn':                                'float16',\n",
    "        'Census_FirmwareManufacturerIdentifier':                'float16',\n",
    "        'Census_FirmwareVersionIdentifier':                     'float32',\n",
    "        'Census_IsSecureBootEnabled':                           'int8',\n",
    "        'Census_IsWIMBootEnabled':                              'float16',\n",
    "        'Census_IsVirtualDevice':                               'float16',\n",
    "        'Census_IsTouchEnabled':                                'int8',\n",
    "        'Census_IsPenCapable':                                  'int8',\n",
    "        'Census_IsAlwaysOnAlwaysConnectedCapable':              'float16',\n",
    "        'Wdft_IsGamer':                                         'float16',\n",
    "        'Wdft_RegionIdentifier':                                'float16',\n",
    "        'HasDetections':                                        'int8'\n",
    "        }\n",
    "\n",
    "def reduce_mem_usage(df, verbose=True):\n",
    "    numerics = ['int16', 'int32', 'int64', 'float16', 'float32', 'float64']\n",
    "    start_mem = df.memory_usage().sum() / 1024**2    \n",
    "    for col in df.columns:\n",
    "        col_type = df[col].dtypes\n",
    "        if col_type in numerics:\n",
    "            c_min = df[col].min()\n",
    "            c_max = df[col].max()\n",
    "            if str(col_type)[:3] == 'int':\n",
    "                if c_min > np.iinfo(np.int8).min and c_max < np.iinfo(np.int8).max:\n",
    "                    df[col] = df[col].astype(np.int8)\n",
    "                elif c_min > np.iinfo(np.int16).min and c_max < np.iinfo(np.int16).max:\n",
    "                    df[col] = df[col].astype(np.int16)\n",
    "                elif c_min > np.iinfo(np.int32).min and c_max < np.iinfo(np.int32).max:\n",
    "                    df[col] = df[col].astype(np.int32)\n",
    "                elif c_min > np.iinfo(np.int64).min and c_max < np.iinfo(np.int64).max:\n",
    "                    df[col] = df[col].astype(np.int64)  \n",
    "            else:\n",
    "                if c_min > np.finfo(np.float16).min and c_max < np.finfo(np.float16).max:\n",
    "                    df[col] = df[col].astype(np.float16)\n",
    "                elif c_min > np.finfo(np.float32).min and c_max < np.finfo(np.float32).max:\n",
    "                    df[col] = df[col].astype(np.float32)\n",
    "                else:\n",
    "                    df[col] = df[col].astype(np.float64)    \n",
    "    end_mem = df.memory_usage().sum() / 1024**2\n",
    "    if verbose: print('Mem. usage decreased to {:5.2f} Mb ({:.1f}% reduction)'.format(end_mem, 100 * (start_mem - end_mem) / start_mem))\n",
    "    return df"
   ]
  },
  {
   "cell_type": "code",
   "execution_count": 5,
   "metadata": {
    "_uuid": "a1ff40231baaa83b94b6454d7f29f1a44b3c84c7"
   },
   "outputs": [],
   "source": [
    "numerics = ['int8', 'int16', 'int32', 'int64', 'float16', 'float32', 'float64']\n",
    "numerical_columns = [c for c,v in dtypes.items() if v in numerics]\n",
    "categorical_columns = [c for c,v in dtypes.items() if v not in numerics]"
   ]
  },
  {
   "cell_type": "code",
   "execution_count": 6,
   "metadata": {
    "_uuid": "368a8a0fd570819d155017e50d4e93c5c416dabe"
   },
   "outputs": [
    {
     "name": "stdout",
     "output_type": "stream",
     "text": [
      "Wall time: 8min 56s\n"
     ]
    }
   ],
   "source": [
    "%%time\n",
    "train = pd.read_csv('train.csv', dtype=dtypes)"
   ]
  },
  {
   "cell_type": "code",
   "execution_count": 7,
   "metadata": {
    "_uuid": "6b2a453151c8071678cae96e1bc9bf003c410287"
   },
   "outputs": [
    {
     "name": "stdout",
     "output_type": "stream",
     "text": [
      "Mem. usage decreased to 1673.25 Mb (0.0% reduction)\n"
     ]
    }
   ],
   "source": [
    "train = reduce_mem_usage(train)"
   ]
  },
  {
   "cell_type": "code",
   "execution_count": 8,
   "metadata": {
    "_uuid": "d8006bb3c02abd0ce9e3fcf2e3243965854b81ab",
    "scrolled": true
   },
   "outputs": [
    {
     "data": {
      "text/html": [
       "<div>\n",
       "<style scoped>\n",
       "    .dataframe tbody tr th:only-of-type {\n",
       "        vertical-align: middle;\n",
       "    }\n",
       "\n",
       "    .dataframe tbody tr th {\n",
       "        vertical-align: top;\n",
       "    }\n",
       "\n",
       "    .dataframe thead th {\n",
       "        text-align: right;\n",
       "    }\n",
       "</style>\n",
       "<table border=\"1\" class=\"dataframe\">\n",
       "  <thead>\n",
       "    <tr style=\"text-align: right;\">\n",
       "      <th></th>\n",
       "      <th>Feature</th>\n",
       "      <th>Unique_values</th>\n",
       "      <th>Percentage of missing values</th>\n",
       "      <th>Percentage of values in the biggest category</th>\n",
       "      <th>type</th>\n",
       "    </tr>\n",
       "  </thead>\n",
       "  <tbody>\n",
       "    <tr>\n",
       "      <th>28</th>\n",
       "      <td>PuaMode</td>\n",
       "      <td>2</td>\n",
       "      <td>99.974119</td>\n",
       "      <td>99.974119</td>\n",
       "      <td>category</td>\n",
       "    </tr>\n",
       "    <tr>\n",
       "      <th>41</th>\n",
       "      <td>Census_ProcessorClass</td>\n",
       "      <td>3</td>\n",
       "      <td>99.589407</td>\n",
       "      <td>99.589407</td>\n",
       "      <td>category</td>\n",
       "    </tr>\n",
       "    <tr>\n",
       "      <th>8</th>\n",
       "      <td>DefaultBrowsersIdentifier</td>\n",
       "      <td>1730</td>\n",
       "      <td>95.141637</td>\n",
       "      <td>95.141637</td>\n",
       "      <td>float16</td>\n",
       "    </tr>\n",
       "    <tr>\n",
       "      <th>68</th>\n",
       "      <td>Census_IsFlightingInternal</td>\n",
       "      <td>2</td>\n",
       "      <td>83.044030</td>\n",
       "      <td>83.044030</td>\n",
       "      <td>float16</td>\n",
       "    </tr>\n",
       "    <tr>\n",
       "      <th>52</th>\n",
       "      <td>Census_InternalBatteryType</td>\n",
       "      <td>78</td>\n",
       "      <td>71.046809</td>\n",
       "      <td>71.046809</td>\n",
       "      <td>category</td>\n",
       "    </tr>\n",
       "    <tr>\n",
       "      <th>71</th>\n",
       "      <td>Census_ThresholdOptIn</td>\n",
       "      <td>2</td>\n",
       "      <td>63.524472</td>\n",
       "      <td>63.524472</td>\n",
       "      <td>float16</td>\n",
       "    </tr>\n",
       "    <tr>\n",
       "      <th>75</th>\n",
       "      <td>Census_IsWIMBootEnabled</td>\n",
       "      <td>2</td>\n",
       "      <td>63.439038</td>\n",
       "      <td>63.439038</td>\n",
       "      <td>float16</td>\n",
       "    </tr>\n",
       "    <tr>\n",
       "      <th>31</th>\n",
       "      <td>SmartScreen</td>\n",
       "      <td>21</td>\n",
       "      <td>35.610795</td>\n",
       "      <td>48.379658</td>\n",
       "      <td>category</td>\n",
       "    </tr>\n",
       "    <tr>\n",
       "      <th>15</th>\n",
       "      <td>OrganizationIdentifier</td>\n",
       "      <td>49</td>\n",
       "      <td>30.841487</td>\n",
       "      <td>47.037662</td>\n",
       "      <td>float16</td>\n",
       "    </tr>\n",
       "    <tr>\n",
       "      <th>29</th>\n",
       "      <td>SMode</td>\n",
       "      <td>2</td>\n",
       "      <td>6.027686</td>\n",
       "      <td>93.928812</td>\n",
       "      <td>float16</td>\n",
       "    </tr>\n",
       "    <tr>\n",
       "      <th>14</th>\n",
       "      <td>CityIdentifier</td>\n",
       "      <td>107366</td>\n",
       "      <td>3.647477</td>\n",
       "      <td>3.647477</td>\n",
       "      <td>float32</td>\n",
       "    </tr>\n",
       "    <tr>\n",
       "      <th>80</th>\n",
       "      <td>Wdft_IsGamer</td>\n",
       "      <td>2</td>\n",
       "      <td>3.401352</td>\n",
       "      <td>69.205344</td>\n",
       "      <td>float16</td>\n",
       "    </tr>\n",
       "    <tr>\n",
       "      <th>81</th>\n",
       "      <td>Wdft_RegionIdentifier</td>\n",
       "      <td>15</td>\n",
       "      <td>3.401352</td>\n",
       "      <td>20.177195</td>\n",
       "      <td>float16</td>\n",
       "    </tr>\n",
       "    <tr>\n",
       "      <th>53</th>\n",
       "      <td>Census_InternalBatteryNumberOfCharges</td>\n",
       "      <td>41087</td>\n",
       "      <td>3.012448</td>\n",
       "      <td>56.643094</td>\n",
       "      <td>float32</td>\n",
       "    </tr>\n",
       "    <tr>\n",
       "      <th>72</th>\n",
       "      <td>Census_FirmwareManufacturerIdentifier</td>\n",
       "      <td>712</td>\n",
       "      <td>2.054109</td>\n",
       "      <td>30.253692</td>\n",
       "      <td>float16</td>\n",
       "    </tr>\n",
       "    <tr>\n",
       "      <th>69</th>\n",
       "      <td>Census_IsFlightsDisabled</td>\n",
       "      <td>2</td>\n",
       "      <td>1.799286</td>\n",
       "      <td>98.199728</td>\n",
       "      <td>float16</td>\n",
       "    </tr>\n",
       "    <tr>\n",
       "      <th>73</th>\n",
       "      <td>Census_FirmwareVersionIdentifier</td>\n",
       "      <td>50494</td>\n",
       "      <td>1.794915</td>\n",
       "      <td>1.794915</td>\n",
       "      <td>float32</td>\n",
       "    </tr>\n",
       "    <tr>\n",
       "      <th>37</th>\n",
       "      <td>Census_OEMModelIdentifier</td>\n",
       "      <td>175365</td>\n",
       "      <td>1.145919</td>\n",
       "      <td>3.416271</td>\n",
       "      <td>float32</td>\n",
       "    </tr>\n",
       "    <tr>\n",
       "      <th>36</th>\n",
       "      <td>Census_OEMNameIdentifier</td>\n",
       "      <td>2564</td>\n",
       "      <td>1.070203</td>\n",
       "      <td>14.428946</td>\n",
       "      <td>float16</td>\n",
       "    </tr>\n",
       "    <tr>\n",
       "      <th>32</th>\n",
       "      <td>Firewall</td>\n",
       "      <td>2</td>\n",
       "      <td>1.023933</td>\n",
       "      <td>96.856251</td>\n",
       "      <td>float16</td>\n",
       "    </tr>\n",
       "    <tr>\n",
       "      <th>46</th>\n",
       "      <td>Census_TotalPhysicalRAM</td>\n",
       "      <td>3446</td>\n",
       "      <td>0.902686</td>\n",
       "      <td>45.894971</td>\n",
       "      <td>float32</td>\n",
       "    </tr>\n",
       "    <tr>\n",
       "      <th>79</th>\n",
       "      <td>Census_IsAlwaysOnAlwaysConnectedCapable</td>\n",
       "      <td>2</td>\n",
       "      <td>0.799676</td>\n",
       "      <td>93.504320</td>\n",
       "      <td>float16</td>\n",
       "    </tr>\n",
       "    <tr>\n",
       "      <th>62</th>\n",
       "      <td>Census_OSInstallLanguageIdentifier</td>\n",
       "      <td>39</td>\n",
       "      <td>0.673475</td>\n",
       "      <td>35.636026</td>\n",
       "      <td>float16</td>\n",
       "    </tr>\n",
       "    <tr>\n",
       "      <th>30</th>\n",
       "      <td>IeVerIdentifier</td>\n",
       "      <td>303</td>\n",
       "      <td>0.660137</td>\n",
       "      <td>43.556010</td>\n",
       "      <td>float16</td>\n",
       "    </tr>\n",
       "    <tr>\n",
       "      <th>42</th>\n",
       "      <td>Census_PrimaryDiskTotalCapacity</td>\n",
       "      <td>5735</td>\n",
       "      <td>0.594251</td>\n",
       "      <td>31.850422</td>\n",
       "      <td>float32</td>\n",
       "    </tr>\n",
       "    <tr>\n",
       "      <th>44</th>\n",
       "      <td>Census_SystemVolumeTotalCapacity</td>\n",
       "      <td>536848</td>\n",
       "      <td>0.594094</td>\n",
       "      <td>0.594094</td>\n",
       "      <td>float32</td>\n",
       "    </tr>\n",
       "    <tr>\n",
       "      <th>48</th>\n",
       "      <td>Census_InternalPrimaryDiagonalDisplaySizeInInches</td>\n",
       "      <td>785</td>\n",
       "      <td>0.528320</td>\n",
       "      <td>34.158346</td>\n",
       "      <td>float16</td>\n",
       "    </tr>\n",
       "    <tr>\n",
       "      <th>49</th>\n",
       "      <td>Census_InternalPrimaryDisplayResolutionHorizontal</td>\n",
       "      <td>2050</td>\n",
       "      <td>0.526661</td>\n",
       "      <td>50.608895</td>\n",
       "      <td>float16</td>\n",
       "    </tr>\n",
       "    <tr>\n",
       "      <th>50</th>\n",
       "      <td>Census_InternalPrimaryDisplayResolutionVertical</td>\n",
       "      <td>1552</td>\n",
       "      <td>0.526661</td>\n",
       "      <td>55.748814</td>\n",
       "      <td>float16</td>\n",
       "    </tr>\n",
       "    <tr>\n",
       "      <th>40</th>\n",
       "      <td>Census_ProcessorModelIdentifier</td>\n",
       "      <td>2583</td>\n",
       "      <td>0.463410</td>\n",
       "      <td>3.242555</td>\n",
       "      <td>float16</td>\n",
       "    </tr>\n",
       "    <tr>\n",
       "      <th>39</th>\n",
       "      <td>Census_ProcessorManufacturerIdentifier</td>\n",
       "      <td>7</td>\n",
       "      <td>0.463073</td>\n",
       "      <td>87.870122</td>\n",
       "      <td>float16</td>\n",
       "    </tr>\n",
       "    <tr>\n",
       "      <th>38</th>\n",
       "      <td>Census_ProcessorCoreCount</td>\n",
       "      <td>45</td>\n",
       "      <td>0.462995</td>\n",
       "      <td>60.866484</td>\n",
       "      <td>float16</td>\n",
       "    </tr>\n",
       "    <tr>\n",
       "      <th>9</th>\n",
       "      <td>AVProductStatesIdentifier</td>\n",
       "      <td>28970</td>\n",
       "      <td>0.405998</td>\n",
       "      <td>65.286960</td>\n",
       "      <td>float32</td>\n",
       "    </tr>\n",
       "    <tr>\n",
       "      <th>10</th>\n",
       "      <td>AVProductsInstalled</td>\n",
       "      <td>8</td>\n",
       "      <td>0.405998</td>\n",
       "      <td>69.594853</td>\n",
       "      <td>float16</td>\n",
       "    </tr>\n",
       "    <tr>\n",
       "      <th>11</th>\n",
       "      <td>AVProductsEnabled</td>\n",
       "      <td>6</td>\n",
       "      <td>0.405998</td>\n",
       "      <td>97.002942</td>\n",
       "      <td>float16</td>\n",
       "    </tr>\n",
       "    <tr>\n",
       "      <th>26</th>\n",
       "      <td>IsProtected</td>\n",
       "      <td>2</td>\n",
       "      <td>0.404014</td>\n",
       "      <td>94.180329</td>\n",
       "      <td>float16</td>\n",
       "    </tr>\n",
       "    <tr>\n",
       "      <th>6</th>\n",
       "      <td>RtpStateBitfield</td>\n",
       "      <td>7</td>\n",
       "      <td>0.362249</td>\n",
       "      <td>96.973642</td>\n",
       "      <td>float16</td>\n",
       "    </tr>\n",
       "    <tr>\n",
       "      <th>76</th>\n",
       "      <td>Census_IsVirtualDevice</td>\n",
       "      <td>2</td>\n",
       "      <td>0.178816</td>\n",
       "      <td>99.118499</td>\n",
       "      <td>float16</td>\n",
       "    </tr>\n",
       "    <tr>\n",
       "      <th>43</th>\n",
       "      <td>Census_PrimaryDiskTypeName</td>\n",
       "      <td>4</td>\n",
       "      <td>0.143967</td>\n",
       "      <td>65.087878</td>\n",
       "      <td>category</td>\n",
       "    </tr>\n",
       "    <tr>\n",
       "      <th>33</th>\n",
       "      <td>UacLuaenable</td>\n",
       "      <td>11</td>\n",
       "      <td>0.121482</td>\n",
       "      <td>99.271803</td>\n",
       "      <td>float32</td>\n",
       "    </tr>\n",
       "    <tr>\n",
       "      <th>47</th>\n",
       "      <td>Census_ChassisTypeName</td>\n",
       "      <td>52</td>\n",
       "      <td>0.006983</td>\n",
       "      <td>58.833402</td>\n",
       "      <td>category</td>\n",
       "    </tr>\n",
       "    <tr>\n",
       "      <th>16</th>\n",
       "      <td>GeoNameIdentifier</td>\n",
       "      <td>292</td>\n",
       "      <td>0.002387</td>\n",
       "      <td>17.171237</td>\n",
       "      <td>float16</td>\n",
       "    </tr>\n",
       "    <tr>\n",
       "      <th>51</th>\n",
       "      <td>Census_PowerPlatformRoleName</td>\n",
       "      <td>10</td>\n",
       "      <td>0.000616</td>\n",
       "      <td>69.303590</td>\n",
       "      <td>category</td>\n",
       "    </tr>\n",
       "    <tr>\n",
       "      <th>24</th>\n",
       "      <td>OsBuildLab</td>\n",
       "      <td>663</td>\n",
       "      <td>0.000235</td>\n",
       "      <td>41.004382</td>\n",
       "      <td>category</td>\n",
       "    </tr>\n",
       "    <tr>\n",
       "      <th>61</th>\n",
       "      <td>Census_OSInstallTypeName</td>\n",
       "      <td>9</td>\n",
       "      <td>0.000000</td>\n",
       "      <td>29.233223</td>\n",
       "      <td>category</td>\n",
       "    </tr>\n",
       "    <tr>\n",
       "      <th>60</th>\n",
       "      <td>Census_OSSkuName</td>\n",
       "      <td>30</td>\n",
       "      <td>0.000000</td>\n",
       "      <td>38.893410</td>\n",
       "      <td>category</td>\n",
       "    </tr>\n",
       "    <tr>\n",
       "      <th>64</th>\n",
       "      <td>Census_OSWUAutoUpdateOptionsName</td>\n",
       "      <td>6</td>\n",
       "      <td>0.000000</td>\n",
       "      <td>44.325557</td>\n",
       "      <td>category</td>\n",
       "    </tr>\n",
       "    <tr>\n",
       "      <th>63</th>\n",
       "      <td>Census_OSUILocaleIdentifier</td>\n",
       "      <td>147</td>\n",
       "      <td>0.000000</td>\n",
       "      <td>35.541445</td>\n",
       "      <td>int16</td>\n",
       "    </tr>\n",
       "    <tr>\n",
       "      <th>65</th>\n",
       "      <td>Census_IsPortableOperatingSystem</td>\n",
       "      <td>2</td>\n",
       "      <td>0.000000</td>\n",
       "      <td>99.945480</td>\n",
       "      <td>int8</td>\n",
       "    </tr>\n",
       "    <tr>\n",
       "      <th>78</th>\n",
       "      <td>Census_IsPenCapable</td>\n",
       "      <td>2</td>\n",
       "      <td>0.000000</td>\n",
       "      <td>96.192909</td>\n",
       "      <td>int8</td>\n",
       "    </tr>\n",
       "    <tr>\n",
       "      <th>58</th>\n",
       "      <td>Census_OSBuildRevision</td>\n",
       "      <td>285</td>\n",
       "      <td>0.000000</td>\n",
       "      <td>15.845269</td>\n",
       "      <td>int32</td>\n",
       "    </tr>\n",
       "    <tr>\n",
       "      <th>66</th>\n",
       "      <td>Census_GenuineStateName</td>\n",
       "      <td>5</td>\n",
       "      <td>0.000000</td>\n",
       "      <td>88.299187</td>\n",
       "      <td>category</td>\n",
       "    </tr>\n",
       "    <tr>\n",
       "      <th>67</th>\n",
       "      <td>Census_ActivationChannel</td>\n",
       "      <td>6</td>\n",
       "      <td>0.000000</td>\n",
       "      <td>52.991067</td>\n",
       "      <td>category</td>\n",
       "    </tr>\n",
       "    <tr>\n",
       "      <th>77</th>\n",
       "      <td>Census_IsTouchEnabled</td>\n",
       "      <td>2</td>\n",
       "      <td>0.000000</td>\n",
       "      <td>87.445686</td>\n",
       "      <td>int8</td>\n",
       "    </tr>\n",
       "    <tr>\n",
       "      <th>70</th>\n",
       "      <td>Census_FlightRing</td>\n",
       "      <td>10</td>\n",
       "      <td>0.000000</td>\n",
       "      <td>93.657960</td>\n",
       "      <td>category</td>\n",
       "    </tr>\n",
       "    <tr>\n",
       "      <th>74</th>\n",
       "      <td>Census_IsSecureBootEnabled</td>\n",
       "      <td>2</td>\n",
       "      <td>0.000000</td>\n",
       "      <td>51.397710</td>\n",
       "      <td>int8</td>\n",
       "    </tr>\n",
       "    <tr>\n",
       "      <th>59</th>\n",
       "      <td>Census_OSEdition</td>\n",
       "      <td>33</td>\n",
       "      <td>0.000000</td>\n",
       "      <td>38.894778</td>\n",
       "      <td>category</td>\n",
       "    </tr>\n",
       "    <tr>\n",
       "      <th>0</th>\n",
       "      <td>MachineIdentifier</td>\n",
       "      <td>8921483</td>\n",
       "      <td>0.000000</td>\n",
       "      <td>0.000011</td>\n",
       "      <td>category</td>\n",
       "    </tr>\n",
       "    <tr>\n",
       "      <th>57</th>\n",
       "      <td>Census_OSBuildNumber</td>\n",
       "      <td>165</td>\n",
       "      <td>0.000000</td>\n",
       "      <td>44.935141</td>\n",
       "      <td>int16</td>\n",
       "    </tr>\n",
       "    <tr>\n",
       "      <th>20</th>\n",
       "      <td>OsVer</td>\n",
       "      <td>58</td>\n",
       "      <td>0.000000</td>\n",
       "      <td>96.761323</td>\n",
       "      <td>category</td>\n",
       "    </tr>\n",
       "    <tr>\n",
       "      <th>2</th>\n",
       "      <td>EngineVersion</td>\n",
       "      <td>70</td>\n",
       "      <td>0.000000</td>\n",
       "      <td>43.098967</td>\n",
       "      <td>category</td>\n",
       "    </tr>\n",
       "    <tr>\n",
       "      <th>3</th>\n",
       "      <td>AppVersion</td>\n",
       "      <td>110</td>\n",
       "      <td>0.000000</td>\n",
       "      <td>57.605042</td>\n",
       "      <td>category</td>\n",
       "    </tr>\n",
       "    <tr>\n",
       "      <th>4</th>\n",
       "      <td>AvSigVersion</td>\n",
       "      <td>8531</td>\n",
       "      <td>0.000000</td>\n",
       "      <td>1.146861</td>\n",
       "      <td>category</td>\n",
       "    </tr>\n",
       "    <tr>\n",
       "      <th>5</th>\n",
       "      <td>IsBeta</td>\n",
       "      <td>2</td>\n",
       "      <td>0.000000</td>\n",
       "      <td>99.999249</td>\n",
       "      <td>int8</td>\n",
       "    </tr>\n",
       "    <tr>\n",
       "      <th>7</th>\n",
       "      <td>IsSxsPassiveMode</td>\n",
       "      <td>2</td>\n",
       "      <td>0.000000</td>\n",
       "      <td>98.266622</td>\n",
       "      <td>int8</td>\n",
       "    </tr>\n",
       "    <tr>\n",
       "      <th>12</th>\n",
       "      <td>HasTpm</td>\n",
       "      <td>2</td>\n",
       "      <td>0.000000</td>\n",
       "      <td>98.797106</td>\n",
       "      <td>int8</td>\n",
       "    </tr>\n",
       "    <tr>\n",
       "      <th>13</th>\n",
       "      <td>CountryIdentifier</td>\n",
       "      <td>222</td>\n",
       "      <td>0.000000</td>\n",
       "      <td>4.451861</td>\n",
       "      <td>int16</td>\n",
       "    </tr>\n",
       "    <tr>\n",
       "      <th>17</th>\n",
       "      <td>LocaleEnglishNameIdentifier</td>\n",
       "      <td>252</td>\n",
       "      <td>0.000000</td>\n",
       "      <td>23.477991</td>\n",
       "      <td>int8</td>\n",
       "    </tr>\n",
       "    <tr>\n",
       "      <th>18</th>\n",
       "      <td>Platform</td>\n",
       "      <td>4</td>\n",
       "      <td>0.000000</td>\n",
       "      <td>96.606304</td>\n",
       "      <td>category</td>\n",
       "    </tr>\n",
       "    <tr>\n",
       "      <th>19</th>\n",
       "      <td>Processor</td>\n",
       "      <td>3</td>\n",
       "      <td>0.000000</td>\n",
       "      <td>90.853001</td>\n",
       "      <td>category</td>\n",
       "    </tr>\n",
       "    <tr>\n",
       "      <th>21</th>\n",
       "      <td>OsBuild</td>\n",
       "      <td>76</td>\n",
       "      <td>0.000000</td>\n",
       "      <td>43.888679</td>\n",
       "      <td>int16</td>\n",
       "    </tr>\n",
       "    <tr>\n",
       "      <th>56</th>\n",
       "      <td>Census_OSBranch</td>\n",
       "      <td>32</td>\n",
       "      <td>0.000000</td>\n",
       "      <td>44.938246</td>\n",
       "      <td>category</td>\n",
       "    </tr>\n",
       "    <tr>\n",
       "      <th>22</th>\n",
       "      <td>OsSuite</td>\n",
       "      <td>14</td>\n",
       "      <td>0.000000</td>\n",
       "      <td>62.328886</td>\n",
       "      <td>int16</td>\n",
       "    </tr>\n",
       "    <tr>\n",
       "      <th>23</th>\n",
       "      <td>OsPlatformSubRelease</td>\n",
       "      <td>9</td>\n",
       "      <td>0.000000</td>\n",
       "      <td>43.888735</td>\n",
       "      <td>category</td>\n",
       "    </tr>\n",
       "    <tr>\n",
       "      <th>25</th>\n",
       "      <td>SkuEdition</td>\n",
       "      <td>8</td>\n",
       "      <td>0.000000</td>\n",
       "      <td>61.809690</td>\n",
       "      <td>category</td>\n",
       "    </tr>\n",
       "    <tr>\n",
       "      <th>27</th>\n",
       "      <td>AutoSampleOptIn</td>\n",
       "      <td>2</td>\n",
       "      <td>0.000000</td>\n",
       "      <td>99.997108</td>\n",
       "      <td>int8</td>\n",
       "    </tr>\n",
       "    <tr>\n",
       "      <th>34</th>\n",
       "      <td>Census_MDC2FormFactor</td>\n",
       "      <td>13</td>\n",
       "      <td>0.000000</td>\n",
       "      <td>64.152103</td>\n",
       "      <td>category</td>\n",
       "    </tr>\n",
       "    <tr>\n",
       "      <th>35</th>\n",
       "      <td>Census_DeviceFamily</td>\n",
       "      <td>3</td>\n",
       "      <td>0.000000</td>\n",
       "      <td>99.838256</td>\n",
       "      <td>category</td>\n",
       "    </tr>\n",
       "    <tr>\n",
       "      <th>1</th>\n",
       "      <td>ProductName</td>\n",
       "      <td>6</td>\n",
       "      <td>0.000000</td>\n",
       "      <td>98.935569</td>\n",
       "      <td>category</td>\n",
       "    </tr>\n",
       "    <tr>\n",
       "      <th>45</th>\n",
       "      <td>Census_HasOpticalDiskDrive</td>\n",
       "      <td>2</td>\n",
       "      <td>0.000000</td>\n",
       "      <td>92.281272</td>\n",
       "      <td>int8</td>\n",
       "    </tr>\n",
       "    <tr>\n",
       "      <th>54</th>\n",
       "      <td>Census_OSVersion</td>\n",
       "      <td>469</td>\n",
       "      <td>0.000000</td>\n",
       "      <td>15.845202</td>\n",
       "      <td>category</td>\n",
       "    </tr>\n",
       "    <tr>\n",
       "      <th>55</th>\n",
       "      <td>Census_OSArchitecture</td>\n",
       "      <td>3</td>\n",
       "      <td>0.000000</td>\n",
       "      <td>90.858045</td>\n",
       "      <td>category</td>\n",
       "    </tr>\n",
       "    <tr>\n",
       "      <th>82</th>\n",
       "      <td>HasDetections</td>\n",
       "      <td>2</td>\n",
       "      <td>0.000000</td>\n",
       "      <td>50.020731</td>\n",
       "      <td>int8</td>\n",
       "    </tr>\n",
       "  </tbody>\n",
       "</table>\n",
       "</div>"
      ],
      "text/plain": [
       "                                              Feature  Unique_values  \\\n",
       "28                                            PuaMode              2   \n",
       "41                              Census_ProcessorClass              3   \n",
       "8                           DefaultBrowsersIdentifier           1730   \n",
       "68                         Census_IsFlightingInternal              2   \n",
       "52                         Census_InternalBatteryType             78   \n",
       "71                              Census_ThresholdOptIn              2   \n",
       "75                            Census_IsWIMBootEnabled              2   \n",
       "31                                        SmartScreen             21   \n",
       "15                             OrganizationIdentifier             49   \n",
       "29                                              SMode              2   \n",
       "14                                     CityIdentifier         107366   \n",
       "80                                       Wdft_IsGamer              2   \n",
       "81                              Wdft_RegionIdentifier             15   \n",
       "53              Census_InternalBatteryNumberOfCharges          41087   \n",
       "72              Census_FirmwareManufacturerIdentifier            712   \n",
       "69                           Census_IsFlightsDisabled              2   \n",
       "73                   Census_FirmwareVersionIdentifier          50494   \n",
       "37                          Census_OEMModelIdentifier         175365   \n",
       "36                           Census_OEMNameIdentifier           2564   \n",
       "32                                           Firewall              2   \n",
       "46                            Census_TotalPhysicalRAM           3446   \n",
       "79            Census_IsAlwaysOnAlwaysConnectedCapable              2   \n",
       "62                 Census_OSInstallLanguageIdentifier             39   \n",
       "30                                    IeVerIdentifier            303   \n",
       "42                    Census_PrimaryDiskTotalCapacity           5735   \n",
       "44                   Census_SystemVolumeTotalCapacity         536848   \n",
       "48  Census_InternalPrimaryDiagonalDisplaySizeInInches            785   \n",
       "49  Census_InternalPrimaryDisplayResolutionHorizontal           2050   \n",
       "50    Census_InternalPrimaryDisplayResolutionVertical           1552   \n",
       "40                    Census_ProcessorModelIdentifier           2583   \n",
       "39             Census_ProcessorManufacturerIdentifier              7   \n",
       "38                          Census_ProcessorCoreCount             45   \n",
       "9                           AVProductStatesIdentifier          28970   \n",
       "10                                AVProductsInstalled              8   \n",
       "11                                  AVProductsEnabled              6   \n",
       "26                                        IsProtected              2   \n",
       "6                                    RtpStateBitfield              7   \n",
       "76                             Census_IsVirtualDevice              2   \n",
       "43                         Census_PrimaryDiskTypeName              4   \n",
       "33                                       UacLuaenable             11   \n",
       "47                             Census_ChassisTypeName             52   \n",
       "16                                  GeoNameIdentifier            292   \n",
       "51                       Census_PowerPlatformRoleName             10   \n",
       "24                                         OsBuildLab            663   \n",
       "61                           Census_OSInstallTypeName              9   \n",
       "60                                   Census_OSSkuName             30   \n",
       "64                   Census_OSWUAutoUpdateOptionsName              6   \n",
       "63                        Census_OSUILocaleIdentifier            147   \n",
       "65                   Census_IsPortableOperatingSystem              2   \n",
       "78                                Census_IsPenCapable              2   \n",
       "58                             Census_OSBuildRevision            285   \n",
       "66                            Census_GenuineStateName              5   \n",
       "67                           Census_ActivationChannel              6   \n",
       "77                              Census_IsTouchEnabled              2   \n",
       "70                                  Census_FlightRing             10   \n",
       "74                         Census_IsSecureBootEnabled              2   \n",
       "59                                   Census_OSEdition             33   \n",
       "0                                   MachineIdentifier        8921483   \n",
       "57                               Census_OSBuildNumber            165   \n",
       "20                                              OsVer             58   \n",
       "2                                       EngineVersion             70   \n",
       "3                                          AppVersion            110   \n",
       "4                                        AvSigVersion           8531   \n",
       "5                                              IsBeta              2   \n",
       "7                                    IsSxsPassiveMode              2   \n",
       "12                                             HasTpm              2   \n",
       "13                                  CountryIdentifier            222   \n",
       "17                        LocaleEnglishNameIdentifier            252   \n",
       "18                                           Platform              4   \n",
       "19                                          Processor              3   \n",
       "21                                            OsBuild             76   \n",
       "56                                    Census_OSBranch             32   \n",
       "22                                            OsSuite             14   \n",
       "23                               OsPlatformSubRelease              9   \n",
       "25                                         SkuEdition              8   \n",
       "27                                    AutoSampleOptIn              2   \n",
       "34                              Census_MDC2FormFactor             13   \n",
       "35                                Census_DeviceFamily              3   \n",
       "1                                         ProductName              6   \n",
       "45                         Census_HasOpticalDiskDrive              2   \n",
       "54                                   Census_OSVersion            469   \n",
       "55                              Census_OSArchitecture              3   \n",
       "82                                      HasDetections              2   \n",
       "\n",
       "    Percentage of missing values  \\\n",
       "28                     99.974119   \n",
       "41                     99.589407   \n",
       "8                      95.141637   \n",
       "68                     83.044030   \n",
       "52                     71.046809   \n",
       "71                     63.524472   \n",
       "75                     63.439038   \n",
       "31                     35.610795   \n",
       "15                     30.841487   \n",
       "29                      6.027686   \n",
       "14                      3.647477   \n",
       "80                      3.401352   \n",
       "81                      3.401352   \n",
       "53                      3.012448   \n",
       "72                      2.054109   \n",
       "69                      1.799286   \n",
       "73                      1.794915   \n",
       "37                      1.145919   \n",
       "36                      1.070203   \n",
       "32                      1.023933   \n",
       "46                      0.902686   \n",
       "79                      0.799676   \n",
       "62                      0.673475   \n",
       "30                      0.660137   \n",
       "42                      0.594251   \n",
       "44                      0.594094   \n",
       "48                      0.528320   \n",
       "49                      0.526661   \n",
       "50                      0.526661   \n",
       "40                      0.463410   \n",
       "39                      0.463073   \n",
       "38                      0.462995   \n",
       "9                       0.405998   \n",
       "10                      0.405998   \n",
       "11                      0.405998   \n",
       "26                      0.404014   \n",
       "6                       0.362249   \n",
       "76                      0.178816   \n",
       "43                      0.143967   \n",
       "33                      0.121482   \n",
       "47                      0.006983   \n",
       "16                      0.002387   \n",
       "51                      0.000616   \n",
       "24                      0.000235   \n",
       "61                      0.000000   \n",
       "60                      0.000000   \n",
       "64                      0.000000   \n",
       "63                      0.000000   \n",
       "65                      0.000000   \n",
       "78                      0.000000   \n",
       "58                      0.000000   \n",
       "66                      0.000000   \n",
       "67                      0.000000   \n",
       "77                      0.000000   \n",
       "70                      0.000000   \n",
       "74                      0.000000   \n",
       "59                      0.000000   \n",
       "0                       0.000000   \n",
       "57                      0.000000   \n",
       "20                      0.000000   \n",
       "2                       0.000000   \n",
       "3                       0.000000   \n",
       "4                       0.000000   \n",
       "5                       0.000000   \n",
       "7                       0.000000   \n",
       "12                      0.000000   \n",
       "13                      0.000000   \n",
       "17                      0.000000   \n",
       "18                      0.000000   \n",
       "19                      0.000000   \n",
       "21                      0.000000   \n",
       "56                      0.000000   \n",
       "22                      0.000000   \n",
       "23                      0.000000   \n",
       "25                      0.000000   \n",
       "27                      0.000000   \n",
       "34                      0.000000   \n",
       "35                      0.000000   \n",
       "1                       0.000000   \n",
       "45                      0.000000   \n",
       "54                      0.000000   \n",
       "55                      0.000000   \n",
       "82                      0.000000   \n",
       "\n",
       "    Percentage of values in the biggest category      type  \n",
       "28                                     99.974119  category  \n",
       "41                                     99.589407  category  \n",
       "8                                      95.141637   float16  \n",
       "68                                     83.044030   float16  \n",
       "52                                     71.046809  category  \n",
       "71                                     63.524472   float16  \n",
       "75                                     63.439038   float16  \n",
       "31                                     48.379658  category  \n",
       "15                                     47.037662   float16  \n",
       "29                                     93.928812   float16  \n",
       "14                                      3.647477   float32  \n",
       "80                                     69.205344   float16  \n",
       "81                                     20.177195   float16  \n",
       "53                                     56.643094   float32  \n",
       "72                                     30.253692   float16  \n",
       "69                                     98.199728   float16  \n",
       "73                                      1.794915   float32  \n",
       "37                                      3.416271   float32  \n",
       "36                                     14.428946   float16  \n",
       "32                                     96.856251   float16  \n",
       "46                                     45.894971   float32  \n",
       "79                                     93.504320   float16  \n",
       "62                                     35.636026   float16  \n",
       "30                                     43.556010   float16  \n",
       "42                                     31.850422   float32  \n",
       "44                                      0.594094   float32  \n",
       "48                                     34.158346   float16  \n",
       "49                                     50.608895   float16  \n",
       "50                                     55.748814   float16  \n",
       "40                                      3.242555   float16  \n",
       "39                                     87.870122   float16  \n",
       "38                                     60.866484   float16  \n",
       "9                                      65.286960   float32  \n",
       "10                                     69.594853   float16  \n",
       "11                                     97.002942   float16  \n",
       "26                                     94.180329   float16  \n",
       "6                                      96.973642   float16  \n",
       "76                                     99.118499   float16  \n",
       "43                                     65.087878  category  \n",
       "33                                     99.271803   float32  \n",
       "47                                     58.833402  category  \n",
       "16                                     17.171237   float16  \n",
       "51                                     69.303590  category  \n",
       "24                                     41.004382  category  \n",
       "61                                     29.233223  category  \n",
       "60                                     38.893410  category  \n",
       "64                                     44.325557  category  \n",
       "63                                     35.541445     int16  \n",
       "65                                     99.945480      int8  \n",
       "78                                     96.192909      int8  \n",
       "58                                     15.845269     int32  \n",
       "66                                     88.299187  category  \n",
       "67                                     52.991067  category  \n",
       "77                                     87.445686      int8  \n",
       "70                                     93.657960  category  \n",
       "74                                     51.397710      int8  \n",
       "59                                     38.894778  category  \n",
       "0                                       0.000011  category  \n",
       "57                                     44.935141     int16  \n",
       "20                                     96.761323  category  \n",
       "2                                      43.098967  category  \n",
       "3                                      57.605042  category  \n",
       "4                                       1.146861  category  \n",
       "5                                      99.999249      int8  \n",
       "7                                      98.266622      int8  \n",
       "12                                     98.797106      int8  \n",
       "13                                      4.451861     int16  \n",
       "17                                     23.477991      int8  \n",
       "18                                     96.606304  category  \n",
       "19                                     90.853001  category  \n",
       "21                                     43.888679     int16  \n",
       "56                                     44.938246  category  \n",
       "22                                     62.328886     int16  \n",
       "23                                     43.888735  category  \n",
       "25                                     61.809690  category  \n",
       "27                                     99.997108      int8  \n",
       "34                                     64.152103  category  \n",
       "35                                     99.838256  category  \n",
       "1                                      98.935569  category  \n",
       "45                                     92.281272      int8  \n",
       "54                                     15.845202  category  \n",
       "55                                     90.858045  category  \n",
       "82                                     50.020731      int8  "
      ]
     },
     "execution_count": 8,
     "metadata": {},
     "output_type": "execute_result"
    }
   ],
   "source": [
    "stats = []\n",
    "for col in train.columns:\n",
    "    stats.append((col, train[col].nunique(), train[col].isnull().sum() * 100 / train.shape[0], train[col].value_counts(normalize=True, dropna=False).values[0] * 100, train[col].dtype))\n",
    "    \n",
    "stats_df = pd.DataFrame(stats, columns=['Feature', 'Unique_values', 'Percentage of missing values', 'Percentage of values in the biggest category', 'type'])\n",
    "stats_df.sort_values('Percentage of missing values', ascending=False)"
   ]
  },
  {
   "cell_type": "markdown",
   "metadata": {
    "_uuid": "6f4e7cdd12897e096859d6f20fec4a367f7fd97b"
   },
   "source": [
    "We can see several interesting things here:\n",
    "* PuaMode and Census_ProcessorClass have 99%+ missing values, which means that these columns are useless and should be dropped;\n",
    "* In DefaultBrowsersIdentifier column 95% values belong to one category, so I think this columns is also useless;\n",
    "* Census_IsFlightingInternal is strange, but maybe analysis of it will make sense;\n",
    "* There are 26 columns in total in which one category contains 90% values. I think that these imbalanced columns should be removed from the dataset;\n",
    "* One more important point is that there are many columns which are considered to be numerical (from this kernel: #https://www.kaggle.com/theoviel/load-the-totality-of-the-data), but I think they are categorical - like CityIdentifier. We'll see more in EDA below;\n",
    "\n",
    "\n",
    "I see that all columns except Census_SystemVolumeTotalCapacity are categorical. \n",
    "Also there are 3 columns, where most of the values are missing. Let's drop them."
   ]
  },
  {
   "cell_type": "code",
   "execution_count": 9,
   "metadata": {
    "_uuid": "123ae19091290a1eb21fc69684e41965a73b61eb"
   },
   "outputs": [],
   "source": [
    "good_cols = list(train.columns)\n",
    "for col in train.columns:\n",
    "    rate = train[col].value_counts(normalize=True, dropna=False).values[0]\n",
    "    if rate > 0.9:\n",
    "        good_cols.remove(col)"
   ]
  },
  {
   "cell_type": "code",
   "execution_count": 10,
   "metadata": {
    "_uuid": "3fa36c3a504e69c04b05ce3a36541a788da71de8"
   },
   "outputs": [],
   "source": [
    "train = train[good_cols]"
   ]
  },
  {
   "cell_type": "markdown",
   "metadata": {
    "_uuid": "70c483008b3f6048f106a055cd6791c22966ca6c"
   },
   "source": [
    "Now we can read test data."
   ]
  },
  {
   "cell_type": "code",
   "execution_count": 13,
   "metadata": {
    "_uuid": "7efe89016744a09538f54f9fed2a540a901b8ad5"
   },
   "outputs": [
    {
     "name": "stdout",
     "output_type": "stream",
     "text": [
      "Mem. usage decreased to 1219.19 Mb (0.0% reduction)\n"
     ]
    }
   ],
   "source": [
    "test_dtypes = {k: v for k, v in dtypes.items() if k in good_cols}\n",
    "test = pd.read_csv('test.csv', dtype=test_dtypes, usecols=good_cols[:-1])\n",
    "test.loc[6529507, 'OsBuildLab'] = '17134.1.amd64fre.rs4_release.180410-1804'\n",
    "test = reduce_mem_usage(test)"
   ]
  },
  {
   "cell_type": "markdown",
   "metadata": {
    "_uuid": "25456a3d746825b4368933c4f1dcfcc45b9ec92f"
   },
   "source": [
    "## Data exploration"
   ]
  },
  {
   "cell_type": "code",
   "execution_count": 14,
   "metadata": {
    "_uuid": "dd70eace03447d88984bbb2512015ad4c5e83702",
    "scrolled": true
   },
   "outputs": [
    {
     "data": {
      "text/html": [
       "<div>\n",
       "<style scoped>\n",
       "    .dataframe tbody tr th:only-of-type {\n",
       "        vertical-align: middle;\n",
       "    }\n",
       "\n",
       "    .dataframe tbody tr th {\n",
       "        vertical-align: top;\n",
       "    }\n",
       "\n",
       "    .dataframe thead th {\n",
       "        text-align: right;\n",
       "    }\n",
       "</style>\n",
       "<table border=\"1\" class=\"dataframe\">\n",
       "  <thead>\n",
       "    <tr style=\"text-align: right;\">\n",
       "      <th></th>\n",
       "      <th>MachineIdentifier</th>\n",
       "      <th>EngineVersion</th>\n",
       "      <th>AppVersion</th>\n",
       "      <th>AvSigVersion</th>\n",
       "      <th>AVProductStatesIdentifier</th>\n",
       "      <th>AVProductsInstalled</th>\n",
       "      <th>CountryIdentifier</th>\n",
       "      <th>CityIdentifier</th>\n",
       "      <th>OrganizationIdentifier</th>\n",
       "      <th>GeoNameIdentifier</th>\n",
       "      <th>LocaleEnglishNameIdentifier</th>\n",
       "      <th>OsBuild</th>\n",
       "      <th>OsSuite</th>\n",
       "      <th>OsPlatformSubRelease</th>\n",
       "      <th>OsBuildLab</th>\n",
       "      <th>SkuEdition</th>\n",
       "      <th>IeVerIdentifier</th>\n",
       "      <th>SmartScreen</th>\n",
       "      <th>Census_MDC2FormFactor</th>\n",
       "      <th>Census_OEMNameIdentifier</th>\n",
       "      <th>Census_OEMModelIdentifier</th>\n",
       "      <th>Census_ProcessorCoreCount</th>\n",
       "      <th>Census_ProcessorManufacturerIdentifier</th>\n",
       "      <th>Census_ProcessorModelIdentifier</th>\n",
       "      <th>Census_PrimaryDiskTotalCapacity</th>\n",
       "      <th>Census_PrimaryDiskTypeName</th>\n",
       "      <th>Census_SystemVolumeTotalCapacity</th>\n",
       "      <th>Census_TotalPhysicalRAM</th>\n",
       "      <th>Census_ChassisTypeName</th>\n",
       "      <th>Census_InternalPrimaryDiagonalDisplaySizeInInches</th>\n",
       "      <th>Census_InternalPrimaryDisplayResolutionHorizontal</th>\n",
       "      <th>Census_InternalPrimaryDisplayResolutionVertical</th>\n",
       "      <th>Census_PowerPlatformRoleName</th>\n",
       "      <th>Census_InternalBatteryType</th>\n",
       "      <th>Census_InternalBatteryNumberOfCharges</th>\n",
       "      <th>Census_OSVersion</th>\n",
       "      <th>Census_OSBranch</th>\n",
       "      <th>Census_OSBuildNumber</th>\n",
       "      <th>Census_OSBuildRevision</th>\n",
       "      <th>Census_OSEdition</th>\n",
       "      <th>Census_OSSkuName</th>\n",
       "      <th>Census_OSInstallTypeName</th>\n",
       "      <th>Census_OSInstallLanguageIdentifier</th>\n",
       "      <th>Census_OSUILocaleIdentifier</th>\n",
       "      <th>Census_OSWUAutoUpdateOptionsName</th>\n",
       "      <th>Census_GenuineStateName</th>\n",
       "      <th>Census_ActivationChannel</th>\n",
       "      <th>Census_IsFlightingInternal</th>\n",
       "      <th>Census_ThresholdOptIn</th>\n",
       "      <th>Census_FirmwareManufacturerIdentifier</th>\n",
       "      <th>Census_FirmwareVersionIdentifier</th>\n",
       "      <th>Census_IsSecureBootEnabled</th>\n",
       "      <th>Census_IsWIMBootEnabled</th>\n",
       "      <th>Census_IsTouchEnabled</th>\n",
       "      <th>Wdft_IsGamer</th>\n",
       "      <th>Wdft_RegionIdentifier</th>\n",
       "      <th>HasDetections</th>\n",
       "    </tr>\n",
       "  </thead>\n",
       "  <tbody>\n",
       "    <tr>\n",
       "      <th>0</th>\n",
       "      <td>0000028988387b115f69f31a3bf04f09</td>\n",
       "      <td>1.1.15100.1</td>\n",
       "      <td>4.18.1807.18075</td>\n",
       "      <td>1.273.1735.0</td>\n",
       "      <td>53447.0</td>\n",
       "      <td>1.0</td>\n",
       "      <td>29</td>\n",
       "      <td>128035.0</td>\n",
       "      <td>18.0</td>\n",
       "      <td>35.0</td>\n",
       "      <td>-85</td>\n",
       "      <td>17134</td>\n",
       "      <td>256</td>\n",
       "      <td>rs4</td>\n",
       "      <td>17134.1.amd64fre.rs4_release.180410-1804</td>\n",
       "      <td>Pro</td>\n",
       "      <td>137.0</td>\n",
       "      <td>NaN</td>\n",
       "      <td>Desktop</td>\n",
       "      <td>2668.0</td>\n",
       "      <td>9124.0</td>\n",
       "      <td>4.0</td>\n",
       "      <td>5.0</td>\n",
       "      <td>2340.0</td>\n",
       "      <td>476940.0</td>\n",
       "      <td>HDD</td>\n",
       "      <td>299451.0</td>\n",
       "      <td>4096.0</td>\n",
       "      <td>Desktop</td>\n",
       "      <td>18.906250</td>\n",
       "      <td>1440.0</td>\n",
       "      <td>900.0</td>\n",
       "      <td>Desktop</td>\n",
       "      <td>NaN</td>\n",
       "      <td>4.294967e+09</td>\n",
       "      <td>10.0.17134.165</td>\n",
       "      <td>rs4_release</td>\n",
       "      <td>17134</td>\n",
       "      <td>165</td>\n",
       "      <td>Professional</td>\n",
       "      <td>PROFESSIONAL</td>\n",
       "      <td>UUPUpgrade</td>\n",
       "      <td>26.0</td>\n",
       "      <td>119</td>\n",
       "      <td>UNKNOWN</td>\n",
       "      <td>IS_GENUINE</td>\n",
       "      <td>Retail</td>\n",
       "      <td>NaN</td>\n",
       "      <td>NaN</td>\n",
       "      <td>628.0</td>\n",
       "      <td>36144.0</td>\n",
       "      <td>0</td>\n",
       "      <td>NaN</td>\n",
       "      <td>0</td>\n",
       "      <td>0.0</td>\n",
       "      <td>10.0</td>\n",
       "      <td>0</td>\n",
       "    </tr>\n",
       "    <tr>\n",
       "      <th>1</th>\n",
       "      <td>000007535c3f730efa9ea0b7ef1bd645</td>\n",
       "      <td>1.1.14600.4</td>\n",
       "      <td>4.13.17134.1</td>\n",
       "      <td>1.263.48.0</td>\n",
       "      <td>53447.0</td>\n",
       "      <td>1.0</td>\n",
       "      <td>93</td>\n",
       "      <td>1482.0</td>\n",
       "      <td>18.0</td>\n",
       "      <td>119.0</td>\n",
       "      <td>64</td>\n",
       "      <td>17134</td>\n",
       "      <td>256</td>\n",
       "      <td>rs4</td>\n",
       "      <td>17134.1.amd64fre.rs4_release.180410-1804</td>\n",
       "      <td>Pro</td>\n",
       "      <td>137.0</td>\n",
       "      <td>NaN</td>\n",
       "      <td>Notebook</td>\n",
       "      <td>2668.0</td>\n",
       "      <td>91656.0</td>\n",
       "      <td>4.0</td>\n",
       "      <td>5.0</td>\n",
       "      <td>2404.0</td>\n",
       "      <td>476940.0</td>\n",
       "      <td>HDD</td>\n",
       "      <td>102385.0</td>\n",
       "      <td>4096.0</td>\n",
       "      <td>Notebook</td>\n",
       "      <td>13.898438</td>\n",
       "      <td>1366.0</td>\n",
       "      <td>768.0</td>\n",
       "      <td>Mobile</td>\n",
       "      <td>NaN</td>\n",
       "      <td>1.000000e+00</td>\n",
       "      <td>10.0.17134.1</td>\n",
       "      <td>rs4_release</td>\n",
       "      <td>17134</td>\n",
       "      <td>1</td>\n",
       "      <td>Professional</td>\n",
       "      <td>PROFESSIONAL</td>\n",
       "      <td>IBSClean</td>\n",
       "      <td>8.0</td>\n",
       "      <td>31</td>\n",
       "      <td>UNKNOWN</td>\n",
       "      <td>OFFLINE</td>\n",
       "      <td>Retail</td>\n",
       "      <td>NaN</td>\n",
       "      <td>NaN</td>\n",
       "      <td>628.0</td>\n",
       "      <td>57858.0</td>\n",
       "      <td>0</td>\n",
       "      <td>NaN</td>\n",
       "      <td>0</td>\n",
       "      <td>0.0</td>\n",
       "      <td>8.0</td>\n",
       "      <td>0</td>\n",
       "    </tr>\n",
       "    <tr>\n",
       "      <th>2</th>\n",
       "      <td>000007905a28d863f6d0d597892cd692</td>\n",
       "      <td>1.1.15100.1</td>\n",
       "      <td>4.18.1807.18075</td>\n",
       "      <td>1.273.1341.0</td>\n",
       "      <td>53447.0</td>\n",
       "      <td>1.0</td>\n",
       "      <td>86</td>\n",
       "      <td>153579.0</td>\n",
       "      <td>18.0</td>\n",
       "      <td>64.0</td>\n",
       "      <td>49</td>\n",
       "      <td>17134</td>\n",
       "      <td>768</td>\n",
       "      <td>rs4</td>\n",
       "      <td>17134.1.amd64fre.rs4_release.180410-1804</td>\n",
       "      <td>Home</td>\n",
       "      <td>137.0</td>\n",
       "      <td>RequireAdmin</td>\n",
       "      <td>Desktop</td>\n",
       "      <td>4908.0</td>\n",
       "      <td>317701.0</td>\n",
       "      <td>4.0</td>\n",
       "      <td>5.0</td>\n",
       "      <td>1972.0</td>\n",
       "      <td>114473.0</td>\n",
       "      <td>SSD</td>\n",
       "      <td>113907.0</td>\n",
       "      <td>4096.0</td>\n",
       "      <td>Desktop</td>\n",
       "      <td>21.500000</td>\n",
       "      <td>1920.0</td>\n",
       "      <td>1080.0</td>\n",
       "      <td>Desktop</td>\n",
       "      <td>NaN</td>\n",
       "      <td>4.294967e+09</td>\n",
       "      <td>10.0.17134.165</td>\n",
       "      <td>rs4_release</td>\n",
       "      <td>17134</td>\n",
       "      <td>165</td>\n",
       "      <td>Core</td>\n",
       "      <td>CORE</td>\n",
       "      <td>UUPUpgrade</td>\n",
       "      <td>7.0</td>\n",
       "      <td>30</td>\n",
       "      <td>FullAuto</td>\n",
       "      <td>IS_GENUINE</td>\n",
       "      <td>OEM:NONSLP</td>\n",
       "      <td>NaN</td>\n",
       "      <td>NaN</td>\n",
       "      <td>142.0</td>\n",
       "      <td>52682.0</td>\n",
       "      <td>0</td>\n",
       "      <td>NaN</td>\n",
       "      <td>0</td>\n",
       "      <td>0.0</td>\n",
       "      <td>3.0</td>\n",
       "      <td>0</td>\n",
       "    </tr>\n",
       "    <tr>\n",
       "      <th>3</th>\n",
       "      <td>00000b11598a75ea8ba1beea8459149f</td>\n",
       "      <td>1.1.15100.1</td>\n",
       "      <td>4.18.1807.18075</td>\n",
       "      <td>1.273.1527.0</td>\n",
       "      <td>53447.0</td>\n",
       "      <td>1.0</td>\n",
       "      <td>88</td>\n",
       "      <td>20710.0</td>\n",
       "      <td>NaN</td>\n",
       "      <td>117.0</td>\n",
       "      <td>115</td>\n",
       "      <td>17134</td>\n",
       "      <td>256</td>\n",
       "      <td>rs4</td>\n",
       "      <td>17134.1.amd64fre.rs4_release.180410-1804</td>\n",
       "      <td>Pro</td>\n",
       "      <td>137.0</td>\n",
       "      <td>ExistsNotSet</td>\n",
       "      <td>Desktop</td>\n",
       "      <td>1443.0</td>\n",
       "      <td>275890.0</td>\n",
       "      <td>4.0</td>\n",
       "      <td>5.0</td>\n",
       "      <td>2272.0</td>\n",
       "      <td>238475.0</td>\n",
       "      <td>UNKNOWN</td>\n",
       "      <td>227116.0</td>\n",
       "      <td>4096.0</td>\n",
       "      <td>MiniTower</td>\n",
       "      <td>18.500000</td>\n",
       "      <td>1366.0</td>\n",
       "      <td>768.0</td>\n",
       "      <td>Desktop</td>\n",
       "      <td>NaN</td>\n",
       "      <td>4.294967e+09</td>\n",
       "      <td>10.0.17134.228</td>\n",
       "      <td>rs4_release</td>\n",
       "      <td>17134</td>\n",
       "      <td>228</td>\n",
       "      <td>Professional</td>\n",
       "      <td>PROFESSIONAL</td>\n",
       "      <td>UUPUpgrade</td>\n",
       "      <td>17.0</td>\n",
       "      <td>64</td>\n",
       "      <td>FullAuto</td>\n",
       "      <td>IS_GENUINE</td>\n",
       "      <td>OEM:NONSLP</td>\n",
       "      <td>NaN</td>\n",
       "      <td>NaN</td>\n",
       "      <td>355.0</td>\n",
       "      <td>20050.0</td>\n",
       "      <td>0</td>\n",
       "      <td>NaN</td>\n",
       "      <td>0</td>\n",
       "      <td>0.0</td>\n",
       "      <td>3.0</td>\n",
       "      <td>1</td>\n",
       "    </tr>\n",
       "    <tr>\n",
       "      <th>4</th>\n",
       "      <td>000014a5f00daa18e76b81417eeb99fc</td>\n",
       "      <td>1.1.15100.1</td>\n",
       "      <td>4.18.1807.18075</td>\n",
       "      <td>1.273.1379.0</td>\n",
       "      <td>53447.0</td>\n",
       "      <td>1.0</td>\n",
       "      <td>18</td>\n",
       "      <td>37376.0</td>\n",
       "      <td>NaN</td>\n",
       "      <td>277.0</td>\n",
       "      <td>75</td>\n",
       "      <td>17134</td>\n",
       "      <td>768</td>\n",
       "      <td>rs4</td>\n",
       "      <td>17134.1.amd64fre.rs4_release.180410-1804</td>\n",
       "      <td>Home</td>\n",
       "      <td>137.0</td>\n",
       "      <td>RequireAdmin</td>\n",
       "      <td>Notebook</td>\n",
       "      <td>1443.0</td>\n",
       "      <td>331929.0</td>\n",
       "      <td>4.0</td>\n",
       "      <td>5.0</td>\n",
       "      <td>2500.0</td>\n",
       "      <td>476940.0</td>\n",
       "      <td>HDD</td>\n",
       "      <td>101900.0</td>\n",
       "      <td>6144.0</td>\n",
       "      <td>Portable</td>\n",
       "      <td>14.000000</td>\n",
       "      <td>1366.0</td>\n",
       "      <td>768.0</td>\n",
       "      <td>Mobile</td>\n",
       "      <td>lion</td>\n",
       "      <td>0.000000e+00</td>\n",
       "      <td>10.0.17134.191</td>\n",
       "      <td>rs4_release</td>\n",
       "      <td>17134</td>\n",
       "      <td>191</td>\n",
       "      <td>Core</td>\n",
       "      <td>CORE</td>\n",
       "      <td>Update</td>\n",
       "      <td>8.0</td>\n",
       "      <td>31</td>\n",
       "      <td>FullAuto</td>\n",
       "      <td>IS_GENUINE</td>\n",
       "      <td>Retail</td>\n",
       "      <td>0.0</td>\n",
       "      <td>0.0</td>\n",
       "      <td>355.0</td>\n",
       "      <td>19844.0</td>\n",
       "      <td>0</td>\n",
       "      <td>0.0</td>\n",
       "      <td>0</td>\n",
       "      <td>0.0</td>\n",
       "      <td>1.0</td>\n",
       "      <td>1</td>\n",
       "    </tr>\n",
       "  </tbody>\n",
       "</table>\n",
       "</div>"
      ],
      "text/plain": [
       "                  MachineIdentifier EngineVersion       AppVersion  \\\n",
       "0  0000028988387b115f69f31a3bf04f09   1.1.15100.1  4.18.1807.18075   \n",
       "1  000007535c3f730efa9ea0b7ef1bd645   1.1.14600.4     4.13.17134.1   \n",
       "2  000007905a28d863f6d0d597892cd692   1.1.15100.1  4.18.1807.18075   \n",
       "3  00000b11598a75ea8ba1beea8459149f   1.1.15100.1  4.18.1807.18075   \n",
       "4  000014a5f00daa18e76b81417eeb99fc   1.1.15100.1  4.18.1807.18075   \n",
       "\n",
       "   AvSigVersion  AVProductStatesIdentifier  AVProductsInstalled  \\\n",
       "0  1.273.1735.0                    53447.0                  1.0   \n",
       "1    1.263.48.0                    53447.0                  1.0   \n",
       "2  1.273.1341.0                    53447.0                  1.0   \n",
       "3  1.273.1527.0                    53447.0                  1.0   \n",
       "4  1.273.1379.0                    53447.0                  1.0   \n",
       "\n",
       "   CountryIdentifier  CityIdentifier  OrganizationIdentifier  \\\n",
       "0                 29        128035.0                    18.0   \n",
       "1                 93          1482.0                    18.0   \n",
       "2                 86        153579.0                    18.0   \n",
       "3                 88         20710.0                     NaN   \n",
       "4                 18         37376.0                     NaN   \n",
       "\n",
       "   GeoNameIdentifier  LocaleEnglishNameIdentifier  OsBuild  OsSuite  \\\n",
       "0               35.0                          -85    17134      256   \n",
       "1              119.0                           64    17134      256   \n",
       "2               64.0                           49    17134      768   \n",
       "3              117.0                          115    17134      256   \n",
       "4              277.0                           75    17134      768   \n",
       "\n",
       "  OsPlatformSubRelease                                OsBuildLab SkuEdition  \\\n",
       "0                  rs4  17134.1.amd64fre.rs4_release.180410-1804        Pro   \n",
       "1                  rs4  17134.1.amd64fre.rs4_release.180410-1804        Pro   \n",
       "2                  rs4  17134.1.amd64fre.rs4_release.180410-1804       Home   \n",
       "3                  rs4  17134.1.amd64fre.rs4_release.180410-1804        Pro   \n",
       "4                  rs4  17134.1.amd64fre.rs4_release.180410-1804       Home   \n",
       "\n",
       "   IeVerIdentifier   SmartScreen Census_MDC2FormFactor  \\\n",
       "0            137.0           NaN               Desktop   \n",
       "1            137.0           NaN              Notebook   \n",
       "2            137.0  RequireAdmin               Desktop   \n",
       "3            137.0  ExistsNotSet               Desktop   \n",
       "4            137.0  RequireAdmin              Notebook   \n",
       "\n",
       "   Census_OEMNameIdentifier  Census_OEMModelIdentifier  \\\n",
       "0                    2668.0                     9124.0   \n",
       "1                    2668.0                    91656.0   \n",
       "2                    4908.0                   317701.0   \n",
       "3                    1443.0                   275890.0   \n",
       "4                    1443.0                   331929.0   \n",
       "\n",
       "   Census_ProcessorCoreCount  Census_ProcessorManufacturerIdentifier  \\\n",
       "0                        4.0                                     5.0   \n",
       "1                        4.0                                     5.0   \n",
       "2                        4.0                                     5.0   \n",
       "3                        4.0                                     5.0   \n",
       "4                        4.0                                     5.0   \n",
       "\n",
       "   Census_ProcessorModelIdentifier  Census_PrimaryDiskTotalCapacity  \\\n",
       "0                           2340.0                         476940.0   \n",
       "1                           2404.0                         476940.0   \n",
       "2                           1972.0                         114473.0   \n",
       "3                           2272.0                         238475.0   \n",
       "4                           2500.0                         476940.0   \n",
       "\n",
       "  Census_PrimaryDiskTypeName  Census_SystemVolumeTotalCapacity  \\\n",
       "0                        HDD                          299451.0   \n",
       "1                        HDD                          102385.0   \n",
       "2                        SSD                          113907.0   \n",
       "3                    UNKNOWN                          227116.0   \n",
       "4                        HDD                          101900.0   \n",
       "\n",
       "   Census_TotalPhysicalRAM Census_ChassisTypeName  \\\n",
       "0                   4096.0                Desktop   \n",
       "1                   4096.0               Notebook   \n",
       "2                   4096.0                Desktop   \n",
       "3                   4096.0              MiniTower   \n",
       "4                   6144.0               Portable   \n",
       "\n",
       "   Census_InternalPrimaryDiagonalDisplaySizeInInches  \\\n",
       "0                                          18.906250   \n",
       "1                                          13.898438   \n",
       "2                                          21.500000   \n",
       "3                                          18.500000   \n",
       "4                                          14.000000   \n",
       "\n",
       "   Census_InternalPrimaryDisplayResolutionHorizontal  \\\n",
       "0                                             1440.0   \n",
       "1                                             1366.0   \n",
       "2                                             1920.0   \n",
       "3                                             1366.0   \n",
       "4                                             1366.0   \n",
       "\n",
       "   Census_InternalPrimaryDisplayResolutionVertical  \\\n",
       "0                                            900.0   \n",
       "1                                            768.0   \n",
       "2                                           1080.0   \n",
       "3                                            768.0   \n",
       "4                                            768.0   \n",
       "\n",
       "  Census_PowerPlatformRoleName Census_InternalBatteryType  \\\n",
       "0                      Desktop                        NaN   \n",
       "1                       Mobile                        NaN   \n",
       "2                      Desktop                        NaN   \n",
       "3                      Desktop                        NaN   \n",
       "4                       Mobile                       lion   \n",
       "\n",
       "   Census_InternalBatteryNumberOfCharges Census_OSVersion Census_OSBranch  \\\n",
       "0                           4.294967e+09   10.0.17134.165     rs4_release   \n",
       "1                           1.000000e+00     10.0.17134.1     rs4_release   \n",
       "2                           4.294967e+09   10.0.17134.165     rs4_release   \n",
       "3                           4.294967e+09   10.0.17134.228     rs4_release   \n",
       "4                           0.000000e+00   10.0.17134.191     rs4_release   \n",
       "\n",
       "   Census_OSBuildNumber  Census_OSBuildRevision Census_OSEdition  \\\n",
       "0                 17134                     165     Professional   \n",
       "1                 17134                       1     Professional   \n",
       "2                 17134                     165             Core   \n",
       "3                 17134                     228     Professional   \n",
       "4                 17134                     191             Core   \n",
       "\n",
       "  Census_OSSkuName Census_OSInstallTypeName  \\\n",
       "0     PROFESSIONAL               UUPUpgrade   \n",
       "1     PROFESSIONAL                 IBSClean   \n",
       "2             CORE               UUPUpgrade   \n",
       "3     PROFESSIONAL               UUPUpgrade   \n",
       "4             CORE                   Update   \n",
       "\n",
       "   Census_OSInstallLanguageIdentifier  Census_OSUILocaleIdentifier  \\\n",
       "0                                26.0                          119   \n",
       "1                                 8.0                           31   \n",
       "2                                 7.0                           30   \n",
       "3                                17.0                           64   \n",
       "4                                 8.0                           31   \n",
       "\n",
       "  Census_OSWUAutoUpdateOptionsName Census_GenuineStateName  \\\n",
       "0                          UNKNOWN              IS_GENUINE   \n",
       "1                          UNKNOWN                 OFFLINE   \n",
       "2                         FullAuto              IS_GENUINE   \n",
       "3                         FullAuto              IS_GENUINE   \n",
       "4                         FullAuto              IS_GENUINE   \n",
       "\n",
       "  Census_ActivationChannel  Census_IsFlightingInternal  Census_ThresholdOptIn  \\\n",
       "0                   Retail                         NaN                    NaN   \n",
       "1                   Retail                         NaN                    NaN   \n",
       "2               OEM:NONSLP                         NaN                    NaN   \n",
       "3               OEM:NONSLP                         NaN                    NaN   \n",
       "4                   Retail                         0.0                    0.0   \n",
       "\n",
       "   Census_FirmwareManufacturerIdentifier  Census_FirmwareVersionIdentifier  \\\n",
       "0                                  628.0                           36144.0   \n",
       "1                                  628.0                           57858.0   \n",
       "2                                  142.0                           52682.0   \n",
       "3                                  355.0                           20050.0   \n",
       "4                                  355.0                           19844.0   \n",
       "\n",
       "   Census_IsSecureBootEnabled  Census_IsWIMBootEnabled  Census_IsTouchEnabled  \\\n",
       "0                           0                      NaN                      0   \n",
       "1                           0                      NaN                      0   \n",
       "2                           0                      NaN                      0   \n",
       "3                           0                      NaN                      0   \n",
       "4                           0                      0.0                      0   \n",
       "\n",
       "   Wdft_IsGamer  Wdft_RegionIdentifier  HasDetections  \n",
       "0           0.0                   10.0              0  \n",
       "1           0.0                    8.0              0  \n",
       "2           0.0                    3.0              0  \n",
       "3           0.0                    3.0              1  \n",
       "4           0.0                    1.0              1  "
      ]
     },
     "execution_count": 14,
     "metadata": {},
     "output_type": "execute_result"
    }
   ],
   "source": [
    "train.head()"
   ]
  },
  {
   "cell_type": "code",
   "execution_count": 15,
   "metadata": {
    "_kg_hide-input": true,
    "_uuid": "f92ad117017d395def1526c5ef2c8f65a4cb0fd6"
   },
   "outputs": [],
   "source": [
    "# function to plot data\n",
    "def plot_categorical_feature(col, only_bars=False, top_n=10, by_touch=False):\n",
    "    top_n = top_n if train[col].nunique() > top_n else train[col].nunique()\n",
    "    print(f\"{col} has {train[col].nunique()} unique values and type: {train[col].dtype}.\")\n",
    "    print(train[col].value_counts(normalize=True, dropna=False).head())\n",
    "    if not by_touch:\n",
    "        if not only_bars:\n",
    "            df = train.groupby([col]).agg({'HasDetections': ['count', 'mean']})\n",
    "            df = df.sort_values(('HasDetections', 'count'), ascending=False).head(top_n).sort_index()\n",
    "            data = [go.Bar(x=df.index, y=df['HasDetections']['count'].values, name='counts'),\n",
    "                    go.Scatter(x=df.index, y=df['HasDetections']['mean'], name='Detections rate', yaxis='y2')]\n",
    "\n",
    "            layout = go.Layout(dict(title = f\"Counts of {col} by top-{top_n} categories and mean target value\",\n",
    "                                xaxis = dict(title = f'{col}',\n",
    "                                             showgrid=False,\n",
    "                                             zeroline=False,\n",
    "                                             showline=False,),\n",
    "                                yaxis = dict(title = 'Counts',\n",
    "                                             showgrid=False,\n",
    "                                             zeroline=False,\n",
    "                                             showline=False,),\n",
    "                                yaxis2=dict(title='Detections rate', overlaying='y', side='right')),\n",
    "                           legend=dict(orientation=\"v\"))\n",
    "\n",
    "        else:\n",
    "            top_cat = list(train[col].value_counts(dropna=False).index[:top_n])\n",
    "            df0 = train.loc[(train[col].isin(top_cat)) & (train['HasDetections'] == 1), col].value_counts().head(10).sort_index()\n",
    "            df1 = train.loc[(train[col].isin(top_cat)) & (train['HasDetections'] == 0), col].value_counts().head(10).sort_index()\n",
    "            data = [go.Bar(x=df0.index, y=df0.values, name='Has Detections'),\n",
    "                    go.Bar(x=df1.index, y=df1.values, name='No Detections')]\n",
    "\n",
    "            layout = go.Layout(dict(title = f\"Counts of {col} by top-{top_n} categories\",\n",
    "                                xaxis = dict(title = f'{col}',\n",
    "                                             showgrid=False,\n",
    "                                             zeroline=False,\n",
    "                                             showline=False,),\n",
    "                                yaxis = dict(title = 'Counts',\n",
    "                                             showgrid=False,\n",
    "                                             zeroline=False,\n",
    "                                             showline=False,),\n",
    "                                ),\n",
    "                           legend=dict(orientation=\"v\"), barmode='group')\n",
    "        \n",
    "        py.iplot(dict(data=data, layout=layout))\n",
    "        \n",
    "    else:\n",
    "        top_n = 10\n",
    "        top_cat = list(train[col].value_counts(dropna=False).index[:top_n])\n",
    "        df = train.loc[train[col].isin(top_cat)]\n",
    "\n",
    "        df1 = train.loc[train['Census_IsTouchEnabled'] == 1]\n",
    "        df0 = train.loc[train['Census_IsTouchEnabled'] == 0]\n",
    "\n",
    "        df0_ = df0.groupby([col]).agg({'HasDetections': ['count', 'mean']})\n",
    "        df0_ = df0_.sort_values(('HasDetections', 'count'), ascending=False).head(top_n).sort_index()\n",
    "        df1_ = df1.groupby([col]).agg({'HasDetections': ['count', 'mean']})\n",
    "        df1_ = df1_.sort_values(('HasDetections', 'count'), ascending=False).head(top_n).sort_index()\n",
    "        data1 = [go.Bar(x=df0_.index, y=df0_['HasDetections']['count'].values, name='Nontouch device counts'),\n",
    "                go.Scatter(x=df0_.index, y=df0_['HasDetections']['mean'], name='Detections rate for nontouch devices', yaxis='y2')]\n",
    "        data2 = [go.Bar(x=df1_.index, y=df1_['HasDetections']['count'].values, name='Touch device counts'),\n",
    "                go.Scatter(x=df1_.index, y=df1_['HasDetections']['mean'], name='Detections rate for touch devices', yaxis='y2')]\n",
    "\n",
    "        layout = go.Layout(dict(title = f\"Counts of {col} by top-{top_n} categories for nontouch devices\",\n",
    "                            xaxis = dict(title = f'{col}',\n",
    "                                         showgrid=False,\n",
    "                                         zeroline=False,\n",
    "                                         showline=False,\n",
    "                                         type='category'),\n",
    "                            yaxis = dict(title = 'Counts',\n",
    "                                         showgrid=False,\n",
    "                                         zeroline=False,\n",
    "                                         showline=False,),\n",
    "                                    yaxis2=dict(title='Detections rate', overlaying='y', side='right'),\n",
    "                            ),\n",
    "                       legend=dict(orientation=\"v\"), barmode='group')\n",
    "\n",
    "        py.iplot(dict(data=data1, layout=layout))\n",
    "        layout['title'] = f\"Counts of {col} by top-{top_n} categories for touch devices\"\n",
    "        py.iplot(dict(data=data2, layout=layout))"
   ]
  },
  {
   "cell_type": "markdown",
   "metadata": {
    "_uuid": "7991c2d43b73ec471fb6b93f1c13249631756ff3"
   },
   "source": [
    "### Target"
   ]
  },
  {
   "cell_type": "code",
   "execution_count": 16,
   "metadata": {
    "_uuid": "1aabee218c620c7cbdb0af84ebcffcc97a4db611"
   },
   "outputs": [
    {
     "data": {
      "text/plain": [
       "0    4462591\n",
       "1    4458892\n",
       "Name: HasDetections, dtype: int64"
      ]
     },
     "execution_count": 16,
     "metadata": {},
     "output_type": "execute_result"
    }
   ],
   "source": [
    "train['HasDetections'].value_counts()"
   ]
  },
  {
   "cell_type": "markdown",
   "metadata": {
    "_uuid": "bc3aace292060c33a3852203653e52270d8660bc"
   },
   "source": [
    "The target is balanced, which is nice."
   ]
  },
  {
   "cell_type": "markdown",
   "metadata": {
    "_uuid": "b9b1a15d64c09734139fd0e5336188703107928d"
   },
   "source": [
    "### Census_IsTouchEnabled"
   ]
  },
  {
   "cell_type": "code",
   "execution_count": 17,
   "metadata": {
    "_uuid": "d0e8db0ab58b7f998b695c12e3cb5c1880ee1e7a"
   },
   "outputs": [
    {
     "name": "stdout",
     "output_type": "stream",
     "text": [
      "Census_IsTouchEnabled has 2 unique values and type: int8.\n",
      "0    0.874457\n",
      "1    0.125543\n",
      "Name: Census_IsTouchEnabled, dtype: float64\n"
     ]
    },
    {
     "data": {
      "application/vnd.plotly.v1+json": {
       "config": {
        "linkText": "Export to plot.ly",
        "plotlyServerURL": "https://plot.ly",
        "showLink": true
       },
       "data": [
        {
         "name": "Has Detections",
         "type": "bar",
         "uid": "f102d6e4-9013-46fa-9a29-840c6cb30370",
         "x": [
          0,
          1
         ],
         "y": [
          3958835,
          500057
         ]
        },
        {
         "name": "No Detections",
         "type": "bar",
         "uid": "e8286b62-690a-4935-978b-f24c60f92e3f",
         "x": [
          0,
          1
         ],
         "y": [
          3842617,
          619974
         ]
        }
       ],
       "layout": {
        "barmode": "group",
        "legend": {
         "orientation": "v"
        },
        "title": "Counts of Census_IsTouchEnabled by top-2 categories",
        "xaxis": {
         "showgrid": false,
         "showline": false,
         "title": "Census_IsTouchEnabled",
         "zeroline": false
        },
        "yaxis": {
         "showgrid": false,
         "showline": false,
         "title": "Counts",
         "zeroline": false
        }
       }
      },
      "text/html": [
       "<div id=\"f149d9f2-ac52-41ba-9e79-4f87609e2ab7\" style=\"height: 525px; width: 100%;\" class=\"plotly-graph-div\"></div><script type=\"text/javascript\">require([\"plotly\"], function(Plotly) { window.PLOTLYENV=window.PLOTLYENV || {};window.PLOTLYENV.BASE_URL=\"https://plot.ly\";Plotly.newPlot(\"f149d9f2-ac52-41ba-9e79-4f87609e2ab7\", [{\"name\": \"Has Detections\", \"x\": [0, 1], \"y\": [3958835, 500057], \"type\": \"bar\", \"uid\": \"30dfd459-05b1-486f-9b7c-ed89092aa4ce\"}, {\"name\": \"No Detections\", \"x\": [0, 1], \"y\": [3842617, 619974], \"type\": \"bar\", \"uid\": \"251e3f8a-905b-45b1-9635-d0c7abacbeee\"}], {\"barmode\": \"group\", \"legend\": {\"orientation\": \"v\"}, \"title\": \"Counts of Census_IsTouchEnabled by top-2 categories\", \"xaxis\": {\"showgrid\": false, \"showline\": false, \"title\": \"Census_IsTouchEnabled\", \"zeroline\": false}, \"yaxis\": {\"showgrid\": false, \"showline\": false, \"title\": \"Counts\", \"zeroline\": false}}, {\"showLink\": true, \"linkText\": \"Export to plot.ly\", \"plotlyServerURL\": \"https://plot.ly\"})});</script><script type=\"text/javascript\">window.addEventListener(\"resize\", function(){window._Plotly.Plots.resize(document.getElementById(\"f149d9f2-ac52-41ba-9e79-4f87609e2ab7\"));});</script>"
      ],
      "text/vnd.plotly.v1+html": [
       "<div id=\"f149d9f2-ac52-41ba-9e79-4f87609e2ab7\" style=\"height: 525px; width: 100%;\" class=\"plotly-graph-div\"></div><script type=\"text/javascript\">require([\"plotly\"], function(Plotly) { window.PLOTLYENV=window.PLOTLYENV || {};window.PLOTLYENV.BASE_URL=\"https://plot.ly\";Plotly.newPlot(\"f149d9f2-ac52-41ba-9e79-4f87609e2ab7\", [{\"name\": \"Has Detections\", \"x\": [0, 1], \"y\": [3958835, 500057], \"type\": \"bar\", \"uid\": \"30dfd459-05b1-486f-9b7c-ed89092aa4ce\"}, {\"name\": \"No Detections\", \"x\": [0, 1], \"y\": [3842617, 619974], \"type\": \"bar\", \"uid\": \"251e3f8a-905b-45b1-9635-d0c7abacbeee\"}], {\"barmode\": \"group\", \"legend\": {\"orientation\": \"v\"}, \"title\": \"Counts of Census_IsTouchEnabled by top-2 categories\", \"xaxis\": {\"showgrid\": false, \"showline\": false, \"title\": \"Census_IsTouchEnabled\", \"zeroline\": false}, \"yaxis\": {\"showgrid\": false, \"showline\": false, \"title\": \"Counts\", \"zeroline\": false}}, {\"showLink\": true, \"linkText\": \"Export to plot.ly\", \"plotlyServerURL\": \"https://plot.ly\"})});</script><script type=\"text/javascript\">window.addEventListener(\"resize\", function(){window._Plotly.Plots.resize(document.getElementById(\"f149d9f2-ac52-41ba-9e79-4f87609e2ab7\"));});</script>"
      ]
     },
     "metadata": {},
     "output_type": "display_data"
    }
   ],
   "source": [
    "plot_categorical_feature('Census_IsTouchEnabled', True)"
   ]
  },
  {
   "cell_type": "markdown",
   "metadata": {
    "_uuid": "667159429461fae73959b32d4d9e6779e33b905a"
   },
   "source": [
    "As expected Microsoft has much more computers that touch devices. The rate of infections is lower for touch devices, but not by much."
   ]
  },
  {
   "cell_type": "markdown",
   "metadata": {
    "_uuid": "0fb583c4759ad06f8f32a4ddc8f19727cc4171c0"
   },
   "source": [
    "### Variables with high amount of unique values\n",
    "At first I'll have a look at variables  with a lot of categories. Then I'll move to more interesting variables with a limited amount of categories."
   ]
  },
  {
   "cell_type": "markdown",
   "metadata": {
    "_uuid": "78935b472cc3b2604418de9f61f2e2db1b7aca16"
   },
   "source": [
    "## EngineVersion"
   ]
  },
  {
   "cell_type": "code",
   "execution_count": 18,
   "metadata": {
    "_uuid": "71b8e017afdfcdeb4d5a6ff0b5cbe8a61d4b159b"
   },
   "outputs": [
    {
     "name": "stdout",
     "output_type": "stream",
     "text": [
      "EngineVersion has 70 unique values and type: category.\n",
      "1.1.15200.1    0.430990\n",
      "1.1.15100.1    0.412030\n",
      "1.1.15000.2    0.029728\n",
      "1.1.14901.4    0.023809\n",
      "1.1.14600.4    0.018000\n",
      "Name: EngineVersion, dtype: float64\n"
     ]
    },
    {
     "data": {
      "application/vnd.plotly.v1+json": {
       "config": {
        "linkText": "Export to plot.ly",
        "plotlyServerURL": "https://plot.ly",
        "showLink": true
       },
       "data": [
        {
         "name": "Nontouch device counts",
         "type": "bar",
         "uid": "2c313867-1b51-4536-8a8f-2f4e18182d22",
         "x": [
          "1.1.13504.0",
          "1.1.14104.0",
          "1.1.14600.4",
          "1.1.14800.3",
          "1.1.14901.4",
          "1.1.15000.2",
          "1.1.15100.1",
          "1.1.15200.1",
          "1.1.15300.5",
          "1.1.15300.6"
         ],
         "y": [
          61917,
          83962,
          144420,
          117522,
          182968,
          229047,
          3218411,
          3357684,
          62107,
          105560
         ]
        },
        {
         "name": "Detections rate for nontouch devices",
         "type": "scatter",
         "uid": "89305173-b56f-48e2-bc94-1d6c6f3b6b58",
         "x": [
          "1.1.13504.0",
          "1.1.14104.0",
          "1.1.14600.4",
          "1.1.14800.3",
          "1.1.14901.4",
          "1.1.15000.2",
          "1.1.15100.1",
          "1.1.15200.1",
          "1.1.15300.5",
          "1.1.15300.6"
         ],
         "y": [
          0.44050906859182454,
          0.4433076868107001,
          0.44295111480404376,
          0.314111400418645,
          0.3076220978531765,
          0.3485441852545547,
          0.5597880444728781,
          0.5006349614794007,
          0.529650441979165,
          0.5033819628647215
         ],
         "yaxis": "y2"
        }
       ],
       "layout": {
        "barmode": "group",
        "legend": {
         "orientation": "v"
        },
        "title": "Counts of EngineVersion by top-10 categories for nontouch devices",
        "xaxis": {
         "showgrid": false,
         "showline": false,
         "title": "EngineVersion",
         "type": "category",
         "zeroline": false
        },
        "yaxis": {
         "showgrid": false,
         "showline": false,
         "title": "Counts",
         "zeroline": false
        },
        "yaxis2": {
         "overlaying": "y",
         "side": "right",
         "title": "Detections rate"
        }
       }
      },
      "text/html": [
       "<div id=\"8f2afd81-6f58-4e78-91b9-fd1575477fa2\" style=\"height: 525px; width: 100%;\" class=\"plotly-graph-div\"></div><script type=\"text/javascript\">require([\"plotly\"], function(Plotly) { window.PLOTLYENV=window.PLOTLYENV || {};window.PLOTLYENV.BASE_URL=\"https://plot.ly\";Plotly.newPlot(\"8f2afd81-6f58-4e78-91b9-fd1575477fa2\", [{\"name\": \"Nontouch device counts\", \"x\": [\"1.1.13504.0\", \"1.1.14104.0\", \"1.1.14600.4\", \"1.1.14800.3\", \"1.1.14901.4\", \"1.1.15000.2\", \"1.1.15100.1\", \"1.1.15200.1\", \"1.1.15300.5\", \"1.1.15300.6\"], \"y\": [61917, 83962, 144420, 117522, 182968, 229047, 3218411, 3357684, 62107, 105560], \"type\": \"bar\", \"uid\": \"72c576d1-0b50-45c9-b206-54f8cbe09caf\"}, {\"name\": \"Detections rate for nontouch devices\", \"x\": [\"1.1.13504.0\", \"1.1.14104.0\", \"1.1.14600.4\", \"1.1.14800.3\", \"1.1.14901.4\", \"1.1.15000.2\", \"1.1.15100.1\", \"1.1.15200.1\", \"1.1.15300.5\", \"1.1.15300.6\"], \"y\": [0.44050906859182454, 0.4433076868107001, 0.44295111480404376, 0.314111400418645, 0.3076220978531765, 0.3485441852545547, 0.5597880444728781, 0.5006349614794007, 0.529650441979165, 0.5033819628647215], \"yaxis\": \"y2\", \"type\": \"scatter\", \"uid\": \"eaf3311d-5a6d-4064-937b-0920703382ee\"}], {\"barmode\": \"group\", \"legend\": {\"orientation\": \"v\"}, \"title\": \"Counts of EngineVersion by top-10 categories for nontouch devices\", \"xaxis\": {\"showgrid\": false, \"showline\": false, \"title\": \"EngineVersion\", \"type\": \"category\", \"zeroline\": false}, \"yaxis\": {\"showgrid\": false, \"showline\": false, \"title\": \"Counts\", \"zeroline\": false}, \"yaxis2\": {\"overlaying\": \"y\", \"side\": \"right\", \"title\": \"Detections rate\"}}, {\"showLink\": true, \"linkText\": \"Export to plot.ly\", \"plotlyServerURL\": \"https://plot.ly\"})});</script><script type=\"text/javascript\">window.addEventListener(\"resize\", function(){window._Plotly.Plots.resize(document.getElementById(\"8f2afd81-6f58-4e78-91b9-fd1575477fa2\"));});</script>"
      ],
      "text/vnd.plotly.v1+html": [
       "<div id=\"8f2afd81-6f58-4e78-91b9-fd1575477fa2\" style=\"height: 525px; width: 100%;\" class=\"plotly-graph-div\"></div><script type=\"text/javascript\">require([\"plotly\"], function(Plotly) { window.PLOTLYENV=window.PLOTLYENV || {};window.PLOTLYENV.BASE_URL=\"https://plot.ly\";Plotly.newPlot(\"8f2afd81-6f58-4e78-91b9-fd1575477fa2\", [{\"name\": \"Nontouch device counts\", \"x\": [\"1.1.13504.0\", \"1.1.14104.0\", \"1.1.14600.4\", \"1.1.14800.3\", \"1.1.14901.4\", \"1.1.15000.2\", \"1.1.15100.1\", \"1.1.15200.1\", \"1.1.15300.5\", \"1.1.15300.6\"], \"y\": [61917, 83962, 144420, 117522, 182968, 229047, 3218411, 3357684, 62107, 105560], \"type\": \"bar\", \"uid\": \"72c576d1-0b50-45c9-b206-54f8cbe09caf\"}, {\"name\": \"Detections rate for nontouch devices\", \"x\": [\"1.1.13504.0\", \"1.1.14104.0\", \"1.1.14600.4\", \"1.1.14800.3\", \"1.1.14901.4\", \"1.1.15000.2\", \"1.1.15100.1\", \"1.1.15200.1\", \"1.1.15300.5\", \"1.1.15300.6\"], \"y\": [0.44050906859182454, 0.4433076868107001, 0.44295111480404376, 0.314111400418645, 0.3076220978531765, 0.3485441852545547, 0.5597880444728781, 0.5006349614794007, 0.529650441979165, 0.5033819628647215], \"yaxis\": \"y2\", \"type\": \"scatter\", \"uid\": \"eaf3311d-5a6d-4064-937b-0920703382ee\"}], {\"barmode\": \"group\", \"legend\": {\"orientation\": \"v\"}, \"title\": \"Counts of EngineVersion by top-10 categories for nontouch devices\", \"xaxis\": {\"showgrid\": false, \"showline\": false, \"title\": \"EngineVersion\", \"type\": \"category\", \"zeroline\": false}, \"yaxis\": {\"showgrid\": false, \"showline\": false, \"title\": \"Counts\", \"zeroline\": false}, \"yaxis2\": {\"overlaying\": \"y\", \"side\": \"right\", \"title\": \"Detections rate\"}}, {\"showLink\": true, \"linkText\": \"Export to plot.ly\", \"plotlyServerURL\": \"https://plot.ly\"})});</script><script type=\"text/javascript\">window.addEventListener(\"resize\", function(){window._Plotly.Plots.resize(document.getElementById(\"8f2afd81-6f58-4e78-91b9-fd1575477fa2\"));});</script>"
      ]
     },
     "metadata": {},
     "output_type": "display_data"
    },
    {
     "data": {
      "application/vnd.plotly.v1+json": {
       "config": {
        "linkText": "Export to plot.ly",
        "plotlyServerURL": "https://plot.ly",
        "showLink": true
       },
       "data": [
        {
         "name": "Touch device counts",
         "type": "bar",
         "uid": "c14e8f83-7369-420d-bbf9-9623ff016515",
         "x": [
          "1.1.13504.0",
          "1.1.14104.0",
          "1.1.14600.4",
          "1.1.14800.3",
          "1.1.14901.4",
          "1.1.15000.2",
          "1.1.15100.1",
          "1.1.15200.1",
          "1.1.15300.5",
          "1.1.15300.6"
         ],
         "y": [
          8728,
          9964,
          16165,
          18954,
          29440,
          36171,
          457504,
          487383,
          6609,
          14735
         ]
        },
        {
         "name": "Detections rate for touch devices",
         "type": "scatter",
         "uid": "7d75c17c-e12f-47cd-8c4c-dd0cbb48c43c",
         "x": [
          "1.1.13504.0",
          "1.1.14104.0",
          "1.1.14600.4",
          "1.1.14800.3",
          "1.1.14901.4",
          "1.1.15000.2",
          "1.1.15100.1",
          "1.1.15200.1",
          "1.1.15300.5",
          "1.1.15300.6"
         ],
         "y": [
          0.4046746104491292,
          0.4088719389803292,
          0.3854005567584287,
          0.2826843937955049,
          0.2703804347826087,
          0.3137872881590224,
          0.5027781177869484,
          0.4303986802986563,
          0.48479346345891966,
          0.4141839158466237
         ],
         "yaxis": "y2"
        }
       ],
       "layout": {
        "barmode": "group",
        "legend": {
         "orientation": "v"
        },
        "title": "Counts of EngineVersion by top-10 categories for touch devices",
        "xaxis": {
         "showgrid": false,
         "showline": false,
         "title": "EngineVersion",
         "type": "category",
         "zeroline": false
        },
        "yaxis": {
         "showgrid": false,
         "showline": false,
         "title": "Counts",
         "zeroline": false
        },
        "yaxis2": {
         "overlaying": "y",
         "side": "right",
         "title": "Detections rate"
        }
       }
      },
      "text/html": [
       "<div id=\"f60ab77f-1c9d-4462-abbd-b44a34172268\" style=\"height: 525px; width: 100%;\" class=\"plotly-graph-div\"></div><script type=\"text/javascript\">require([\"plotly\"], function(Plotly) { window.PLOTLYENV=window.PLOTLYENV || {};window.PLOTLYENV.BASE_URL=\"https://plot.ly\";Plotly.newPlot(\"f60ab77f-1c9d-4462-abbd-b44a34172268\", [{\"name\": \"Touch device counts\", \"x\": [\"1.1.13504.0\", \"1.1.14104.0\", \"1.1.14600.4\", \"1.1.14800.3\", \"1.1.14901.4\", \"1.1.15000.2\", \"1.1.15100.1\", \"1.1.15200.1\", \"1.1.15300.5\", \"1.1.15300.6\"], \"y\": [8728, 9964, 16165, 18954, 29440, 36171, 457504, 487383, 6609, 14735], \"type\": \"bar\", \"uid\": \"f5566b5c-7ee6-4a02-ae00-62bdb686da0f\"}, {\"name\": \"Detections rate for touch devices\", \"x\": [\"1.1.13504.0\", \"1.1.14104.0\", \"1.1.14600.4\", \"1.1.14800.3\", \"1.1.14901.4\", \"1.1.15000.2\", \"1.1.15100.1\", \"1.1.15200.1\", \"1.1.15300.5\", \"1.1.15300.6\"], \"y\": [0.4046746104491292, 0.4088719389803292, 0.3854005567584287, 0.2826843937955049, 0.2703804347826087, 0.3137872881590224, 0.5027781177869484, 0.4303986802986563, 0.48479346345891966, 0.4141839158466237], \"yaxis\": \"y2\", \"type\": \"scatter\", \"uid\": \"3c781a6b-004a-43e9-b01e-7f6872ea4623\"}], {\"barmode\": \"group\", \"legend\": {\"orientation\": \"v\"}, \"title\": \"Counts of EngineVersion by top-10 categories for touch devices\", \"xaxis\": {\"showgrid\": false, \"showline\": false, \"title\": \"EngineVersion\", \"type\": \"category\", \"zeroline\": false}, \"yaxis\": {\"showgrid\": false, \"showline\": false, \"title\": \"Counts\", \"zeroline\": false}, \"yaxis2\": {\"overlaying\": \"y\", \"side\": \"right\", \"title\": \"Detections rate\"}}, {\"showLink\": true, \"linkText\": \"Export to plot.ly\", \"plotlyServerURL\": \"https://plot.ly\"})});</script><script type=\"text/javascript\">window.addEventListener(\"resize\", function(){window._Plotly.Plots.resize(document.getElementById(\"f60ab77f-1c9d-4462-abbd-b44a34172268\"));});</script>"
      ],
      "text/vnd.plotly.v1+html": [
       "<div id=\"f60ab77f-1c9d-4462-abbd-b44a34172268\" style=\"height: 525px; width: 100%;\" class=\"plotly-graph-div\"></div><script type=\"text/javascript\">require([\"plotly\"], function(Plotly) { window.PLOTLYENV=window.PLOTLYENV || {};window.PLOTLYENV.BASE_URL=\"https://plot.ly\";Plotly.newPlot(\"f60ab77f-1c9d-4462-abbd-b44a34172268\", [{\"name\": \"Touch device counts\", \"x\": [\"1.1.13504.0\", \"1.1.14104.0\", \"1.1.14600.4\", \"1.1.14800.3\", \"1.1.14901.4\", \"1.1.15000.2\", \"1.1.15100.1\", \"1.1.15200.1\", \"1.1.15300.5\", \"1.1.15300.6\"], \"y\": [8728, 9964, 16165, 18954, 29440, 36171, 457504, 487383, 6609, 14735], \"type\": \"bar\", \"uid\": \"f5566b5c-7ee6-4a02-ae00-62bdb686da0f\"}, {\"name\": \"Detections rate for touch devices\", \"x\": [\"1.1.13504.0\", \"1.1.14104.0\", \"1.1.14600.4\", \"1.1.14800.3\", \"1.1.14901.4\", \"1.1.15000.2\", \"1.1.15100.1\", \"1.1.15200.1\", \"1.1.15300.5\", \"1.1.15300.6\"], \"y\": [0.4046746104491292, 0.4088719389803292, 0.3854005567584287, 0.2826843937955049, 0.2703804347826087, 0.3137872881590224, 0.5027781177869484, 0.4303986802986563, 0.48479346345891966, 0.4141839158466237], \"yaxis\": \"y2\", \"type\": \"scatter\", \"uid\": \"3c781a6b-004a-43e9-b01e-7f6872ea4623\"}], {\"barmode\": \"group\", \"legend\": {\"orientation\": \"v\"}, \"title\": \"Counts of EngineVersion by top-10 categories for touch devices\", \"xaxis\": {\"showgrid\": false, \"showline\": false, \"title\": \"EngineVersion\", \"type\": \"category\", \"zeroline\": false}, \"yaxis\": {\"showgrid\": false, \"showline\": false, \"title\": \"Counts\", \"zeroline\": false}, \"yaxis2\": {\"overlaying\": \"y\", \"side\": \"right\", \"title\": \"Detections rate\"}}, {\"showLink\": true, \"linkText\": \"Export to plot.ly\", \"plotlyServerURL\": \"https://plot.ly\"})});</script><script type=\"text/javascript\">window.addEventListener(\"resize\", function(){window._Plotly.Plots.resize(document.getElementById(\"f60ab77f-1c9d-4462-abbd-b44a34172268\"));});</script>"
      ]
     },
     "metadata": {},
     "output_type": "display_data"
    }
   ],
   "source": [
    "plot_categorical_feature('EngineVersion', by_touch=True)"
   ]
  },
  {
   "cell_type": "markdown",
   "metadata": {
    "_uuid": "8c843c4649844eab233e3702eda82706aae9e671"
   },
   "source": [
    "We can see that two categories take 84% of all values. The difference in detection rates is noticable. Other categories have different detection rate, but it is simply due to the low number of samples in them.\n",
    "Patterns for touch and non-touch devices are quite similar."
   ]
  },
  {
   "cell_type": "markdown",
   "metadata": {
    "_uuid": "48b391657358c87a723761d103b5e9e99614b4fa"
   },
   "source": [
    "### AppVersion"
   ]
  },
  {
   "cell_type": "code",
   "execution_count": 19,
   "metadata": {
    "_uuid": "2a93cba166288dabf11fe218d48da15711f4375e"
   },
   "outputs": [
    {
     "name": "stdout",
     "output_type": "stream",
     "text": [
      "AppVersion has 110 unique values and type: category.\n",
      "4.18.1807.18075    0.576050\n",
      "4.18.1806.18062    0.095380\n",
      "4.12.16299.15      0.040338\n",
      "4.10.209.0         0.030539\n",
      "4.13.17134.1       0.028837\n",
      "Name: AppVersion, dtype: float64\n"
     ]
    },
    {
     "data": {
      "application/vnd.plotly.v1+json": {
       "config": {
        "linkText": "Export to plot.ly",
        "plotlyServerURL": "https://plot.ly",
        "showLink": true
       },
       "data": [
        {
         "name": "counts",
         "type": "bar",
         "uid": "70a2ede4-b487-49b9-9e66-0ae765e6936c",
         "x": [
          "4.10.209.0",
          "4.12.16299.15",
          "4.13.17134.1",
          "4.13.17134.228",
          "4.14.17639.18041",
          "4.16.17656.18052",
          "4.18.1806.18062",
          "4.18.1807.18075",
          "4.8.10240.17443",
          "4.9.10586.1106"
         ],
         "y": [
          272455,
          359871,
          257270,
          226501,
          194699,
          235032,
          850929,
          5139224,
          205480,
          203525
         ]
        },
        {
         "name": "Detections rate",
         "type": "scatter",
         "uid": "9db32957-9b9a-4f54-818c-807ff447b240",
         "x": [
          "4.10.209.0",
          "4.12.16299.15",
          "4.13.17134.1",
          "4.13.17134.228",
          "4.14.17639.18041",
          "4.16.17656.18052",
          "4.18.1806.18062",
          "4.18.1807.18075",
          "4.8.10240.17443",
          "4.9.10586.1106"
         ],
         "y": [
          0.5018480115982455,
          0.4573222071242195,
          0.5217942239670386,
          0.42864711414077644,
          0.3169867333679166,
          0.3241048027502638,
          0.4852143950905422,
          0.5303851320744144,
          0.4863052365193693,
          0.444495762191377
         ],
         "yaxis": "y2"
        }
       ],
       "layout": {
        "legend": {
         "orientation": "v"
        },
        "title": "Counts of AppVersion by top-10 categories and mean target value",
        "xaxis": {
         "showgrid": false,
         "showline": false,
         "title": "AppVersion",
         "zeroline": false
        },
        "yaxis": {
         "showgrid": false,
         "showline": false,
         "title": "Counts",
         "zeroline": false
        },
        "yaxis2": {
         "overlaying": "y",
         "side": "right",
         "title": "Detections rate"
        }
       }
      },
      "text/html": [
       "<div id=\"8e9e6b85-3d4e-48b1-99c0-4bd7b958cbf5\" style=\"height: 525px; width: 100%;\" class=\"plotly-graph-div\"></div><script type=\"text/javascript\">require([\"plotly\"], function(Plotly) { window.PLOTLYENV=window.PLOTLYENV || {};window.PLOTLYENV.BASE_URL=\"https://plot.ly\";Plotly.newPlot(\"8e9e6b85-3d4e-48b1-99c0-4bd7b958cbf5\", [{\"name\": \"counts\", \"x\": [\"4.10.209.0\", \"4.12.16299.15\", \"4.13.17134.1\", \"4.13.17134.228\", \"4.14.17639.18041\", \"4.16.17656.18052\", \"4.18.1806.18062\", \"4.18.1807.18075\", \"4.8.10240.17443\", \"4.9.10586.1106\"], \"y\": [272455, 359871, 257270, 226501, 194699, 235032, 850929, 5139224, 205480, 203525], \"type\": \"bar\", \"uid\": \"66399ee6-d182-4f86-84eb-520e0c6b687a\"}, {\"name\": \"Detections rate\", \"x\": [\"4.10.209.0\", \"4.12.16299.15\", \"4.13.17134.1\", \"4.13.17134.228\", \"4.14.17639.18041\", \"4.16.17656.18052\", \"4.18.1806.18062\", \"4.18.1807.18075\", \"4.8.10240.17443\", \"4.9.10586.1106\"], \"y\": [0.5018480115982455, 0.4573222071242195, 0.5217942239670386, 0.42864711414077644, 0.3169867333679166, 0.3241048027502638, 0.4852143950905422, 0.5303851320744144, 0.4863052365193693, 0.444495762191377], \"yaxis\": \"y2\", \"type\": \"scatter\", \"uid\": \"e0f9fb50-4059-4a05-a8dd-2409dd3a3c72\"}], {\"legend\": {\"orientation\": \"v\"}, \"title\": \"Counts of AppVersion by top-10 categories and mean target value\", \"xaxis\": {\"showgrid\": false, \"showline\": false, \"title\": \"AppVersion\", \"zeroline\": false}, \"yaxis\": {\"showgrid\": false, \"showline\": false, \"title\": \"Counts\", \"zeroline\": false}, \"yaxis2\": {\"overlaying\": \"y\", \"side\": \"right\", \"title\": \"Detections rate\"}}, {\"showLink\": true, \"linkText\": \"Export to plot.ly\", \"plotlyServerURL\": \"https://plot.ly\"})});</script><script type=\"text/javascript\">window.addEventListener(\"resize\", function(){window._Plotly.Plots.resize(document.getElementById(\"8e9e6b85-3d4e-48b1-99c0-4bd7b958cbf5\"));});</script>"
      ],
      "text/vnd.plotly.v1+html": [
       "<div id=\"8e9e6b85-3d4e-48b1-99c0-4bd7b958cbf5\" style=\"height: 525px; width: 100%;\" class=\"plotly-graph-div\"></div><script type=\"text/javascript\">require([\"plotly\"], function(Plotly) { window.PLOTLYENV=window.PLOTLYENV || {};window.PLOTLYENV.BASE_URL=\"https://plot.ly\";Plotly.newPlot(\"8e9e6b85-3d4e-48b1-99c0-4bd7b958cbf5\", [{\"name\": \"counts\", \"x\": [\"4.10.209.0\", \"4.12.16299.15\", \"4.13.17134.1\", \"4.13.17134.228\", \"4.14.17639.18041\", \"4.16.17656.18052\", \"4.18.1806.18062\", \"4.18.1807.18075\", \"4.8.10240.17443\", \"4.9.10586.1106\"], \"y\": [272455, 359871, 257270, 226501, 194699, 235032, 850929, 5139224, 205480, 203525], \"type\": \"bar\", \"uid\": \"66399ee6-d182-4f86-84eb-520e0c6b687a\"}, {\"name\": \"Detections rate\", \"x\": [\"4.10.209.0\", \"4.12.16299.15\", \"4.13.17134.1\", \"4.13.17134.228\", \"4.14.17639.18041\", \"4.16.17656.18052\", \"4.18.1806.18062\", \"4.18.1807.18075\", \"4.8.10240.17443\", \"4.9.10586.1106\"], \"y\": [0.5018480115982455, 0.4573222071242195, 0.5217942239670386, 0.42864711414077644, 0.3169867333679166, 0.3241048027502638, 0.4852143950905422, 0.5303851320744144, 0.4863052365193693, 0.444495762191377], \"yaxis\": \"y2\", \"type\": \"scatter\", \"uid\": \"e0f9fb50-4059-4a05-a8dd-2409dd3a3c72\"}], {\"legend\": {\"orientation\": \"v\"}, \"title\": \"Counts of AppVersion by top-10 categories and mean target value\", \"xaxis\": {\"showgrid\": false, \"showline\": false, \"title\": \"AppVersion\", \"zeroline\": false}, \"yaxis\": {\"showgrid\": false, \"showline\": false, \"title\": \"Counts\", \"zeroline\": false}, \"yaxis2\": {\"overlaying\": \"y\", \"side\": \"right\", \"title\": \"Detections rate\"}}, {\"showLink\": true, \"linkText\": \"Export to plot.ly\", \"plotlyServerURL\": \"https://plot.ly\"})});</script><script type=\"text/javascript\">window.addEventListener(\"resize\", function(){window._Plotly.Plots.resize(document.getElementById(\"8e9e6b85-3d4e-48b1-99c0-4bd7b958cbf5\"));});</script>"
      ]
     },
     "metadata": {},
     "output_type": "display_data"
    }
   ],
   "source": [
    "plot_categorical_feature('AppVersion')"
   ]
  },
  {
   "cell_type": "markdown",
   "metadata": {
    "_uuid": "3d89090f5fa5c2e853cdf903df294f93331a9810"
   },
   "source": [
    "In this case we have one main category with 0.53 detection rate, other categories are much smaller."
   ]
  },
  {
   "cell_type": "markdown",
   "metadata": {
    "_uuid": "89e43b9040164bddce9bb813b82d2969a2a9b4c2"
   },
   "source": [
    "### AvSigVersion"
   ]
  },
  {
   "cell_type": "code",
   "execution_count": 20,
   "metadata": {
    "_uuid": "bb711d24b1dbbf4c38437cbca43f35fdd5da903e"
   },
   "outputs": [
    {
     "name": "stdout",
     "output_type": "stream",
     "text": [
      "AvSigVersion has 8531 unique values and type: category.\n",
      "1.273.1420.0    0.011469\n",
      "1.263.48.0      0.010987\n",
      "1.275.1140.0    0.010899\n",
      "1.275.727.0     0.010362\n",
      "1.273.371.0     0.009748\n",
      "Name: AvSigVersion, dtype: float64\n"
     ]
    },
    {
     "data": {
      "application/vnd.plotly.v1+json": {
       "config": {
        "linkText": "Export to plot.ly",
        "plotlyServerURL": "https://plot.ly",
        "showLink": true
       },
       "data": [
        {
         "name": "counts",
         "type": "bar",
         "uid": "976f1350-3a41-49b9-a08c-fd8b32583042",
         "x": [
          "1.251.42.0",
          "1.263.48.0",
          "1.273.1420.0",
          "1.273.1826.0",
          "1.273.371.0",
          "1.273.810.0",
          "1.275.1140.0",
          "1.275.1209.0",
          "1.275.1244.0",
          "1.275.727.0"
         ],
         "y": [
          76837,
          98024,
          102317,
          86013,
          86967,
          65895,
          97232,
          66393,
          78902,
          92448
         ]
        },
        {
         "name": "Detections rate",
         "type": "scatter",
         "uid": "6d31fb14-da94-45fc-b0b5-641a6785c1ac",
         "x": [
          "1.251.42.0",
          "1.263.48.0",
          "1.273.1420.0",
          "1.273.1826.0",
          "1.273.371.0",
          "1.273.810.0",
          "1.275.1140.0",
          "1.275.1209.0",
          "1.275.1244.0",
          "1.275.727.0"
         ],
         "y": [
          0.4487291278941135,
          0.4668958622378193,
          0.5595551081442967,
          0.5581016823038378,
          0.521749629169685,
          0.5518628120494726,
          0.4487411551752509,
          0.46265419547241426,
          0.47102735038402066,
          0.4987452405676705
         ],
         "yaxis": "y2"
        }
       ],
       "layout": {
        "legend": {
         "orientation": "v"
        },
        "title": "Counts of AvSigVersion by top-10 categories and mean target value",
        "xaxis": {
         "showgrid": false,
         "showline": false,
         "title": "AvSigVersion",
         "zeroline": false
        },
        "yaxis": {
         "showgrid": false,
         "showline": false,
         "title": "Counts",
         "zeroline": false
        },
        "yaxis2": {
         "overlaying": "y",
         "side": "right",
         "title": "Detections rate"
        }
       }
      },
      "text/html": [
       "<div id=\"6c623281-90f7-4f17-ab05-13d372670144\" style=\"height: 525px; width: 100%;\" class=\"plotly-graph-div\"></div><script type=\"text/javascript\">require([\"plotly\"], function(Plotly) { window.PLOTLYENV=window.PLOTLYENV || {};window.PLOTLYENV.BASE_URL=\"https://plot.ly\";Plotly.newPlot(\"6c623281-90f7-4f17-ab05-13d372670144\", [{\"name\": \"counts\", \"x\": [\"1.251.42.0\", \"1.263.48.0\", \"1.273.1420.0\", \"1.273.1826.0\", \"1.273.371.0\", \"1.273.810.0\", \"1.275.1140.0\", \"1.275.1209.0\", \"1.275.1244.0\", \"1.275.727.0\"], \"y\": [76837, 98024, 102317, 86013, 86967, 65895, 97232, 66393, 78902, 92448], \"type\": \"bar\", \"uid\": \"9ac12c0a-ec8a-4692-91e0-b6eb2e810c97\"}, {\"name\": \"Detections rate\", \"x\": [\"1.251.42.0\", \"1.263.48.0\", \"1.273.1420.0\", \"1.273.1826.0\", \"1.273.371.0\", \"1.273.810.0\", \"1.275.1140.0\", \"1.275.1209.0\", \"1.275.1244.0\", \"1.275.727.0\"], \"y\": [0.4487291278941135, 0.4668958622378193, 0.5595551081442967, 0.5581016823038378, 0.521749629169685, 0.5518628120494726, 0.4487411551752509, 0.46265419547241426, 0.47102735038402066, 0.4987452405676705], \"yaxis\": \"y2\", \"type\": \"scatter\", \"uid\": \"24fb2321-0971-43c9-a531-4b5a03ca603c\"}], {\"legend\": {\"orientation\": \"v\"}, \"title\": \"Counts of AvSigVersion by top-10 categories and mean target value\", \"xaxis\": {\"showgrid\": false, \"showline\": false, \"title\": \"AvSigVersion\", \"zeroline\": false}, \"yaxis\": {\"showgrid\": false, \"showline\": false, \"title\": \"Counts\", \"zeroline\": false}, \"yaxis2\": {\"overlaying\": \"y\", \"side\": \"right\", \"title\": \"Detections rate\"}}, {\"showLink\": true, \"linkText\": \"Export to plot.ly\", \"plotlyServerURL\": \"https://plot.ly\"})});</script><script type=\"text/javascript\">window.addEventListener(\"resize\", function(){window._Plotly.Plots.resize(document.getElementById(\"6c623281-90f7-4f17-ab05-13d372670144\"));});</script>"
      ],
      "text/vnd.plotly.v1+html": [
       "<div id=\"6c623281-90f7-4f17-ab05-13d372670144\" style=\"height: 525px; width: 100%;\" class=\"plotly-graph-div\"></div><script type=\"text/javascript\">require([\"plotly\"], function(Plotly) { window.PLOTLYENV=window.PLOTLYENV || {};window.PLOTLYENV.BASE_URL=\"https://plot.ly\";Plotly.newPlot(\"6c623281-90f7-4f17-ab05-13d372670144\", [{\"name\": \"counts\", \"x\": [\"1.251.42.0\", \"1.263.48.0\", \"1.273.1420.0\", \"1.273.1826.0\", \"1.273.371.0\", \"1.273.810.0\", \"1.275.1140.0\", \"1.275.1209.0\", \"1.275.1244.0\", \"1.275.727.0\"], \"y\": [76837, 98024, 102317, 86013, 86967, 65895, 97232, 66393, 78902, 92448], \"type\": \"bar\", \"uid\": \"9ac12c0a-ec8a-4692-91e0-b6eb2e810c97\"}, {\"name\": \"Detections rate\", \"x\": [\"1.251.42.0\", \"1.263.48.0\", \"1.273.1420.0\", \"1.273.1826.0\", \"1.273.371.0\", \"1.273.810.0\", \"1.275.1140.0\", \"1.275.1209.0\", \"1.275.1244.0\", \"1.275.727.0\"], \"y\": [0.4487291278941135, 0.4668958622378193, 0.5595551081442967, 0.5581016823038378, 0.521749629169685, 0.5518628120494726, 0.4487411551752509, 0.46265419547241426, 0.47102735038402066, 0.4987452405676705], \"yaxis\": \"y2\", \"type\": \"scatter\", \"uid\": \"24fb2321-0971-43c9-a531-4b5a03ca603c\"}], {\"legend\": {\"orientation\": \"v\"}, \"title\": \"Counts of AvSigVersion by top-10 categories and mean target value\", \"xaxis\": {\"showgrid\": false, \"showline\": false, \"title\": \"AvSigVersion\", \"zeroline\": false}, \"yaxis\": {\"showgrid\": false, \"showline\": false, \"title\": \"Counts\", \"zeroline\": false}, \"yaxis2\": {\"overlaying\": \"y\", \"side\": \"right\", \"title\": \"Detections rate\"}}, {\"showLink\": true, \"linkText\": \"Export to plot.ly\", \"plotlyServerURL\": \"https://plot.ly\"})});</script><script type=\"text/javascript\">window.addEventListener(\"resize\", function(){window._Plotly.Plots.resize(document.getElementById(\"6c623281-90f7-4f17-ab05-13d372670144\"));});</script>"
      ]
     },
     "metadata": {},
     "output_type": "display_data"
    }
   ],
   "source": [
    "plot_categorical_feature('AvSigVersion')"
   ]
  },
  {
   "cell_type": "markdown",
   "metadata": {
    "_uuid": "80b091f0d9b81a65242e2d2d356d0d6fd55c9dbf"
   },
   "source": [
    "This feature has a huge amount of categories, it seems this is a version of an often updated software."
   ]
  },
  {
   "cell_type": "markdown",
   "metadata": {
    "_uuid": "68c4a3fe4da3cce202cfb0150ced80d23dec0fba"
   },
   "source": [
    "### AVProductStatesIdentifier"
   ]
  },
  {
   "cell_type": "code",
   "execution_count": 21,
   "metadata": {
    "_uuid": "aeb38f2065afafc13568e5a410d702a7bf788195"
   },
   "outputs": [
    {
     "name": "stdout",
     "output_type": "stream",
     "text": [
      "AVProductStatesIdentifier has 28970 unique values and type: float32.\n",
      "53447.0    0.652870\n",
      "7945.0     0.053343\n",
      "47238.0    0.036727\n",
      "62773.0    0.029901\n",
      "46413.0    0.012652\n",
      "Name: AVProductStatesIdentifier, dtype: float64\n"
     ]
    },
    {
     "data": {
      "application/vnd.plotly.v1+json": {
       "config": {
        "linkText": "Export to plot.ly",
        "plotlyServerURL": "https://plot.ly",
        "showLink": true
       },
       "data": [
        {
         "name": "Has Detections",
         "type": "bar",
         "uid": "b20aac2c-fcef-462c-9af5-5c44f6a7de05",
         "x": [
          7945,
          23657,
          29199,
          41571,
          46413,
          47238,
          49480,
          51954,
          53447,
          62773
         ],
         "y": [
          165771,
          41380,
          35973,
          28277,
          55708,
          152550,
          39753,
          35240,
          3240582,
          101939
         ]
        },
        {
         "name": "No Detections",
         "type": "bar",
         "uid": "ae67aa5a-88ad-4308-80af-7da4c7a87f60",
         "x": [
          7945,
          23657,
          29199,
          41571,
          46413,
          47238,
          49480,
          51954,
          53447,
          62773
         ],
         "y": [
          310126,
          59075,
          37577,
          69382,
          57170,
          175106,
          60146,
          32376,
          2583983,
          164825
         ]
        }
       ],
       "layout": {
        "barmode": "group",
        "legend": {
         "orientation": "v"
        },
        "title": "Counts of AVProductStatesIdentifier by top-10 categories",
        "xaxis": {
         "showgrid": false,
         "showline": false,
         "title": "AVProductStatesIdentifier",
         "zeroline": false
        },
        "yaxis": {
         "showgrid": false,
         "showline": false,
         "title": "Counts",
         "zeroline": false
        }
       }
      },
      "text/html": [
       "<div id=\"30669f4a-d57b-4e65-a573-5039c5f6fb44\" style=\"height: 525px; width: 100%;\" class=\"plotly-graph-div\"></div><script type=\"text/javascript\">require([\"plotly\"], function(Plotly) { window.PLOTLYENV=window.PLOTLYENV || {};window.PLOTLYENV.BASE_URL=\"https://plot.ly\";Plotly.newPlot(\"30669f4a-d57b-4e65-a573-5039c5f6fb44\", [{\"name\": \"Has Detections\", \"x\": [7945.0, 23657.0, 29199.0, 41571.0, 46413.0, 47238.0, 49480.0, 51954.0, 53447.0, 62773.0], \"y\": [165771, 41380, 35973, 28277, 55708, 152550, 39753, 35240, 3240582, 101939], \"type\": \"bar\", \"uid\": \"f83e79f1-a905-4cfb-ae75-ff72c60bf03a\"}, {\"name\": \"No Detections\", \"x\": [7945.0, 23657.0, 29199.0, 41571.0, 46413.0, 47238.0, 49480.0, 51954.0, 53447.0, 62773.0], \"y\": [310126, 59075, 37577, 69382, 57170, 175106, 60146, 32376, 2583983, 164825], \"type\": \"bar\", \"uid\": \"f47c4c5c-bbaa-4ec7-83bf-c0d7c8a247ae\"}], {\"barmode\": \"group\", \"legend\": {\"orientation\": \"v\"}, \"title\": \"Counts of AVProductStatesIdentifier by top-10 categories\", \"xaxis\": {\"showgrid\": false, \"showline\": false, \"title\": \"AVProductStatesIdentifier\", \"zeroline\": false}, \"yaxis\": {\"showgrid\": false, \"showline\": false, \"title\": \"Counts\", \"zeroline\": false}}, {\"showLink\": true, \"linkText\": \"Export to plot.ly\", \"plotlyServerURL\": \"https://plot.ly\"})});</script><script type=\"text/javascript\">window.addEventListener(\"resize\", function(){window._Plotly.Plots.resize(document.getElementById(\"30669f4a-d57b-4e65-a573-5039c5f6fb44\"));});</script>"
      ],
      "text/vnd.plotly.v1+html": [
       "<div id=\"30669f4a-d57b-4e65-a573-5039c5f6fb44\" style=\"height: 525px; width: 100%;\" class=\"plotly-graph-div\"></div><script type=\"text/javascript\">require([\"plotly\"], function(Plotly) { window.PLOTLYENV=window.PLOTLYENV || {};window.PLOTLYENV.BASE_URL=\"https://plot.ly\";Plotly.newPlot(\"30669f4a-d57b-4e65-a573-5039c5f6fb44\", [{\"name\": \"Has Detections\", \"x\": [7945.0, 23657.0, 29199.0, 41571.0, 46413.0, 47238.0, 49480.0, 51954.0, 53447.0, 62773.0], \"y\": [165771, 41380, 35973, 28277, 55708, 152550, 39753, 35240, 3240582, 101939], \"type\": \"bar\", \"uid\": \"f83e79f1-a905-4cfb-ae75-ff72c60bf03a\"}, {\"name\": \"No Detections\", \"x\": [7945.0, 23657.0, 29199.0, 41571.0, 46413.0, 47238.0, 49480.0, 51954.0, 53447.0, 62773.0], \"y\": [310126, 59075, 37577, 69382, 57170, 175106, 60146, 32376, 2583983, 164825], \"type\": \"bar\", \"uid\": \"f47c4c5c-bbaa-4ec7-83bf-c0d7c8a247ae\"}], {\"barmode\": \"group\", \"legend\": {\"orientation\": \"v\"}, \"title\": \"Counts of AVProductStatesIdentifier by top-10 categories\", \"xaxis\": {\"showgrid\": false, \"showline\": false, \"title\": \"AVProductStatesIdentifier\", \"zeroline\": false}, \"yaxis\": {\"showgrid\": false, \"showline\": false, \"title\": \"Counts\", \"zeroline\": false}}, {\"showLink\": true, \"linkText\": \"Export to plot.ly\", \"plotlyServerURL\": \"https://plot.ly\"})});</script><script type=\"text/javascript\">window.addEventListener(\"resize\", function(){window._Plotly.Plots.resize(document.getElementById(\"30669f4a-d57b-4e65-a573-5039c5f6fb44\"));});</script>"
      ]
     },
     "metadata": {},
     "output_type": "display_data"
    }
   ],
   "source": [
    "plot_categorical_feature('AVProductStatesIdentifier', True, 10)"
   ]
  },
  {
   "cell_type": "markdown",
   "metadata": {
    "_uuid": "6e5ffa60457eb4dd8a52bb6e480e07392f989feb"
   },
   "source": [
    "This is definitely a categorical variable."
   ]
  },
  {
   "cell_type": "code",
   "execution_count": 22,
   "metadata": {
    "_uuid": "43757e0bc2eb2e7b6caa106e64732933c7e1e990"
   },
   "outputs": [],
   "source": [
    "train['AVProductStatesIdentifier'] = train['AVProductStatesIdentifier'].astype('category')\n",
    "test['AVProductStatesIdentifier'] = test['AVProductStatesIdentifier'].astype('category')"
   ]
  },
  {
   "cell_type": "markdown",
   "metadata": {
    "_uuid": "d5c48341db21ad9adea02fdedb187e24b145af90"
   },
   "source": [
    "### AVProductsInstalled"
   ]
  },
  {
   "cell_type": "code",
   "execution_count": 23,
   "metadata": {
    "_uuid": "50aa34017f308c04f07182fd9cc1c56d0c3c0572"
   },
   "outputs": [
    {
     "name": "stdout",
     "output_type": "stream",
     "text": [
      "AVProductsInstalled has 8 unique values and type: float16.\n",
      " 1.0    0.695949\n",
      " 2.0    0.275628\n",
      " 3.0    0.023326\n",
      "NaN     0.004060\n",
      " 4.0    0.000982\n",
      "Name: AVProductsInstalled, dtype: float64\n"
     ]
    },
    {
     "data": {
      "application/vnd.plotly.v1+json": {
       "config": {
        "linkText": "Export to plot.ly",
        "plotlyServerURL": "https://plot.ly",
        "showLink": true
       },
       "data": [
        {
         "name": "Has Detections",
         "type": "bar",
         "uid": "2bd9fab2-605b-4646-a3c4-0c4fdb6c4434",
         "x": [
          1,
          2,
          3,
          4,
          5,
          6,
          7
         ],
         "y": [
          3406078,
          975996,
          60682,
          2371,
          125,
          6,
          1
         ]
        },
        {
         "name": "No Detections",
         "type": "bar",
         "uid": "94b047c9-b20d-410e-bb34-c6220a411db9",
         "x": [
          1,
          2,
          3,
          4,
          5,
          6
         ],
         "y": [
          2802815,
          1483012,
          147421,
          6386,
          346,
          22
         ]
        }
       ],
       "layout": {
        "barmode": "group",
        "legend": {
         "orientation": "v"
        },
        "title": "Counts of AVProductsInstalled by top-8 categories",
        "xaxis": {
         "showgrid": false,
         "showline": false,
         "title": "AVProductsInstalled",
         "zeroline": false
        },
        "yaxis": {
         "showgrid": false,
         "showline": false,
         "title": "Counts",
         "zeroline": false
        }
       }
      },
      "text/html": [
       "<div id=\"250f6a4c-f107-4d3e-be08-931d10c4e7a2\" style=\"height: 525px; width: 100%;\" class=\"plotly-graph-div\"></div><script type=\"text/javascript\">require([\"plotly\"], function(Plotly) { window.PLOTLYENV=window.PLOTLYENV || {};window.PLOTLYENV.BASE_URL=\"https://plot.ly\";Plotly.newPlot(\"250f6a4c-f107-4d3e-be08-931d10c4e7a2\", [{\"name\": \"Has Detections\", \"x\": [1.0, 2.0, 3.0, 4.0, 5.0, 6.0, 7.0], \"y\": [3406078, 975996, 60682, 2371, 125, 6, 1], \"type\": \"bar\", \"uid\": \"6caf4e0e-da8d-474b-8362-02bdf4bd7277\"}, {\"name\": \"No Detections\", \"x\": [1.0, 2.0, 3.0, 4.0, 5.0, 6.0], \"y\": [2802815, 1483012, 147421, 6386, 346, 22], \"type\": \"bar\", \"uid\": \"ae4fc697-5777-4f69-881f-4c6345a998c4\"}], {\"barmode\": \"group\", \"legend\": {\"orientation\": \"v\"}, \"title\": \"Counts of AVProductsInstalled by top-8 categories\", \"xaxis\": {\"showgrid\": false, \"showline\": false, \"title\": \"AVProductsInstalled\", \"zeroline\": false}, \"yaxis\": {\"showgrid\": false, \"showline\": false, \"title\": \"Counts\", \"zeroline\": false}}, {\"showLink\": true, \"linkText\": \"Export to plot.ly\", \"plotlyServerURL\": \"https://plot.ly\"})});</script><script type=\"text/javascript\">window.addEventListener(\"resize\", function(){window._Plotly.Plots.resize(document.getElementById(\"250f6a4c-f107-4d3e-be08-931d10c4e7a2\"));});</script>"
      ],
      "text/vnd.plotly.v1+html": [
       "<div id=\"250f6a4c-f107-4d3e-be08-931d10c4e7a2\" style=\"height: 525px; width: 100%;\" class=\"plotly-graph-div\"></div><script type=\"text/javascript\">require([\"plotly\"], function(Plotly) { window.PLOTLYENV=window.PLOTLYENV || {};window.PLOTLYENV.BASE_URL=\"https://plot.ly\";Plotly.newPlot(\"250f6a4c-f107-4d3e-be08-931d10c4e7a2\", [{\"name\": \"Has Detections\", \"x\": [1.0, 2.0, 3.0, 4.0, 5.0, 6.0, 7.0], \"y\": [3406078, 975996, 60682, 2371, 125, 6, 1], \"type\": \"bar\", \"uid\": \"6caf4e0e-da8d-474b-8362-02bdf4bd7277\"}, {\"name\": \"No Detections\", \"x\": [1.0, 2.0, 3.0, 4.0, 5.0, 6.0], \"y\": [2802815, 1483012, 147421, 6386, 346, 22], \"type\": \"bar\", \"uid\": \"ae4fc697-5777-4f69-881f-4c6345a998c4\"}], {\"barmode\": \"group\", \"legend\": {\"orientation\": \"v\"}, \"title\": \"Counts of AVProductsInstalled by top-8 categories\", \"xaxis\": {\"showgrid\": false, \"showline\": false, \"title\": \"AVProductsInstalled\", \"zeroline\": false}, \"yaxis\": {\"showgrid\": false, \"showline\": false, \"title\": \"Counts\", \"zeroline\": false}}, {\"showLink\": true, \"linkText\": \"Export to plot.ly\", \"plotlyServerURL\": \"https://plot.ly\"})});</script><script type=\"text/javascript\">window.addEventListener(\"resize\", function(){window._Plotly.Plots.resize(document.getElementById(\"250f6a4c-f107-4d3e-be08-931d10c4e7a2\"));});</script>"
      ]
     },
     "metadata": {},
     "output_type": "display_data"
    }
   ],
   "source": [
    "plot_categorical_feature('AVProductsInstalled', True)"
   ]
  },
  {
   "cell_type": "markdown",
   "metadata": {
    "_uuid": "826e6acfb4aa12415b58b2336916c5d381ae6c9c"
   },
   "source": [
    "Hm, interesting. If a computer has an antivirus, it is less likely to be infected. But having two antiviruses has an opposite effect. Maybe those who install 2 antiviruses tend to have less experience with working on PC?\n",
    "Also other categories have really low samples, let's combine them."
   ]
  },
  {
   "cell_type": "code",
   "execution_count": 24,
   "metadata": {
    "_uuid": "7541d8e2cb1167dce6e543bb3e1069da7ecee3b4"
   },
   "outputs": [],
   "source": [
    "# train.loc[train['AVProductsInstalled'].isin([1, 2]) == False, 'AVProductsInstalled'] = 3\n",
    "# test.loc[test['AVProductsInstalled'].isin([1, 2]) == False, 'AVProductsInstalled'] = 3"
   ]
  },
  {
   "cell_type": "code",
   "execution_count": 25,
   "metadata": {
    "_uuid": "f1fb239c34142405cc49244cae4dc061fe7e963a"
   },
   "outputs": [],
   "source": [
    "train['AVProductsInstalled'] = train['AVProductsInstalled'].astype('category')\n",
    "test['AVProductsInstalled'] = test['AVProductsInstalled'].astype('category')"
   ]
  },
  {
   "cell_type": "code",
   "execution_count": 26,
   "metadata": {
    "_uuid": "52a71f4ef3a01bcf003813c91a189676c748e90f"
   },
   "outputs": [
    {
     "name": "stdout",
     "output_type": "stream",
     "text": [
      "AVProductsInstalled has 8 unique values and type: category.\n",
      " 1.0    0.695949\n",
      " 2.0    0.275628\n",
      " 3.0    0.023326\n",
      "NaN     0.004060\n",
      " 4.0    0.000982\n",
      "Name: AVProductsInstalled, dtype: float64\n"
     ]
    },
    {
     "data": {
      "application/vnd.plotly.v1+json": {
       "config": {
        "linkText": "Export to plot.ly",
        "plotlyServerURL": "https://plot.ly",
        "showLink": true
       },
       "data": [
        {
         "name": "Nontouch device counts",
         "type": "bar",
         "uid": "b29fe78c-d29d-4d28-87ca-f06f154baa73",
         "x": [
          0,
          1,
          2,
          3,
          4,
          5,
          6,
          7
         ],
         "y": [
          1,
          5412701,
          2160603,
          186244,
          7987,
          436,
          27,
          1
         ]
        },
        {
         "name": "Detections rate for nontouch devices",
         "type": "scatter",
         "uid": "96209400-8ed0-49a2-aff7-8230d6afeafe",
         "x": [
          0,
          1,
          2,
          3,
          4,
          5,
          6,
          7
         ],
         "y": [
          0,
          0.5594423190935542,
          0.3986183486739581,
          0.29333025493438714,
          0.27169149868536374,
          0.268348623853211,
          0.18518518518518517,
          1
         ],
         "yaxis": "y2"
        }
       ],
       "layout": {
        "barmode": "group",
        "legend": {
         "orientation": "v"
        },
        "title": "Counts of AVProductsInstalled by top-10 categories for nontouch devices",
        "xaxis": {
         "showgrid": false,
         "showline": false,
         "title": "AVProductsInstalled",
         "type": "category",
         "zeroline": false
        },
        "yaxis": {
         "showgrid": false,
         "showline": false,
         "title": "Counts",
         "zeroline": false
        },
        "yaxis2": {
         "overlaying": "y",
         "side": "right",
         "title": "Detections rate"
        }
       }
      },
      "text/html": [
       "<div id=\"785312df-c96c-40a0-8ac1-343973f375bd\" style=\"height: 525px; width: 100%;\" class=\"plotly-graph-div\"></div><script type=\"text/javascript\">require([\"plotly\"], function(Plotly) { window.PLOTLYENV=window.PLOTLYENV || {};window.PLOTLYENV.BASE_URL=\"https://plot.ly\";Plotly.newPlot(\"785312df-c96c-40a0-8ac1-343973f375bd\", [{\"name\": \"Nontouch device counts\", \"x\": [0.0, 1.0, 2.0, 3.0, 4.0, 5.0, 6.0, 7.0], \"y\": [1, 5412701, 2160603, 186244, 7987, 436, 27, 1], \"type\": \"bar\", \"uid\": \"9155f7e9-8714-4e88-a269-1b86f771b0fb\"}, {\"name\": \"Detections rate for nontouch devices\", \"x\": [0.0, 1.0, 2.0, 3.0, 4.0, 5.0, 6.0, 7.0], \"y\": [0.0, 0.5594423190935542, 0.3986183486739581, 0.29333025493438714, 0.27169149868536374, 0.268348623853211, 0.18518518518518517, 1.0], \"yaxis\": \"y2\", \"type\": \"scatter\", \"uid\": \"3cc2991a-c784-46f4-bf15-c99104b4931f\"}], {\"barmode\": \"group\", \"legend\": {\"orientation\": \"v\"}, \"title\": \"Counts of AVProductsInstalled by top-10 categories for nontouch devices\", \"xaxis\": {\"showgrid\": false, \"showline\": false, \"title\": \"AVProductsInstalled\", \"type\": \"category\", \"zeroline\": false}, \"yaxis\": {\"showgrid\": false, \"showline\": false, \"title\": \"Counts\", \"zeroline\": false}, \"yaxis2\": {\"overlaying\": \"y\", \"side\": \"right\", \"title\": \"Detections rate\"}}, {\"showLink\": true, \"linkText\": \"Export to plot.ly\", \"plotlyServerURL\": \"https://plot.ly\"})});</script><script type=\"text/javascript\">window.addEventListener(\"resize\", function(){window._Plotly.Plots.resize(document.getElementById(\"785312df-c96c-40a0-8ac1-343973f375bd\"));});</script>"
      ],
      "text/vnd.plotly.v1+html": [
       "<div id=\"785312df-c96c-40a0-8ac1-343973f375bd\" style=\"height: 525px; width: 100%;\" class=\"plotly-graph-div\"></div><script type=\"text/javascript\">require([\"plotly\"], function(Plotly) { window.PLOTLYENV=window.PLOTLYENV || {};window.PLOTLYENV.BASE_URL=\"https://plot.ly\";Plotly.newPlot(\"785312df-c96c-40a0-8ac1-343973f375bd\", [{\"name\": \"Nontouch device counts\", \"x\": [0.0, 1.0, 2.0, 3.0, 4.0, 5.0, 6.0, 7.0], \"y\": [1, 5412701, 2160603, 186244, 7987, 436, 27, 1], \"type\": \"bar\", \"uid\": \"9155f7e9-8714-4e88-a269-1b86f771b0fb\"}, {\"name\": \"Detections rate for nontouch devices\", \"x\": [0.0, 1.0, 2.0, 3.0, 4.0, 5.0, 6.0, 7.0], \"y\": [0.0, 0.5594423190935542, 0.3986183486739581, 0.29333025493438714, 0.27169149868536374, 0.268348623853211, 0.18518518518518517, 1.0], \"yaxis\": \"y2\", \"type\": \"scatter\", \"uid\": \"3cc2991a-c784-46f4-bf15-c99104b4931f\"}], {\"barmode\": \"group\", \"legend\": {\"orientation\": \"v\"}, \"title\": \"Counts of AVProductsInstalled by top-10 categories for nontouch devices\", \"xaxis\": {\"showgrid\": false, \"showline\": false, \"title\": \"AVProductsInstalled\", \"type\": \"category\", \"zeroline\": false}, \"yaxis\": {\"showgrid\": false, \"showline\": false, \"title\": \"Counts\", \"zeroline\": false}, \"yaxis2\": {\"overlaying\": \"y\", \"side\": \"right\", \"title\": \"Detections rate\"}}, {\"showLink\": true, \"linkText\": \"Export to plot.ly\", \"plotlyServerURL\": \"https://plot.ly\"})});</script><script type=\"text/javascript\">window.addEventListener(\"resize\", function(){window._Plotly.Plots.resize(document.getElementById(\"785312df-c96c-40a0-8ac1-343973f375bd\"));});</script>"
      ]
     },
     "metadata": {},
     "output_type": "display_data"
    },
    {
     "data": {
      "application/vnd.plotly.v1+json": {
       "config": {
        "linkText": "Export to plot.ly",
        "plotlyServerURL": "https://plot.ly",
        "showLink": true
       },
       "data": [
        {
         "name": "Touch device counts",
         "type": "bar",
         "uid": "0a94d447-fc7a-4bf8-9a06-0c576860078d",
         "x": [
          0,
          1,
          2,
          3,
          4,
          5,
          6,
          7
         ],
         "y": [
          0,
          796192,
          298405,
          21859,
          770,
          35,
          1,
          0
         ]
        },
        {
         "name": "Detections rate for touch devices",
         "type": "scatter",
         "uid": "342b0a55-51cd-4182-9d09-41a7346ff179",
         "x": [
          0,
          1,
          2,
          3,
          4,
          5,
          6,
          7
         ],
         "y": [
          null,
          0.4747397612636148,
          0.38451098339505035,
          0.27681961663388077,
          0.261038961038961,
          0.22857142857142856,
          1,
          null
         ],
         "yaxis": "y2"
        }
       ],
       "layout": {
        "barmode": "group",
        "legend": {
         "orientation": "v"
        },
        "title": "Counts of AVProductsInstalled by top-10 categories for touch devices",
        "xaxis": {
         "showgrid": false,
         "showline": false,
         "title": "AVProductsInstalled",
         "type": "category",
         "zeroline": false
        },
        "yaxis": {
         "showgrid": false,
         "showline": false,
         "title": "Counts",
         "zeroline": false
        },
        "yaxis2": {
         "overlaying": "y",
         "side": "right",
         "title": "Detections rate"
        }
       }
      },
      "text/html": [
       "<div id=\"343a6575-512c-41fa-892a-c32bd500f4ae\" style=\"height: 525px; width: 100%;\" class=\"plotly-graph-div\"></div><script type=\"text/javascript\">require([\"plotly\"], function(Plotly) { window.PLOTLYENV=window.PLOTLYENV || {};window.PLOTLYENV.BASE_URL=\"https://plot.ly\";Plotly.newPlot(\"343a6575-512c-41fa-892a-c32bd500f4ae\", [{\"name\": \"Touch device counts\", \"x\": [0.0, 1.0, 2.0, 3.0, 4.0, 5.0, 6.0, 7.0], \"y\": [0, 796192, 298405, 21859, 770, 35, 1, 0], \"type\": \"bar\", \"uid\": \"5a53d937-8612-4f2d-8248-b20b8d9e4b11\"}, {\"name\": \"Detections rate for touch devices\", \"x\": [0.0, 1.0, 2.0, 3.0, 4.0, 5.0, 6.0, 7.0], \"y\": [null, 0.4747397612636148, 0.38451098339505035, 0.27681961663388077, 0.261038961038961, 0.22857142857142856, 1.0, null], \"yaxis\": \"y2\", \"type\": \"scatter\", \"uid\": \"e61f4921-9aab-4dbb-929e-3e114f157cc3\"}], {\"barmode\": \"group\", \"legend\": {\"orientation\": \"v\"}, \"title\": \"Counts of AVProductsInstalled by top-10 categories for touch devices\", \"xaxis\": {\"showgrid\": false, \"showline\": false, \"title\": \"AVProductsInstalled\", \"type\": \"category\", \"zeroline\": false}, \"yaxis\": {\"showgrid\": false, \"showline\": false, \"title\": \"Counts\", \"zeroline\": false}, \"yaxis2\": {\"overlaying\": \"y\", \"side\": \"right\", \"title\": \"Detections rate\"}}, {\"showLink\": true, \"linkText\": \"Export to plot.ly\", \"plotlyServerURL\": \"https://plot.ly\"})});</script><script type=\"text/javascript\">window.addEventListener(\"resize\", function(){window._Plotly.Plots.resize(document.getElementById(\"343a6575-512c-41fa-892a-c32bd500f4ae\"));});</script>"
      ],
      "text/vnd.plotly.v1+html": [
       "<div id=\"343a6575-512c-41fa-892a-c32bd500f4ae\" style=\"height: 525px; width: 100%;\" class=\"plotly-graph-div\"></div><script type=\"text/javascript\">require([\"plotly\"], function(Plotly) { window.PLOTLYENV=window.PLOTLYENV || {};window.PLOTLYENV.BASE_URL=\"https://plot.ly\";Plotly.newPlot(\"343a6575-512c-41fa-892a-c32bd500f4ae\", [{\"name\": \"Touch device counts\", \"x\": [0.0, 1.0, 2.0, 3.0, 4.0, 5.0, 6.0, 7.0], \"y\": [0, 796192, 298405, 21859, 770, 35, 1, 0], \"type\": \"bar\", \"uid\": \"5a53d937-8612-4f2d-8248-b20b8d9e4b11\"}, {\"name\": \"Detections rate for touch devices\", \"x\": [0.0, 1.0, 2.0, 3.0, 4.0, 5.0, 6.0, 7.0], \"y\": [null, 0.4747397612636148, 0.38451098339505035, 0.27681961663388077, 0.261038961038961, 0.22857142857142856, 1.0, null], \"yaxis\": \"y2\", \"type\": \"scatter\", \"uid\": \"e61f4921-9aab-4dbb-929e-3e114f157cc3\"}], {\"barmode\": \"group\", \"legend\": {\"orientation\": \"v\"}, \"title\": \"Counts of AVProductsInstalled by top-10 categories for touch devices\", \"xaxis\": {\"showgrid\": false, \"showline\": false, \"title\": \"AVProductsInstalled\", \"type\": \"category\", \"zeroline\": false}, \"yaxis\": {\"showgrid\": false, \"showline\": false, \"title\": \"Counts\", \"zeroline\": false}, \"yaxis2\": {\"overlaying\": \"y\", \"side\": \"right\", \"title\": \"Detections rate\"}}, {\"showLink\": true, \"linkText\": \"Export to plot.ly\", \"plotlyServerURL\": \"https://plot.ly\"})});</script><script type=\"text/javascript\">window.addEventListener(\"resize\", function(){window._Plotly.Plots.resize(document.getElementById(\"343a6575-512c-41fa-892a-c32bd500f4ae\"));});</script>"
      ]
     },
     "metadata": {},
     "output_type": "display_data"
    }
   ],
   "source": [
    "plot_categorical_feature('AVProductsInstalled', True, by_touch=True)"
   ]
  },
  {
   "cell_type": "markdown",
   "metadata": {
    "_uuid": "0fe06a38651a502db5bab1009fbfab7e02c47445"
   },
   "source": [
    "It is interesting, that even on touch devices people sometimes install 2 antiviruses."
   ]
  },
  {
   "cell_type": "markdown",
   "metadata": {
    "_uuid": "ceb7aa7f80a822e9ce56674658c6df9cff8a0543"
   },
   "source": [
    "### CountryIdentifier"
   ]
  },
  {
   "cell_type": "code",
   "execution_count": 27,
   "metadata": {
    "_uuid": "e480e89554b70a598fd1a5774219035b16b4bda7"
   },
   "outputs": [
    {
     "name": "stdout",
     "output_type": "stream",
     "text": [
      "CountryIdentifier has 222 unique values and type: int16.\n",
      "43     0.044519\n",
      "29     0.039006\n",
      "141    0.037372\n",
      "93     0.031791\n",
      "171    0.031449\n",
      "Name: CountryIdentifier, dtype: float64\n"
     ]
    },
    {
     "data": {
      "application/vnd.plotly.v1+json": {
       "config": {
        "linkText": "Export to plot.ly",
        "plotlyServerURL": "https://plot.ly",
        "showLink": true
       },
       "data": [
        {
         "name": "Has Detections",
         "type": "bar",
         "uid": "705b383a-26c8-4fb2-a2e6-6bf9a34693fe",
         "x": [
          29,
          43,
          60,
          89,
          93,
          141,
          171,
          201,
          207,
          214
         ],
         "y": [
          175846,
          203364,
          114256,
          118148,
          139601,
          173263,
          139257,
          112664,
          102423,
          116083
         ]
        },
        {
         "name": "No Detections",
         "type": "bar",
         "uid": "c11a7646-6beb-41a8-8d8f-f7c16b3f8d05",
         "x": [
          29,
          43,
          60,
          66,
          93,
          97,
          141,
          171,
          201,
          207
         ],
         "y": [
          172145,
          193808,
          117725,
          107593,
          144024,
          100740,
          160148,
          141315,
          107958,
          109222
         ]
        }
       ],
       "layout": {
        "barmode": "group",
        "legend": {
         "orientation": "v"
        },
        "title": "Counts of CountryIdentifier by top-20 categories",
        "xaxis": {
         "showgrid": false,
         "showline": false,
         "title": "CountryIdentifier",
         "zeroline": false
        },
        "yaxis": {
         "showgrid": false,
         "showline": false,
         "title": "Counts",
         "zeroline": false
        }
       }
      },
      "text/html": [
       "<div id=\"310d8cd9-5631-4a8e-bd53-8aefd0a43735\" style=\"height: 525px; width: 100%;\" class=\"plotly-graph-div\"></div><script type=\"text/javascript\">require([\"plotly\"], function(Plotly) { window.PLOTLYENV=window.PLOTLYENV || {};window.PLOTLYENV.BASE_URL=\"https://plot.ly\";Plotly.newPlot(\"310d8cd9-5631-4a8e-bd53-8aefd0a43735\", [{\"name\": \"Has Detections\", \"x\": [29, 43, 60, 89, 93, 141, 171, 201, 207, 214], \"y\": [175846, 203364, 114256, 118148, 139601, 173263, 139257, 112664, 102423, 116083], \"type\": \"bar\", \"uid\": \"590c4dfe-109b-455a-b703-7e1338d7c825\"}, {\"name\": \"No Detections\", \"x\": [29, 43, 60, 66, 93, 97, 141, 171, 201, 207], \"y\": [172145, 193808, 117725, 107593, 144024, 100740, 160148, 141315, 107958, 109222], \"type\": \"bar\", \"uid\": \"a1b0d590-88f1-411e-8fd4-c530a195e8ef\"}], {\"barmode\": \"group\", \"legend\": {\"orientation\": \"v\"}, \"title\": \"Counts of CountryIdentifier by top-20 categories\", \"xaxis\": {\"showgrid\": false, \"showline\": false, \"title\": \"CountryIdentifier\", \"zeroline\": false}, \"yaxis\": {\"showgrid\": false, \"showline\": false, \"title\": \"Counts\", \"zeroline\": false}}, {\"showLink\": true, \"linkText\": \"Export to plot.ly\", \"plotlyServerURL\": \"https://plot.ly\"})});</script><script type=\"text/javascript\">window.addEventListener(\"resize\", function(){window._Plotly.Plots.resize(document.getElementById(\"310d8cd9-5631-4a8e-bd53-8aefd0a43735\"));});</script>"
      ],
      "text/vnd.plotly.v1+html": [
       "<div id=\"310d8cd9-5631-4a8e-bd53-8aefd0a43735\" style=\"height: 525px; width: 100%;\" class=\"plotly-graph-div\"></div><script type=\"text/javascript\">require([\"plotly\"], function(Plotly) { window.PLOTLYENV=window.PLOTLYENV || {};window.PLOTLYENV.BASE_URL=\"https://plot.ly\";Plotly.newPlot(\"310d8cd9-5631-4a8e-bd53-8aefd0a43735\", [{\"name\": \"Has Detections\", \"x\": [29, 43, 60, 89, 93, 141, 171, 201, 207, 214], \"y\": [175846, 203364, 114256, 118148, 139601, 173263, 139257, 112664, 102423, 116083], \"type\": \"bar\", \"uid\": \"590c4dfe-109b-455a-b703-7e1338d7c825\"}, {\"name\": \"No Detections\", \"x\": [29, 43, 60, 66, 93, 97, 141, 171, 201, 207], \"y\": [172145, 193808, 117725, 107593, 144024, 100740, 160148, 141315, 107958, 109222], \"type\": \"bar\", \"uid\": \"a1b0d590-88f1-411e-8fd4-c530a195e8ef\"}], {\"barmode\": \"group\", \"legend\": {\"orientation\": \"v\"}, \"title\": \"Counts of CountryIdentifier by top-20 categories\", \"xaxis\": {\"showgrid\": false, \"showline\": false, \"title\": \"CountryIdentifier\", \"zeroline\": false}, \"yaxis\": {\"showgrid\": false, \"showline\": false, \"title\": \"Counts\", \"zeroline\": false}}, {\"showLink\": true, \"linkText\": \"Export to plot.ly\", \"plotlyServerURL\": \"https://plot.ly\"})});</script><script type=\"text/javascript\">window.addEventListener(\"resize\", function(){window._Plotly.Plots.resize(document.getElementById(\"310d8cd9-5631-4a8e-bd53-8aefd0a43735\"));});</script>"
      ]
     },
     "metadata": {},
     "output_type": "display_data"
    }
   ],
   "source": [
    "plot_categorical_feature('CountryIdentifier', True, 20)"
   ]
  },
  {
   "cell_type": "markdown",
   "metadata": {
    "_uuid": "5ea13384fc3335b579e359ca0309c74ab296de17"
   },
   "source": [
    "Once again we have a categorical column which was defined as numerical. While most countries have rate of detections ~50%, there are some countries where there are much more infected devices."
   ]
  },
  {
   "cell_type": "code",
   "execution_count": 28,
   "metadata": {
    "_uuid": "b65ad61107874bf7591b98458a903b0ac8498860"
   },
   "outputs": [],
   "source": [
    "train['CountryIdentifier'] = train['CountryIdentifier'].astype('category')\n",
    "test['CountryIdentifier'] = test['CountryIdentifier'].astype('category')"
   ]
  },
  {
   "cell_type": "markdown",
   "metadata": {
    "_uuid": "c117b9c1ea3ed10ec4e038ca476626324f7e0a72"
   },
   "source": [
    "### CityIdentifier\n",
    "The same situation for cities."
   ]
  },
  {
   "cell_type": "code",
   "execution_count": 29,
   "metadata": {
    "_uuid": "55486df5725f6dc24539aaddfec709f1a967296a"
   },
   "outputs": [
    {
     "name": "stdout",
     "output_type": "stream",
     "text": [
      "CityIdentifier has 107366 unique values and type: float32.\n",
      "NaN          0.036475\n",
      " 130775.0    0.010627\n",
      " 16668.0     0.009503\n",
      " 82373.0     0.009338\n",
      " 10222.0     0.008050\n",
      "Name: CityIdentifier, dtype: float64\n"
     ]
    },
    {
     "data": {
      "application/vnd.plotly.v1+json": {
       "config": {
        "linkText": "Export to plot.ly",
        "plotlyServerURL": "https://plot.ly",
        "showLink": true
       },
       "data": [
        {
         "name": "Has Detections",
         "type": "bar",
         "uid": "ee340165-59d3-46ee-ac33-07b95e5d42a9",
         "x": [
          10222,
          16668,
          22656,
          58607,
          61668,
          66202,
          66953,
          82373,
          130775,
          143782
         ],
         "y": [
          37731,
          44472,
          31456,
          37841,
          40456,
          31582,
          32261,
          44514,
          46553,
          30401
         ]
        },
        {
         "name": "No Detections",
         "type": "bar",
         "uid": "2cf7b9ec-8034-44a5-8de7-94dbe275a30f",
         "x": [
          10222,
          16668,
          61668,
          66202,
          82373,
          92213,
          96401,
          130775,
          136271,
          143782
         ],
         "y": [
          34083,
          40308,
          26389,
          32704,
          38798,
          30096,
          26521,
          48259,
          27247,
          34249
         ]
        }
       ],
       "layout": {
        "barmode": "group",
        "legend": {
         "orientation": "v"
        },
        "title": "Counts of CityIdentifier by top-20 categories",
        "xaxis": {
         "showgrid": false,
         "showline": false,
         "title": "CityIdentifier",
         "zeroline": false
        },
        "yaxis": {
         "showgrid": false,
         "showline": false,
         "title": "Counts",
         "zeroline": false
        }
       }
      },
      "text/html": [
       "<div id=\"5d25a44b-0d17-4d7a-b8ac-b9d9da23d589\" style=\"height: 525px; width: 100%;\" class=\"plotly-graph-div\"></div><script type=\"text/javascript\">require([\"plotly\"], function(Plotly) { window.PLOTLYENV=window.PLOTLYENV || {};window.PLOTLYENV.BASE_URL=\"https://plot.ly\";Plotly.newPlot(\"5d25a44b-0d17-4d7a-b8ac-b9d9da23d589\", [{\"name\": \"Has Detections\", \"x\": [10222.0, 16668.0, 22656.0, 58607.0, 61668.0, 66202.0, 66953.0, 82373.0, 130775.0, 143782.0], \"y\": [37731, 44472, 31456, 37841, 40456, 31582, 32261, 44514, 46553, 30401], \"type\": \"bar\", \"uid\": \"31f13141-61c1-4d7d-83d7-3dd31208543d\"}, {\"name\": \"No Detections\", \"x\": [10222.0, 16668.0, 61668.0, 66202.0, 82373.0, 92213.0, 96401.0, 130775.0, 136271.0, 143782.0], \"y\": [34083, 40308, 26389, 32704, 38798, 30096, 26521, 48259, 27247, 34249], \"type\": \"bar\", \"uid\": \"9a7e1202-8d55-4bb1-a515-f2891d4a5ca1\"}], {\"barmode\": \"group\", \"legend\": {\"orientation\": \"v\"}, \"title\": \"Counts of CityIdentifier by top-20 categories\", \"xaxis\": {\"showgrid\": false, \"showline\": false, \"title\": \"CityIdentifier\", \"zeroline\": false}, \"yaxis\": {\"showgrid\": false, \"showline\": false, \"title\": \"Counts\", \"zeroline\": false}}, {\"showLink\": true, \"linkText\": \"Export to plot.ly\", \"plotlyServerURL\": \"https://plot.ly\"})});</script><script type=\"text/javascript\">window.addEventListener(\"resize\", function(){window._Plotly.Plots.resize(document.getElementById(\"5d25a44b-0d17-4d7a-b8ac-b9d9da23d589\"));});</script>"
      ],
      "text/vnd.plotly.v1+html": [
       "<div id=\"5d25a44b-0d17-4d7a-b8ac-b9d9da23d589\" style=\"height: 525px; width: 100%;\" class=\"plotly-graph-div\"></div><script type=\"text/javascript\">require([\"plotly\"], function(Plotly) { window.PLOTLYENV=window.PLOTLYENV || {};window.PLOTLYENV.BASE_URL=\"https://plot.ly\";Plotly.newPlot(\"5d25a44b-0d17-4d7a-b8ac-b9d9da23d589\", [{\"name\": \"Has Detections\", \"x\": [10222.0, 16668.0, 22656.0, 58607.0, 61668.0, 66202.0, 66953.0, 82373.0, 130775.0, 143782.0], \"y\": [37731, 44472, 31456, 37841, 40456, 31582, 32261, 44514, 46553, 30401], \"type\": \"bar\", \"uid\": \"31f13141-61c1-4d7d-83d7-3dd31208543d\"}, {\"name\": \"No Detections\", \"x\": [10222.0, 16668.0, 61668.0, 66202.0, 82373.0, 92213.0, 96401.0, 130775.0, 136271.0, 143782.0], \"y\": [34083, 40308, 26389, 32704, 38798, 30096, 26521, 48259, 27247, 34249], \"type\": \"bar\", \"uid\": \"9a7e1202-8d55-4bb1-a515-f2891d4a5ca1\"}], {\"barmode\": \"group\", \"legend\": {\"orientation\": \"v\"}, \"title\": \"Counts of CityIdentifier by top-20 categories\", \"xaxis\": {\"showgrid\": false, \"showline\": false, \"title\": \"CityIdentifier\", \"zeroline\": false}, \"yaxis\": {\"showgrid\": false, \"showline\": false, \"title\": \"Counts\", \"zeroline\": false}}, {\"showLink\": true, \"linkText\": \"Export to plot.ly\", \"plotlyServerURL\": \"https://plot.ly\"})});</script><script type=\"text/javascript\">window.addEventListener(\"resize\", function(){window._Plotly.Plots.resize(document.getElementById(\"5d25a44b-0d17-4d7a-b8ac-b9d9da23d589\"));});</script>"
      ]
     },
     "metadata": {},
     "output_type": "display_data"
    }
   ],
   "source": [
    "plot_categorical_feature('CityIdentifier', True, 20)"
   ]
  },
  {
   "cell_type": "code",
   "execution_count": 30,
   "metadata": {
    "_uuid": "33737880cf620ebc1ce3b28aee29d9902cc08343"
   },
   "outputs": [],
   "source": [
    "train['CityIdentifier'] = train['CityIdentifier'].astype('category')\n",
    "test['CityIdentifier'] = test['CityIdentifier'].astype('category')"
   ]
  },
  {
   "cell_type": "markdown",
   "metadata": {
    "_uuid": "91e33e07d3e49959b95ed5ae0e0515884f0cefbf"
   },
   "source": [
    "### OrganizationIdentifier"
   ]
  },
  {
   "cell_type": "code",
   "execution_count": 31,
   "metadata": {
    "_uuid": "3bdae949e62c4fcc0ee9d43aa4ceb7f3b7015ae9"
   },
   "outputs": [
    {
     "name": "stdout",
     "output_type": "stream",
     "text": [
      "OrganizationIdentifier has 49 unique values and type: float16.\n",
      " 27.0    0.470377\n",
      "NaN      0.308415\n",
      " 18.0    0.197745\n",
      " 48.0    0.007156\n",
      " 50.0    0.005100\n",
      "Name: OrganizationIdentifier, dtype: float64\n"
     ]
    },
    {
     "data": {
      "application/vnd.plotly.v1+json": {
       "config": {
        "linkText": "Export to plot.ly",
        "plotlyServerURL": "https://plot.ly",
        "showLink": true
       },
       "data": [
        {
         "name": "Has Detections",
         "type": "bar",
         "uid": "af5c31da-f2fd-44e9-8d6d-aaec6ff00c9a",
         "x": [
          11,
          14,
          18,
          27,
          37,
          46,
          48,
          49,
          50
         ],
         "y": [
          10043,
          1931,
          892153,
          2088092,
          9033,
          5643,
          33211,
          6221,
          27752
         ]
        },
        {
         "name": "No Detections",
         "type": "bar",
         "uid": "3156e75e-b78e-4ddb-93f4-f3a08ae75393",
         "x": [
          11,
          14,
          18,
          27,
          37,
          46,
          48,
          49,
          50
         ],
         "y": [
          9393,
          2782,
          872022,
          2108365,
          10365,
          5331,
          30634,
          7406,
          17750
         ]
        }
       ],
       "layout": {
        "barmode": "group",
        "legend": {
         "orientation": "v"
        },
        "title": "Counts of OrganizationIdentifier by top-10 categories",
        "xaxis": {
         "showgrid": false,
         "showline": false,
         "title": "OrganizationIdentifier",
         "zeroline": false
        },
        "yaxis": {
         "showgrid": false,
         "showline": false,
         "title": "Counts",
         "zeroline": false
        }
       }
      },
      "text/html": [
       "<div id=\"a55b7e7b-35fa-478d-ba12-ed3802a68f2b\" style=\"height: 525px; width: 100%;\" class=\"plotly-graph-div\"></div><script type=\"text/javascript\">require([\"plotly\"], function(Plotly) { window.PLOTLYENV=window.PLOTLYENV || {};window.PLOTLYENV.BASE_URL=\"https://plot.ly\";Plotly.newPlot(\"a55b7e7b-35fa-478d-ba12-ed3802a68f2b\", [{\"name\": \"Has Detections\", \"x\": [11.0, 14.0, 18.0, 27.0, 37.0, 46.0, 48.0, 49.0, 50.0], \"y\": [10043, 1931, 892153, 2088092, 9033, 5643, 33211, 6221, 27752], \"type\": \"bar\", \"uid\": \"f8aa4137-5dd6-463e-90af-d3474670ce8a\"}, {\"name\": \"No Detections\", \"x\": [11.0, 14.0, 18.0, 27.0, 37.0, 46.0, 48.0, 49.0, 50.0], \"y\": [9393, 2782, 872022, 2108365, 10365, 5331, 30634, 7406, 17750], \"type\": \"bar\", \"uid\": \"8d3eae14-a986-44b4-ac3c-15eed7bd4777\"}], {\"barmode\": \"group\", \"legend\": {\"orientation\": \"v\"}, \"title\": \"Counts of OrganizationIdentifier by top-10 categories\", \"xaxis\": {\"showgrid\": false, \"showline\": false, \"title\": \"OrganizationIdentifier\", \"zeroline\": false}, \"yaxis\": {\"showgrid\": false, \"showline\": false, \"title\": \"Counts\", \"zeroline\": false}}, {\"showLink\": true, \"linkText\": \"Export to plot.ly\", \"plotlyServerURL\": \"https://plot.ly\"})});</script><script type=\"text/javascript\">window.addEventListener(\"resize\", function(){window._Plotly.Plots.resize(document.getElementById(\"a55b7e7b-35fa-478d-ba12-ed3802a68f2b\"));});</script>"
      ],
      "text/vnd.plotly.v1+html": [
       "<div id=\"a55b7e7b-35fa-478d-ba12-ed3802a68f2b\" style=\"height: 525px; width: 100%;\" class=\"plotly-graph-div\"></div><script type=\"text/javascript\">require([\"plotly\"], function(Plotly) { window.PLOTLYENV=window.PLOTLYENV || {};window.PLOTLYENV.BASE_URL=\"https://plot.ly\";Plotly.newPlot(\"a55b7e7b-35fa-478d-ba12-ed3802a68f2b\", [{\"name\": \"Has Detections\", \"x\": [11.0, 14.0, 18.0, 27.0, 37.0, 46.0, 48.0, 49.0, 50.0], \"y\": [10043, 1931, 892153, 2088092, 9033, 5643, 33211, 6221, 27752], \"type\": \"bar\", \"uid\": \"f8aa4137-5dd6-463e-90af-d3474670ce8a\"}, {\"name\": \"No Detections\", \"x\": [11.0, 14.0, 18.0, 27.0, 37.0, 46.0, 48.0, 49.0, 50.0], \"y\": [9393, 2782, 872022, 2108365, 10365, 5331, 30634, 7406, 17750], \"type\": \"bar\", \"uid\": \"8d3eae14-a986-44b4-ac3c-15eed7bd4777\"}], {\"barmode\": \"group\", \"legend\": {\"orientation\": \"v\"}, \"title\": \"Counts of OrganizationIdentifier by top-10 categories\", \"xaxis\": {\"showgrid\": false, \"showline\": false, \"title\": \"OrganizationIdentifier\", \"zeroline\": false}, \"yaxis\": {\"showgrid\": false, \"showline\": false, \"title\": \"Counts\", \"zeroline\": false}}, {\"showLink\": true, \"linkText\": \"Export to plot.ly\", \"plotlyServerURL\": \"https://plot.ly\"})});</script><script type=\"text/javascript\">window.addEventListener(\"resize\", function(){window._Plotly.Plots.resize(document.getElementById(\"a55b7e7b-35fa-478d-ba12-ed3802a68f2b\"));});</script>"
      ]
     },
     "metadata": {},
     "output_type": "display_data"
    }
   ],
   "source": [
    "plot_categorical_feature('OrganizationIdentifier', True)"
   ]
  },
  {
   "cell_type": "markdown",
   "metadata": {
    "_uuid": "61e031661b3f70ca07d78464c2953d9376c9cb3a"
   },
   "source": [
    "This is quuite strange. 2 organizations cover ~66% of all computers, while unknown organizations have 30% more. Maybe these are some specific industries? Let's combine values."
   ]
  },
  {
   "cell_type": "code",
   "execution_count": 32,
   "metadata": {
    "_uuid": "8bd39ccb370f353948c2210e212eb6a11608d131"
   },
   "outputs": [],
   "source": [
    "train.loc[train['OrganizationIdentifier'].isin([27, 18]) == False, 'OrganizationIdentifier'] = 48\n",
    "test.loc[test['OrganizationIdentifier'].isin([27, 18]) == False, 'OrganizationIdentifier'] = 48"
   ]
  },
  {
   "cell_type": "code",
   "execution_count": 33,
   "metadata": {
    "_uuid": "10c40b8f14396b4efc838109d480042bce7a2b91"
   },
   "outputs": [],
   "source": [
    "train['OrganizationIdentifier'] = train['OrganizationIdentifier'].astype('category')\n",
    "test['OrganizationIdentifier'] = test['OrganizationIdentifier'].astype('category')"
   ]
  },
  {
   "cell_type": "code",
   "execution_count": 34,
   "metadata": {
    "_uuid": "e200ff27695f1fa62d89480c7c52a50b21770b3b"
   },
   "outputs": [
    {
     "name": "stdout",
     "output_type": "stream",
     "text": [
      "OrganizationIdentifier has 3 unique values and type: category.\n",
      "27.0    0.470377\n",
      "48.0    0.331879\n",
      "18.0    0.197745\n",
      "Name: OrganizationIdentifier, dtype: float64\n"
     ]
    },
    {
     "data": {
      "application/vnd.plotly.v1+json": {
       "config": {
        "linkText": "Export to plot.ly",
        "plotlyServerURL": "https://plot.ly",
        "showLink": true
       },
       "data": [
        {
         "name": "Nontouch device counts",
         "type": "bar",
         "uid": "a88e5ca0-ebc5-4a07-8bea-9cf810fb76b9",
         "x": [
          18,
          27,
          48
         ],
         "y": [
          1548608,
          3652368,
          2600476
         ]
        },
        {
         "name": "Detections rate for nontouch devices",
         "type": "scatter",
         "uid": "d7fbff9f-0275-4efc-834b-bc634a8d9b56",
         "x": [
          18,
          27,
          48
         ],
         "y": [
          0.5135334442286233,
          0.5053562510678004,
          0.5067633771663341
         ],
         "yaxis": "y2"
        }
       ],
       "layout": {
        "barmode": "group",
        "legend": {
         "orientation": "v"
        },
        "title": "Counts of OrganizationIdentifier by top-10 categories for nontouch devices",
        "xaxis": {
         "showgrid": false,
         "showline": false,
         "title": "OrganizationIdentifier",
         "type": "category",
         "zeroline": false
        },
        "yaxis": {
         "showgrid": false,
         "showline": false,
         "title": "Counts",
         "zeroline": false
        },
        "yaxis2": {
         "overlaying": "y",
         "side": "right",
         "title": "Detections rate"
        }
       }
      },
      "text/html": [
       "<div id=\"c2dc042c-0586-48eb-8715-22998bce7442\" style=\"height: 525px; width: 100%;\" class=\"plotly-graph-div\"></div><script type=\"text/javascript\">require([\"plotly\"], function(Plotly) { window.PLOTLYENV=window.PLOTLYENV || {};window.PLOTLYENV.BASE_URL=\"https://plot.ly\";Plotly.newPlot(\"c2dc042c-0586-48eb-8715-22998bce7442\", [{\"name\": \"Nontouch device counts\", \"x\": [18.0, 27.0, 48.0], \"y\": [1548608, 3652368, 2600476], \"type\": \"bar\", \"uid\": \"b23f1268-9c48-40b7-8745-d9e5ee324fce\"}, {\"name\": \"Detections rate for nontouch devices\", \"x\": [18.0, 27.0, 48.0], \"y\": [0.5135334442286233, 0.5053562510678004, 0.5067633771663341], \"yaxis\": \"y2\", \"type\": \"scatter\", \"uid\": \"4ae3fa8a-0fc6-4fd3-beb2-eece6f5ddd9d\"}], {\"barmode\": \"group\", \"legend\": {\"orientation\": \"v\"}, \"title\": \"Counts of OrganizationIdentifier by top-10 categories for nontouch devices\", \"xaxis\": {\"showgrid\": false, \"showline\": false, \"title\": \"OrganizationIdentifier\", \"type\": \"category\", \"zeroline\": false}, \"yaxis\": {\"showgrid\": false, \"showline\": false, \"title\": \"Counts\", \"zeroline\": false}, \"yaxis2\": {\"overlaying\": \"y\", \"side\": \"right\", \"title\": \"Detections rate\"}}, {\"showLink\": true, \"linkText\": \"Export to plot.ly\", \"plotlyServerURL\": \"https://plot.ly\"})});</script><script type=\"text/javascript\">window.addEventListener(\"resize\", function(){window._Plotly.Plots.resize(document.getElementById(\"c2dc042c-0586-48eb-8715-22998bce7442\"));});</script>"
      ],
      "text/vnd.plotly.v1+html": [
       "<div id=\"c2dc042c-0586-48eb-8715-22998bce7442\" style=\"height: 525px; width: 100%;\" class=\"plotly-graph-div\"></div><script type=\"text/javascript\">require([\"plotly\"], function(Plotly) { window.PLOTLYENV=window.PLOTLYENV || {};window.PLOTLYENV.BASE_URL=\"https://plot.ly\";Plotly.newPlot(\"c2dc042c-0586-48eb-8715-22998bce7442\", [{\"name\": \"Nontouch device counts\", \"x\": [18.0, 27.0, 48.0], \"y\": [1548608, 3652368, 2600476], \"type\": \"bar\", \"uid\": \"b23f1268-9c48-40b7-8745-d9e5ee324fce\"}, {\"name\": \"Detections rate for nontouch devices\", \"x\": [18.0, 27.0, 48.0], \"y\": [0.5135334442286233, 0.5053562510678004, 0.5067633771663341], \"yaxis\": \"y2\", \"type\": \"scatter\", \"uid\": \"4ae3fa8a-0fc6-4fd3-beb2-eece6f5ddd9d\"}], {\"barmode\": \"group\", \"legend\": {\"orientation\": \"v\"}, \"title\": \"Counts of OrganizationIdentifier by top-10 categories for nontouch devices\", \"xaxis\": {\"showgrid\": false, \"showline\": false, \"title\": \"OrganizationIdentifier\", \"type\": \"category\", \"zeroline\": false}, \"yaxis\": {\"showgrid\": false, \"showline\": false, \"title\": \"Counts\", \"zeroline\": false}, \"yaxis2\": {\"overlaying\": \"y\", \"side\": \"right\", \"title\": \"Detections rate\"}}, {\"showLink\": true, \"linkText\": \"Export to plot.ly\", \"plotlyServerURL\": \"https://plot.ly\"})});</script><script type=\"text/javascript\">window.addEventListener(\"resize\", function(){window._Plotly.Plots.resize(document.getElementById(\"c2dc042c-0586-48eb-8715-22998bce7442\"));});</script>"
      ]
     },
     "metadata": {},
     "output_type": "display_data"
    },
    {
     "data": {
      "application/vnd.plotly.v1+json": {
       "config": {
        "linkText": "Export to plot.ly",
        "plotlyServerURL": "https://plot.ly",
        "showLink": true
       },
       "data": [
        {
         "name": "Touch device counts",
         "type": "bar",
         "uid": "c579e793-7f67-44c2-8759-96d6c35459a3",
         "x": [
          18,
          27,
          48
         ],
         "y": [
          215567,
          544089,
          360375
         ]
        },
        {
         "name": "Detections rate for touch devices",
         "type": "scatter",
         "uid": "eab0d7d0-076a-4a0b-badc-1fd296721ec5",
         "x": [
          18,
          27,
          48
         ],
         "y": [
          0.4494704662587502,
          0.4454142612697555,
          0.4462601456815817
         ],
         "yaxis": "y2"
        }
       ],
       "layout": {
        "barmode": "group",
        "legend": {
         "orientation": "v"
        },
        "title": "Counts of OrganizationIdentifier by top-10 categories for touch devices",
        "xaxis": {
         "showgrid": false,
         "showline": false,
         "title": "OrganizationIdentifier",
         "type": "category",
         "zeroline": false
        },
        "yaxis": {
         "showgrid": false,
         "showline": false,
         "title": "Counts",
         "zeroline": false
        },
        "yaxis2": {
         "overlaying": "y",
         "side": "right",
         "title": "Detections rate"
        }
       }
      },
      "text/html": [
       "<div id=\"9c1c35cd-9351-450c-a20a-0f9a245afe68\" style=\"height: 525px; width: 100%;\" class=\"plotly-graph-div\"></div><script type=\"text/javascript\">require([\"plotly\"], function(Plotly) { window.PLOTLYENV=window.PLOTLYENV || {};window.PLOTLYENV.BASE_URL=\"https://plot.ly\";Plotly.newPlot(\"9c1c35cd-9351-450c-a20a-0f9a245afe68\", [{\"name\": \"Touch device counts\", \"x\": [18.0, 27.0, 48.0], \"y\": [215567, 544089, 360375], \"type\": \"bar\", \"uid\": \"f456a747-20d6-4ef8-9100-56d9e270a5cf\"}, {\"name\": \"Detections rate for touch devices\", \"x\": [18.0, 27.0, 48.0], \"y\": [0.4494704662587502, 0.4454142612697555, 0.4462601456815817], \"yaxis\": \"y2\", \"type\": \"scatter\", \"uid\": \"beab5a30-9f8d-4c90-a879-7f56080dbecd\"}], {\"barmode\": \"group\", \"legend\": {\"orientation\": \"v\"}, \"title\": \"Counts of OrganizationIdentifier by top-10 categories for touch devices\", \"xaxis\": {\"showgrid\": false, \"showline\": false, \"title\": \"OrganizationIdentifier\", \"type\": \"category\", \"zeroline\": false}, \"yaxis\": {\"showgrid\": false, \"showline\": false, \"title\": \"Counts\", \"zeroline\": false}, \"yaxis2\": {\"overlaying\": \"y\", \"side\": \"right\", \"title\": \"Detections rate\"}}, {\"showLink\": true, \"linkText\": \"Export to plot.ly\", \"plotlyServerURL\": \"https://plot.ly\"})});</script><script type=\"text/javascript\">window.addEventListener(\"resize\", function(){window._Plotly.Plots.resize(document.getElementById(\"9c1c35cd-9351-450c-a20a-0f9a245afe68\"));});</script>"
      ],
      "text/vnd.plotly.v1+html": [
       "<div id=\"9c1c35cd-9351-450c-a20a-0f9a245afe68\" style=\"height: 525px; width: 100%;\" class=\"plotly-graph-div\"></div><script type=\"text/javascript\">require([\"plotly\"], function(Plotly) { window.PLOTLYENV=window.PLOTLYENV || {};window.PLOTLYENV.BASE_URL=\"https://plot.ly\";Plotly.newPlot(\"9c1c35cd-9351-450c-a20a-0f9a245afe68\", [{\"name\": \"Touch device counts\", \"x\": [18.0, 27.0, 48.0], \"y\": [215567, 544089, 360375], \"type\": \"bar\", \"uid\": \"f456a747-20d6-4ef8-9100-56d9e270a5cf\"}, {\"name\": \"Detections rate for touch devices\", \"x\": [18.0, 27.0, 48.0], \"y\": [0.4494704662587502, 0.4454142612697555, 0.4462601456815817], \"yaxis\": \"y2\", \"type\": \"scatter\", \"uid\": \"beab5a30-9f8d-4c90-a879-7f56080dbecd\"}], {\"barmode\": \"group\", \"legend\": {\"orientation\": \"v\"}, \"title\": \"Counts of OrganizationIdentifier by top-10 categories for touch devices\", \"xaxis\": {\"showgrid\": false, \"showline\": false, \"title\": \"OrganizationIdentifier\", \"type\": \"category\", \"zeroline\": false}, \"yaxis\": {\"showgrid\": false, \"showline\": false, \"title\": \"Counts\", \"zeroline\": false}, \"yaxis2\": {\"overlaying\": \"y\", \"side\": \"right\", \"title\": \"Detections rate\"}}, {\"showLink\": true, \"linkText\": \"Export to plot.ly\", \"plotlyServerURL\": \"https://plot.ly\"})});</script><script type=\"text/javascript\">window.addEventListener(\"resize\", function(){window._Plotly.Plots.resize(document.getElementById(\"9c1c35cd-9351-450c-a20a-0f9a245afe68\"));});</script>"
      ]
     },
     "metadata": {},
     "output_type": "display_data"
    }
   ],
   "source": [
    "plot_categorical_feature('OrganizationIdentifier', True, by_touch=True)"
   ]
  },
  {
   "cell_type": "markdown",
   "metadata": {
    "_uuid": "944d9794014aa90ed02a2899116d9542fbad5f89"
   },
   "source": []
  },
  {
   "cell_type": "markdown",
   "metadata": {
    "_uuid": "8d6b490f47bb6dbfd15374200afc89f7cb4d805d"
   },
   "source": [
    "### GeoNameIdentifier"
   ]
  },
  {
   "cell_type": "code",
   "execution_count": 35,
   "metadata": {
    "_uuid": "2f13cd3332de334e75c8212e99cbd756e299b12e"
   },
   "outputs": [
    {
     "name": "stdout",
     "output_type": "stream",
     "text": [
      "GeoNameIdentifier has 292 unique values and type: float16.\n",
      "277.0    0.171712\n",
      "211.0    0.047432\n",
      "53.0     0.045823\n",
      "89.0     0.040441\n",
      "240.0    0.038846\n",
      "Name: GeoNameIdentifier, dtype: float64\n"
     ]
    },
    {
     "data": {
      "application/vnd.plotly.v1+json": {
       "config": {
        "linkText": "Export to plot.ly",
        "plotlyServerURL": "https://plot.ly",
        "showLink": true
       },
       "data": [
        {
         "name": "Has Detections",
         "type": "bar",
         "uid": "e8d83e2d-8edc-438e-b08c-b514be93e9df",
         "x": [
          35,
          53,
          89,
          126,
          167,
          211,
          240,
          267,
          276,
          277
         ],
         "y": [
          175448,
          211714,
          170922,
          95856,
          177251,
          212070,
          172596,
          111478,
          138394,
          784129
         ]
        },
        {
         "name": "No Detections",
         "type": "bar",
         "uid": "872d6cf6-4163-4ca7-a5de-f610689a95b4",
         "x": [
          35,
          53,
          89,
          126,
          167,
          211,
          240,
          267,
          276,
          277
         ],
         "y": [
          170456,
          197093,
          189876,
          102165,
          162594,
          211096,
          173972,
          104334,
          158380,
          747800
         ]
        }
       ],
       "layout": {
        "barmode": "group",
        "legend": {
         "orientation": "v"
        },
        "title": "Counts of GeoNameIdentifier by top-10 categories",
        "xaxis": {
         "showgrid": false,
         "showline": false,
         "title": "GeoNameIdentifier",
         "zeroline": false
        },
        "yaxis": {
         "showgrid": false,
         "showline": false,
         "title": "Counts",
         "zeroline": false
        }
       }
      },
      "text/html": [
       "<div id=\"3666d83e-25c9-41de-8120-61de41be97ac\" style=\"height: 525px; width: 100%;\" class=\"plotly-graph-div\"></div><script type=\"text/javascript\">require([\"plotly\"], function(Plotly) { window.PLOTLYENV=window.PLOTLYENV || {};window.PLOTLYENV.BASE_URL=\"https://plot.ly\";Plotly.newPlot(\"3666d83e-25c9-41de-8120-61de41be97ac\", [{\"name\": \"Has Detections\", \"x\": [35.0, 53.0, 89.0, 126.0, 167.0, 211.0, 240.0, 267.0, 276.0, 277.0], \"y\": [175448, 211714, 170922, 95856, 177251, 212070, 172596, 111478, 138394, 784129], \"type\": \"bar\", \"uid\": \"bf6991c6-4da4-4cc4-a4e6-6143dbae883e\"}, {\"name\": \"No Detections\", \"x\": [35.0, 53.0, 89.0, 126.0, 167.0, 211.0, 240.0, 267.0, 276.0, 277.0], \"y\": [170456, 197093, 189876, 102165, 162594, 211096, 173972, 104334, 158380, 747800], \"type\": \"bar\", \"uid\": \"6756553b-f326-4f01-91ad-89ac96a9288d\"}], {\"barmode\": \"group\", \"legend\": {\"orientation\": \"v\"}, \"title\": \"Counts of GeoNameIdentifier by top-10 categories\", \"xaxis\": {\"showgrid\": false, \"showline\": false, \"title\": \"GeoNameIdentifier\", \"zeroline\": false}, \"yaxis\": {\"showgrid\": false, \"showline\": false, \"title\": \"Counts\", \"zeroline\": false}}, {\"showLink\": true, \"linkText\": \"Export to plot.ly\", \"plotlyServerURL\": \"https://plot.ly\"})});</script><script type=\"text/javascript\">window.addEventListener(\"resize\", function(){window._Plotly.Plots.resize(document.getElementById(\"3666d83e-25c9-41de-8120-61de41be97ac\"));});</script>"
      ],
      "text/vnd.plotly.v1+html": [
       "<div id=\"3666d83e-25c9-41de-8120-61de41be97ac\" style=\"height: 525px; width: 100%;\" class=\"plotly-graph-div\"></div><script type=\"text/javascript\">require([\"plotly\"], function(Plotly) { window.PLOTLYENV=window.PLOTLYENV || {};window.PLOTLYENV.BASE_URL=\"https://plot.ly\";Plotly.newPlot(\"3666d83e-25c9-41de-8120-61de41be97ac\", [{\"name\": \"Has Detections\", \"x\": [35.0, 53.0, 89.0, 126.0, 167.0, 211.0, 240.0, 267.0, 276.0, 277.0], \"y\": [175448, 211714, 170922, 95856, 177251, 212070, 172596, 111478, 138394, 784129], \"type\": \"bar\", \"uid\": \"bf6991c6-4da4-4cc4-a4e6-6143dbae883e\"}, {\"name\": \"No Detections\", \"x\": [35.0, 53.0, 89.0, 126.0, 167.0, 211.0, 240.0, 267.0, 276.0, 277.0], \"y\": [170456, 197093, 189876, 102165, 162594, 211096, 173972, 104334, 158380, 747800], \"type\": \"bar\", \"uid\": \"6756553b-f326-4f01-91ad-89ac96a9288d\"}], {\"barmode\": \"group\", \"legend\": {\"orientation\": \"v\"}, \"title\": \"Counts of GeoNameIdentifier by top-10 categories\", \"xaxis\": {\"showgrid\": false, \"showline\": false, \"title\": \"GeoNameIdentifier\", \"zeroline\": false}, \"yaxis\": {\"showgrid\": false, \"showline\": false, \"title\": \"Counts\", \"zeroline\": false}}, {\"showLink\": true, \"linkText\": \"Export to plot.ly\", \"plotlyServerURL\": \"https://plot.ly\"})});</script><script type=\"text/javascript\">window.addEventListener(\"resize\", function(){window._Plotly.Plots.resize(document.getElementById(\"3666d83e-25c9-41de-8120-61de41be97ac\"));});</script>"
      ]
     },
     "metadata": {},
     "output_type": "display_data"
    }
   ],
   "source": [
    "plot_categorical_feature('GeoNameIdentifier', True)"
   ]
  },
  {
   "cell_type": "code",
   "execution_count": 36,
   "metadata": {
    "_uuid": "7a0a4e951ab65cf28a761b6a9181e0bba43c637a"
   },
   "outputs": [],
   "source": [
    "train['GeoNameIdentifier'] = train['GeoNameIdentifier'].astype('category')\n",
    "test['GeoNameIdentifier'] = test['GeoNameIdentifier'].astype('category')"
   ]
  },
  {
   "cell_type": "markdown",
   "metadata": {
    "_uuid": "8bd061dd811f5ba9347b258f75e0000198e293f9"
   },
   "source": [
    "### LocaleEnglishNameIdentifier"
   ]
  },
  {
   "cell_type": "code",
   "execution_count": 37,
   "metadata": {
    "_uuid": "ad6e7de1087f5f55ff7691a9b3b3b5421ba3bf1b"
   },
   "outputs": [
    {
     "name": "stdout",
     "output_type": "stream",
     "text": [
      "LocaleEnglishNameIdentifier has 252 unique values and type: int8.\n",
      " 75    0.234780\n",
      "-74    0.050450\n",
      " 74    0.046075\n",
      " 42    0.045913\n",
      " 88    0.042058\n",
      "Name: LocaleEnglishNameIdentifier, dtype: float64\n"
     ]
    },
    {
     "data": {
      "application/vnd.plotly.v1+json": {
       "config": {
        "linkText": "Export to plot.ly",
        "plotlyServerURL": "https://plot.ly",
        "showLink": true
       },
       "data": [
        {
         "name": "Has Detections",
         "type": "bar",
         "uid": "24392d56-1f02-4836-9671-ea8e5b38238e",
         "x": [
          -85,
          -74,
          -29,
          -23,
          -5,
          42,
          74,
          75,
          88,
          124
         ],
         "y": [
          174588,
          225819,
          174223,
          170432,
          109727,
          212304,
          192348,
          1082101,
          176729,
          94665
         ]
        },
        {
         "name": "No Detections",
         "type": "bar",
         "uid": "41027b4a-4098-4537-b2d0-ccc09bf97de1",
         "x": [
          -85,
          -74,
          -29,
          -23,
          -5,
          42,
          74,
          75,
          88,
          124
         ],
         "y": [
          169027,
          224269,
          158879,
          170847,
          102114,
          197312,
          218708,
          1012484,
          198494,
          100423
         ]
        }
       ],
       "layout": {
        "barmode": "group",
        "legend": {
         "orientation": "v"
        },
        "title": "Counts of LocaleEnglishNameIdentifier by top-10 categories",
        "xaxis": {
         "showgrid": false,
         "showline": false,
         "title": "LocaleEnglishNameIdentifier",
         "zeroline": false
        },
        "yaxis": {
         "showgrid": false,
         "showline": false,
         "title": "Counts",
         "zeroline": false
        }
       }
      },
      "text/html": [
       "<div id=\"1586c023-817c-42f4-894d-0385f2849595\" style=\"height: 525px; width: 100%;\" class=\"plotly-graph-div\"></div><script type=\"text/javascript\">require([\"plotly\"], function(Plotly) { window.PLOTLYENV=window.PLOTLYENV || {};window.PLOTLYENV.BASE_URL=\"https://plot.ly\";Plotly.newPlot(\"1586c023-817c-42f4-894d-0385f2849595\", [{\"name\": \"Has Detections\", \"x\": [-85, -74, -29, -23, -5, 42, 74, 75, 88, 124], \"y\": [174588, 225819, 174223, 170432, 109727, 212304, 192348, 1082101, 176729, 94665], \"type\": \"bar\", \"uid\": \"cb12082c-83f9-4533-8c4a-bfd4f00cc7a8\"}, {\"name\": \"No Detections\", \"x\": [-85, -74, -29, -23, -5, 42, 74, 75, 88, 124], \"y\": [169027, 224269, 158879, 170847, 102114, 197312, 218708, 1012484, 198494, 100423], \"type\": \"bar\", \"uid\": \"2d555f41-d614-433b-884a-13945a240988\"}], {\"barmode\": \"group\", \"legend\": {\"orientation\": \"v\"}, \"title\": \"Counts of LocaleEnglishNameIdentifier by top-10 categories\", \"xaxis\": {\"showgrid\": false, \"showline\": false, \"title\": \"LocaleEnglishNameIdentifier\", \"zeroline\": false}, \"yaxis\": {\"showgrid\": false, \"showline\": false, \"title\": \"Counts\", \"zeroline\": false}}, {\"showLink\": true, \"linkText\": \"Export to plot.ly\", \"plotlyServerURL\": \"https://plot.ly\"})});</script><script type=\"text/javascript\">window.addEventListener(\"resize\", function(){window._Plotly.Plots.resize(document.getElementById(\"1586c023-817c-42f4-894d-0385f2849595\"));});</script>"
      ],
      "text/vnd.plotly.v1+html": [
       "<div id=\"1586c023-817c-42f4-894d-0385f2849595\" style=\"height: 525px; width: 100%;\" class=\"plotly-graph-div\"></div><script type=\"text/javascript\">require([\"plotly\"], function(Plotly) { window.PLOTLYENV=window.PLOTLYENV || {};window.PLOTLYENV.BASE_URL=\"https://plot.ly\";Plotly.newPlot(\"1586c023-817c-42f4-894d-0385f2849595\", [{\"name\": \"Has Detections\", \"x\": [-85, -74, -29, -23, -5, 42, 74, 75, 88, 124], \"y\": [174588, 225819, 174223, 170432, 109727, 212304, 192348, 1082101, 176729, 94665], \"type\": \"bar\", \"uid\": \"cb12082c-83f9-4533-8c4a-bfd4f00cc7a8\"}, {\"name\": \"No Detections\", \"x\": [-85, -74, -29, -23, -5, 42, 74, 75, 88, 124], \"y\": [169027, 224269, 158879, 170847, 102114, 197312, 218708, 1012484, 198494, 100423], \"type\": \"bar\", \"uid\": \"2d555f41-d614-433b-884a-13945a240988\"}], {\"barmode\": \"group\", \"legend\": {\"orientation\": \"v\"}, \"title\": \"Counts of LocaleEnglishNameIdentifier by top-10 categories\", \"xaxis\": {\"showgrid\": false, \"showline\": false, \"title\": \"LocaleEnglishNameIdentifier\", \"zeroline\": false}, \"yaxis\": {\"showgrid\": false, \"showline\": false, \"title\": \"Counts\", \"zeroline\": false}}, {\"showLink\": true, \"linkText\": \"Export to plot.ly\", \"plotlyServerURL\": \"https://plot.ly\"})});</script><script type=\"text/javascript\">window.addEventListener(\"resize\", function(){window._Plotly.Plots.resize(document.getElementById(\"1586c023-817c-42f4-894d-0385f2849595\"));});</script>"
      ]
     },
     "metadata": {},
     "output_type": "display_data"
    }
   ],
   "source": [
    "plot_categorical_feature('LocaleEnglishNameIdentifier', True)"
   ]
  },
  {
   "cell_type": "code",
   "execution_count": 38,
   "metadata": {
    "_uuid": "6cba090ab2e119784ad61284938babf0dbfb3ebe"
   },
   "outputs": [],
   "source": [
    "train['LocaleEnglishNameIdentifier'] = train['LocaleEnglishNameIdentifier'].astype('category')\n",
    "test['LocaleEnglishNameIdentifier'] = test['LocaleEnglishNameIdentifier'].astype('category')"
   ]
  },
  {
   "cell_type": "markdown",
   "metadata": {
    "_uuid": "49c6111ef8c99d98d20c3388b3e3ae7254854b1b"
   },
   "source": [
    "### OsPlatformSubRelease"
   ]
  },
  {
   "cell_type": "code",
   "execution_count": 39,
   "metadata": {
    "_uuid": "52e34065300f3bf133819bffdd45b0a039230f38"
   },
   "outputs": [
    {
     "name": "stdout",
     "output_type": "stream",
     "text": [
      "OsPlatformSubRelease has 9 unique values and type: category.\n",
      "rs4    0.438887\n",
      "rs3    0.280635\n",
      "rs2    0.087460\n",
      "rs1    0.081917\n",
      "th2    0.046136\n",
      "Name: OsPlatformSubRelease, dtype: float64\n"
     ]
    },
    {
     "data": {
      "application/vnd.plotly.v1+json": {
       "config": {
        "linkText": "Export to plot.ly",
        "plotlyServerURL": "https://plot.ly",
        "showLink": true
       },
       "data": [
        {
         "name": "Nontouch device counts",
         "type": "bar",
         "uid": "438c0f5d-1d69-47b1-88a7-e78b7b1436c0",
         "x": [
          "prers5",
          "rs1",
          "rs2",
          "rs3",
          "rs4",
          "th1",
          "th2",
          "windows7",
          "windows8.1"
         ],
         "y": [
          17874,
          607382,
          671844,
          2174455,
          3489887,
          241853,
          342486,
          91273,
          164398
         ]
        },
        {
         "name": "Detections rate for nontouch devices",
         "type": "scatter",
         "uid": "e2980b5c-f190-44dd-aa71-6c9787b053e0",
         "x": [
          "prers5",
          "rs1",
          "rs2",
          "rs3",
          "rs4",
          "th1",
          "th2",
          "windows7",
          "windows8.1"
         ],
         "y": [
          0.43398232068926934,
          0.47573355812322393,
          0.48791981471889306,
          0.49947504087231054,
          0.5251367737694659,
          0.49645032313016585,
          0.4836635658099893,
          0.487855115970769,
          0.5189965814669278
         ],
         "yaxis": "y2"
        }
       ],
       "layout": {
        "barmode": "group",
        "legend": {
         "orientation": "v"
        },
        "title": "Counts of OsPlatformSubRelease by top-10 categories for nontouch devices",
        "xaxis": {
         "showgrid": false,
         "showline": false,
         "title": "OsPlatformSubRelease",
         "type": "category",
         "zeroline": false
        },
        "yaxis": {
         "showgrid": false,
         "showline": false,
         "title": "Counts",
         "zeroline": false
        },
        "yaxis2": {
         "overlaying": "y",
         "side": "right",
         "title": "Detections rate"
        }
       }
      },
      "text/html": [
       "<div id=\"90e14ecd-af45-4d18-b18a-f54f6d2c994e\" style=\"height: 525px; width: 100%;\" class=\"plotly-graph-div\"></div><script type=\"text/javascript\">require([\"plotly\"], function(Plotly) { window.PLOTLYENV=window.PLOTLYENV || {};window.PLOTLYENV.BASE_URL=\"https://plot.ly\";Plotly.newPlot(\"90e14ecd-af45-4d18-b18a-f54f6d2c994e\", [{\"name\": \"Nontouch device counts\", \"x\": [\"prers5\", \"rs1\", \"rs2\", \"rs3\", \"rs4\", \"th1\", \"th2\", \"windows7\", \"windows8.1\"], \"y\": [17874, 607382, 671844, 2174455, 3489887, 241853, 342486, 91273, 164398], \"type\": \"bar\", \"uid\": \"a7b80047-5fd1-4869-93d0-188cc8f7fad9\"}, {\"name\": \"Detections rate for nontouch devices\", \"x\": [\"prers5\", \"rs1\", \"rs2\", \"rs3\", \"rs4\", \"th1\", \"th2\", \"windows7\", \"windows8.1\"], \"y\": [0.43398232068926934, 0.47573355812322393, 0.48791981471889306, 0.49947504087231054, 0.5251367737694659, 0.49645032313016585, 0.4836635658099893, 0.487855115970769, 0.5189965814669278], \"yaxis\": \"y2\", \"type\": \"scatter\", \"uid\": \"09b5f861-dfe0-450b-b8ee-34c0220e6954\"}], {\"barmode\": \"group\", \"legend\": {\"orientation\": \"v\"}, \"title\": \"Counts of OsPlatformSubRelease by top-10 categories for nontouch devices\", \"xaxis\": {\"showgrid\": false, \"showline\": false, \"title\": \"OsPlatformSubRelease\", \"type\": \"category\", \"zeroline\": false}, \"yaxis\": {\"showgrid\": false, \"showline\": false, \"title\": \"Counts\", \"zeroline\": false}, \"yaxis2\": {\"overlaying\": \"y\", \"side\": \"right\", \"title\": \"Detections rate\"}}, {\"showLink\": true, \"linkText\": \"Export to plot.ly\", \"plotlyServerURL\": \"https://plot.ly\"})});</script><script type=\"text/javascript\">window.addEventListener(\"resize\", function(){window._Plotly.Plots.resize(document.getElementById(\"90e14ecd-af45-4d18-b18a-f54f6d2c994e\"));});</script>"
      ],
      "text/vnd.plotly.v1+html": [
       "<div id=\"90e14ecd-af45-4d18-b18a-f54f6d2c994e\" style=\"height: 525px; width: 100%;\" class=\"plotly-graph-div\"></div><script type=\"text/javascript\">require([\"plotly\"], function(Plotly) { window.PLOTLYENV=window.PLOTLYENV || {};window.PLOTLYENV.BASE_URL=\"https://plot.ly\";Plotly.newPlot(\"90e14ecd-af45-4d18-b18a-f54f6d2c994e\", [{\"name\": \"Nontouch device counts\", \"x\": [\"prers5\", \"rs1\", \"rs2\", \"rs3\", \"rs4\", \"th1\", \"th2\", \"windows7\", \"windows8.1\"], \"y\": [17874, 607382, 671844, 2174455, 3489887, 241853, 342486, 91273, 164398], \"type\": \"bar\", \"uid\": \"a7b80047-5fd1-4869-93d0-188cc8f7fad9\"}, {\"name\": \"Detections rate for nontouch devices\", \"x\": [\"prers5\", \"rs1\", \"rs2\", \"rs3\", \"rs4\", \"th1\", \"th2\", \"windows7\", \"windows8.1\"], \"y\": [0.43398232068926934, 0.47573355812322393, 0.48791981471889306, 0.49947504087231054, 0.5251367737694659, 0.49645032313016585, 0.4836635658099893, 0.487855115970769, 0.5189965814669278], \"yaxis\": \"y2\", \"type\": \"scatter\", \"uid\": \"09b5f861-dfe0-450b-b8ee-34c0220e6954\"}], {\"barmode\": \"group\", \"legend\": {\"orientation\": \"v\"}, \"title\": \"Counts of OsPlatformSubRelease by top-10 categories for nontouch devices\", \"xaxis\": {\"showgrid\": false, \"showline\": false, \"title\": \"OsPlatformSubRelease\", \"type\": \"category\", \"zeroline\": false}, \"yaxis\": {\"showgrid\": false, \"showline\": false, \"title\": \"Counts\", \"zeroline\": false}, \"yaxis2\": {\"overlaying\": \"y\", \"side\": \"right\", \"title\": \"Detections rate\"}}, {\"showLink\": true, \"linkText\": \"Export to plot.ly\", \"plotlyServerURL\": \"https://plot.ly\"})});</script><script type=\"text/javascript\">window.addEventListener(\"resize\", function(){window._Plotly.Plots.resize(document.getElementById(\"90e14ecd-af45-4d18-b18a-f54f6d2c994e\"));});</script>"
      ]
     },
     "metadata": {},
     "output_type": "display_data"
    },
    {
     "data": {
      "application/vnd.plotly.v1+json": {
       "config": {
        "linkText": "Export to plot.ly",
        "plotlyServerURL": "https://plot.ly",
        "showLink": true
       },
       "data": [
        {
         "name": "Touch device counts",
         "type": "bar",
         "uid": "d0798f01-e76c-43ba-bce4-9ad1a7aed40c",
         "x": [
          "prers5",
          "rs1",
          "rs2",
          "rs3",
          "rs4",
          "th1",
          "th2",
          "windows7",
          "windows8.1"
         ],
         "y": [
          3118,
          123437,
          108426,
          329226,
          425639,
          28339,
          69120,
          2616,
          30110
         ]
        },
        {
         "name": "Detections rate for touch devices",
         "type": "scatter",
         "uid": "4b748c67-3d4c-4dd5-8877-480a585b68b2",
         "x": [
          "prers5",
          "rs1",
          "rs2",
          "rs3",
          "rs4",
          "th1",
          "th2",
          "windows7",
          "windows8.1"
         ],
         "y": [
          0.36786401539448366,
          0.3960157813297472,
          0.42283216202755797,
          0.44360105216477436,
          0.4845726073033721,
          0.4023783478598398,
          0.37747395833333336,
          0.4396024464831804,
          0.4396878113583527
         ],
         "yaxis": "y2"
        }
       ],
       "layout": {
        "barmode": "group",
        "legend": {
         "orientation": "v"
        },
        "title": "Counts of OsPlatformSubRelease by top-10 categories for touch devices",
        "xaxis": {
         "showgrid": false,
         "showline": false,
         "title": "OsPlatformSubRelease",
         "type": "category",
         "zeroline": false
        },
        "yaxis": {
         "showgrid": false,
         "showline": false,
         "title": "Counts",
         "zeroline": false
        },
        "yaxis2": {
         "overlaying": "y",
         "side": "right",
         "title": "Detections rate"
        }
       }
      },
      "text/html": [
       "<div id=\"f494679c-a2a9-4faf-b9a4-15d57dd787e5\" style=\"height: 525px; width: 100%;\" class=\"plotly-graph-div\"></div><script type=\"text/javascript\">require([\"plotly\"], function(Plotly) { window.PLOTLYENV=window.PLOTLYENV || {};window.PLOTLYENV.BASE_URL=\"https://plot.ly\";Plotly.newPlot(\"f494679c-a2a9-4faf-b9a4-15d57dd787e5\", [{\"name\": \"Touch device counts\", \"x\": [\"prers5\", \"rs1\", \"rs2\", \"rs3\", \"rs4\", \"th1\", \"th2\", \"windows7\", \"windows8.1\"], \"y\": [3118, 123437, 108426, 329226, 425639, 28339, 69120, 2616, 30110], \"type\": \"bar\", \"uid\": \"ee7a7a02-5f0e-404c-bb0f-5f857a6fb5f6\"}, {\"name\": \"Detections rate for touch devices\", \"x\": [\"prers5\", \"rs1\", \"rs2\", \"rs3\", \"rs4\", \"th1\", \"th2\", \"windows7\", \"windows8.1\"], \"y\": [0.36786401539448366, 0.3960157813297472, 0.42283216202755797, 0.44360105216477436, 0.4845726073033721, 0.4023783478598398, 0.37747395833333336, 0.4396024464831804, 0.4396878113583527], \"yaxis\": \"y2\", \"type\": \"scatter\", \"uid\": \"a56e2858-e381-44d4-af2a-b707d23df9b7\"}], {\"barmode\": \"group\", \"legend\": {\"orientation\": \"v\"}, \"title\": \"Counts of OsPlatformSubRelease by top-10 categories for touch devices\", \"xaxis\": {\"showgrid\": false, \"showline\": false, \"title\": \"OsPlatformSubRelease\", \"type\": \"category\", \"zeroline\": false}, \"yaxis\": {\"showgrid\": false, \"showline\": false, \"title\": \"Counts\", \"zeroline\": false}, \"yaxis2\": {\"overlaying\": \"y\", \"side\": \"right\", \"title\": \"Detections rate\"}}, {\"showLink\": true, \"linkText\": \"Export to plot.ly\", \"plotlyServerURL\": \"https://plot.ly\"})});</script><script type=\"text/javascript\">window.addEventListener(\"resize\", function(){window._Plotly.Plots.resize(document.getElementById(\"f494679c-a2a9-4faf-b9a4-15d57dd787e5\"));});</script>"
      ],
      "text/vnd.plotly.v1+html": [
       "<div id=\"f494679c-a2a9-4faf-b9a4-15d57dd787e5\" style=\"height: 525px; width: 100%;\" class=\"plotly-graph-div\"></div><script type=\"text/javascript\">require([\"plotly\"], function(Plotly) { window.PLOTLYENV=window.PLOTLYENV || {};window.PLOTLYENV.BASE_URL=\"https://plot.ly\";Plotly.newPlot(\"f494679c-a2a9-4faf-b9a4-15d57dd787e5\", [{\"name\": \"Touch device counts\", \"x\": [\"prers5\", \"rs1\", \"rs2\", \"rs3\", \"rs4\", \"th1\", \"th2\", \"windows7\", \"windows8.1\"], \"y\": [3118, 123437, 108426, 329226, 425639, 28339, 69120, 2616, 30110], \"type\": \"bar\", \"uid\": \"ee7a7a02-5f0e-404c-bb0f-5f857a6fb5f6\"}, {\"name\": \"Detections rate for touch devices\", \"x\": [\"prers5\", \"rs1\", \"rs2\", \"rs3\", \"rs4\", \"th1\", \"th2\", \"windows7\", \"windows8.1\"], \"y\": [0.36786401539448366, 0.3960157813297472, 0.42283216202755797, 0.44360105216477436, 0.4845726073033721, 0.4023783478598398, 0.37747395833333336, 0.4396024464831804, 0.4396878113583527], \"yaxis\": \"y2\", \"type\": \"scatter\", \"uid\": \"a56e2858-e381-44d4-af2a-b707d23df9b7\"}], {\"barmode\": \"group\", \"legend\": {\"orientation\": \"v\"}, \"title\": \"Counts of OsPlatformSubRelease by top-10 categories for touch devices\", \"xaxis\": {\"showgrid\": false, \"showline\": false, \"title\": \"OsPlatformSubRelease\", \"type\": \"category\", \"zeroline\": false}, \"yaxis\": {\"showgrid\": false, \"showline\": false, \"title\": \"Counts\", \"zeroline\": false}, \"yaxis2\": {\"overlaying\": \"y\", \"side\": \"right\", \"title\": \"Detections rate\"}}, {\"showLink\": true, \"linkText\": \"Export to plot.ly\", \"plotlyServerURL\": \"https://plot.ly\"})});</script><script type=\"text/javascript\">window.addEventListener(\"resize\", function(){window._Plotly.Plots.resize(document.getElementById(\"f494679c-a2a9-4faf-b9a4-15d57dd787e5\"));});</script>"
      ]
     },
     "metadata": {},
     "output_type": "display_data"
    }
   ],
   "source": [
    "plot_categorical_feature('OsPlatformSubRelease', True, by_touch=True)"
   ]
  },
  {
   "cell_type": "markdown",
   "metadata": {
    "_uuid": "fb8caf11cd9a361a617d3bb2695dc54e8f12f232"
   },
   "source": [
    "It is interesting that most computers have Windows 10 (rs*). I suppose Microsoft specifically chose them, so that we would work with modern devices?"
   ]
  },
  {
   "cell_type": "markdown",
   "metadata": {
    "_uuid": "852d47e0cb58967bf96c5eb4454c2899a26dcb58"
   },
   "source": [
    "### OsBuildLab"
   ]
  },
  {
   "cell_type": "code",
   "execution_count": 40,
   "metadata": {
    "_uuid": "7855263bcc49ee9630051dbb25cd2299a8fa563e"
   },
   "outputs": [
    {
     "name": "stdout",
     "output_type": "stream",
     "text": [
      "OsBuildLab has 663 unique values and type: category.\n",
      "17134.1.amd64fre.rs4_release.180410-1804                 0.410044\n",
      "16299.431.amd64fre.rs3_release_svc_escrow.180502-1908    0.140411\n",
      "16299.15.amd64fre.rs3_release.170928-1534                0.107724\n",
      "15063.0.amd64fre.rs2_release.170317-1834                 0.080484\n",
      "17134.1.x86fre.rs4_release.180410-1804                   0.028815\n",
      "Name: OsBuildLab, dtype: float64\n"
     ]
    },
    {
     "data": {
      "application/vnd.plotly.v1+json": {
       "config": {
        "linkText": "Export to plot.ly",
        "plotlyServerURL": "https://plot.ly",
        "showLink": true
       },
       "data": [
        {
         "name": "Has Detections",
         "type": "bar",
         "uid": "eed52bb5-a4df-4852-9797-00e398ba338b",
         "x": [
          "10240.17443.amd64fre.th1.170602-2340",
          "10586.1176.amd64fre.th2_release_sec.170913-1848",
          "14393.2189.amd64fre.rs1_release.180329-1711",
          "15063.0.amd64fre.rs2_release.170317-1834",
          "15063.0.x86fre.rs2_release.170317-1834",
          "16299.15.amd64fre.rs3_release.170928-1534",
          "16299.15.x86fre.rs3_release.170928-1534",
          "16299.431.amd64fre.rs3_release_svc_escrow.180502-1908",
          "17134.1.amd64fre.rs4_release.180410-1804",
          "17134.1.x86fre.rs4_release.180410-1804"
         ],
         "y": [
          86335,
          67231,
          97364,
          350691,
          22961,
          471746,
          85061,
          647674,
          1937549,
          101360
         ]
        },
        {
         "name": "No Detections",
         "type": "bar",
         "uid": "ad39cb40-34cf-4b96-8d8c-470d69dd188d",
         "x": [
          "10240.17443.amd64fre.th1.170602-2340",
          "10586.1176.amd64fre.th2_release_sec.170913-1848",
          "14393.2189.amd64fre.rs1_release.180329-1711",
          "15063.0.amd64fre.rs2_release.170317-1834",
          "15063.0.x86fre.rs2_release.170317-1834",
          "16299.15.amd64fre.rs3_release.170928-1534",
          "16299.15.x86fre.rs3_release.170928-1534",
          "16299.431.amd64fre.rs3_release_svc_escrow.180502-1908",
          "17134.1.amd64fre.rs4_release.180410-1804",
          "17134.1.x86fre.rs4_release.180410-1804"
         ],
         "y": [
          85655,
          81028,
          96272,
          367342,
          39276,
          489314,
          148388,
          605000,
          1720650,
          155714
         ]
        }
       ],
       "layout": {
        "barmode": "group",
        "legend": {
         "orientation": "v"
        },
        "title": "Counts of OsBuildLab by top-10 categories",
        "xaxis": {
         "showgrid": false,
         "showline": false,
         "title": "OsBuildLab",
         "zeroline": false
        },
        "yaxis": {
         "showgrid": false,
         "showline": false,
         "title": "Counts",
         "zeroline": false
        }
       }
      },
      "text/html": [
       "<div id=\"2fa0820c-8281-4153-947c-85c1537f667e\" style=\"height: 525px; width: 100%;\" class=\"plotly-graph-div\"></div><script type=\"text/javascript\">require([\"plotly\"], function(Plotly) { window.PLOTLYENV=window.PLOTLYENV || {};window.PLOTLYENV.BASE_URL=\"https://plot.ly\";Plotly.newPlot(\"2fa0820c-8281-4153-947c-85c1537f667e\", [{\"name\": \"Has Detections\", \"x\": [\"10240.17443.amd64fre.th1.170602-2340\", \"10586.1176.amd64fre.th2_release_sec.170913-1848\", \"14393.2189.amd64fre.rs1_release.180329-1711\", \"15063.0.amd64fre.rs2_release.170317-1834\", \"15063.0.x86fre.rs2_release.170317-1834\", \"16299.15.amd64fre.rs3_release.170928-1534\", \"16299.15.x86fre.rs3_release.170928-1534\", \"16299.431.amd64fre.rs3_release_svc_escrow.180502-1908\", \"17134.1.amd64fre.rs4_release.180410-1804\", \"17134.1.x86fre.rs4_release.180410-1804\"], \"y\": [86335, 67231, 97364, 350691, 22961, 471746, 85061, 647674, 1937549, 101360], \"type\": \"bar\", \"uid\": \"25091d16-093d-4ff3-b92e-4e9b5717a03b\"}, {\"name\": \"No Detections\", \"x\": [\"10240.17443.amd64fre.th1.170602-2340\", \"10586.1176.amd64fre.th2_release_sec.170913-1848\", \"14393.2189.amd64fre.rs1_release.180329-1711\", \"15063.0.amd64fre.rs2_release.170317-1834\", \"15063.0.x86fre.rs2_release.170317-1834\", \"16299.15.amd64fre.rs3_release.170928-1534\", \"16299.15.x86fre.rs3_release.170928-1534\", \"16299.431.amd64fre.rs3_release_svc_escrow.180502-1908\", \"17134.1.amd64fre.rs4_release.180410-1804\", \"17134.1.x86fre.rs4_release.180410-1804\"], \"y\": [85655, 81028, 96272, 367342, 39276, 489314, 148388, 605000, 1720650, 155714], \"type\": \"bar\", \"uid\": \"478857e4-92b5-410e-a606-229646d000ee\"}], {\"barmode\": \"group\", \"legend\": {\"orientation\": \"v\"}, \"title\": \"Counts of OsBuildLab by top-10 categories\", \"xaxis\": {\"showgrid\": false, \"showline\": false, \"title\": \"OsBuildLab\", \"zeroline\": false}, \"yaxis\": {\"showgrid\": false, \"showline\": false, \"title\": \"Counts\", \"zeroline\": false}}, {\"showLink\": true, \"linkText\": \"Export to plot.ly\", \"plotlyServerURL\": \"https://plot.ly\"})});</script><script type=\"text/javascript\">window.addEventListener(\"resize\", function(){window._Plotly.Plots.resize(document.getElementById(\"2fa0820c-8281-4153-947c-85c1537f667e\"));});</script>"
      ],
      "text/vnd.plotly.v1+html": [
       "<div id=\"2fa0820c-8281-4153-947c-85c1537f667e\" style=\"height: 525px; width: 100%;\" class=\"plotly-graph-div\"></div><script type=\"text/javascript\">require([\"plotly\"], function(Plotly) { window.PLOTLYENV=window.PLOTLYENV || {};window.PLOTLYENV.BASE_URL=\"https://plot.ly\";Plotly.newPlot(\"2fa0820c-8281-4153-947c-85c1537f667e\", [{\"name\": \"Has Detections\", \"x\": [\"10240.17443.amd64fre.th1.170602-2340\", \"10586.1176.amd64fre.th2_release_sec.170913-1848\", \"14393.2189.amd64fre.rs1_release.180329-1711\", \"15063.0.amd64fre.rs2_release.170317-1834\", \"15063.0.x86fre.rs2_release.170317-1834\", \"16299.15.amd64fre.rs3_release.170928-1534\", \"16299.15.x86fre.rs3_release.170928-1534\", \"16299.431.amd64fre.rs3_release_svc_escrow.180502-1908\", \"17134.1.amd64fre.rs4_release.180410-1804\", \"17134.1.x86fre.rs4_release.180410-1804\"], \"y\": [86335, 67231, 97364, 350691, 22961, 471746, 85061, 647674, 1937549, 101360], \"type\": \"bar\", \"uid\": \"25091d16-093d-4ff3-b92e-4e9b5717a03b\"}, {\"name\": \"No Detections\", \"x\": [\"10240.17443.amd64fre.th1.170602-2340\", \"10586.1176.amd64fre.th2_release_sec.170913-1848\", \"14393.2189.amd64fre.rs1_release.180329-1711\", \"15063.0.amd64fre.rs2_release.170317-1834\", \"15063.0.x86fre.rs2_release.170317-1834\", \"16299.15.amd64fre.rs3_release.170928-1534\", \"16299.15.x86fre.rs3_release.170928-1534\", \"16299.431.amd64fre.rs3_release_svc_escrow.180502-1908\", \"17134.1.amd64fre.rs4_release.180410-1804\", \"17134.1.x86fre.rs4_release.180410-1804\"], \"y\": [85655, 81028, 96272, 367342, 39276, 489314, 148388, 605000, 1720650, 155714], \"type\": \"bar\", \"uid\": \"478857e4-92b5-410e-a606-229646d000ee\"}], {\"barmode\": \"group\", \"legend\": {\"orientation\": \"v\"}, \"title\": \"Counts of OsBuildLab by top-10 categories\", \"xaxis\": {\"showgrid\": false, \"showline\": false, \"title\": \"OsBuildLab\", \"zeroline\": false}, \"yaxis\": {\"showgrid\": false, \"showline\": false, \"title\": \"Counts\", \"zeroline\": false}}, {\"showLink\": true, \"linkText\": \"Export to plot.ly\", \"plotlyServerURL\": \"https://plot.ly\"})});</script><script type=\"text/javascript\">window.addEventListener(\"resize\", function(){window._Plotly.Plots.resize(document.getElementById(\"2fa0820c-8281-4153-947c-85c1537f667e\"));});</script>"
      ]
     },
     "metadata": {},
     "output_type": "display_data"
    }
   ],
   "source": [
    "plot_categorical_feature('OsBuildLab', True)"
   ]
  },
  {
   "cell_type": "markdown",
   "metadata": {
    "_uuid": "fced53f990cae55d0de582286f81f95a02667ac3"
   },
   "source": [
    "### IeVerIdentifier"
   ]
  },
  {
   "cell_type": "code",
   "execution_count": 41,
   "metadata": {
    "_uuid": "6395cf295eee8e9d5dfd862897e3f85904dd14ba"
   },
   "outputs": [
    {
     "name": "stdout",
     "output_type": "stream",
     "text": [
      "IeVerIdentifier has 303 unique values and type: float16.\n",
      "137.0    0.435560\n",
      "117.0    0.198166\n",
      "108.0    0.053174\n",
      "111.0    0.052438\n",
      "98.0     0.039726\n",
      "Name: IeVerIdentifier, dtype: float64\n"
     ]
    },
    {
     "data": {
      "application/vnd.plotly.v1+json": {
       "config": {
        "linkText": "Export to plot.ly",
        "plotlyServerURL": "https://plot.ly",
        "showLink": true
       },
       "data": [
        {
         "name": "Has Detections",
         "type": "bar",
         "uid": "55615855-5e95-45df-b847-da5d99a8e677",
         "x": [
          53,
          74,
          94,
          98,
          105,
          108,
          111,
          117,
          135,
          137
         ],
         "y": [
          99644,
          89873,
          80521,
          168671,
          88005,
          226004,
          236175,
          873124,
          102612,
          2023823
         ]
        },
        {
         "name": "No Detections",
         "type": "bar",
         "uid": "f6ac2acb-f393-46df-af22-13a297b7c709",
         "x": [
          53,
          74,
          94,
          98,
          105,
          108,
          111,
          117,
          135,
          137
         ],
         "y": [
          105308,
          112669,
          93072,
          185740,
          85443,
          248386,
          231653,
          894807,
          114846,
          1862019
         ]
        }
       ],
       "layout": {
        "barmode": "group",
        "legend": {
         "orientation": "v"
        },
        "title": "Counts of IeVerIdentifier by top-10 categories",
        "xaxis": {
         "showgrid": false,
         "showline": false,
         "title": "IeVerIdentifier",
         "zeroline": false
        },
        "yaxis": {
         "showgrid": false,
         "showline": false,
         "title": "Counts",
         "zeroline": false
        }
       }
      },
      "text/html": [
       "<div id=\"e8a0a5f6-4bdd-465f-8a23-dcfecc5f8f14\" style=\"height: 525px; width: 100%;\" class=\"plotly-graph-div\"></div><script type=\"text/javascript\">require([\"plotly\"], function(Plotly) { window.PLOTLYENV=window.PLOTLYENV || {};window.PLOTLYENV.BASE_URL=\"https://plot.ly\";Plotly.newPlot(\"e8a0a5f6-4bdd-465f-8a23-dcfecc5f8f14\", [{\"name\": \"Has Detections\", \"x\": [53.0, 74.0, 94.0, 98.0, 105.0, 108.0, 111.0, 117.0, 135.0, 137.0], \"y\": [99644, 89873, 80521, 168671, 88005, 226004, 236175, 873124, 102612, 2023823], \"type\": \"bar\", \"uid\": \"19eb29e4-5077-483d-bd9e-e99829416e12\"}, {\"name\": \"No Detections\", \"x\": [53.0, 74.0, 94.0, 98.0, 105.0, 108.0, 111.0, 117.0, 135.0, 137.0], \"y\": [105308, 112669, 93072, 185740, 85443, 248386, 231653, 894807, 114846, 1862019], \"type\": \"bar\", \"uid\": \"fdf3c28b-621f-47cf-9649-e58be1fd8a70\"}], {\"barmode\": \"group\", \"legend\": {\"orientation\": \"v\"}, \"title\": \"Counts of IeVerIdentifier by top-10 categories\", \"xaxis\": {\"showgrid\": false, \"showline\": false, \"title\": \"IeVerIdentifier\", \"zeroline\": false}, \"yaxis\": {\"showgrid\": false, \"showline\": false, \"title\": \"Counts\", \"zeroline\": false}}, {\"showLink\": true, \"linkText\": \"Export to plot.ly\", \"plotlyServerURL\": \"https://plot.ly\"})});</script><script type=\"text/javascript\">window.addEventListener(\"resize\", function(){window._Plotly.Plots.resize(document.getElementById(\"e8a0a5f6-4bdd-465f-8a23-dcfecc5f8f14\"));});</script>"
      ],
      "text/vnd.plotly.v1+html": [
       "<div id=\"e8a0a5f6-4bdd-465f-8a23-dcfecc5f8f14\" style=\"height: 525px; width: 100%;\" class=\"plotly-graph-div\"></div><script type=\"text/javascript\">require([\"plotly\"], function(Plotly) { window.PLOTLYENV=window.PLOTLYENV || {};window.PLOTLYENV.BASE_URL=\"https://plot.ly\";Plotly.newPlot(\"e8a0a5f6-4bdd-465f-8a23-dcfecc5f8f14\", [{\"name\": \"Has Detections\", \"x\": [53.0, 74.0, 94.0, 98.0, 105.0, 108.0, 111.0, 117.0, 135.0, 137.0], \"y\": [99644, 89873, 80521, 168671, 88005, 226004, 236175, 873124, 102612, 2023823], \"type\": \"bar\", \"uid\": \"19eb29e4-5077-483d-bd9e-e99829416e12\"}, {\"name\": \"No Detections\", \"x\": [53.0, 74.0, 94.0, 98.0, 105.0, 108.0, 111.0, 117.0, 135.0, 137.0], \"y\": [105308, 112669, 93072, 185740, 85443, 248386, 231653, 894807, 114846, 1862019], \"type\": \"bar\", \"uid\": \"fdf3c28b-621f-47cf-9649-e58be1fd8a70\"}], {\"barmode\": \"group\", \"legend\": {\"orientation\": \"v\"}, \"title\": \"Counts of IeVerIdentifier by top-10 categories\", \"xaxis\": {\"showgrid\": false, \"showline\": false, \"title\": \"IeVerIdentifier\", \"zeroline\": false}, \"yaxis\": {\"showgrid\": false, \"showline\": false, \"title\": \"Counts\", \"zeroline\": false}}, {\"showLink\": true, \"linkText\": \"Export to plot.ly\", \"plotlyServerURL\": \"https://plot.ly\"})});</script><script type=\"text/javascript\">window.addEventListener(\"resize\", function(){window._Plotly.Plots.resize(document.getElementById(\"e8a0a5f6-4bdd-465f-8a23-dcfecc5f8f14\"));});</script>"
      ]
     },
     "metadata": {},
     "output_type": "display_data"
    }
   ],
   "source": [
    "plot_categorical_feature('IeVerIdentifier', True)"
   ]
  },
  {
   "cell_type": "code",
   "execution_count": 42,
   "metadata": {
    "_uuid": "bc368d10e809295659c478f0caa10ad373d65b9a"
   },
   "outputs": [],
   "source": [
    "train['IeVerIdentifier'] = train['IeVerIdentifier'].astype('category')\n",
    "test['IeVerIdentifier'] = test['IeVerIdentifier'].astype('category')"
   ]
  },
  {
   "cell_type": "markdown",
   "metadata": {
    "_uuid": "d0a876cd06361f4e0f021940d0bc1a9ddec97860"
   },
   "source": [
    "### Census_OEMNameIdentifier"
   ]
  },
  {
   "cell_type": "code",
   "execution_count": 43,
   "metadata": {
    "_uuid": "468c41f0e18e2de5e718658b57c0f42bb3584d9e"
   },
   "outputs": [
    {
     "name": "stdout",
     "output_type": "stream",
     "text": [
      "Census_OEMNameIdentifier has 2564 unique values and type: float16.\n",
      "2668.0    0.144289\n",
      "2102.0    0.116412\n",
      "1443.0    0.106432\n",
      "2206.0    0.103609\n",
      "585.0     0.100370\n",
      "Name: Census_OEMNameIdentifier, dtype: float64\n"
     ]
    },
    {
     "data": {
      "application/vnd.plotly.v1+json": {
       "config": {
        "linkText": "Export to plot.ly",
        "plotlyServerURL": "https://plot.ly",
        "showLink": true
       },
       "data": [
        {
         "name": "Has Detections",
         "type": "bar",
         "uid": "b46f2766-ec6e-4ba7-a15b-6fb237e357be",
         "x": [
          525,
          585,
          1443,
          1980,
          2102,
          2206,
          2668,
          4144,
          4588,
          4728
         ],
         "y": [
          438743,
          441907,
          485746,
          159172,
          536642,
          451165,
          645476,
          95733,
          171858,
          144612
         ]
        },
        {
         "name": "No Detections",
         "type": "bar",
         "uid": "7b6c0eb3-a160-4e08-93ac-f2e79790a23e",
         "x": [
          525,
          585,
          1443,
          1980,
          2102,
          2206,
          2668,
          4144,
          4588,
          4728
         ],
         "y": [
          403621,
          453545,
          463785,
          126428,
          501925,
          473184,
          641800,
          107495,
          138844,
          159492
         ]
        }
       ],
       "layout": {
        "barmode": "group",
        "legend": {
         "orientation": "v"
        },
        "title": "Counts of Census_OEMNameIdentifier by top-10 categories",
        "xaxis": {
         "showgrid": false,
         "showline": false,
         "title": "Census_OEMNameIdentifier",
         "zeroline": false
        },
        "yaxis": {
         "showgrid": false,
         "showline": false,
         "title": "Counts",
         "zeroline": false
        }
       }
      },
      "text/html": [
       "<div id=\"3dcd569e-24b0-4d7a-9446-5f39c73b75ac\" style=\"height: 525px; width: 100%;\" class=\"plotly-graph-div\"></div><script type=\"text/javascript\">require([\"plotly\"], function(Plotly) { window.PLOTLYENV=window.PLOTLYENV || {};window.PLOTLYENV.BASE_URL=\"https://plot.ly\";Plotly.newPlot(\"3dcd569e-24b0-4d7a-9446-5f39c73b75ac\", [{\"name\": \"Has Detections\", \"x\": [525.0, 585.0, 1443.0, 1980.0, 2102.0, 2206.0, 2668.0, 4144.0, 4588.0, 4728.0], \"y\": [438743, 441907, 485746, 159172, 536642, 451165, 645476, 95733, 171858, 144612], \"type\": \"bar\", \"uid\": \"08067c28-35f1-4efd-993f-738f0293269a\"}, {\"name\": \"No Detections\", \"x\": [525.0, 585.0, 1443.0, 1980.0, 2102.0, 2206.0, 2668.0, 4144.0, 4588.0, 4728.0], \"y\": [403621, 453545, 463785, 126428, 501925, 473184, 641800, 107495, 138844, 159492], \"type\": \"bar\", \"uid\": \"21f5bdc8-5d49-4d02-b356-82b5b0e200ab\"}], {\"barmode\": \"group\", \"legend\": {\"orientation\": \"v\"}, \"title\": \"Counts of Census_OEMNameIdentifier by top-10 categories\", \"xaxis\": {\"showgrid\": false, \"showline\": false, \"title\": \"Census_OEMNameIdentifier\", \"zeroline\": false}, \"yaxis\": {\"showgrid\": false, \"showline\": false, \"title\": \"Counts\", \"zeroline\": false}}, {\"showLink\": true, \"linkText\": \"Export to plot.ly\", \"plotlyServerURL\": \"https://plot.ly\"})});</script><script type=\"text/javascript\">window.addEventListener(\"resize\", function(){window._Plotly.Plots.resize(document.getElementById(\"3dcd569e-24b0-4d7a-9446-5f39c73b75ac\"));});</script>"
      ],
      "text/vnd.plotly.v1+html": [
       "<div id=\"3dcd569e-24b0-4d7a-9446-5f39c73b75ac\" style=\"height: 525px; width: 100%;\" class=\"plotly-graph-div\"></div><script type=\"text/javascript\">require([\"plotly\"], function(Plotly) { window.PLOTLYENV=window.PLOTLYENV || {};window.PLOTLYENV.BASE_URL=\"https://plot.ly\";Plotly.newPlot(\"3dcd569e-24b0-4d7a-9446-5f39c73b75ac\", [{\"name\": \"Has Detections\", \"x\": [525.0, 585.0, 1443.0, 1980.0, 2102.0, 2206.0, 2668.0, 4144.0, 4588.0, 4728.0], \"y\": [438743, 441907, 485746, 159172, 536642, 451165, 645476, 95733, 171858, 144612], \"type\": \"bar\", \"uid\": \"08067c28-35f1-4efd-993f-738f0293269a\"}, {\"name\": \"No Detections\", \"x\": [525.0, 585.0, 1443.0, 1980.0, 2102.0, 2206.0, 2668.0, 4144.0, 4588.0, 4728.0], \"y\": [403621, 453545, 463785, 126428, 501925, 473184, 641800, 107495, 138844, 159492], \"type\": \"bar\", \"uid\": \"21f5bdc8-5d49-4d02-b356-82b5b0e200ab\"}], {\"barmode\": \"group\", \"legend\": {\"orientation\": \"v\"}, \"title\": \"Counts of Census_OEMNameIdentifier by top-10 categories\", \"xaxis\": {\"showgrid\": false, \"showline\": false, \"title\": \"Census_OEMNameIdentifier\", \"zeroline\": false}, \"yaxis\": {\"showgrid\": false, \"showline\": false, \"title\": \"Counts\", \"zeroline\": false}}, {\"showLink\": true, \"linkText\": \"Export to plot.ly\", \"plotlyServerURL\": \"https://plot.ly\"})});</script><script type=\"text/javascript\">window.addEventListener(\"resize\", function(){window._Plotly.Plots.resize(document.getElementById(\"3dcd569e-24b0-4d7a-9446-5f39c73b75ac\"));});</script>"
      ]
     },
     "metadata": {},
     "output_type": "display_data"
    }
   ],
   "source": [
    "plot_categorical_feature('Census_OEMNameIdentifier', True)"
   ]
  },
  {
   "cell_type": "code",
   "execution_count": 44,
   "metadata": {
    "_uuid": "1d5c22dcbd04ff6ad7de1dc382ef926193375f59"
   },
   "outputs": [],
   "source": [
    "train['Census_OEMNameIdentifier'] = train['Census_OEMNameIdentifier'].astype('category')\n",
    "test['Census_OEMNameIdentifier'] = test['Census_OEMNameIdentifier'].astype('category')"
   ]
  },
  {
   "cell_type": "markdown",
   "metadata": {
    "_uuid": "54a9022593a81840d245216ce98581f36b59328c"
   },
   "source": [
    "### Census_OEMModelIdentifier"
   ]
  },
  {
   "cell_type": "code",
   "execution_count": 45,
   "metadata": {
    "_uuid": "e6ff4dc94f010ee7ccb2171d6a22c68542a7759d"
   },
   "outputs": [
    {
     "name": "stdout",
     "output_type": "stream",
     "text": [
      "Census_OEMModelIdentifier has 175365 unique values and type: float32.\n",
      " 313586.0    0.034163\n",
      " 242491.0    0.029522\n",
      " 317701.0    0.015584\n",
      " 317708.0    0.012919\n",
      "NaN          0.011459\n",
      "Name: Census_OEMModelIdentifier, dtype: float64\n"
     ]
    },
    {
     "data": {
      "application/vnd.plotly.v1+json": {
       "config": {
        "linkText": "Export to plot.ly",
        "plotlyServerURL": "https://plot.ly",
        "showLink": true
       },
       "data": [
        {
         "name": "Has Detections",
         "type": "bar",
         "uid": "932d3c87-6f0a-4b27-b823-c98500dcd0c1",
         "x": [
          188345,
          228975,
          241876,
          242491,
          244755,
          245824,
          313586,
          317701,
          317708
         ],
         "y": [
          40943,
          39709,
          35503,
          136780,
          26024,
          39300,
          168849,
          74769,
          61099
         ]
        },
        {
         "name": "No Detections",
         "type": "bar",
         "uid": "d021bcf7-924e-484a-9f71-1bc0fab292cb",
         "x": [
          188345,
          228975,
          241876,
          242491,
          244755,
          245824,
          313586,
          317701,
          317708
         ],
         "y": [
          30007,
          40169,
          32760,
          126602,
          23606,
          30229,
          135933,
          64266,
          54158
         ]
        }
       ],
       "layout": {
        "barmode": "group",
        "legend": {
         "orientation": "v"
        },
        "title": "Counts of Census_OEMModelIdentifier by top-10 categories",
        "xaxis": {
         "showgrid": false,
         "showline": false,
         "title": "Census_OEMModelIdentifier",
         "zeroline": false
        },
        "yaxis": {
         "showgrid": false,
         "showline": false,
         "title": "Counts",
         "zeroline": false
        }
       }
      },
      "text/html": [
       "<div id=\"c456d530-4d50-4c1f-8763-c832897a58af\" style=\"height: 525px; width: 100%;\" class=\"plotly-graph-div\"></div><script type=\"text/javascript\">require([\"plotly\"], function(Plotly) { window.PLOTLYENV=window.PLOTLYENV || {};window.PLOTLYENV.BASE_URL=\"https://plot.ly\";Plotly.newPlot(\"c456d530-4d50-4c1f-8763-c832897a58af\", [{\"name\": \"Has Detections\", \"x\": [188345.0, 228975.0, 241876.0, 242491.0, 244755.0, 245824.0, 313586.0, 317701.0, 317708.0], \"y\": [40943, 39709, 35503, 136780, 26024, 39300, 168849, 74769, 61099], \"type\": \"bar\", \"uid\": \"96e34cba-effe-4476-836b-e2e3e1351258\"}, {\"name\": \"No Detections\", \"x\": [188345.0, 228975.0, 241876.0, 242491.0, 244755.0, 245824.0, 313586.0, 317701.0, 317708.0], \"y\": [30007, 40169, 32760, 126602, 23606, 30229, 135933, 64266, 54158], \"type\": \"bar\", \"uid\": \"a93e36df-67d1-443a-adcd-a0cce3ce318e\"}], {\"barmode\": \"group\", \"legend\": {\"orientation\": \"v\"}, \"title\": \"Counts of Census_OEMModelIdentifier by top-10 categories\", \"xaxis\": {\"showgrid\": false, \"showline\": false, \"title\": \"Census_OEMModelIdentifier\", \"zeroline\": false}, \"yaxis\": {\"showgrid\": false, \"showline\": false, \"title\": \"Counts\", \"zeroline\": false}}, {\"showLink\": true, \"linkText\": \"Export to plot.ly\", \"plotlyServerURL\": \"https://plot.ly\"})});</script><script type=\"text/javascript\">window.addEventListener(\"resize\", function(){window._Plotly.Plots.resize(document.getElementById(\"c456d530-4d50-4c1f-8763-c832897a58af\"));});</script>"
      ],
      "text/vnd.plotly.v1+html": [
       "<div id=\"c456d530-4d50-4c1f-8763-c832897a58af\" style=\"height: 525px; width: 100%;\" class=\"plotly-graph-div\"></div><script type=\"text/javascript\">require([\"plotly\"], function(Plotly) { window.PLOTLYENV=window.PLOTLYENV || {};window.PLOTLYENV.BASE_URL=\"https://plot.ly\";Plotly.newPlot(\"c456d530-4d50-4c1f-8763-c832897a58af\", [{\"name\": \"Has Detections\", \"x\": [188345.0, 228975.0, 241876.0, 242491.0, 244755.0, 245824.0, 313586.0, 317701.0, 317708.0], \"y\": [40943, 39709, 35503, 136780, 26024, 39300, 168849, 74769, 61099], \"type\": \"bar\", \"uid\": \"96e34cba-effe-4476-836b-e2e3e1351258\"}, {\"name\": \"No Detections\", \"x\": [188345.0, 228975.0, 241876.0, 242491.0, 244755.0, 245824.0, 313586.0, 317701.0, 317708.0], \"y\": [30007, 40169, 32760, 126602, 23606, 30229, 135933, 64266, 54158], \"type\": \"bar\", \"uid\": \"a93e36df-67d1-443a-adcd-a0cce3ce318e\"}], {\"barmode\": \"group\", \"legend\": {\"orientation\": \"v\"}, \"title\": \"Counts of Census_OEMModelIdentifier by top-10 categories\", \"xaxis\": {\"showgrid\": false, \"showline\": false, \"title\": \"Census_OEMModelIdentifier\", \"zeroline\": false}, \"yaxis\": {\"showgrid\": false, \"showline\": false, \"title\": \"Counts\", \"zeroline\": false}}, {\"showLink\": true, \"linkText\": \"Export to plot.ly\", \"plotlyServerURL\": \"https://plot.ly\"})});</script><script type=\"text/javascript\">window.addEventListener(\"resize\", function(){window._Plotly.Plots.resize(document.getElementById(\"c456d530-4d50-4c1f-8763-c832897a58af\"));});</script>"
      ]
     },
     "metadata": {},
     "output_type": "display_data"
    }
   ],
   "source": [
    "plot_categorical_feature('Census_OEMModelIdentifier', True)"
   ]
  },
  {
   "cell_type": "code",
   "execution_count": 46,
   "metadata": {
    "_uuid": "03b7acde3df5d1ac8326f4f7ce72a40840b92b2b"
   },
   "outputs": [],
   "source": [
    "train['Census_OEMModelIdentifier'] = train['Census_OEMModelIdentifier'].astype('category')\n",
    "test['Census_OEMModelIdentifier'] = test['Census_OEMModelIdentifier'].astype('category')"
   ]
  },
  {
   "cell_type": "markdown",
   "metadata": {
    "_uuid": "f08a50a94c63aa05cd6894be12701d0a1743db91"
   },
   "source": [
    "### Census_ProcessorCoreCount"
   ]
  },
  {
   "cell_type": "code",
   "execution_count": 47,
   "metadata": {
    "_uuid": "09091d7696ca47f2a6f811fc230873271d9105b4"
   },
   "outputs": [
    {
     "name": "stdout",
     "output_type": "stream",
     "text": [
      "Census_ProcessorCoreCount has 45 unique values and type: float16.\n",
      "4.0     0.608665\n",
      "2.0     0.259146\n",
      "8.0     0.096957\n",
      "12.0    0.010391\n",
      "1.0     0.007890\n",
      "Name: Census_ProcessorCoreCount, dtype: float64\n"
     ]
    },
    {
     "data": {
      "application/vnd.plotly.v1+json": {
       "config": {
        "linkText": "Export to plot.ly",
        "plotlyServerURL": "https://plot.ly",
        "showLink": true
       },
       "data": [
        {
         "name": "Nontouch device counts",
         "type": "bar",
         "uid": "ad342405-635b-4c06-a4a3-4c921887d42d",
         "x": [
          1,
          2,
          3,
          4,
          6,
          8,
          12,
          16,
          24,
          32
         ],
         "y": [
          69499,
          2193075,
          13184,
          4505290,
          69535,
          794864,
          91219,
          18364,
          1796,
          2093
         ]
        },
        {
         "name": "Detections rate for nontouch devices",
         "type": "scatter",
         "uid": "126ed3d1-bae5-4f84-943a-121d0d71b5de",
         "x": [
          1,
          2,
          3,
          4,
          6,
          8,
          12,
          16,
          24,
          32
         ],
         "y": [
          0.29634958776385273,
          0.46076901154771266,
          0.45600728155339804,
          0.5214545567543931,
          0.567368950888042,
          0.5588490609714366,
          0.5862704041921091,
          0.5620235242866478,
          0.5038975501113586,
          0.502627806975633
         ],
         "yaxis": "y2"
        }
       ],
       "layout": {
        "barmode": "group",
        "legend": {
         "orientation": "v"
        },
        "title": "Counts of Census_ProcessorCoreCount by top-10 categories for nontouch devices",
        "xaxis": {
         "showgrid": false,
         "showline": false,
         "title": "Census_ProcessorCoreCount",
         "type": "category",
         "zeroline": false
        },
        "yaxis": {
         "showgrid": false,
         "showline": false,
         "title": "Counts",
         "zeroline": false
        },
        "yaxis2": {
         "overlaying": "y",
         "side": "right",
         "title": "Detections rate"
        }
       }
      },
      "text/html": [
       "<div id=\"8a10b1cc-84b3-4638-be6b-90aadf8d7107\" style=\"height: 525px; width: 100%;\" class=\"plotly-graph-div\"></div><script type=\"text/javascript\">require([\"plotly\"], function(Plotly) { window.PLOTLYENV=window.PLOTLYENV || {};window.PLOTLYENV.BASE_URL=\"https://plot.ly\";Plotly.newPlot(\"8a10b1cc-84b3-4638-be6b-90aadf8d7107\", [{\"name\": \"Nontouch device counts\", \"x\": [1.0, 2.0, 3.0, 4.0, 6.0, 8.0, 12.0, 16.0, 24.0, 32.0], \"y\": [69499, 2193075, 13184, 4505290, 69535, 794864, 91219, 18364, 1796, 2093], \"type\": \"bar\", \"uid\": \"a17ae48c-7065-4eb2-8280-c4e7240708f0\"}, {\"name\": \"Detections rate for nontouch devices\", \"x\": [1.0, 2.0, 3.0, 4.0, 6.0, 8.0, 12.0, 16.0, 24.0, 32.0], \"y\": [0.29634958776385273, 0.46076901154771266, 0.45600728155339804, 0.5214545567543931, 0.567368950888042, 0.5588490609714366, 0.5862704041921091, 0.5620235242866478, 0.5038975501113586, 0.502627806975633], \"yaxis\": \"y2\", \"type\": \"scatter\", \"uid\": \"3a59a18f-1079-4f52-b1c5-85fb9bab5c9a\"}], {\"barmode\": \"group\", \"legend\": {\"orientation\": \"v\"}, \"title\": \"Counts of Census_ProcessorCoreCount by top-10 categories for nontouch devices\", \"xaxis\": {\"showgrid\": false, \"showline\": false, \"title\": \"Census_ProcessorCoreCount\", \"type\": \"category\", \"zeroline\": false}, \"yaxis\": {\"showgrid\": false, \"showline\": false, \"title\": \"Counts\", \"zeroline\": false}, \"yaxis2\": {\"overlaying\": \"y\", \"side\": \"right\", \"title\": \"Detections rate\"}}, {\"showLink\": true, \"linkText\": \"Export to plot.ly\", \"plotlyServerURL\": \"https://plot.ly\"})});</script><script type=\"text/javascript\">window.addEventListener(\"resize\", function(){window._Plotly.Plots.resize(document.getElementById(\"8a10b1cc-84b3-4638-be6b-90aadf8d7107\"));});</script>"
      ],
      "text/vnd.plotly.v1+html": [
       "<div id=\"8a10b1cc-84b3-4638-be6b-90aadf8d7107\" style=\"height: 525px; width: 100%;\" class=\"plotly-graph-div\"></div><script type=\"text/javascript\">require([\"plotly\"], function(Plotly) { window.PLOTLYENV=window.PLOTLYENV || {};window.PLOTLYENV.BASE_URL=\"https://plot.ly\";Plotly.newPlot(\"8a10b1cc-84b3-4638-be6b-90aadf8d7107\", [{\"name\": \"Nontouch device counts\", \"x\": [1.0, 2.0, 3.0, 4.0, 6.0, 8.0, 12.0, 16.0, 24.0, 32.0], \"y\": [69499, 2193075, 13184, 4505290, 69535, 794864, 91219, 18364, 1796, 2093], \"type\": \"bar\", \"uid\": \"a17ae48c-7065-4eb2-8280-c4e7240708f0\"}, {\"name\": \"Detections rate for nontouch devices\", \"x\": [1.0, 2.0, 3.0, 4.0, 6.0, 8.0, 12.0, 16.0, 24.0, 32.0], \"y\": [0.29634958776385273, 0.46076901154771266, 0.45600728155339804, 0.5214545567543931, 0.567368950888042, 0.5588490609714366, 0.5862704041921091, 0.5620235242866478, 0.5038975501113586, 0.502627806975633], \"yaxis\": \"y2\", \"type\": \"scatter\", \"uid\": \"3a59a18f-1079-4f52-b1c5-85fb9bab5c9a\"}], {\"barmode\": \"group\", \"legend\": {\"orientation\": \"v\"}, \"title\": \"Counts of Census_ProcessorCoreCount by top-10 categories for nontouch devices\", \"xaxis\": {\"showgrid\": false, \"showline\": false, \"title\": \"Census_ProcessorCoreCount\", \"type\": \"category\", \"zeroline\": false}, \"yaxis\": {\"showgrid\": false, \"showline\": false, \"title\": \"Counts\", \"zeroline\": false}, \"yaxis2\": {\"overlaying\": \"y\", \"side\": \"right\", \"title\": \"Detections rate\"}}, {\"showLink\": true, \"linkText\": \"Export to plot.ly\", \"plotlyServerURL\": \"https://plot.ly\"})});</script><script type=\"text/javascript\">window.addEventListener(\"resize\", function(){window._Plotly.Plots.resize(document.getElementById(\"8a10b1cc-84b3-4638-be6b-90aadf8d7107\"));});</script>"
      ]
     },
     "metadata": {},
     "output_type": "display_data"
    },
    {
     "data": {
      "application/vnd.plotly.v1+json": {
       "config": {
        "linkText": "Export to plot.ly",
        "plotlyServerURL": "https://plot.ly",
        "showLink": true
       },
       "data": [
        {
         "name": "Touch device counts",
         "type": "bar",
         "uid": "4faa2166-6385-48dd-b5a5-201e0f82a19a",
         "x": [
          1,
          2,
          3,
          4,
          6,
          8,
          12,
          16,
          24,
          32
         ],
         "y": [
          891,
          118894,
          396,
          924903,
          375,
          70140,
          1483,
          187,
          51,
          43
         ]
        },
        {
         "name": "Detections rate for touch devices",
         "type": "scatter",
         "uid": "e13a91a1-8df4-4413-b137-e82b24be448d",
         "x": [
          1,
          2,
          3,
          4,
          6,
          8,
          12,
          16,
          24,
          32
         ],
         "y": [
          0.19304152637485972,
          0.44338654599895705,
          0.45707070707070707,
          0.44196202196338424,
          0.38666666666666666,
          0.5114770459081837,
          0.4875252865812542,
          0.5187165775401069,
          0.49019607843137253,
          0.3023255813953488
         ],
         "yaxis": "y2"
        }
       ],
       "layout": {
        "barmode": "group",
        "legend": {
         "orientation": "v"
        },
        "title": "Counts of Census_ProcessorCoreCount by top-10 categories for touch devices",
        "xaxis": {
         "showgrid": false,
         "showline": false,
         "title": "Census_ProcessorCoreCount",
         "type": "category",
         "zeroline": false
        },
        "yaxis": {
         "showgrid": false,
         "showline": false,
         "title": "Counts",
         "zeroline": false
        },
        "yaxis2": {
         "overlaying": "y",
         "side": "right",
         "title": "Detections rate"
        }
       }
      },
      "text/html": [
       "<div id=\"f2e00db7-e4f5-4033-b662-dec1330fe405\" style=\"height: 525px; width: 100%;\" class=\"plotly-graph-div\"></div><script type=\"text/javascript\">require([\"plotly\"], function(Plotly) { window.PLOTLYENV=window.PLOTLYENV || {};window.PLOTLYENV.BASE_URL=\"https://plot.ly\";Plotly.newPlot(\"f2e00db7-e4f5-4033-b662-dec1330fe405\", [{\"name\": \"Touch device counts\", \"x\": [1.0, 2.0, 3.0, 4.0, 6.0, 8.0, 12.0, 16.0, 24.0, 32.0], \"y\": [891, 118894, 396, 924903, 375, 70140, 1483, 187, 51, 43], \"type\": \"bar\", \"uid\": \"9ffddccb-4f3b-4ae9-a67c-575ce44ec770\"}, {\"name\": \"Detections rate for touch devices\", \"x\": [1.0, 2.0, 3.0, 4.0, 6.0, 8.0, 12.0, 16.0, 24.0, 32.0], \"y\": [0.19304152637485972, 0.44338654599895705, 0.45707070707070707, 0.44196202196338424, 0.38666666666666666, 0.5114770459081837, 0.4875252865812542, 0.5187165775401069, 0.49019607843137253, 0.3023255813953488], \"yaxis\": \"y2\", \"type\": \"scatter\", \"uid\": \"ccfb0e39-410e-45b1-b3ad-4cb2cb8145bc\"}], {\"barmode\": \"group\", \"legend\": {\"orientation\": \"v\"}, \"title\": \"Counts of Census_ProcessorCoreCount by top-10 categories for touch devices\", \"xaxis\": {\"showgrid\": false, \"showline\": false, \"title\": \"Census_ProcessorCoreCount\", \"type\": \"category\", \"zeroline\": false}, \"yaxis\": {\"showgrid\": false, \"showline\": false, \"title\": \"Counts\", \"zeroline\": false}, \"yaxis2\": {\"overlaying\": \"y\", \"side\": \"right\", \"title\": \"Detections rate\"}}, {\"showLink\": true, \"linkText\": \"Export to plot.ly\", \"plotlyServerURL\": \"https://plot.ly\"})});</script><script type=\"text/javascript\">window.addEventListener(\"resize\", function(){window._Plotly.Plots.resize(document.getElementById(\"f2e00db7-e4f5-4033-b662-dec1330fe405\"));});</script>"
      ],
      "text/vnd.plotly.v1+html": [
       "<div id=\"f2e00db7-e4f5-4033-b662-dec1330fe405\" style=\"height: 525px; width: 100%;\" class=\"plotly-graph-div\"></div><script type=\"text/javascript\">require([\"plotly\"], function(Plotly) { window.PLOTLYENV=window.PLOTLYENV || {};window.PLOTLYENV.BASE_URL=\"https://plot.ly\";Plotly.newPlot(\"f2e00db7-e4f5-4033-b662-dec1330fe405\", [{\"name\": \"Touch device counts\", \"x\": [1.0, 2.0, 3.0, 4.0, 6.0, 8.0, 12.0, 16.0, 24.0, 32.0], \"y\": [891, 118894, 396, 924903, 375, 70140, 1483, 187, 51, 43], \"type\": \"bar\", \"uid\": \"9ffddccb-4f3b-4ae9-a67c-575ce44ec770\"}, {\"name\": \"Detections rate for touch devices\", \"x\": [1.0, 2.0, 3.0, 4.0, 6.0, 8.0, 12.0, 16.0, 24.0, 32.0], \"y\": [0.19304152637485972, 0.44338654599895705, 0.45707070707070707, 0.44196202196338424, 0.38666666666666666, 0.5114770459081837, 0.4875252865812542, 0.5187165775401069, 0.49019607843137253, 0.3023255813953488], \"yaxis\": \"y2\", \"type\": \"scatter\", \"uid\": \"ccfb0e39-410e-45b1-b3ad-4cb2cb8145bc\"}], {\"barmode\": \"group\", \"legend\": {\"orientation\": \"v\"}, \"title\": \"Counts of Census_ProcessorCoreCount by top-10 categories for touch devices\", \"xaxis\": {\"showgrid\": false, \"showline\": false, \"title\": \"Census_ProcessorCoreCount\", \"type\": \"category\", \"zeroline\": false}, \"yaxis\": {\"showgrid\": false, \"showline\": false, \"title\": \"Counts\", \"zeroline\": false}, \"yaxis2\": {\"overlaying\": \"y\", \"side\": \"right\", \"title\": \"Detections rate\"}}, {\"showLink\": true, \"linkText\": \"Export to plot.ly\", \"plotlyServerURL\": \"https://plot.ly\"})});</script><script type=\"text/javascript\">window.addEventListener(\"resize\", function(){window._Plotly.Plots.resize(document.getElementById(\"f2e00db7-e4f5-4033-b662-dec1330fe405\"));});</script>"
      ]
     },
     "metadata": {},
     "output_type": "display_data"
    }
   ],
   "source": [
    "plot_categorical_feature('Census_ProcessorCoreCount', True, by_touch=True)"
   ]
  },
  {
   "cell_type": "markdown",
   "metadata": {
    "_uuid": "a7c08d3ba77bcfd8ccf19639cacb282664ff9894"
   },
   "source": [
    "Most computers have 2, 4 or 8 cores. For touch deviced 4 cores are much more common than other configurations. And these 3 variants cover 95% of all samples,"
   ]
  },
  {
   "cell_type": "code",
   "execution_count": 48,
   "metadata": {
    "_uuid": "ccd3afd5c2df0474b18bc3aeb267b82f0c6389da"
   },
   "outputs": [],
   "source": [
    "# train.loc[train['Census_ProcessorCoreCount'].isin([2, 4, 8, 12]) == False, 'Census_ProcessorCoreCount'] = 1\n",
    "# test.loc[test['Census_ProcessorCoreCount'].isin([2, 4, 8, 12]) == False, 'Census_ProcessorCoreCount'] = 1"
   ]
  },
  {
   "cell_type": "markdown",
   "metadata": {
    "_uuid": "471cb7fa145f843ce8e05d11aa87d0adb025786f"
   },
   "source": [
    "### Census_ProcessorModelIdentifier"
   ]
  },
  {
   "cell_type": "code",
   "execution_count": 49,
   "metadata": {
    "_uuid": "b9bc77c62c4d4579cc191c16ad000a0be577324f"
   },
   "outputs": [
    {
     "name": "stdout",
     "output_type": "stream",
     "text": [
      "Census_ProcessorModelIdentifier has 2583 unique values and type: float16.\n",
      "2696.0    0.032426\n",
      "1998.0    0.029972\n",
      "2660.0    0.021940\n",
      "2372.0    0.019662\n",
      "1992.0    0.019249\n",
      "Name: Census_ProcessorModelIdentifier, dtype: float64\n"
     ]
    },
    {
     "data": {
      "application/vnd.plotly.v1+json": {
       "config": {
        "linkText": "Export to plot.ly",
        "plotlyServerURL": "https://plot.ly",
        "showLink": true
       },
       "data": [
        {
         "name": "Has Detections",
         "type": "bar",
         "uid": "7d6b96ff-0c97-4e9b-80a3-40829c7e7a11",
         "x": [
          1985,
          1992,
          1998,
          2096,
          2372,
          2382,
          2524,
          2640,
          2660,
          2696
         ],
         "y": [
          65007,
          80394,
          127970,
          65052,
          93329,
          90172,
          73295,
          84370,
          108303,
          156253
         ]
        },
        {
         "name": "No Detections",
         "type": "bar",
         "uid": "14e4fdc9-c12d-4883-8d37-13f10facfaf6",
         "x": [
          1985,
          1992,
          1998,
          2096,
          2372,
          2382,
          2524,
          2640,
          2660,
          2696
         ],
         "y": [
          70675,
          91334,
          139427,
          69873,
          82083,
          80479,
          69232,
          69350,
          87434,
          133031
         ]
        }
       ],
       "layout": {
        "barmode": "group",
        "legend": {
         "orientation": "v"
        },
        "title": "Counts of Census_ProcessorModelIdentifier by top-10 categories",
        "xaxis": {
         "showgrid": false,
         "showline": false,
         "title": "Census_ProcessorModelIdentifier",
         "zeroline": false
        },
        "yaxis": {
         "showgrid": false,
         "showline": false,
         "title": "Counts",
         "zeroline": false
        }
       }
      },
      "text/html": [
       "<div id=\"158eaf61-d98a-4c87-9554-88bc9b8f64f4\" style=\"height: 525px; width: 100%;\" class=\"plotly-graph-div\"></div><script type=\"text/javascript\">require([\"plotly\"], function(Plotly) { window.PLOTLYENV=window.PLOTLYENV || {};window.PLOTLYENV.BASE_URL=\"https://plot.ly\";Plotly.newPlot(\"158eaf61-d98a-4c87-9554-88bc9b8f64f4\", [{\"name\": \"Has Detections\", \"x\": [1985.0, 1992.0, 1998.0, 2096.0, 2372.0, 2382.0, 2524.0, 2640.0, 2660.0, 2696.0], \"y\": [65007, 80394, 127970, 65052, 93329, 90172, 73295, 84370, 108303, 156253], \"type\": \"bar\", \"uid\": \"849089f2-973f-46ff-9910-f75ff8520970\"}, {\"name\": \"No Detections\", \"x\": [1985.0, 1992.0, 1998.0, 2096.0, 2372.0, 2382.0, 2524.0, 2640.0, 2660.0, 2696.0], \"y\": [70675, 91334, 139427, 69873, 82083, 80479, 69232, 69350, 87434, 133031], \"type\": \"bar\", \"uid\": \"3af34c11-2c79-44d2-87f8-a77ecc0a3285\"}], {\"barmode\": \"group\", \"legend\": {\"orientation\": \"v\"}, \"title\": \"Counts of Census_ProcessorModelIdentifier by top-10 categories\", \"xaxis\": {\"showgrid\": false, \"showline\": false, \"title\": \"Census_ProcessorModelIdentifier\", \"zeroline\": false}, \"yaxis\": {\"showgrid\": false, \"showline\": false, \"title\": \"Counts\", \"zeroline\": false}}, {\"showLink\": true, \"linkText\": \"Export to plot.ly\", \"plotlyServerURL\": \"https://plot.ly\"})});</script><script type=\"text/javascript\">window.addEventListener(\"resize\", function(){window._Plotly.Plots.resize(document.getElementById(\"158eaf61-d98a-4c87-9554-88bc9b8f64f4\"));});</script>"
      ],
      "text/vnd.plotly.v1+html": [
       "<div id=\"158eaf61-d98a-4c87-9554-88bc9b8f64f4\" style=\"height: 525px; width: 100%;\" class=\"plotly-graph-div\"></div><script type=\"text/javascript\">require([\"plotly\"], function(Plotly) { window.PLOTLYENV=window.PLOTLYENV || {};window.PLOTLYENV.BASE_URL=\"https://plot.ly\";Plotly.newPlot(\"158eaf61-d98a-4c87-9554-88bc9b8f64f4\", [{\"name\": \"Has Detections\", \"x\": [1985.0, 1992.0, 1998.0, 2096.0, 2372.0, 2382.0, 2524.0, 2640.0, 2660.0, 2696.0], \"y\": [65007, 80394, 127970, 65052, 93329, 90172, 73295, 84370, 108303, 156253], \"type\": \"bar\", \"uid\": \"849089f2-973f-46ff-9910-f75ff8520970\"}, {\"name\": \"No Detections\", \"x\": [1985.0, 1992.0, 1998.0, 2096.0, 2372.0, 2382.0, 2524.0, 2640.0, 2660.0, 2696.0], \"y\": [70675, 91334, 139427, 69873, 82083, 80479, 69232, 69350, 87434, 133031], \"type\": \"bar\", \"uid\": \"3af34c11-2c79-44d2-87f8-a77ecc0a3285\"}], {\"barmode\": \"group\", \"legend\": {\"orientation\": \"v\"}, \"title\": \"Counts of Census_ProcessorModelIdentifier by top-10 categories\", \"xaxis\": {\"showgrid\": false, \"showline\": false, \"title\": \"Census_ProcessorModelIdentifier\", \"zeroline\": false}, \"yaxis\": {\"showgrid\": false, \"showline\": false, \"title\": \"Counts\", \"zeroline\": false}}, {\"showLink\": true, \"linkText\": \"Export to plot.ly\", \"plotlyServerURL\": \"https://plot.ly\"})});</script><script type=\"text/javascript\">window.addEventListener(\"resize\", function(){window._Plotly.Plots.resize(document.getElementById(\"158eaf61-d98a-4c87-9554-88bc9b8f64f4\"));});</script>"
      ]
     },
     "metadata": {},
     "output_type": "display_data"
    }
   ],
   "source": [
    "plot_categorical_feature('Census_ProcessorModelIdentifier', True)"
   ]
  },
  {
   "cell_type": "code",
   "execution_count": 50,
   "metadata": {
    "_uuid": "055e21bb6eeb6fb7029096b9a6212d3707ccb368"
   },
   "outputs": [],
   "source": [
    "train['Census_ProcessorModelIdentifier'] = train['Census_ProcessorModelIdentifier'].astype('category')\n",
    "test['Census_ProcessorModelIdentifier'] = test['Census_ProcessorModelIdentifier'].astype('category')"
   ]
  },
  {
   "cell_type": "markdown",
   "metadata": {
    "_uuid": "d1e7319a58519bcc1e19cfaea2c5c2c2d6fb7db8"
   },
   "source": [
    "### Census_PrimaryDiskTotalCapacity"
   ]
  },
  {
   "cell_type": "code",
   "execution_count": 51,
   "metadata": {
    "_uuid": "364997c0f673ce066ddf41fd147a498887964080"
   },
   "outputs": [
    {
     "name": "stdout",
     "output_type": "stream",
     "text": [
      "Census_PrimaryDiskTotalCapacity has 5735 unique values and type: float32.\n",
      "476940.0    0.318504\n",
      "953869.0    0.243881\n",
      "305245.0    0.053199\n",
      "122104.0    0.052576\n",
      "244198.0    0.050696\n",
      "Name: Census_PrimaryDiskTotalCapacity, dtype: float64\n"
     ]
    },
    {
     "data": {
      "application/vnd.plotly.v1+json": {
       "config": {
        "linkText": "Export to plot.ly",
        "plotlyServerURL": "https://plot.ly",
        "showLink": true
       },
       "data": [
        {
         "name": "Has Detections",
         "type": "bar",
         "uid": "2ae8436a-04fc-45b5-95ed-012f0e6e58de",
         "x": [
          29820,
          114473,
          122104,
          228936,
          238475,
          244198,
          305245,
          476940,
          715404,
          953869
         ],
         "y": [
          128719,
          141545,
          247566,
          92078,
          150875,
          240056,
          208895,
          1421497,
          124696,
          1168194
         ]
        },
        {
         "name": "No Detections",
         "type": "bar",
         "uid": "311f1ef7-0f5d-4053-af09-b6a476b8e4ad",
         "x": [
          29820,
          114473,
          122104,
          228936,
          238475,
          244198,
          305245,
          476940,
          715404,
          953869
         ],
         "y": [
          174774,
          117997,
          221494,
          67413,
          161218,
          212228,
          265721,
          1420033,
          121250,
          1007586
         ]
        }
       ],
       "layout": {
        "barmode": "group",
        "legend": {
         "orientation": "v"
        },
        "title": "Counts of Census_PrimaryDiskTotalCapacity by top-10 categories",
        "xaxis": {
         "showgrid": false,
         "showline": false,
         "title": "Census_PrimaryDiskTotalCapacity",
         "zeroline": false
        },
        "yaxis": {
         "showgrid": false,
         "showline": false,
         "title": "Counts",
         "zeroline": false
        }
       }
      },
      "text/html": [
       "<div id=\"a76200b6-d741-4d72-832b-a99648685ea7\" style=\"height: 525px; width: 100%;\" class=\"plotly-graph-div\"></div><script type=\"text/javascript\">require([\"plotly\"], function(Plotly) { window.PLOTLYENV=window.PLOTLYENV || {};window.PLOTLYENV.BASE_URL=\"https://plot.ly\";Plotly.newPlot(\"a76200b6-d741-4d72-832b-a99648685ea7\", [{\"name\": \"Has Detections\", \"x\": [29820.0, 114473.0, 122104.0, 228936.0, 238475.0, 244198.0, 305245.0, 476940.0, 715404.0, 953869.0], \"y\": [128719, 141545, 247566, 92078, 150875, 240056, 208895, 1421497, 124696, 1168194], \"type\": \"bar\", \"uid\": \"43426c16-2578-4de9-8627-486ca450a592\"}, {\"name\": \"No Detections\", \"x\": [29820.0, 114473.0, 122104.0, 228936.0, 238475.0, 244198.0, 305245.0, 476940.0, 715404.0, 953869.0], \"y\": [174774, 117997, 221494, 67413, 161218, 212228, 265721, 1420033, 121250, 1007586], \"type\": \"bar\", \"uid\": \"83067ad4-2cfc-4821-a096-88a66a31c92c\"}], {\"barmode\": \"group\", \"legend\": {\"orientation\": \"v\"}, \"title\": \"Counts of Census_PrimaryDiskTotalCapacity by top-10 categories\", \"xaxis\": {\"showgrid\": false, \"showline\": false, \"title\": \"Census_PrimaryDiskTotalCapacity\", \"zeroline\": false}, \"yaxis\": {\"showgrid\": false, \"showline\": false, \"title\": \"Counts\", \"zeroline\": false}}, {\"showLink\": true, \"linkText\": \"Export to plot.ly\", \"plotlyServerURL\": \"https://plot.ly\"})});</script><script type=\"text/javascript\">window.addEventListener(\"resize\", function(){window._Plotly.Plots.resize(document.getElementById(\"a76200b6-d741-4d72-832b-a99648685ea7\"));});</script>"
      ],
      "text/vnd.plotly.v1+html": [
       "<div id=\"a76200b6-d741-4d72-832b-a99648685ea7\" style=\"height: 525px; width: 100%;\" class=\"plotly-graph-div\"></div><script type=\"text/javascript\">require([\"plotly\"], function(Plotly) { window.PLOTLYENV=window.PLOTLYENV || {};window.PLOTLYENV.BASE_URL=\"https://plot.ly\";Plotly.newPlot(\"a76200b6-d741-4d72-832b-a99648685ea7\", [{\"name\": \"Has Detections\", \"x\": [29820.0, 114473.0, 122104.0, 228936.0, 238475.0, 244198.0, 305245.0, 476940.0, 715404.0, 953869.0], \"y\": [128719, 141545, 247566, 92078, 150875, 240056, 208895, 1421497, 124696, 1168194], \"type\": \"bar\", \"uid\": \"43426c16-2578-4de9-8627-486ca450a592\"}, {\"name\": \"No Detections\", \"x\": [29820.0, 114473.0, 122104.0, 228936.0, 238475.0, 244198.0, 305245.0, 476940.0, 715404.0, 953869.0], \"y\": [174774, 117997, 221494, 67413, 161218, 212228, 265721, 1420033, 121250, 1007586], \"type\": \"bar\", \"uid\": \"83067ad4-2cfc-4821-a096-88a66a31c92c\"}], {\"barmode\": \"group\", \"legend\": {\"orientation\": \"v\"}, \"title\": \"Counts of Census_PrimaryDiskTotalCapacity by top-10 categories\", \"xaxis\": {\"showgrid\": false, \"showline\": false, \"title\": \"Census_PrimaryDiskTotalCapacity\", \"zeroline\": false}, \"yaxis\": {\"showgrid\": false, \"showline\": false, \"title\": \"Counts\", \"zeroline\": false}}, {\"showLink\": true, \"linkText\": \"Export to plot.ly\", \"plotlyServerURL\": \"https://plot.ly\"})});</script><script type=\"text/javascript\">window.addEventListener(\"resize\", function(){window._Plotly.Plots.resize(document.getElementById(\"a76200b6-d741-4d72-832b-a99648685ea7\"));});</script>"
      ]
     },
     "metadata": {},
     "output_type": "display_data"
    }
   ],
   "source": [
    "plot_categorical_feature('Census_PrimaryDiskTotalCapacity', True)"
   ]
  },
  {
   "cell_type": "markdown",
   "metadata": {
    "_uuid": "c1173debf8cc6be314eb36579f644d85ac6c8d7b"
   },
   "source": [
    "### Census_SystemVolumeTotalCapacity"
   ]
  },
  {
   "cell_type": "code",
   "execution_count": 52,
   "metadata": {
    "_uuid": "49bbf08d881b514cfa7c754334e5454bdd5193d1"
   },
   "outputs": [
    {
     "name": "stdout",
     "output_type": "stream",
     "text": [
      "Census_SystemVolumeTotalCapacity has 536848 unique values and type: float32.\n",
      "NaN          0.005941\n",
      " 28542.0     0.005828\n",
      " 926992.0    0.005653\n",
      " 476389.0    0.004981\n",
      " 953253.0    0.004660\n",
      "Name: Census_SystemVolumeTotalCapacity, dtype: float64\n"
     ]
    },
    {
     "data": {
      "application/vnd.plotly.v1+json": {
       "config": {
        "linkText": "Export to plot.ly",
        "plotlyServerURL": "https://plot.ly",
        "showLink": true
       },
       "data": [
        {
         "name": "Has Detections",
         "type": "bar",
         "uid": "78824ca2-5aa3-4f02-a265-d3f7bc33b4af",
         "x": [
          28542,
          102400,
          475799,
          476323,
          476324,
          476389,
          926992,
          952728,
          953253
         ],
         "y": [
          22459,
          19443,
          16341,
          16588,
          20636,
          22088,
          24928,
          18745,
          21279
         ]
        },
        {
         "name": "No Detections",
         "type": "bar",
         "uid": "ba4ef8e1-5433-4660-a852-02cd07556d01",
         "x": [
          28542,
          102400,
          475799,
          476323,
          476324,
          476389,
          926992,
          952728,
          953253
         ],
         "y": [
          29539,
          21814,
          17382,
          18822,
          20289,
          22347,
          25502,
          19506,
          20293
         ]
        }
       ],
       "layout": {
        "barmode": "group",
        "legend": {
         "orientation": "v"
        },
        "title": "Counts of Census_SystemVolumeTotalCapacity by top-10 categories",
        "xaxis": {
         "showgrid": false,
         "showline": false,
         "title": "Census_SystemVolumeTotalCapacity",
         "zeroline": false
        },
        "yaxis": {
         "showgrid": false,
         "showline": false,
         "title": "Counts",
         "zeroline": false
        }
       }
      },
      "text/html": [
       "<div id=\"38c65eba-3c06-43ab-9491-45022527dd11\" style=\"height: 525px; width: 100%;\" class=\"plotly-graph-div\"></div><script type=\"text/javascript\">require([\"plotly\"], function(Plotly) { window.PLOTLYENV=window.PLOTLYENV || {};window.PLOTLYENV.BASE_URL=\"https://plot.ly\";Plotly.newPlot(\"38c65eba-3c06-43ab-9491-45022527dd11\", [{\"name\": \"Has Detections\", \"x\": [28542.0, 102400.0, 475799.0, 476323.0, 476324.0, 476389.0, 926992.0, 952728.0, 953253.0], \"y\": [22459, 19443, 16341, 16588, 20636, 22088, 24928, 18745, 21279], \"type\": \"bar\", \"uid\": \"ef820143-2f10-47c7-a888-2a7790504854\"}, {\"name\": \"No Detections\", \"x\": [28542.0, 102400.0, 475799.0, 476323.0, 476324.0, 476389.0, 926992.0, 952728.0, 953253.0], \"y\": [29539, 21814, 17382, 18822, 20289, 22347, 25502, 19506, 20293], \"type\": \"bar\", \"uid\": \"ca62ab68-4a6b-44a1-89d8-819330338a34\"}], {\"barmode\": \"group\", \"legend\": {\"orientation\": \"v\"}, \"title\": \"Counts of Census_SystemVolumeTotalCapacity by top-10 categories\", \"xaxis\": {\"showgrid\": false, \"showline\": false, \"title\": \"Census_SystemVolumeTotalCapacity\", \"zeroline\": false}, \"yaxis\": {\"showgrid\": false, \"showline\": false, \"title\": \"Counts\", \"zeroline\": false}}, {\"showLink\": true, \"linkText\": \"Export to plot.ly\", \"plotlyServerURL\": \"https://plot.ly\"})});</script><script type=\"text/javascript\">window.addEventListener(\"resize\", function(){window._Plotly.Plots.resize(document.getElementById(\"38c65eba-3c06-43ab-9491-45022527dd11\"));});</script>"
      ],
      "text/vnd.plotly.v1+html": [
       "<div id=\"38c65eba-3c06-43ab-9491-45022527dd11\" style=\"height: 525px; width: 100%;\" class=\"plotly-graph-div\"></div><script type=\"text/javascript\">require([\"plotly\"], function(Plotly) { window.PLOTLYENV=window.PLOTLYENV || {};window.PLOTLYENV.BASE_URL=\"https://plot.ly\";Plotly.newPlot(\"38c65eba-3c06-43ab-9491-45022527dd11\", [{\"name\": \"Has Detections\", \"x\": [28542.0, 102400.0, 475799.0, 476323.0, 476324.0, 476389.0, 926992.0, 952728.0, 953253.0], \"y\": [22459, 19443, 16341, 16588, 20636, 22088, 24928, 18745, 21279], \"type\": \"bar\", \"uid\": \"ef820143-2f10-47c7-a888-2a7790504854\"}, {\"name\": \"No Detections\", \"x\": [28542.0, 102400.0, 475799.0, 476323.0, 476324.0, 476389.0, 926992.0, 952728.0, 953253.0], \"y\": [29539, 21814, 17382, 18822, 20289, 22347, 25502, 19506, 20293], \"type\": \"bar\", \"uid\": \"ca62ab68-4a6b-44a1-89d8-819330338a34\"}], {\"barmode\": \"group\", \"legend\": {\"orientation\": \"v\"}, \"title\": \"Counts of Census_SystemVolumeTotalCapacity by top-10 categories\", \"xaxis\": {\"showgrid\": false, \"showline\": false, \"title\": \"Census_SystemVolumeTotalCapacity\", \"zeroline\": false}, \"yaxis\": {\"showgrid\": false, \"showline\": false, \"title\": \"Counts\", \"zeroline\": false}}, {\"showLink\": true, \"linkText\": \"Export to plot.ly\", \"plotlyServerURL\": \"https://plot.ly\"})});</script><script type=\"text/javascript\">window.addEventListener(\"resize\", function(){window._Plotly.Plots.resize(document.getElementById(\"38c65eba-3c06-43ab-9491-45022527dd11\"));});</script>"
      ]
     },
     "metadata": {},
     "output_type": "display_data"
    }
   ],
   "source": [
    "plot_categorical_feature('Census_SystemVolumeTotalCapacity', True)"
   ]
  },
  {
   "cell_type": "markdown",
   "metadata": {
    "_uuid": "e924ab98e43f7dca1bb1da0bedbeb07c6f50e3fb"
   },
   "source": [
    "I think that this is a first truly numerical variable. Census_PrimaryDiskTotalCapacity could be numerical, but it has too little unique values and every category could be considered a separate disk model."
   ]
  },
  {
   "cell_type": "markdown",
   "metadata": {
    "_uuid": "ef64819f9bcaa9454e9a8fad3194c9566fe42578"
   },
   "source": [
    "### Census_TotalPhysicalRAM"
   ]
  },
  {
   "cell_type": "code",
   "execution_count": 53,
   "metadata": {
    "_uuid": "2f963d28b5b7ca566f4e5d8bc15c26e7592f4b14"
   },
   "outputs": [
    {
     "name": "stdout",
     "output_type": "stream",
     "text": [
      "Census_TotalPhysicalRAM has 3446 unique values and type: float32.\n",
      "4096.0     0.458950\n",
      "8192.0     0.246204\n",
      "2048.0     0.123015\n",
      "16384.0    0.059582\n",
      "6144.0     0.044687\n",
      "Name: Census_TotalPhysicalRAM, dtype: float64\n"
     ]
    },
    {
     "data": {
      "application/vnd.plotly.v1+json": {
       "config": {
        "linkText": "Export to plot.ly",
        "plotlyServerURL": "https://plot.ly",
        "showLink": true
       },
       "data": [
        {
         "name": "Nontouch device counts",
         "type": "bar",
         "uid": "c0073491-1e0a-4486-ab21-06f9366f04b6",
         "x": [
          1024,
          2048,
          3072,
          4096,
          6144,
          8192,
          12288,
          16384,
          24576,
          32768
         ],
         "y": [
          41741,
          881736,
          150040,
          3653638,
          353922,
          1896328,
          134316,
          475987,
          11282,
          55427
         ]
        },
        {
         "name": "Detections rate for nontouch devices",
         "type": "scatter",
         "uid": "b6720eec-0683-41e9-8758-55edfdd77536",
         "x": [
          1024,
          2048,
          3072,
          4096,
          6144,
          8192,
          12288,
          16384,
          24576,
          32768
         ],
         "y": [
          0.29546489063510695,
          0.4302557681664353,
          0.42923220474540125,
          0.5024342860458535,
          0.5234769242940535,
          0.5430300032483832,
          0.5698427588671491,
          0.5743203070672098,
          0.5764935295160433,
          0.5589694553196096
         ],
         "yaxis": "y2"
        }
       ],
       "layout": {
        "barmode": "group",
        "legend": {
         "orientation": "v"
        },
        "title": "Counts of Census_TotalPhysicalRAM by top-10 categories for nontouch devices",
        "xaxis": {
         "showgrid": false,
         "showline": false,
         "title": "Census_TotalPhysicalRAM",
         "type": "category",
         "zeroline": false
        },
        "yaxis": {
         "showgrid": false,
         "showline": false,
         "title": "Counts",
         "zeroline": false
        },
        "yaxis2": {
         "overlaying": "y",
         "side": "right",
         "title": "Detections rate"
        }
       }
      },
      "text/html": [
       "<div id=\"bff0760e-40e7-4a6b-b594-c18de295d810\" style=\"height: 525px; width: 100%;\" class=\"plotly-graph-div\"></div><script type=\"text/javascript\">require([\"plotly\"], function(Plotly) { window.PLOTLYENV=window.PLOTLYENV || {};window.PLOTLYENV.BASE_URL=\"https://plot.ly\";Plotly.newPlot(\"bff0760e-40e7-4a6b-b594-c18de295d810\", [{\"name\": \"Nontouch device counts\", \"x\": [1024.0, 2048.0, 3072.0, 4096.0, 6144.0, 8192.0, 12288.0, 16384.0, 24576.0, 32768.0], \"y\": [41741, 881736, 150040, 3653638, 353922, 1896328, 134316, 475987, 11282, 55427], \"type\": \"bar\", \"uid\": \"7b7548e2-fdf6-47ce-8107-00dd27ab38d3\"}, {\"name\": \"Detections rate for nontouch devices\", \"x\": [1024.0, 2048.0, 3072.0, 4096.0, 6144.0, 8192.0, 12288.0, 16384.0, 24576.0, 32768.0], \"y\": [0.29546489063510695, 0.4302557681664353, 0.42923220474540125, 0.5024342860458535, 0.5234769242940535, 0.5430300032483832, 0.5698427588671491, 0.5743203070672098, 0.5764935295160433, 0.5589694553196096], \"yaxis\": \"y2\", \"type\": \"scatter\", \"uid\": \"8918aa2c-6188-4aed-a683-00f7430a310c\"}], {\"barmode\": \"group\", \"legend\": {\"orientation\": \"v\"}, \"title\": \"Counts of Census_TotalPhysicalRAM by top-10 categories for nontouch devices\", \"xaxis\": {\"showgrid\": false, \"showline\": false, \"title\": \"Census_TotalPhysicalRAM\", \"type\": \"category\", \"zeroline\": false}, \"yaxis\": {\"showgrid\": false, \"showline\": false, \"title\": \"Counts\", \"zeroline\": false}, \"yaxis2\": {\"overlaying\": \"y\", \"side\": \"right\", \"title\": \"Detections rate\"}}, {\"showLink\": true, \"linkText\": \"Export to plot.ly\", \"plotlyServerURL\": \"https://plot.ly\"})});</script><script type=\"text/javascript\">window.addEventListener(\"resize\", function(){window._Plotly.Plots.resize(document.getElementById(\"bff0760e-40e7-4a6b-b594-c18de295d810\"));});</script>"
      ],
      "text/vnd.plotly.v1+html": [
       "<div id=\"bff0760e-40e7-4a6b-b594-c18de295d810\" style=\"height: 525px; width: 100%;\" class=\"plotly-graph-div\"></div><script type=\"text/javascript\">require([\"plotly\"], function(Plotly) { window.PLOTLYENV=window.PLOTLYENV || {};window.PLOTLYENV.BASE_URL=\"https://plot.ly\";Plotly.newPlot(\"bff0760e-40e7-4a6b-b594-c18de295d810\", [{\"name\": \"Nontouch device counts\", \"x\": [1024.0, 2048.0, 3072.0, 4096.0, 6144.0, 8192.0, 12288.0, 16384.0, 24576.0, 32768.0], \"y\": [41741, 881736, 150040, 3653638, 353922, 1896328, 134316, 475987, 11282, 55427], \"type\": \"bar\", \"uid\": \"7b7548e2-fdf6-47ce-8107-00dd27ab38d3\"}, {\"name\": \"Detections rate for nontouch devices\", \"x\": [1024.0, 2048.0, 3072.0, 4096.0, 6144.0, 8192.0, 12288.0, 16384.0, 24576.0, 32768.0], \"y\": [0.29546489063510695, 0.4302557681664353, 0.42923220474540125, 0.5024342860458535, 0.5234769242940535, 0.5430300032483832, 0.5698427588671491, 0.5743203070672098, 0.5764935295160433, 0.5589694553196096], \"yaxis\": \"y2\", \"type\": \"scatter\", \"uid\": \"8918aa2c-6188-4aed-a683-00f7430a310c\"}], {\"barmode\": \"group\", \"legend\": {\"orientation\": \"v\"}, \"title\": \"Counts of Census_TotalPhysicalRAM by top-10 categories for nontouch devices\", \"xaxis\": {\"showgrid\": false, \"showline\": false, \"title\": \"Census_TotalPhysicalRAM\", \"type\": \"category\", \"zeroline\": false}, \"yaxis\": {\"showgrid\": false, \"showline\": false, \"title\": \"Counts\", \"zeroline\": false}, \"yaxis2\": {\"overlaying\": \"y\", \"side\": \"right\", \"title\": \"Detections rate\"}}, {\"showLink\": true, \"linkText\": \"Export to plot.ly\", \"plotlyServerURL\": \"https://plot.ly\"})});</script><script type=\"text/javascript\">window.addEventListener(\"resize\", function(){window._Plotly.Plots.resize(document.getElementById(\"bff0760e-40e7-4a6b-b594-c18de295d810\"));});</script>"
      ]
     },
     "metadata": {},
     "output_type": "display_data"
    },
    {
     "data": {
      "application/vnd.plotly.v1+json": {
       "config": {
        "linkText": "Export to plot.ly",
        "plotlyServerURL": "https://plot.ly",
        "showLink": true
       },
       "data": [
        {
         "name": "Touch device counts",
         "type": "bar",
         "uid": "c2c9832e-7100-48c7-ae3e-7a7a3a99c5b1",
         "x": [
          1024,
          2048,
          3072,
          4096,
          6144,
          8192,
          10240,
          12288,
          16384,
          32768
         ],
         "y": [
          24313,
          215738,
          2030,
          440874,
          44749,
          300177,
          493,
          25578,
          55571,
          2680
         ]
        },
        {
         "name": "Detections rate for touch devices",
         "type": "scatter",
         "uid": "711f26ae-15be-4d35-8879-e18fb8573bdb",
         "x": [
          1024,
          2048,
          3072,
          4096,
          6144,
          8192,
          10240,
          12288,
          16384,
          32768
         ],
         "y": [
          0.1752560358655863,
          0.3148263171068611,
          0.42019704433497534,
          0.4572440198333311,
          0.5148941875796107,
          0.5126308811134764,
          0.5354969574036511,
          0.550981312065056,
          0.5297907181803458,
          0.4973880597014925
         ],
         "yaxis": "y2"
        }
       ],
       "layout": {
        "barmode": "group",
        "legend": {
         "orientation": "v"
        },
        "title": "Counts of Census_TotalPhysicalRAM by top-10 categories for touch devices",
        "xaxis": {
         "showgrid": false,
         "showline": false,
         "title": "Census_TotalPhysicalRAM",
         "type": "category",
         "zeroline": false
        },
        "yaxis": {
         "showgrid": false,
         "showline": false,
         "title": "Counts",
         "zeroline": false
        },
        "yaxis2": {
         "overlaying": "y",
         "side": "right",
         "title": "Detections rate"
        }
       }
      },
      "text/html": [
       "<div id=\"c0a574fb-ccab-4b2e-9e01-01d00f6c23b2\" style=\"height: 525px; width: 100%;\" class=\"plotly-graph-div\"></div><script type=\"text/javascript\">require([\"plotly\"], function(Plotly) { window.PLOTLYENV=window.PLOTLYENV || {};window.PLOTLYENV.BASE_URL=\"https://plot.ly\";Plotly.newPlot(\"c0a574fb-ccab-4b2e-9e01-01d00f6c23b2\", [{\"name\": \"Touch device counts\", \"x\": [1024.0, 2048.0, 3072.0, 4096.0, 6144.0, 8192.0, 10240.0, 12288.0, 16384.0, 32768.0], \"y\": [24313, 215738, 2030, 440874, 44749, 300177, 493, 25578, 55571, 2680], \"type\": \"bar\", \"uid\": \"21d37738-3c1e-46d2-93bf-369e02cf6707\"}, {\"name\": \"Detections rate for touch devices\", \"x\": [1024.0, 2048.0, 3072.0, 4096.0, 6144.0, 8192.0, 10240.0, 12288.0, 16384.0, 32768.0], \"y\": [0.1752560358655863, 0.3148263171068611, 0.42019704433497534, 0.4572440198333311, 0.5148941875796107, 0.5126308811134764, 0.5354969574036511, 0.550981312065056, 0.5297907181803458, 0.4973880597014925], \"yaxis\": \"y2\", \"type\": \"scatter\", \"uid\": \"23d6c2c9-1f8f-47a5-a7a0-166bf5614daa\"}], {\"barmode\": \"group\", \"legend\": {\"orientation\": \"v\"}, \"title\": \"Counts of Census_TotalPhysicalRAM by top-10 categories for touch devices\", \"xaxis\": {\"showgrid\": false, \"showline\": false, \"title\": \"Census_TotalPhysicalRAM\", \"type\": \"category\", \"zeroline\": false}, \"yaxis\": {\"showgrid\": false, \"showline\": false, \"title\": \"Counts\", \"zeroline\": false}, \"yaxis2\": {\"overlaying\": \"y\", \"side\": \"right\", \"title\": \"Detections rate\"}}, {\"showLink\": true, \"linkText\": \"Export to plot.ly\", \"plotlyServerURL\": \"https://plot.ly\"})});</script><script type=\"text/javascript\">window.addEventListener(\"resize\", function(){window._Plotly.Plots.resize(document.getElementById(\"c0a574fb-ccab-4b2e-9e01-01d00f6c23b2\"));});</script>"
      ],
      "text/vnd.plotly.v1+html": [
       "<div id=\"c0a574fb-ccab-4b2e-9e01-01d00f6c23b2\" style=\"height: 525px; width: 100%;\" class=\"plotly-graph-div\"></div><script type=\"text/javascript\">require([\"plotly\"], function(Plotly) { window.PLOTLYENV=window.PLOTLYENV || {};window.PLOTLYENV.BASE_URL=\"https://plot.ly\";Plotly.newPlot(\"c0a574fb-ccab-4b2e-9e01-01d00f6c23b2\", [{\"name\": \"Touch device counts\", \"x\": [1024.0, 2048.0, 3072.0, 4096.0, 6144.0, 8192.0, 10240.0, 12288.0, 16384.0, 32768.0], \"y\": [24313, 215738, 2030, 440874, 44749, 300177, 493, 25578, 55571, 2680], \"type\": \"bar\", \"uid\": \"21d37738-3c1e-46d2-93bf-369e02cf6707\"}, {\"name\": \"Detections rate for touch devices\", \"x\": [1024.0, 2048.0, 3072.0, 4096.0, 6144.0, 8192.0, 10240.0, 12288.0, 16384.0, 32768.0], \"y\": [0.1752560358655863, 0.3148263171068611, 0.42019704433497534, 0.4572440198333311, 0.5148941875796107, 0.5126308811134764, 0.5354969574036511, 0.550981312065056, 0.5297907181803458, 0.4973880597014925], \"yaxis\": \"y2\", \"type\": \"scatter\", \"uid\": \"23d6c2c9-1f8f-47a5-a7a0-166bf5614daa\"}], {\"barmode\": \"group\", \"legend\": {\"orientation\": \"v\"}, \"title\": \"Counts of Census_TotalPhysicalRAM by top-10 categories for touch devices\", \"xaxis\": {\"showgrid\": false, \"showline\": false, \"title\": \"Census_TotalPhysicalRAM\", \"type\": \"category\", \"zeroline\": false}, \"yaxis\": {\"showgrid\": false, \"showline\": false, \"title\": \"Counts\", \"zeroline\": false}, \"yaxis2\": {\"overlaying\": \"y\", \"side\": \"right\", \"title\": \"Detections rate\"}}, {\"showLink\": true, \"linkText\": \"Export to plot.ly\", \"plotlyServerURL\": \"https://plot.ly\"})});</script><script type=\"text/javascript\">window.addEventListener(\"resize\", function(){window._Plotly.Plots.resize(document.getElementById(\"c0a574fb-ccab-4b2e-9e01-01d00f6c23b2\"));});</script>"
      ]
     },
     "metadata": {},
     "output_type": "display_data"
    }
   ],
   "source": [
    "plot_categorical_feature('Census_TotalPhysicalRAM', True, by_touch=True)"
   ]
  },
  {
   "cell_type": "markdown",
   "metadata": {
    "_uuid": "7e93e727a87188c62c610123ce011fe34bc7dc41"
   },
   "source": [
    "Quite interesting that most computers have <=8 Gb RAM."
   ]
  },
  {
   "cell_type": "code",
   "execution_count": 54,
   "metadata": {
    "_uuid": "a0038a685d429849a37515d201d6397b648a5443"
   },
   "outputs": [],
   "source": [
    "# top_10 = train['Census_TotalPhysicalRAM'].value_counts(dropna=False, normalize=True).cumsum().index[:10]\n",
    "# train.loc[train['Census_TotalPhysicalRAM'].isin(top_10) == False, 'Census_TotalPhysicalRAM'] = 1000\n",
    "# test.loc[test['Census_TotalPhysicalRAM'].isin(top_10) == False, 'Census_TotalPhysicalRAM'] = 1000"
   ]
  },
  {
   "cell_type": "markdown",
   "metadata": {
    "_uuid": "8d1e698b4bf550514a02bc1957885d345e8e1417"
   },
   "source": [
    "### Census_InternalPrimaryDiagonalDisplaySizeInInches"
   ]
  },
  {
   "cell_type": "code",
   "execution_count": 55,
   "metadata": {
    "_uuid": "616d8372a4309630b19c724573af649efeb294e5"
   },
   "outputs": [
    {
     "name": "stdout",
     "output_type": "stream",
     "text": [
      "Census_InternalPrimaryDiagonalDisplaySizeInInches has 785 unique values and type: float16.\n",
      "15.500000    0.341583\n",
      "13.898438    0.106717\n",
      "14.000000    0.060803\n",
      "11.601562    0.035799\n",
      "21.500000    0.030862\n",
      "Name: Census_InternalPrimaryDiagonalDisplaySizeInInches, dtype: float64\n"
     ]
    },
    {
     "data": {
      "application/vnd.plotly.v1+json": {
       "config": {
        "linkText": "Export to plot.ly",
        "plotlyServerURL": "https://plot.ly",
        "showLink": true
       },
       "data": [
        {
         "name": "Nontouch device counts",
         "type": "bar",
         "uid": "fa5fcb23-6c08-4be0-a125-4ee798621e00",
         "x": [
          11.6015625,
          13.296875,
          13.8984375,
          14,
          15.5,
          15.6015625,
          17.296875,
          18.5,
          21.5,
          23
         ],
         "y": [
          170745,
          207644,
          867319,
          495582,
          2854609,
          155365,
          169003,
          211832,
          262232,
          170008
         ]
        },
        {
         "name": "Detections rate for nontouch devices",
         "type": "scatter",
         "uid": "85a94901-bc16-44c6-96f2-9755061d75b0",
         "x": [
          11.6015625,
          13.296875,
          13.8984375,
          14,
          15.5,
          15.6015625,
          17.296875,
          18.5,
          21.5,
          23
         ],
         "y": [
          0.4517965386980585,
          0.44932673229180714,
          0.5239686897208524,
          0.507262168521052,
          0.5103840841250062,
          0.5125414346860618,
          0.5034585184878375,
          0.5377563352090335,
          0.5414861649226639,
          0.5293397957743166
         ],
         "yaxis": "y2"
        }
       ],
       "layout": {
        "barmode": "group",
        "legend": {
         "orientation": "v"
        },
        "title": "Counts of Census_InternalPrimaryDiagonalDisplaySizeInInches by top-10 categories for nontouch devices",
        "xaxis": {
         "showgrid": false,
         "showline": false,
         "title": "Census_InternalPrimaryDiagonalDisplaySizeInInches",
         "type": "category",
         "zeroline": false
        },
        "yaxis": {
         "showgrid": false,
         "showline": false,
         "title": "Counts",
         "zeroline": false
        },
        "yaxis2": {
         "overlaying": "y",
         "side": "right",
         "title": "Detections rate"
        }
       }
      },
      "text/html": [
       "<div id=\"61037c38-8980-41fb-8d5f-05a03c14729d\" style=\"height: 525px; width: 100%;\" class=\"plotly-graph-div\"></div><script type=\"text/javascript\">require([\"plotly\"], function(Plotly) { window.PLOTLYENV=window.PLOTLYENV || {};window.PLOTLYENV.BASE_URL=\"https://plot.ly\";Plotly.newPlot(\"61037c38-8980-41fb-8d5f-05a03c14729d\", [{\"name\": \"Nontouch device counts\", \"x\": [11.6015625, 13.296875, 13.8984375, 14.0, 15.5, 15.6015625, 17.296875, 18.5, 21.5, 23.0], \"y\": [170745, 207644, 867319, 495582, 2854609, 155365, 169003, 211832, 262232, 170008], \"type\": \"bar\", \"uid\": \"7490dfe9-3afd-4c89-a39c-4e7c2bcb31c1\"}, {\"name\": \"Detections rate for nontouch devices\", \"x\": [11.6015625, 13.296875, 13.8984375, 14.0, 15.5, 15.6015625, 17.296875, 18.5, 21.5, 23.0], \"y\": [0.4517965386980585, 0.44932673229180714, 0.5239686897208524, 0.507262168521052, 0.5103840841250062, 0.5125414346860618, 0.5034585184878375, 0.5377563352090335, 0.5414861649226639, 0.5293397957743166], \"yaxis\": \"y2\", \"type\": \"scatter\", \"uid\": \"e0a0aa84-8b95-48ab-be1f-56ce27844821\"}], {\"barmode\": \"group\", \"legend\": {\"orientation\": \"v\"}, \"title\": \"Counts of Census_InternalPrimaryDiagonalDisplaySizeInInches by top-10 categories for nontouch devices\", \"xaxis\": {\"showgrid\": false, \"showline\": false, \"title\": \"Census_InternalPrimaryDiagonalDisplaySizeInInches\", \"type\": \"category\", \"zeroline\": false}, \"yaxis\": {\"showgrid\": false, \"showline\": false, \"title\": \"Counts\", \"zeroline\": false}, \"yaxis2\": {\"overlaying\": \"y\", \"side\": \"right\", \"title\": \"Detections rate\"}}, {\"showLink\": true, \"linkText\": \"Export to plot.ly\", \"plotlyServerURL\": \"https://plot.ly\"})});</script><script type=\"text/javascript\">window.addEventListener(\"resize\", function(){window._Plotly.Plots.resize(document.getElementById(\"61037c38-8980-41fb-8d5f-05a03c14729d\"));});</script>"
      ],
      "text/vnd.plotly.v1+html": [
       "<div id=\"61037c38-8980-41fb-8d5f-05a03c14729d\" style=\"height: 525px; width: 100%;\" class=\"plotly-graph-div\"></div><script type=\"text/javascript\">require([\"plotly\"], function(Plotly) { window.PLOTLYENV=window.PLOTLYENV || {};window.PLOTLYENV.BASE_URL=\"https://plot.ly\";Plotly.newPlot(\"61037c38-8980-41fb-8d5f-05a03c14729d\", [{\"name\": \"Nontouch device counts\", \"x\": [11.6015625, 13.296875, 13.8984375, 14.0, 15.5, 15.6015625, 17.296875, 18.5, 21.5, 23.0], \"y\": [170745, 207644, 867319, 495582, 2854609, 155365, 169003, 211832, 262232, 170008], \"type\": \"bar\", \"uid\": \"7490dfe9-3afd-4c89-a39c-4e7c2bcb31c1\"}, {\"name\": \"Detections rate for nontouch devices\", \"x\": [11.6015625, 13.296875, 13.8984375, 14.0, 15.5, 15.6015625, 17.296875, 18.5, 21.5, 23.0], \"y\": [0.4517965386980585, 0.44932673229180714, 0.5239686897208524, 0.507262168521052, 0.5103840841250062, 0.5125414346860618, 0.5034585184878375, 0.5377563352090335, 0.5414861649226639, 0.5293397957743166], \"yaxis\": \"y2\", \"type\": \"scatter\", \"uid\": \"e0a0aa84-8b95-48ab-be1f-56ce27844821\"}], {\"barmode\": \"group\", \"legend\": {\"orientation\": \"v\"}, \"title\": \"Counts of Census_InternalPrimaryDiagonalDisplaySizeInInches by top-10 categories for nontouch devices\", \"xaxis\": {\"showgrid\": false, \"showline\": false, \"title\": \"Census_InternalPrimaryDiagonalDisplaySizeInInches\", \"type\": \"category\", \"zeroline\": false}, \"yaxis\": {\"showgrid\": false, \"showline\": false, \"title\": \"Counts\", \"zeroline\": false}, \"yaxis2\": {\"overlaying\": \"y\", \"side\": \"right\", \"title\": \"Detections rate\"}}, {\"showLink\": true, \"linkText\": \"Export to plot.ly\", \"plotlyServerURL\": \"https://plot.ly\"})});</script><script type=\"text/javascript\">window.addEventListener(\"resize\", function(){window._Plotly.Plots.resize(document.getElementById(\"61037c38-8980-41fb-8d5f-05a03c14729d\"));});</script>"
      ]
     },
     "metadata": {},
     "output_type": "display_data"
    },
    {
     "data": {
      "application/vnd.plotly.v1+json": {
       "config": {
        "linkText": "Export to plot.ly",
        "plotlyServerURL": "https://plot.ly",
        "showLink": true
       },
       "data": [
        {
         "name": "Touch device counts",
         "type": "bar",
         "uid": "4f703538-5c42-47e8-9289-53b4cabdda7b",
         "x": [
          10,
          10.1015625,
          11.6015625,
          12,
          12.296875,
          13.203125,
          13.296875,
          13.8984375,
          14,
          15.5
         ],
         "y": [
          28908,
          109868,
          148631,
          29168,
          58831,
          70543,
          36150,
          84759,
          46868,
          192822
         ]
        },
        {
         "name": "Detections rate for touch devices",
         "type": "scatter",
         "uid": "8297ca8d-a097-407c-afcc-6d7f5b047103",
         "x": [
          10,
          10.1015625,
          11.6015625,
          12,
          12.296875,
          13.203125,
          13.296875,
          13.8984375,
          14,
          15.5
         ],
         "y": [
          0.3284557907845579,
          0.29774820693923615,
          0.4474100288634269,
          0.4355458036204059,
          0.4910506365691557,
          0.517514140311583,
          0.4799170124481328,
          0.5062825186705836,
          0.5048647264658189,
          0.5221084730995426
         ],
         "yaxis": "y2"
        }
       ],
       "layout": {
        "barmode": "group",
        "legend": {
         "orientation": "v"
        },
        "title": "Counts of Census_InternalPrimaryDiagonalDisplaySizeInInches by top-10 categories for touch devices",
        "xaxis": {
         "showgrid": false,
         "showline": false,
         "title": "Census_InternalPrimaryDiagonalDisplaySizeInInches",
         "type": "category",
         "zeroline": false
        },
        "yaxis": {
         "showgrid": false,
         "showline": false,
         "title": "Counts",
         "zeroline": false
        },
        "yaxis2": {
         "overlaying": "y",
         "side": "right",
         "title": "Detections rate"
        }
       }
      },
      "text/html": [
       "<div id=\"ae39cbe4-26ef-46c6-8376-8de467219d31\" style=\"height: 525px; width: 100%;\" class=\"plotly-graph-div\"></div><script type=\"text/javascript\">require([\"plotly\"], function(Plotly) { window.PLOTLYENV=window.PLOTLYENV || {};window.PLOTLYENV.BASE_URL=\"https://plot.ly\";Plotly.newPlot(\"ae39cbe4-26ef-46c6-8376-8de467219d31\", [{\"name\": \"Touch device counts\", \"x\": [10.0, 10.1015625, 11.6015625, 12.0, 12.296875, 13.203125, 13.296875, 13.8984375, 14.0, 15.5], \"y\": [28908, 109868, 148631, 29168, 58831, 70543, 36150, 84759, 46868, 192822], \"type\": \"bar\", \"uid\": \"b479c5c6-cfe8-488b-9b18-a20455dc3b30\"}, {\"name\": \"Detections rate for touch devices\", \"x\": [10.0, 10.1015625, 11.6015625, 12.0, 12.296875, 13.203125, 13.296875, 13.8984375, 14.0, 15.5], \"y\": [0.3284557907845579, 0.29774820693923615, 0.4474100288634269, 0.4355458036204059, 0.4910506365691557, 0.517514140311583, 0.4799170124481328, 0.5062825186705836, 0.5048647264658189, 0.5221084730995426], \"yaxis\": \"y2\", \"type\": \"scatter\", \"uid\": \"2d0fd1c8-dcee-4e81-bda8-f69e56a41f4a\"}], {\"barmode\": \"group\", \"legend\": {\"orientation\": \"v\"}, \"title\": \"Counts of Census_InternalPrimaryDiagonalDisplaySizeInInches by top-10 categories for touch devices\", \"xaxis\": {\"showgrid\": false, \"showline\": false, \"title\": \"Census_InternalPrimaryDiagonalDisplaySizeInInches\", \"type\": \"category\", \"zeroline\": false}, \"yaxis\": {\"showgrid\": false, \"showline\": false, \"title\": \"Counts\", \"zeroline\": false}, \"yaxis2\": {\"overlaying\": \"y\", \"side\": \"right\", \"title\": \"Detections rate\"}}, {\"showLink\": true, \"linkText\": \"Export to plot.ly\", \"plotlyServerURL\": \"https://plot.ly\"})});</script><script type=\"text/javascript\">window.addEventListener(\"resize\", function(){window._Plotly.Plots.resize(document.getElementById(\"ae39cbe4-26ef-46c6-8376-8de467219d31\"));});</script>"
      ],
      "text/vnd.plotly.v1+html": [
       "<div id=\"ae39cbe4-26ef-46c6-8376-8de467219d31\" style=\"height: 525px; width: 100%;\" class=\"plotly-graph-div\"></div><script type=\"text/javascript\">require([\"plotly\"], function(Plotly) { window.PLOTLYENV=window.PLOTLYENV || {};window.PLOTLYENV.BASE_URL=\"https://plot.ly\";Plotly.newPlot(\"ae39cbe4-26ef-46c6-8376-8de467219d31\", [{\"name\": \"Touch device counts\", \"x\": [10.0, 10.1015625, 11.6015625, 12.0, 12.296875, 13.203125, 13.296875, 13.8984375, 14.0, 15.5], \"y\": [28908, 109868, 148631, 29168, 58831, 70543, 36150, 84759, 46868, 192822], \"type\": \"bar\", \"uid\": \"b479c5c6-cfe8-488b-9b18-a20455dc3b30\"}, {\"name\": \"Detections rate for touch devices\", \"x\": [10.0, 10.1015625, 11.6015625, 12.0, 12.296875, 13.203125, 13.296875, 13.8984375, 14.0, 15.5], \"y\": [0.3284557907845579, 0.29774820693923615, 0.4474100288634269, 0.4355458036204059, 0.4910506365691557, 0.517514140311583, 0.4799170124481328, 0.5062825186705836, 0.5048647264658189, 0.5221084730995426], \"yaxis\": \"y2\", \"type\": \"scatter\", \"uid\": \"2d0fd1c8-dcee-4e81-bda8-f69e56a41f4a\"}], {\"barmode\": \"group\", \"legend\": {\"orientation\": \"v\"}, \"title\": \"Counts of Census_InternalPrimaryDiagonalDisplaySizeInInches by top-10 categories for touch devices\", \"xaxis\": {\"showgrid\": false, \"showline\": false, \"title\": \"Census_InternalPrimaryDiagonalDisplaySizeInInches\", \"type\": \"category\", \"zeroline\": false}, \"yaxis\": {\"showgrid\": false, \"showline\": false, \"title\": \"Counts\", \"zeroline\": false}, \"yaxis2\": {\"overlaying\": \"y\", \"side\": \"right\", \"title\": \"Detections rate\"}}, {\"showLink\": true, \"linkText\": \"Export to plot.ly\", \"plotlyServerURL\": \"https://plot.ly\"})});</script><script type=\"text/javascript\">window.addEventListener(\"resize\", function(){window._Plotly.Plots.resize(document.getElementById(\"ae39cbe4-26ef-46c6-8376-8de467219d31\"));});</script>"
      ]
     },
     "metadata": {},
     "output_type": "display_data"
    }
   ],
   "source": [
    "plot_categorical_feature('Census_InternalPrimaryDiagonalDisplaySizeInInches', True, by_touch=True)"
   ]
  },
  {
   "cell_type": "markdown",
   "metadata": {
    "_uuid": "89d80a978de55d0610cb7fd15949d975cc9789e5"
   },
   "source": [
    "I'm really surprised that most computers have 15 inch screens. And this is a rare situation, when for some categories detection rate on PC is higher than on touch devices."
   ]
  },
  {
   "cell_type": "markdown",
   "metadata": {
    "_uuid": "b3a38ceddcc451a0b6a9429a1f583a2949e000f4"
   },
   "source": [
    "### Census_InternalPrimaryDisplayResolutionHorizontal"
   ]
  },
  {
   "cell_type": "code",
   "execution_count": 56,
   "metadata": {
    "_uuid": "e07c8a65602074e57edc79117762792cbcebb973"
   },
   "outputs": [
    {
     "name": "stdout",
     "output_type": "stream",
     "text": [
      "Census_InternalPrimaryDisplayResolutionHorizontal has 2050 unique values and type: float16.\n",
      "1366.0    0.506089\n",
      "1920.0    0.248910\n",
      "1280.0    0.059119\n",
      "1600.0    0.056189\n",
      "1024.0    0.038404\n",
      "Name: Census_InternalPrimaryDisplayResolutionHorizontal, dtype: float64\n"
     ]
    },
    {
     "data": {
      "application/vnd.plotly.v1+json": {
       "config": {
        "linkText": "Export to plot.ly",
        "plotlyServerURL": "https://plot.ly",
        "showLink": true
       },
       "data": [
        {
         "name": "Nontouch device counts",
         "type": "bar",
         "uid": "451c3b18-fffd-424f-bed9-ad18c74c3110",
         "x": [
          1024,
          1280,
          1360,
          1366,
          1440,
          1600,
          1680,
          1920,
          2560,
          3840
         ],
         "y": [
          327219,
          370861,
          122519,
          4115351,
          163383,
          471846,
          107351,
          1893128,
          61317,
          31258
         ]
        },
        {
         "name": "Detections rate for nontouch devices",
         "type": "scatter",
         "uid": "4b54c785-6e55-405f-a4b2-ca8599328032",
         "x": [
          1024,
          1280,
          1360,
          1366,
          1440,
          1600,
          1680,
          1920,
          2560,
          3840
         ],
         "y": [
          0.4550530378737176,
          0.4555776962258097,
          0.5178625356067222,
          0.502466739775052,
          0.49481280182148696,
          0.5020599941506338,
          0.5154772661642649,
          0.5423790678707409,
          0.5109186685584748,
          0.5327916053490307
         ],
         "yaxis": "y2"
        }
       ],
       "layout": {
        "barmode": "group",
        "legend": {
         "orientation": "v"
        },
        "title": "Counts of Census_InternalPrimaryDisplayResolutionHorizontal by top-10 categories for nontouch devices",
        "xaxis": {
         "showgrid": false,
         "showline": false,
         "title": "Census_InternalPrimaryDisplayResolutionHorizontal",
         "type": "category",
         "zeroline": false
        },
        "yaxis": {
         "showgrid": false,
         "showline": false,
         "title": "Counts",
         "zeroline": false
        },
        "yaxis2": {
         "overlaying": "y",
         "side": "right",
         "title": "Detections rate"
        }
       }
      },
      "text/html": [
       "<div id=\"562543ee-e1f5-4fac-8c91-9db3143cfc16\" style=\"height: 525px; width: 100%;\" class=\"plotly-graph-div\"></div><script type=\"text/javascript\">require([\"plotly\"], function(Plotly) { window.PLOTLYENV=window.PLOTLYENV || {};window.PLOTLYENV.BASE_URL=\"https://plot.ly\";Plotly.newPlot(\"562543ee-e1f5-4fac-8c91-9db3143cfc16\", [{\"name\": \"Nontouch device counts\", \"x\": [1024.0, 1280.0, 1360.0, 1366.0, 1440.0, 1600.0, 1680.0, 1920.0, 2560.0, 3840.0], \"y\": [327219, 370861, 122519, 4115351, 163383, 471846, 107351, 1893128, 61317, 31258], \"type\": \"bar\", \"uid\": \"98cb95e7-b9a9-4894-813e-b7e2d81e73d1\"}, {\"name\": \"Detections rate for nontouch devices\", \"x\": [1024.0, 1280.0, 1360.0, 1366.0, 1440.0, 1600.0, 1680.0, 1920.0, 2560.0, 3840.0], \"y\": [0.4550530378737176, 0.4555776962258097, 0.5178625356067222, 0.502466739775052, 0.49481280182148696, 0.5020599941506338, 0.5154772661642649, 0.5423790678707409, 0.5109186685584748, 0.5327916053490307], \"yaxis\": \"y2\", \"type\": \"scatter\", \"uid\": \"ac0bcc86-dfa3-4ce6-aeb2-5045117c3b26\"}], {\"barmode\": \"group\", \"legend\": {\"orientation\": \"v\"}, \"title\": \"Counts of Census_InternalPrimaryDisplayResolutionHorizontal by top-10 categories for nontouch devices\", \"xaxis\": {\"showgrid\": false, \"showline\": false, \"title\": \"Census_InternalPrimaryDisplayResolutionHorizontal\", \"type\": \"category\", \"zeroline\": false}, \"yaxis\": {\"showgrid\": false, \"showline\": false, \"title\": \"Counts\", \"zeroline\": false}, \"yaxis2\": {\"overlaying\": \"y\", \"side\": \"right\", \"title\": \"Detections rate\"}}, {\"showLink\": true, \"linkText\": \"Export to plot.ly\", \"plotlyServerURL\": \"https://plot.ly\"})});</script><script type=\"text/javascript\">window.addEventListener(\"resize\", function(){window._Plotly.Plots.resize(document.getElementById(\"562543ee-e1f5-4fac-8c91-9db3143cfc16\"));});</script>"
      ],
      "text/vnd.plotly.v1+html": [
       "<div id=\"562543ee-e1f5-4fac-8c91-9db3143cfc16\" style=\"height: 525px; width: 100%;\" class=\"plotly-graph-div\"></div><script type=\"text/javascript\">require([\"plotly\"], function(Plotly) { window.PLOTLYENV=window.PLOTLYENV || {};window.PLOTLYENV.BASE_URL=\"https://plot.ly\";Plotly.newPlot(\"562543ee-e1f5-4fac-8c91-9db3143cfc16\", [{\"name\": \"Nontouch device counts\", \"x\": [1024.0, 1280.0, 1360.0, 1366.0, 1440.0, 1600.0, 1680.0, 1920.0, 2560.0, 3840.0], \"y\": [327219, 370861, 122519, 4115351, 163383, 471846, 107351, 1893128, 61317, 31258], \"type\": \"bar\", \"uid\": \"98cb95e7-b9a9-4894-813e-b7e2d81e73d1\"}, {\"name\": \"Detections rate for nontouch devices\", \"x\": [1024.0, 1280.0, 1360.0, 1366.0, 1440.0, 1600.0, 1680.0, 1920.0, 2560.0, 3840.0], \"y\": [0.4550530378737176, 0.4555776962258097, 0.5178625356067222, 0.502466739775052, 0.49481280182148696, 0.5020599941506338, 0.5154772661642649, 0.5423790678707409, 0.5109186685584748, 0.5327916053490307], \"yaxis\": \"y2\", \"type\": \"scatter\", \"uid\": \"ac0bcc86-dfa3-4ce6-aeb2-5045117c3b26\"}], {\"barmode\": \"group\", \"legend\": {\"orientation\": \"v\"}, \"title\": \"Counts of Census_InternalPrimaryDisplayResolutionHorizontal by top-10 categories for nontouch devices\", \"xaxis\": {\"showgrid\": false, \"showline\": false, \"title\": \"Census_InternalPrimaryDisplayResolutionHorizontal\", \"type\": \"category\", \"zeroline\": false}, \"yaxis\": {\"showgrid\": false, \"showline\": false, \"title\": \"Counts\", \"zeroline\": false}, \"yaxis2\": {\"overlaying\": \"y\", \"side\": \"right\", \"title\": \"Detections rate\"}}, {\"showLink\": true, \"linkText\": \"Export to plot.ly\", \"plotlyServerURL\": \"https://plot.ly\"})});</script><script type=\"text/javascript\">window.addEventListener(\"resize\", function(){window._Plotly.Plots.resize(document.getElementById(\"562543ee-e1f5-4fac-8c91-9db3143cfc16\"));});</script>"
      ]
     },
     "metadata": {},
     "output_type": "display_data"
    },
    {
     "data": {
      "application/vnd.plotly.v1+json": {
       "config": {
        "linkText": "Export to plot.ly",
        "plotlyServerURL": "https://plot.ly",
        "showLink": true
       },
       "data": [
        {
         "name": "Touch device counts",
         "type": "bar",
         "uid": "04d523b0-1e3b-4bef-9f09-c93c0dd3f7b1",
         "x": [
          800,
          1024,
          1280,
          1366,
          1600,
          1920,
          2160,
          2736,
          3200,
          3840
         ],
         "y": [
          14044,
          15401,
          156569,
          399713,
          29442,
          327520,
          29795,
          56532,
          11843,
          13410
         ]
        },
        {
         "name": "Detections rate for touch devices",
         "type": "scatter",
         "uid": "574073d2-9fa4-4be8-b374-1aa963f43f8b",
         "x": [
          800,
          1024,
          1280,
          1366,
          1600,
          1920,
          2160,
          2736,
          3200,
          3840
         ],
         "y": [
          0.1825690686414127,
          0.3470553860138952,
          0.3077429120707164,
          0.48303908054028766,
          0.49344473880850487,
          0.4734825354176844,
          0.4269843933545897,
          0.4932604542559966,
          0.49565143966900277,
          0.5202833706189411
         ],
         "yaxis": "y2"
        }
       ],
       "layout": {
        "barmode": "group",
        "legend": {
         "orientation": "v"
        },
        "title": "Counts of Census_InternalPrimaryDisplayResolutionHorizontal by top-10 categories for touch devices",
        "xaxis": {
         "showgrid": false,
         "showline": false,
         "title": "Census_InternalPrimaryDisplayResolutionHorizontal",
         "type": "category",
         "zeroline": false
        },
        "yaxis": {
         "showgrid": false,
         "showline": false,
         "title": "Counts",
         "zeroline": false
        },
        "yaxis2": {
         "overlaying": "y",
         "side": "right",
         "title": "Detections rate"
        }
       }
      },
      "text/html": [
       "<div id=\"7ed8ca08-d7bc-41dd-b719-0370dab13aff\" style=\"height: 525px; width: 100%;\" class=\"plotly-graph-div\"></div><script type=\"text/javascript\">require([\"plotly\"], function(Plotly) { window.PLOTLYENV=window.PLOTLYENV || {};window.PLOTLYENV.BASE_URL=\"https://plot.ly\";Plotly.newPlot(\"7ed8ca08-d7bc-41dd-b719-0370dab13aff\", [{\"name\": \"Touch device counts\", \"x\": [800.0, 1024.0, 1280.0, 1366.0, 1600.0, 1920.0, 2160.0, 2736.0, 3200.0, 3840.0], \"y\": [14044, 15401, 156569, 399713, 29442, 327520, 29795, 56532, 11843, 13410], \"type\": \"bar\", \"uid\": \"a8cc4063-3df6-442d-8fee-2fb1a3e39c6e\"}, {\"name\": \"Detections rate for touch devices\", \"x\": [800.0, 1024.0, 1280.0, 1366.0, 1600.0, 1920.0, 2160.0, 2736.0, 3200.0, 3840.0], \"y\": [0.1825690686414127, 0.3470553860138952, 0.3077429120707164, 0.48303908054028766, 0.49344473880850487, 0.4734825354176844, 0.4269843933545897, 0.4932604542559966, 0.49565143966900277, 0.5202833706189411], \"yaxis\": \"y2\", \"type\": \"scatter\", \"uid\": \"e23d31dc-46d5-4fb0-a6ea-2f756a8a6825\"}], {\"barmode\": \"group\", \"legend\": {\"orientation\": \"v\"}, \"title\": \"Counts of Census_InternalPrimaryDisplayResolutionHorizontal by top-10 categories for touch devices\", \"xaxis\": {\"showgrid\": false, \"showline\": false, \"title\": \"Census_InternalPrimaryDisplayResolutionHorizontal\", \"type\": \"category\", \"zeroline\": false}, \"yaxis\": {\"showgrid\": false, \"showline\": false, \"title\": \"Counts\", \"zeroline\": false}, \"yaxis2\": {\"overlaying\": \"y\", \"side\": \"right\", \"title\": \"Detections rate\"}}, {\"showLink\": true, \"linkText\": \"Export to plot.ly\", \"plotlyServerURL\": \"https://plot.ly\"})});</script><script type=\"text/javascript\">window.addEventListener(\"resize\", function(){window._Plotly.Plots.resize(document.getElementById(\"7ed8ca08-d7bc-41dd-b719-0370dab13aff\"));});</script>"
      ],
      "text/vnd.plotly.v1+html": [
       "<div id=\"7ed8ca08-d7bc-41dd-b719-0370dab13aff\" style=\"height: 525px; width: 100%;\" class=\"plotly-graph-div\"></div><script type=\"text/javascript\">require([\"plotly\"], function(Plotly) { window.PLOTLYENV=window.PLOTLYENV || {};window.PLOTLYENV.BASE_URL=\"https://plot.ly\";Plotly.newPlot(\"7ed8ca08-d7bc-41dd-b719-0370dab13aff\", [{\"name\": \"Touch device counts\", \"x\": [800.0, 1024.0, 1280.0, 1366.0, 1600.0, 1920.0, 2160.0, 2736.0, 3200.0, 3840.0], \"y\": [14044, 15401, 156569, 399713, 29442, 327520, 29795, 56532, 11843, 13410], \"type\": \"bar\", \"uid\": \"a8cc4063-3df6-442d-8fee-2fb1a3e39c6e\"}, {\"name\": \"Detections rate for touch devices\", \"x\": [800.0, 1024.0, 1280.0, 1366.0, 1600.0, 1920.0, 2160.0, 2736.0, 3200.0, 3840.0], \"y\": [0.1825690686414127, 0.3470553860138952, 0.3077429120707164, 0.48303908054028766, 0.49344473880850487, 0.4734825354176844, 0.4269843933545897, 0.4932604542559966, 0.49565143966900277, 0.5202833706189411], \"yaxis\": \"y2\", \"type\": \"scatter\", \"uid\": \"e23d31dc-46d5-4fb0-a6ea-2f756a8a6825\"}], {\"barmode\": \"group\", \"legend\": {\"orientation\": \"v\"}, \"title\": \"Counts of Census_InternalPrimaryDisplayResolutionHorizontal by top-10 categories for touch devices\", \"xaxis\": {\"showgrid\": false, \"showline\": false, \"title\": \"Census_InternalPrimaryDisplayResolutionHorizontal\", \"type\": \"category\", \"zeroline\": false}, \"yaxis\": {\"showgrid\": false, \"showline\": false, \"title\": \"Counts\", \"zeroline\": false}, \"yaxis2\": {\"overlaying\": \"y\", \"side\": \"right\", \"title\": \"Detections rate\"}}, {\"showLink\": true, \"linkText\": \"Export to plot.ly\", \"plotlyServerURL\": \"https://plot.ly\"})});</script><script type=\"text/javascript\">window.addEventListener(\"resize\", function(){window._Plotly.Plots.resize(document.getElementById(\"7ed8ca08-d7bc-41dd-b719-0370dab13aff\"));});</script>"
      ]
     },
     "metadata": {},
     "output_type": "display_data"
    }
   ],
   "source": [
    "plot_categorical_feature('Census_InternalPrimaryDisplayResolutionHorizontal', True, by_touch=True)"
   ]
  },
  {
   "cell_type": "markdown",
   "metadata": {
    "_uuid": "a47704c5130f32564d7840f9942d5f5442d04d75"
   },
   "source": [
    "### Census_InternalPrimaryDisplayResolutionVertical"
   ]
  },
  {
   "cell_type": "code",
   "execution_count": 57,
   "metadata": {
    "_uuid": "5b66c41af40fee619b2a4fb61175a96d71fab9b4"
   },
   "outputs": [
    {
     "name": "stdout",
     "output_type": "stream",
     "text": [
      "Census_InternalPrimaryDisplayResolutionVertical has 1552 unique values and type: float16.\n",
      "768.0     0.557488\n",
      "1080.0    0.240812\n",
      "900.0     0.073436\n",
      "800.0     0.029374\n",
      "1024.0    0.020885\n",
      "Name: Census_InternalPrimaryDisplayResolutionVertical, dtype: float64\n"
     ]
    },
    {
     "data": {
      "application/vnd.plotly.v1+json": {
       "config": {
        "linkText": "Export to plot.ly",
        "plotlyServerURL": "https://plot.ly",
        "showLink": true
       },
       "data": [
        {
         "name": "Nontouch device counts",
         "type": "bar",
         "uid": "e1924363-dd93-4140-8952-9ab983a3b4e2",
         "x": [
          600,
          720,
          768,
          800,
          900,
          1024,
          1050,
          1080,
          1200,
          1440
         ],
         "y": [
          58345,
          43127,
          4545914,
          115930,
          622933,
          183799,
          109687,
          1866636,
          45177,
          43947
         ]
        },
        {
         "name": "Detections rate for nontouch devices",
         "type": "scatter",
         "uid": "351ed62b-60ed-460f-8069-1d70dccb5569",
         "x": [
          600,
          720,
          768,
          800,
          900,
          1024,
          1050,
          1080,
          1200,
          1440
         ],
         "y": [
          0.337218270631588,
          0.49855079184733464,
          0.5012681718131932,
          0.3839644613128612,
          0.5006846643218452,
          0.4886968917132302,
          0.5146188700575274,
          0.5441682256208494,
          0.4974655244925515,
          0.5350535872755819
         ],
         "yaxis": "y2"
        }
       ],
       "layout": {
        "barmode": "group",
        "legend": {
         "orientation": "v"
        },
        "title": "Counts of Census_InternalPrimaryDisplayResolutionVertical by top-10 categories for nontouch devices",
        "xaxis": {
         "showgrid": false,
         "showline": false,
         "title": "Census_InternalPrimaryDisplayResolutionVertical",
         "type": "category",
         "zeroline": false
        },
        "yaxis": {
         "showgrid": false,
         "showline": false,
         "title": "Counts",
         "zeroline": false
        },
        "yaxis2": {
         "overlaying": "y",
         "side": "right",
         "title": "Detections rate"
        }
       }
      },
      "text/html": [
       "<div id=\"aa6eb57d-07d7-4e59-85e4-d8baa5015a7a\" style=\"height: 525px; width: 100%;\" class=\"plotly-graph-div\"></div><script type=\"text/javascript\">require([\"plotly\"], function(Plotly) { window.PLOTLYENV=window.PLOTLYENV || {};window.PLOTLYENV.BASE_URL=\"https://plot.ly\";Plotly.newPlot(\"aa6eb57d-07d7-4e59-85e4-d8baa5015a7a\", [{\"name\": \"Nontouch device counts\", \"x\": [600.0, 720.0, 768.0, 800.0, 900.0, 1024.0, 1050.0, 1080.0, 1200.0, 1440.0], \"y\": [58345, 43127, 4545914, 115930, 622933, 183799, 109687, 1866636, 45177, 43947], \"type\": \"bar\", \"uid\": \"7c5a5311-a621-4e7c-816a-13b504606b8f\"}, {\"name\": \"Detections rate for nontouch devices\", \"x\": [600.0, 720.0, 768.0, 800.0, 900.0, 1024.0, 1050.0, 1080.0, 1200.0, 1440.0], \"y\": [0.337218270631588, 0.49855079184733464, 0.5012681718131932, 0.3839644613128612, 0.5006846643218452, 0.4886968917132302, 0.5146188700575274, 0.5441682256208494, 0.4974655244925515, 0.5350535872755819], \"yaxis\": \"y2\", \"type\": \"scatter\", \"uid\": \"75b6c9a9-d151-4ceb-bbf6-9c2ec6d2ef52\"}], {\"barmode\": \"group\", \"legend\": {\"orientation\": \"v\"}, \"title\": \"Counts of Census_InternalPrimaryDisplayResolutionVertical by top-10 categories for nontouch devices\", \"xaxis\": {\"showgrid\": false, \"showline\": false, \"title\": \"Census_InternalPrimaryDisplayResolutionVertical\", \"type\": \"category\", \"zeroline\": false}, \"yaxis\": {\"showgrid\": false, \"showline\": false, \"title\": \"Counts\", \"zeroline\": false}, \"yaxis2\": {\"overlaying\": \"y\", \"side\": \"right\", \"title\": \"Detections rate\"}}, {\"showLink\": true, \"linkText\": \"Export to plot.ly\", \"plotlyServerURL\": \"https://plot.ly\"})});</script><script type=\"text/javascript\">window.addEventListener(\"resize\", function(){window._Plotly.Plots.resize(document.getElementById(\"aa6eb57d-07d7-4e59-85e4-d8baa5015a7a\"));});</script>"
      ],
      "text/vnd.plotly.v1+html": [
       "<div id=\"aa6eb57d-07d7-4e59-85e4-d8baa5015a7a\" style=\"height: 525px; width: 100%;\" class=\"plotly-graph-div\"></div><script type=\"text/javascript\">require([\"plotly\"], function(Plotly) { window.PLOTLYENV=window.PLOTLYENV || {};window.PLOTLYENV.BASE_URL=\"https://plot.ly\";Plotly.newPlot(\"aa6eb57d-07d7-4e59-85e4-d8baa5015a7a\", [{\"name\": \"Nontouch device counts\", \"x\": [600.0, 720.0, 768.0, 800.0, 900.0, 1024.0, 1050.0, 1080.0, 1200.0, 1440.0], \"y\": [58345, 43127, 4545914, 115930, 622933, 183799, 109687, 1866636, 45177, 43947], \"type\": \"bar\", \"uid\": \"7c5a5311-a621-4e7c-816a-13b504606b8f\"}, {\"name\": \"Detections rate for nontouch devices\", \"x\": [600.0, 720.0, 768.0, 800.0, 900.0, 1024.0, 1050.0, 1080.0, 1200.0, 1440.0], \"y\": [0.337218270631588, 0.49855079184733464, 0.5012681718131932, 0.3839644613128612, 0.5006846643218452, 0.4886968917132302, 0.5146188700575274, 0.5441682256208494, 0.4974655244925515, 0.5350535872755819], \"yaxis\": \"y2\", \"type\": \"scatter\", \"uid\": \"75b6c9a9-d151-4ceb-bbf6-9c2ec6d2ef52\"}], {\"barmode\": \"group\", \"legend\": {\"orientation\": \"v\"}, \"title\": \"Counts of Census_InternalPrimaryDisplayResolutionVertical by top-10 categories for nontouch devices\", \"xaxis\": {\"showgrid\": false, \"showline\": false, \"title\": \"Census_InternalPrimaryDisplayResolutionVertical\", \"type\": \"category\", \"zeroline\": false}, \"yaxis\": {\"showgrid\": false, \"showline\": false, \"title\": \"Counts\", \"zeroline\": false}, \"yaxis2\": {\"overlaying\": \"y\", \"side\": \"right\", \"title\": \"Detections rate\"}}, {\"showLink\": true, \"linkText\": \"Export to plot.ly\", \"plotlyServerURL\": \"https://plot.ly\"})});</script><script type=\"text/javascript\">window.addEventListener(\"resize\", function(){window._Plotly.Plots.resize(document.getElementById(\"aa6eb57d-07d7-4e59-85e4-d8baa5015a7a\"));});</script>"
      ]
     },
     "metadata": {},
     "output_type": "display_data"
    },
    {
     "data": {
      "application/vnd.plotly.v1+json": {
       "config": {
        "linkText": "Export to plot.ly",
        "plotlyServerURL": "https://plot.ly",
        "showLink": true
       },
       "data": [
        {
         "name": "Touch device counts",
         "type": "bar",
         "uid": "3577cb86-df6c-4d65-baf3-4cadbb4b136a",
         "x": [
          768,
          800,
          900,
          1080,
          1200,
          1280,
          1440,
          1800,
          1824,
          2160
         ],
         "y": [
          427707,
          146128,
          32222,
          281766,
          34220,
          26540,
          37304,
          11929,
          56529,
          15322
         ]
        },
        {
         "name": "Detections rate for touch devices",
         "type": "scatter",
         "uid": "91437476-c476-4d8a-8ad1-383dd84bae85",
         "x": [
          768,
          800,
          900,
          1080,
          1200,
          1280,
          1440,
          1800,
          1824,
          2160
         ],
         "y": [
          0.47728234515684803,
          0.29923765465892915,
          0.48932406430389175,
          0.49876138355940747,
          0.3106954997077732,
          0.2613790504898267,
          0.44276753163199656,
          0.49534747254589656,
          0.4932689416051938,
          0.5165774703041378
         ],
         "yaxis": "y2"
        }
       ],
       "layout": {
        "barmode": "group",
        "legend": {
         "orientation": "v"
        },
        "title": "Counts of Census_InternalPrimaryDisplayResolutionVertical by top-10 categories for touch devices",
        "xaxis": {
         "showgrid": false,
         "showline": false,
         "title": "Census_InternalPrimaryDisplayResolutionVertical",
         "type": "category",
         "zeroline": false
        },
        "yaxis": {
         "showgrid": false,
         "showline": false,
         "title": "Counts",
         "zeroline": false
        },
        "yaxis2": {
         "overlaying": "y",
         "side": "right",
         "title": "Detections rate"
        }
       }
      },
      "text/html": [
       "<div id=\"ea24f4b0-aad0-4f77-a35c-23146331f164\" style=\"height: 525px; width: 100%;\" class=\"plotly-graph-div\"></div><script type=\"text/javascript\">require([\"plotly\"], function(Plotly) { window.PLOTLYENV=window.PLOTLYENV || {};window.PLOTLYENV.BASE_URL=\"https://plot.ly\";Plotly.newPlot(\"ea24f4b0-aad0-4f77-a35c-23146331f164\", [{\"name\": \"Touch device counts\", \"x\": [768.0, 800.0, 900.0, 1080.0, 1200.0, 1280.0, 1440.0, 1800.0, 1824.0, 2160.0], \"y\": [427707, 146128, 32222, 281766, 34220, 26540, 37304, 11929, 56529, 15322], \"type\": \"bar\", \"uid\": \"5fc15241-67e5-40d7-9597-0be523d6e7dd\"}, {\"name\": \"Detections rate for touch devices\", \"x\": [768.0, 800.0, 900.0, 1080.0, 1200.0, 1280.0, 1440.0, 1800.0, 1824.0, 2160.0], \"y\": [0.47728234515684803, 0.29923765465892915, 0.48932406430389175, 0.49876138355940747, 0.3106954997077732, 0.2613790504898267, 0.44276753163199656, 0.49534747254589656, 0.4932689416051938, 0.5165774703041378], \"yaxis\": \"y2\", \"type\": \"scatter\", \"uid\": \"673fb9b1-5173-4833-b5f7-0ee19292c164\"}], {\"barmode\": \"group\", \"legend\": {\"orientation\": \"v\"}, \"title\": \"Counts of Census_InternalPrimaryDisplayResolutionVertical by top-10 categories for touch devices\", \"xaxis\": {\"showgrid\": false, \"showline\": false, \"title\": \"Census_InternalPrimaryDisplayResolutionVertical\", \"type\": \"category\", \"zeroline\": false}, \"yaxis\": {\"showgrid\": false, \"showline\": false, \"title\": \"Counts\", \"zeroline\": false}, \"yaxis2\": {\"overlaying\": \"y\", \"side\": \"right\", \"title\": \"Detections rate\"}}, {\"showLink\": true, \"linkText\": \"Export to plot.ly\", \"plotlyServerURL\": \"https://plot.ly\"})});</script><script type=\"text/javascript\">window.addEventListener(\"resize\", function(){window._Plotly.Plots.resize(document.getElementById(\"ea24f4b0-aad0-4f77-a35c-23146331f164\"));});</script>"
      ],
      "text/vnd.plotly.v1+html": [
       "<div id=\"ea24f4b0-aad0-4f77-a35c-23146331f164\" style=\"height: 525px; width: 100%;\" class=\"plotly-graph-div\"></div><script type=\"text/javascript\">require([\"plotly\"], function(Plotly) { window.PLOTLYENV=window.PLOTLYENV || {};window.PLOTLYENV.BASE_URL=\"https://plot.ly\";Plotly.newPlot(\"ea24f4b0-aad0-4f77-a35c-23146331f164\", [{\"name\": \"Touch device counts\", \"x\": [768.0, 800.0, 900.0, 1080.0, 1200.0, 1280.0, 1440.0, 1800.0, 1824.0, 2160.0], \"y\": [427707, 146128, 32222, 281766, 34220, 26540, 37304, 11929, 56529, 15322], \"type\": \"bar\", \"uid\": \"5fc15241-67e5-40d7-9597-0be523d6e7dd\"}, {\"name\": \"Detections rate for touch devices\", \"x\": [768.0, 800.0, 900.0, 1080.0, 1200.0, 1280.0, 1440.0, 1800.0, 1824.0, 2160.0], \"y\": [0.47728234515684803, 0.29923765465892915, 0.48932406430389175, 0.49876138355940747, 0.3106954997077732, 0.2613790504898267, 0.44276753163199656, 0.49534747254589656, 0.4932689416051938, 0.5165774703041378], \"yaxis\": \"y2\", \"type\": \"scatter\", \"uid\": \"673fb9b1-5173-4833-b5f7-0ee19292c164\"}], {\"barmode\": \"group\", \"legend\": {\"orientation\": \"v\"}, \"title\": \"Counts of Census_InternalPrimaryDisplayResolutionVertical by top-10 categories for touch devices\", \"xaxis\": {\"showgrid\": false, \"showline\": false, \"title\": \"Census_InternalPrimaryDisplayResolutionVertical\", \"type\": \"category\", \"zeroline\": false}, \"yaxis\": {\"showgrid\": false, \"showline\": false, \"title\": \"Counts\", \"zeroline\": false}, \"yaxis2\": {\"overlaying\": \"y\", \"side\": \"right\", \"title\": \"Detections rate\"}}, {\"showLink\": true, \"linkText\": \"Export to plot.ly\", \"plotlyServerURL\": \"https://plot.ly\"})});</script><script type=\"text/javascript\">window.addEventListener(\"resize\", function(){window._Plotly.Plots.resize(document.getElementById(\"ea24f4b0-aad0-4f77-a35c-23146331f164\"));});</script>"
      ]
     },
     "metadata": {},
     "output_type": "display_data"
    }
   ],
   "source": [
    "plot_categorical_feature('Census_InternalPrimaryDisplayResolutionVertical', True, by_touch=True)"
   ]
  },
  {
   "cell_type": "markdown",
   "metadata": {
    "_uuid": "92fad1744023256db40a4106c90bbe4671c4e9b9"
   },
   "source": [
    "### Census_InternalBatteryNumberOfCharges"
   ]
  },
  {
   "cell_type": "code",
   "execution_count": 58,
   "metadata": {
    "_uuid": "79d2a988690a556dee4bb7bc732f83fa584c414a"
   },
   "outputs": [
    {
     "name": "stdout",
     "output_type": "stream",
     "text": [
      "Census_InternalBatteryNumberOfCharges has 41087 unique values and type: float32.\n",
      " 0.000000e+00    0.566431\n",
      " 4.294967e+09    0.253769\n",
      "NaN              0.030124\n",
      " 1.000000e+00    0.006032\n",
      " 2.000000e+00    0.003153\n",
      "Name: Census_InternalBatteryNumberOfCharges, dtype: float64\n"
     ]
    },
    {
     "data": {
      "application/vnd.plotly.v1+json": {
       "config": {
        "linkText": "Export to plot.ly",
        "plotlyServerURL": "https://plot.ly",
        "showLink": true
       },
       "data": [
        {
         "name": "Nontouch device counts",
         "type": "bar",
         "uid": "a3dcc925-81c1-4310-9334-18fa73b35465",
         "x": [
          0,
          1,
          2,
          3,
          4,
          5,
          16,
          33,
          374,
          4294967296
         ],
         "y": [
          4474223,
          28351,
          16790,
          13541,
          11663,
          10533,
          11515,
          17754,
          11124,
          2174346
         ]
        },
        {
         "name": "Detections rate for nontouch devices",
         "type": "scatter",
         "uid": "edefc479-a796-4fb8-a949-7adde04cc8fc",
         "x": [
          0,
          1,
          2,
          3,
          4,
          5,
          16,
          33,
          374,
          4294967296
         ],
         "y": [
          0.4985886935005251,
          0.47776092554054533,
          0.46926742108397856,
          0.462299682445905,
          0.45760096030180913,
          0.4612171271242761,
          0.4887537993920973,
          0.5821786639630506,
          0.507641136281913,
          0.51718217799743
         ],
         "yaxis": "y2"
        }
       ],
       "layout": {
        "barmode": "group",
        "legend": {
         "orientation": "v"
        },
        "title": "Counts of Census_InternalBatteryNumberOfCharges by top-10 categories for nontouch devices",
        "xaxis": {
         "showgrid": false,
         "showline": false,
         "title": "Census_InternalBatteryNumberOfCharges",
         "type": "category",
         "zeroline": false
        },
        "yaxis": {
         "showgrid": false,
         "showline": false,
         "title": "Counts",
         "zeroline": false
        },
        "yaxis2": {
         "overlaying": "y",
         "side": "right",
         "title": "Detections rate"
        }
       }
      },
      "text/html": [
       "<div id=\"f45989a2-3a83-46e9-95ed-18a3e67bf6cc\" style=\"height: 525px; width: 100%;\" class=\"plotly-graph-div\"></div><script type=\"text/javascript\">require([\"plotly\"], function(Plotly) { window.PLOTLYENV=window.PLOTLYENV || {};window.PLOTLYENV.BASE_URL=\"https://plot.ly\";Plotly.newPlot(\"f45989a2-3a83-46e9-95ed-18a3e67bf6cc\", [{\"name\": \"Nontouch device counts\", \"x\": [0.0, 1.0, 2.0, 3.0, 4.0, 5.0, 16.0, 33.0, 374.0, 4294967296.0], \"y\": [4474223, 28351, 16790, 13541, 11663, 10533, 11515, 17754, 11124, 2174346], \"type\": \"bar\", \"uid\": \"73268efd-7f58-4ea6-b3f7-e04cf879866f\"}, {\"name\": \"Detections rate for nontouch devices\", \"x\": [0.0, 1.0, 2.0, 3.0, 4.0, 5.0, 16.0, 33.0, 374.0, 4294967296.0], \"y\": [0.4985886935005251, 0.47776092554054533, 0.46926742108397856, 0.462299682445905, 0.45760096030180913, 0.4612171271242761, 0.4887537993920973, 0.5821786639630506, 0.507641136281913, 0.51718217799743], \"yaxis\": \"y2\", \"type\": \"scatter\", \"uid\": \"af9b6257-4666-411a-8e0d-7db041587013\"}], {\"barmode\": \"group\", \"legend\": {\"orientation\": \"v\"}, \"title\": \"Counts of Census_InternalBatteryNumberOfCharges by top-10 categories for nontouch devices\", \"xaxis\": {\"showgrid\": false, \"showline\": false, \"title\": \"Census_InternalBatteryNumberOfCharges\", \"type\": \"category\", \"zeroline\": false}, \"yaxis\": {\"showgrid\": false, \"showline\": false, \"title\": \"Counts\", \"zeroline\": false}, \"yaxis2\": {\"overlaying\": \"y\", \"side\": \"right\", \"title\": \"Detections rate\"}}, {\"showLink\": true, \"linkText\": \"Export to plot.ly\", \"plotlyServerURL\": \"https://plot.ly\"})});</script><script type=\"text/javascript\">window.addEventListener(\"resize\", function(){window._Plotly.Plots.resize(document.getElementById(\"f45989a2-3a83-46e9-95ed-18a3e67bf6cc\"));});</script>"
      ],
      "text/vnd.plotly.v1+html": [
       "<div id=\"f45989a2-3a83-46e9-95ed-18a3e67bf6cc\" style=\"height: 525px; width: 100%;\" class=\"plotly-graph-div\"></div><script type=\"text/javascript\">require([\"plotly\"], function(Plotly) { window.PLOTLYENV=window.PLOTLYENV || {};window.PLOTLYENV.BASE_URL=\"https://plot.ly\";Plotly.newPlot(\"f45989a2-3a83-46e9-95ed-18a3e67bf6cc\", [{\"name\": \"Nontouch device counts\", \"x\": [0.0, 1.0, 2.0, 3.0, 4.0, 5.0, 16.0, 33.0, 374.0, 4294967296.0], \"y\": [4474223, 28351, 16790, 13541, 11663, 10533, 11515, 17754, 11124, 2174346], \"type\": \"bar\", \"uid\": \"73268efd-7f58-4ea6-b3f7-e04cf879866f\"}, {\"name\": \"Detections rate for nontouch devices\", \"x\": [0.0, 1.0, 2.0, 3.0, 4.0, 5.0, 16.0, 33.0, 374.0, 4294967296.0], \"y\": [0.4985886935005251, 0.47776092554054533, 0.46926742108397856, 0.462299682445905, 0.45760096030180913, 0.4612171271242761, 0.4887537993920973, 0.5821786639630506, 0.507641136281913, 0.51718217799743], \"yaxis\": \"y2\", \"type\": \"scatter\", \"uid\": \"af9b6257-4666-411a-8e0d-7db041587013\"}], {\"barmode\": \"group\", \"legend\": {\"orientation\": \"v\"}, \"title\": \"Counts of Census_InternalBatteryNumberOfCharges by top-10 categories for nontouch devices\", \"xaxis\": {\"showgrid\": false, \"showline\": false, \"title\": \"Census_InternalBatteryNumberOfCharges\", \"type\": \"category\", \"zeroline\": false}, \"yaxis\": {\"showgrid\": false, \"showline\": false, \"title\": \"Counts\", \"zeroline\": false}, \"yaxis2\": {\"overlaying\": \"y\", \"side\": \"right\", \"title\": \"Detections rate\"}}, {\"showLink\": true, \"linkText\": \"Export to plot.ly\", \"plotlyServerURL\": \"https://plot.ly\"})});</script><script type=\"text/javascript\">window.addEventListener(\"resize\", function(){window._Plotly.Plots.resize(document.getElementById(\"f45989a2-3a83-46e9-95ed-18a3e67bf6cc\"));});</script>"
      ]
     },
     "metadata": {},
     "output_type": "display_data"
    },
    {
     "data": {
      "application/vnd.plotly.v1+json": {
       "config": {
        "linkText": "Export to plot.ly",
        "plotlyServerURL": "https://plot.ly",
        "showLink": true
       },
       "data": [
        {
         "name": "Touch device counts",
         "type": "bar",
         "uid": "39132d71-9d70-4b9f-b292-ac774b55089c",
         "x": [
          0,
          1,
          2,
          3,
          4,
          5,
          6,
          16,
          256,
          4294967296
         ],
         "y": [
          579181,
          25459,
          11338,
          7996,
          6357,
          5657,
          4972,
          15833,
          8494,
          89647
         ]
        },
        {
         "name": "Detections rate for touch devices",
         "type": "scatter",
         "uid": "a0f1e034-c4c5-4e13-8deb-bd19f025b2b5",
         "x": [
          0,
          1,
          2,
          3,
          4,
          5,
          6,
          16,
          256,
          4294967296
         ],
         "y": [
          0.48520238060295484,
          0.355944852507954,
          0.3346269183277474,
          0.33729364682341173,
          0.325310681138902,
          0.3158918154498851,
          0.33226065969428803,
          0.4312511842354576,
          0.3086884859901107,
          0.4771157986324138
         ],
         "yaxis": "y2"
        }
       ],
       "layout": {
        "barmode": "group",
        "legend": {
         "orientation": "v"
        },
        "title": "Counts of Census_InternalBatteryNumberOfCharges by top-10 categories for touch devices",
        "xaxis": {
         "showgrid": false,
         "showline": false,
         "title": "Census_InternalBatteryNumberOfCharges",
         "type": "category",
         "zeroline": false
        },
        "yaxis": {
         "showgrid": false,
         "showline": false,
         "title": "Counts",
         "zeroline": false
        },
        "yaxis2": {
         "overlaying": "y",
         "side": "right",
         "title": "Detections rate"
        }
       }
      },
      "text/html": [
       "<div id=\"8c1490c1-d13c-47e6-a3a7-bde87b72975f\" style=\"height: 525px; width: 100%;\" class=\"plotly-graph-div\"></div><script type=\"text/javascript\">require([\"plotly\"], function(Plotly) { window.PLOTLYENV=window.PLOTLYENV || {};window.PLOTLYENV.BASE_URL=\"https://plot.ly\";Plotly.newPlot(\"8c1490c1-d13c-47e6-a3a7-bde87b72975f\", [{\"name\": \"Touch device counts\", \"x\": [0.0, 1.0, 2.0, 3.0, 4.0, 5.0, 6.0, 16.0, 256.0, 4294967296.0], \"y\": [579181, 25459, 11338, 7996, 6357, 5657, 4972, 15833, 8494, 89647], \"type\": \"bar\", \"uid\": \"06f9a1ed-bf2a-4d97-aabb-a665870739db\"}, {\"name\": \"Detections rate for touch devices\", \"x\": [0.0, 1.0, 2.0, 3.0, 4.0, 5.0, 6.0, 16.0, 256.0, 4294967296.0], \"y\": [0.48520238060295484, 0.355944852507954, 0.3346269183277474, 0.33729364682341173, 0.325310681138902, 0.3158918154498851, 0.33226065969428803, 0.4312511842354576, 0.3086884859901107, 0.4771157986324138], \"yaxis\": \"y2\", \"type\": \"scatter\", \"uid\": \"999652c6-8c8c-460a-8bf6-6293b20b6b5a\"}], {\"barmode\": \"group\", \"legend\": {\"orientation\": \"v\"}, \"title\": \"Counts of Census_InternalBatteryNumberOfCharges by top-10 categories for touch devices\", \"xaxis\": {\"showgrid\": false, \"showline\": false, \"title\": \"Census_InternalBatteryNumberOfCharges\", \"type\": \"category\", \"zeroline\": false}, \"yaxis\": {\"showgrid\": false, \"showline\": false, \"title\": \"Counts\", \"zeroline\": false}, \"yaxis2\": {\"overlaying\": \"y\", \"side\": \"right\", \"title\": \"Detections rate\"}}, {\"showLink\": true, \"linkText\": \"Export to plot.ly\", \"plotlyServerURL\": \"https://plot.ly\"})});</script><script type=\"text/javascript\">window.addEventListener(\"resize\", function(){window._Plotly.Plots.resize(document.getElementById(\"8c1490c1-d13c-47e6-a3a7-bde87b72975f\"));});</script>"
      ],
      "text/vnd.plotly.v1+html": [
       "<div id=\"8c1490c1-d13c-47e6-a3a7-bde87b72975f\" style=\"height: 525px; width: 100%;\" class=\"plotly-graph-div\"></div><script type=\"text/javascript\">require([\"plotly\"], function(Plotly) { window.PLOTLYENV=window.PLOTLYENV || {};window.PLOTLYENV.BASE_URL=\"https://plot.ly\";Plotly.newPlot(\"8c1490c1-d13c-47e6-a3a7-bde87b72975f\", [{\"name\": \"Touch device counts\", \"x\": [0.0, 1.0, 2.0, 3.0, 4.0, 5.0, 6.0, 16.0, 256.0, 4294967296.0], \"y\": [579181, 25459, 11338, 7996, 6357, 5657, 4972, 15833, 8494, 89647], \"type\": \"bar\", \"uid\": \"06f9a1ed-bf2a-4d97-aabb-a665870739db\"}, {\"name\": \"Detections rate for touch devices\", \"x\": [0.0, 1.0, 2.0, 3.0, 4.0, 5.0, 6.0, 16.0, 256.0, 4294967296.0], \"y\": [0.48520238060295484, 0.355944852507954, 0.3346269183277474, 0.33729364682341173, 0.325310681138902, 0.3158918154498851, 0.33226065969428803, 0.4312511842354576, 0.3086884859901107, 0.4771157986324138], \"yaxis\": \"y2\", \"type\": \"scatter\", \"uid\": \"999652c6-8c8c-460a-8bf6-6293b20b6b5a\"}], {\"barmode\": \"group\", \"legend\": {\"orientation\": \"v\"}, \"title\": \"Counts of Census_InternalBatteryNumberOfCharges by top-10 categories for touch devices\", \"xaxis\": {\"showgrid\": false, \"showline\": false, \"title\": \"Census_InternalBatteryNumberOfCharges\", \"type\": \"category\", \"zeroline\": false}, \"yaxis\": {\"showgrid\": false, \"showline\": false, \"title\": \"Counts\", \"zeroline\": false}, \"yaxis2\": {\"overlaying\": \"y\", \"side\": \"right\", \"title\": \"Detections rate\"}}, {\"showLink\": true, \"linkText\": \"Export to plot.ly\", \"plotlyServerURL\": \"https://plot.ly\"})});</script><script type=\"text/javascript\">window.addEventListener(\"resize\", function(){window._Plotly.Plots.resize(document.getElementById(\"8c1490c1-d13c-47e6-a3a7-bde87b72975f\"));});</script>"
      ]
     },
     "metadata": {},
     "output_type": "display_data"
    }
   ],
   "source": [
    "plot_categorical_feature('Census_InternalBatteryNumberOfCharges', True, by_touch=True)"
   ]
  },
  {
   "cell_type": "markdown",
   "metadata": {
    "_uuid": "04805330910b539d5635dc55f9a9e40ad30d7489"
   },
   "source": [
    "Interesting and somewhat strange results. It is expected that most PCs have 0 charges. 4.294967e+09 seems to be some kind of technical value. But having several charges for PC is strange. Anyway, this is definitely a categorical variable."
   ]
  },
  {
   "cell_type": "code",
   "execution_count": 59,
   "metadata": {
    "_uuid": "09c710cfbaabdadae8664fe8363f0107a07ac1a6"
   },
   "outputs": [],
   "source": [
    "train['Census_InternalBatteryNumberOfCharges'] = train['Census_InternalBatteryNumberOfCharges'].astype('category')\n",
    "test['Census_InternalBatteryNumberOfCharges'] = test['Census_InternalBatteryNumberOfCharges'].astype('category')"
   ]
  },
  {
   "cell_type": "markdown",
   "metadata": {
    "_uuid": "2e936d16b19c8aa000b2cb5c3162de8d92e17319"
   },
   "source": [
    "### Census_OSVersion"
   ]
  },
  {
   "cell_type": "code",
   "execution_count": 60,
   "metadata": {
    "_uuid": "7d6e84e5e8ae1f8df43698a055368924cc0e088e"
   },
   "outputs": [
    {
     "name": "stdout",
     "output_type": "stream",
     "text": [
      "Census_OSVersion has 469 unique values and type: category.\n",
      "10.0.17134.228    0.158452\n",
      "10.0.17134.165    0.100848\n",
      "10.0.16299.431    0.061262\n",
      "10.0.17134.285    0.052713\n",
      "10.0.16299.547    0.038878\n",
      "Name: Census_OSVersion, dtype: float64\n"
     ]
    },
    {
     "data": {
      "application/vnd.plotly.v1+json": {
       "config": {
        "linkText": "Export to plot.ly",
        "plotlyServerURL": "https://plot.ly",
        "showLink": true
       },
       "data": [
        {
         "name": "Has Detections",
         "type": "bar",
         "uid": "bcc556fb-cf3f-4e4c-9ab0-de3851b446de",
         "x": [
          "10.0.14393.2189",
          "10.0.16299.371",
          "10.0.16299.431",
          "10.0.16299.547",
          "10.0.16299.611",
          "10.0.17134.112",
          "10.0.17134.165",
          "10.0.17134.191",
          "10.0.17134.228",
          "10.0.17134.285"
         ],
         "y": [
          108951,
          147289,
          272300,
          182365,
          115024,
          170981,
          507414,
          110461,
          754499,
          236785
         ]
        },
        {
         "name": "No Detections",
         "type": "bar",
         "uid": "ac6d5c11-ab12-4300-9e2d-16533af54077",
         "x": [
          "10.0.14393.2189",
          "10.0.16299.371",
          "10.0.16299.431",
          "10.0.16299.547",
          "10.0.16299.611",
          "10.0.17134.112",
          "10.0.17134.165",
          "10.0.17134.191",
          "10.0.17134.228",
          "10.0.17134.285"
         ],
         "y": [
          114824,
          177978,
          274246,
          164488,
          101752,
          175429,
          392297,
          117793,
          659128,
          233495
         ]
        }
       ],
       "layout": {
        "barmode": "group",
        "legend": {
         "orientation": "v"
        },
        "title": "Counts of Census_OSVersion by top-10 categories",
        "xaxis": {
         "showgrid": false,
         "showline": false,
         "title": "Census_OSVersion",
         "zeroline": false
        },
        "yaxis": {
         "showgrid": false,
         "showline": false,
         "title": "Counts",
         "zeroline": false
        }
       }
      },
      "text/html": [
       "<div id=\"da72ce3a-b94e-4fdf-b37f-a02a8e82d802\" style=\"height: 525px; width: 100%;\" class=\"plotly-graph-div\"></div><script type=\"text/javascript\">require([\"plotly\"], function(Plotly) { window.PLOTLYENV=window.PLOTLYENV || {};window.PLOTLYENV.BASE_URL=\"https://plot.ly\";Plotly.newPlot(\"da72ce3a-b94e-4fdf-b37f-a02a8e82d802\", [{\"name\": \"Has Detections\", \"x\": [\"10.0.14393.2189\", \"10.0.16299.371\", \"10.0.16299.431\", \"10.0.16299.547\", \"10.0.16299.611\", \"10.0.17134.112\", \"10.0.17134.165\", \"10.0.17134.191\", \"10.0.17134.228\", \"10.0.17134.285\"], \"y\": [108951, 147289, 272300, 182365, 115024, 170981, 507414, 110461, 754499, 236785], \"type\": \"bar\", \"uid\": \"32ce980f-1f7b-48b6-bd85-957264e39cb6\"}, {\"name\": \"No Detections\", \"x\": [\"10.0.14393.2189\", \"10.0.16299.371\", \"10.0.16299.431\", \"10.0.16299.547\", \"10.0.16299.611\", \"10.0.17134.112\", \"10.0.17134.165\", \"10.0.17134.191\", \"10.0.17134.228\", \"10.0.17134.285\"], \"y\": [114824, 177978, 274246, 164488, 101752, 175429, 392297, 117793, 659128, 233495], \"type\": \"bar\", \"uid\": \"c4dc0397-41f5-472d-ba87-a100147ef7ac\"}], {\"barmode\": \"group\", \"legend\": {\"orientation\": \"v\"}, \"title\": \"Counts of Census_OSVersion by top-10 categories\", \"xaxis\": {\"showgrid\": false, \"showline\": false, \"title\": \"Census_OSVersion\", \"zeroline\": false}, \"yaxis\": {\"showgrid\": false, \"showline\": false, \"title\": \"Counts\", \"zeroline\": false}}, {\"showLink\": true, \"linkText\": \"Export to plot.ly\", \"plotlyServerURL\": \"https://plot.ly\"})});</script><script type=\"text/javascript\">window.addEventListener(\"resize\", function(){window._Plotly.Plots.resize(document.getElementById(\"da72ce3a-b94e-4fdf-b37f-a02a8e82d802\"));});</script>"
      ],
      "text/vnd.plotly.v1+html": [
       "<div id=\"da72ce3a-b94e-4fdf-b37f-a02a8e82d802\" style=\"height: 525px; width: 100%;\" class=\"plotly-graph-div\"></div><script type=\"text/javascript\">require([\"plotly\"], function(Plotly) { window.PLOTLYENV=window.PLOTLYENV || {};window.PLOTLYENV.BASE_URL=\"https://plot.ly\";Plotly.newPlot(\"da72ce3a-b94e-4fdf-b37f-a02a8e82d802\", [{\"name\": \"Has Detections\", \"x\": [\"10.0.14393.2189\", \"10.0.16299.371\", \"10.0.16299.431\", \"10.0.16299.547\", \"10.0.16299.611\", \"10.0.17134.112\", \"10.0.17134.165\", \"10.0.17134.191\", \"10.0.17134.228\", \"10.0.17134.285\"], \"y\": [108951, 147289, 272300, 182365, 115024, 170981, 507414, 110461, 754499, 236785], \"type\": \"bar\", \"uid\": \"32ce980f-1f7b-48b6-bd85-957264e39cb6\"}, {\"name\": \"No Detections\", \"x\": [\"10.0.14393.2189\", \"10.0.16299.371\", \"10.0.16299.431\", \"10.0.16299.547\", \"10.0.16299.611\", \"10.0.17134.112\", \"10.0.17134.165\", \"10.0.17134.191\", \"10.0.17134.228\", \"10.0.17134.285\"], \"y\": [114824, 177978, 274246, 164488, 101752, 175429, 392297, 117793, 659128, 233495], \"type\": \"bar\", \"uid\": \"c4dc0397-41f5-472d-ba87-a100147ef7ac\"}], {\"barmode\": \"group\", \"legend\": {\"orientation\": \"v\"}, \"title\": \"Counts of Census_OSVersion by top-10 categories\", \"xaxis\": {\"showgrid\": false, \"showline\": false, \"title\": \"Census_OSVersion\", \"zeroline\": false}, \"yaxis\": {\"showgrid\": false, \"showline\": false, \"title\": \"Counts\", \"zeroline\": false}}, {\"showLink\": true, \"linkText\": \"Export to plot.ly\", \"plotlyServerURL\": \"https://plot.ly\"})});</script><script type=\"text/javascript\">window.addEventListener(\"resize\", function(){window._Plotly.Plots.resize(document.getElementById(\"da72ce3a-b94e-4fdf-b37f-a02a8e82d802\"));});</script>"
      ]
     },
     "metadata": {},
     "output_type": "display_data"
    }
   ],
   "source": [
    "plot_categorical_feature('Census_OSVersion', True)"
   ]
  },
  {
   "cell_type": "markdown",
   "metadata": {
    "_uuid": "2063488bd80f442bb4383bec941dd87b85a17c68"
   },
   "source": [
    "### Census_OSBranch"
   ]
  },
  {
   "cell_type": "code",
   "execution_count": 61,
   "metadata": {
    "_uuid": "d49ddc0060d915a104c9ba4226c605f60d54cc3e"
   },
   "outputs": [
    {
     "name": "stdout",
     "output_type": "stream",
     "text": [
      "Census_OSBranch has 32 unique values and type: category.\n",
      "rs4_release               0.449382\n",
      "rs3_release               0.138690\n",
      "rs3_release_svc_escrow    0.134481\n",
      "rs2_release               0.089342\n",
      "rs1_release               0.088050\n",
      "Name: Census_OSBranch, dtype: float64\n"
     ]
    },
    {
     "data": {
      "application/vnd.plotly.v1+json": {
       "config": {
        "linkText": "Export to plot.ly",
        "plotlyServerURL": "https://plot.ly",
        "showLink": true
       },
       "data": [
        {
         "name": "Has Detections",
         "type": "bar",
         "uid": "c8a05c94-d714-4c6b-8a00-20ca7d44352a",
         "x": [
          "rs1_release",
          "rs2_release",
          "rs3_release",
          "rs3_release_svc_escrow",
          "rs4_release",
          "rs5_release",
          "th1",
          "th1_st1",
          "th2_release",
          "th2_release_sec"
         ],
         "y": [
          364050,
          381620,
          575677,
          619778,
          2092879,
          6579,
          33014,
          99089,
          161993,
          119134
         ]
        },
        {
         "name": "No Detections",
         "type": "bar",
         "uid": "47f4e9b6-d78c-4c84-9e3b-cf3b7801ea73",
         "x": [
          "rs1_release",
          "rs2_release",
          "rs3_release",
          "rs3_release_svc_escrow",
          "rs4_release",
          "rs5_release",
          "th1",
          "th1_st1",
          "th2_release",
          "th2_release_sec"
         ],
         "y": [
          421484,
          415446,
          661644,
          579989,
          1916279,
          8745,
          42750,
          96751,
          164662,
          147748
         ]
        }
       ],
       "layout": {
        "barmode": "group",
        "legend": {
         "orientation": "v"
        },
        "title": "Counts of Census_OSBranch by top-10 categories",
        "xaxis": {
         "showgrid": false,
         "showline": false,
         "title": "Census_OSBranch",
         "zeroline": false
        },
        "yaxis": {
         "showgrid": false,
         "showline": false,
         "title": "Counts",
         "zeroline": false
        }
       }
      },
      "text/html": [
       "<div id=\"523b0d40-94a9-4cc5-89ba-6093adc11662\" style=\"height: 525px; width: 100%;\" class=\"plotly-graph-div\"></div><script type=\"text/javascript\">require([\"plotly\"], function(Plotly) { window.PLOTLYENV=window.PLOTLYENV || {};window.PLOTLYENV.BASE_URL=\"https://plot.ly\";Plotly.newPlot(\"523b0d40-94a9-4cc5-89ba-6093adc11662\", [{\"name\": \"Has Detections\", \"x\": [\"rs1_release\", \"rs2_release\", \"rs3_release\", \"rs3_release_svc_escrow\", \"rs4_release\", \"rs5_release\", \"th1\", \"th1_st1\", \"th2_release\", \"th2_release_sec\"], \"y\": [364050, 381620, 575677, 619778, 2092879, 6579, 33014, 99089, 161993, 119134], \"type\": \"bar\", \"uid\": \"e0fdde84-9ab3-459e-be50-e39884b47de2\"}, {\"name\": \"No Detections\", \"x\": [\"rs1_release\", \"rs2_release\", \"rs3_release\", \"rs3_release_svc_escrow\", \"rs4_release\", \"rs5_release\", \"th1\", \"th1_st1\", \"th2_release\", \"th2_release_sec\"], \"y\": [421484, 415446, 661644, 579989, 1916279, 8745, 42750, 96751, 164662, 147748], \"type\": \"bar\", \"uid\": \"fb345dbb-133c-44b1-9f0a-512c5fb30fa0\"}], {\"barmode\": \"group\", \"legend\": {\"orientation\": \"v\"}, \"title\": \"Counts of Census_OSBranch by top-10 categories\", \"xaxis\": {\"showgrid\": false, \"showline\": false, \"title\": \"Census_OSBranch\", \"zeroline\": false}, \"yaxis\": {\"showgrid\": false, \"showline\": false, \"title\": \"Counts\", \"zeroline\": false}}, {\"showLink\": true, \"linkText\": \"Export to plot.ly\", \"plotlyServerURL\": \"https://plot.ly\"})});</script><script type=\"text/javascript\">window.addEventListener(\"resize\", function(){window._Plotly.Plots.resize(document.getElementById(\"523b0d40-94a9-4cc5-89ba-6093adc11662\"));});</script>"
      ],
      "text/vnd.plotly.v1+html": [
       "<div id=\"523b0d40-94a9-4cc5-89ba-6093adc11662\" style=\"height: 525px; width: 100%;\" class=\"plotly-graph-div\"></div><script type=\"text/javascript\">require([\"plotly\"], function(Plotly) { window.PLOTLYENV=window.PLOTLYENV || {};window.PLOTLYENV.BASE_URL=\"https://plot.ly\";Plotly.newPlot(\"523b0d40-94a9-4cc5-89ba-6093adc11662\", [{\"name\": \"Has Detections\", \"x\": [\"rs1_release\", \"rs2_release\", \"rs3_release\", \"rs3_release_svc_escrow\", \"rs4_release\", \"rs5_release\", \"th1\", \"th1_st1\", \"th2_release\", \"th2_release_sec\"], \"y\": [364050, 381620, 575677, 619778, 2092879, 6579, 33014, 99089, 161993, 119134], \"type\": \"bar\", \"uid\": \"e0fdde84-9ab3-459e-be50-e39884b47de2\"}, {\"name\": \"No Detections\", \"x\": [\"rs1_release\", \"rs2_release\", \"rs3_release\", \"rs3_release_svc_escrow\", \"rs4_release\", \"rs5_release\", \"th1\", \"th1_st1\", \"th2_release\", \"th2_release_sec\"], \"y\": [421484, 415446, 661644, 579989, 1916279, 8745, 42750, 96751, 164662, 147748], \"type\": \"bar\", \"uid\": \"fb345dbb-133c-44b1-9f0a-512c5fb30fa0\"}], {\"barmode\": \"group\", \"legend\": {\"orientation\": \"v\"}, \"title\": \"Counts of Census_OSBranch by top-10 categories\", \"xaxis\": {\"showgrid\": false, \"showline\": false, \"title\": \"Census_OSBranch\", \"zeroline\": false}, \"yaxis\": {\"showgrid\": false, \"showline\": false, \"title\": \"Counts\", \"zeroline\": false}}, {\"showLink\": true, \"linkText\": \"Export to plot.ly\", \"plotlyServerURL\": \"https://plot.ly\"})});</script><script type=\"text/javascript\">window.addEventListener(\"resize\", function(){window._Plotly.Plots.resize(document.getElementById(\"523b0d40-94a9-4cc5-89ba-6093adc11662\"));});</script>"
      ]
     },
     "metadata": {},
     "output_type": "display_data"
    }
   ],
   "source": [
    "plot_categorical_feature('Census_OSBranch', True)"
   ]
  },
  {
   "cell_type": "markdown",
   "metadata": {
    "_uuid": "b72fbc344585436185f7a34b4110ca7e48b4a33f"
   },
   "source": [
    "### Census_OSBuildNumber"
   ]
  },
  {
   "cell_type": "code",
   "execution_count": 62,
   "metadata": {
    "_uuid": "487f4612f466695db715a69f05a88d580ecba7b3"
   },
   "outputs": [
    {
     "name": "stdout",
     "output_type": "stream",
     "text": [
      "Census_OSBuildNumber has 165 unique values and type: int16.\n",
      "17134    0.449351\n",
      "16299    0.273861\n",
      "15063    0.089340\n",
      "14393    0.088040\n",
      "10586    0.066528\n",
      "Name: Census_OSBuildNumber, dtype: float64\n"
     ]
    },
    {
     "data": {
      "application/vnd.plotly.v1+json": {
       "config": {
        "linkText": "Export to plot.ly",
        "plotlyServerURL": "https://plot.ly",
        "showLink": true
       },
       "data": [
        {
         "name": "Has Detections",
         "type": "bar",
         "uid": "65f27b29-bbf0-4179-a7a9-04353e7e6455",
         "x": [
          10240,
          10586,
          14393,
          15063,
          16299,
          17134,
          17692,
          17738,
          17744,
          17758
         ],
         "y": [
          132103,
          281120,
          364004,
          381610,
          1198018,
          2092768,
          1407,
          1142,
          1062,
          747
         ]
        },
        {
         "name": "No Detections",
         "type": "bar",
         "uid": "d4236cca-576d-4e0f-ae44-a33e0c8e56a6",
         "x": [
          10240,
          10586,
          14393,
          15063,
          16299,
          17134,
          17692,
          17738,
          17744,
          17758
         ],
         "y": [
          139501,
          312407,
          421446,
          415439,
          1245231,
          1916113,
          1689,
          1920,
          1310,
          956
         ]
        }
       ],
       "layout": {
        "barmode": "group",
        "legend": {
         "orientation": "v"
        },
        "title": "Counts of Census_OSBuildNumber by top-10 categories",
        "xaxis": {
         "showgrid": false,
         "showline": false,
         "title": "Census_OSBuildNumber",
         "zeroline": false
        },
        "yaxis": {
         "showgrid": false,
         "showline": false,
         "title": "Counts",
         "zeroline": false
        }
       }
      },
      "text/html": [
       "<div id=\"a677c072-1dbf-4869-84af-209e3dae89a7\" style=\"height: 525px; width: 100%;\" class=\"plotly-graph-div\"></div><script type=\"text/javascript\">require([\"plotly\"], function(Plotly) { window.PLOTLYENV=window.PLOTLYENV || {};window.PLOTLYENV.BASE_URL=\"https://plot.ly\";Plotly.newPlot(\"a677c072-1dbf-4869-84af-209e3dae89a7\", [{\"name\": \"Has Detections\", \"x\": [10240, 10586, 14393, 15063, 16299, 17134, 17692, 17738, 17744, 17758], \"y\": [132103, 281120, 364004, 381610, 1198018, 2092768, 1407, 1142, 1062, 747], \"type\": \"bar\", \"uid\": \"61b1d352-9ca3-4f05-a188-06b2a719b54c\"}, {\"name\": \"No Detections\", \"x\": [10240, 10586, 14393, 15063, 16299, 17134, 17692, 17738, 17744, 17758], \"y\": [139501, 312407, 421446, 415439, 1245231, 1916113, 1689, 1920, 1310, 956], \"type\": \"bar\", \"uid\": \"ce3ef899-4300-4243-8005-3b6253e55470\"}], {\"barmode\": \"group\", \"legend\": {\"orientation\": \"v\"}, \"title\": \"Counts of Census_OSBuildNumber by top-10 categories\", \"xaxis\": {\"showgrid\": false, \"showline\": false, \"title\": \"Census_OSBuildNumber\", \"zeroline\": false}, \"yaxis\": {\"showgrid\": false, \"showline\": false, \"title\": \"Counts\", \"zeroline\": false}}, {\"showLink\": true, \"linkText\": \"Export to plot.ly\", \"plotlyServerURL\": \"https://plot.ly\"})});</script><script type=\"text/javascript\">window.addEventListener(\"resize\", function(){window._Plotly.Plots.resize(document.getElementById(\"a677c072-1dbf-4869-84af-209e3dae89a7\"));});</script>"
      ],
      "text/vnd.plotly.v1+html": [
       "<div id=\"a677c072-1dbf-4869-84af-209e3dae89a7\" style=\"height: 525px; width: 100%;\" class=\"plotly-graph-div\"></div><script type=\"text/javascript\">require([\"plotly\"], function(Plotly) { window.PLOTLYENV=window.PLOTLYENV || {};window.PLOTLYENV.BASE_URL=\"https://plot.ly\";Plotly.newPlot(\"a677c072-1dbf-4869-84af-209e3dae89a7\", [{\"name\": \"Has Detections\", \"x\": [10240, 10586, 14393, 15063, 16299, 17134, 17692, 17738, 17744, 17758], \"y\": [132103, 281120, 364004, 381610, 1198018, 2092768, 1407, 1142, 1062, 747], \"type\": \"bar\", \"uid\": \"61b1d352-9ca3-4f05-a188-06b2a719b54c\"}, {\"name\": \"No Detections\", \"x\": [10240, 10586, 14393, 15063, 16299, 17134, 17692, 17738, 17744, 17758], \"y\": [139501, 312407, 421446, 415439, 1245231, 1916113, 1689, 1920, 1310, 956], \"type\": \"bar\", \"uid\": \"ce3ef899-4300-4243-8005-3b6253e55470\"}], {\"barmode\": \"group\", \"legend\": {\"orientation\": \"v\"}, \"title\": \"Counts of Census_OSBuildNumber by top-10 categories\", \"xaxis\": {\"showgrid\": false, \"showline\": false, \"title\": \"Census_OSBuildNumber\", \"zeroline\": false}, \"yaxis\": {\"showgrid\": false, \"showline\": false, \"title\": \"Counts\", \"zeroline\": false}}, {\"showLink\": true, \"linkText\": \"Export to plot.ly\", \"plotlyServerURL\": \"https://plot.ly\"})});</script><script type=\"text/javascript\">window.addEventListener(\"resize\", function(){window._Plotly.Plots.resize(document.getElementById(\"a677c072-1dbf-4869-84af-209e3dae89a7\"));});</script>"
      ]
     },
     "metadata": {},
     "output_type": "display_data"
    }
   ],
   "source": [
    "plot_categorical_feature('Census_OSBuildNumber', True)"
   ]
  },
  {
   "cell_type": "code",
   "execution_count": 63,
   "metadata": {
    "_uuid": "998b56953bbb390f1b7d82f1615836aafa3ff9a1"
   },
   "outputs": [],
   "source": [
    "train['Census_OSBuildNumber'] = train['Census_OSBuildNumber'].astype('category')\n",
    "test['Census_OSBuildNumber'] = test['Census_OSBuildNumber'].astype('category')"
   ]
  },
  {
   "cell_type": "markdown",
   "metadata": {
    "_uuid": "b4c12d5230be058e41e7ec1356703b9f65dee48f"
   },
   "source": [
    "### Census_OSBuildRevision"
   ]
  },
  {
   "cell_type": "code",
   "execution_count": 64,
   "metadata": {
    "_uuid": "727619f5208abb305d072453e770765a2a217f8e"
   },
   "outputs": [
    {
     "name": "stdout",
     "output_type": "stream",
     "text": [
      "Census_OSBuildRevision has 285 unique values and type: int32.\n",
      "228    0.158453\n",
      "165    0.100848\n",
      "431    0.061262\n",
      "285    0.052713\n",
      "547    0.038878\n",
      "Name: Census_OSBuildRevision, dtype: float64\n"
     ]
    },
    {
     "data": {
      "application/vnd.plotly.v1+json": {
       "config": {
        "linkText": "Export to plot.ly",
        "plotlyServerURL": "https://plot.ly",
        "showLink": true
       },
       "data": [
        {
         "name": "Has Detections",
         "type": "bar",
         "uid": "d8294779-fd4e-4948-8aeb-bc18dff2a0fb",
         "x": [
          112,
          165,
          191,
          228,
          285,
          371,
          431,
          547,
          611,
          2189
         ],
         "y": [
          171022,
          507414,
          110462,
          754503,
          236785,
          147289,
          272301,
          182365,
          115024,
          108951
         ]
        },
        {
         "name": "No Detections",
         "type": "bar",
         "uid": "3697621d-6953-4c24-a226-b42b5fcc0ff3",
         "x": [
          112,
          165,
          191,
          228,
          285,
          371,
          431,
          547,
          611,
          2189
         ],
         "y": [
          175466,
          392298,
          117793,
          659130,
          233495,
          177978,
          274247,
          164488,
          101752,
          114824
         ]
        }
       ],
       "layout": {
        "barmode": "group",
        "legend": {
         "orientation": "v"
        },
        "title": "Counts of Census_OSBuildRevision by top-10 categories",
        "xaxis": {
         "showgrid": false,
         "showline": false,
         "title": "Census_OSBuildRevision",
         "zeroline": false
        },
        "yaxis": {
         "showgrid": false,
         "showline": false,
         "title": "Counts",
         "zeroline": false
        }
       }
      },
      "text/html": [
       "<div id=\"6ae3a784-db19-44bc-b665-7d1af21e9ab9\" style=\"height: 525px; width: 100%;\" class=\"plotly-graph-div\"></div><script type=\"text/javascript\">require([\"plotly\"], function(Plotly) { window.PLOTLYENV=window.PLOTLYENV || {};window.PLOTLYENV.BASE_URL=\"https://plot.ly\";Plotly.newPlot(\"6ae3a784-db19-44bc-b665-7d1af21e9ab9\", [{\"name\": \"Has Detections\", \"x\": [112, 165, 191, 228, 285, 371, 431, 547, 611, 2189], \"y\": [171022, 507414, 110462, 754503, 236785, 147289, 272301, 182365, 115024, 108951], \"type\": \"bar\", \"uid\": \"130e86a4-8ae1-45eb-9ee5-621e28fbee5a\"}, {\"name\": \"No Detections\", \"x\": [112, 165, 191, 228, 285, 371, 431, 547, 611, 2189], \"y\": [175466, 392298, 117793, 659130, 233495, 177978, 274247, 164488, 101752, 114824], \"type\": \"bar\", \"uid\": \"00b49208-7bca-4bca-93cb-2e15b3bac552\"}], {\"barmode\": \"group\", \"legend\": {\"orientation\": \"v\"}, \"title\": \"Counts of Census_OSBuildRevision by top-10 categories\", \"xaxis\": {\"showgrid\": false, \"showline\": false, \"title\": \"Census_OSBuildRevision\", \"zeroline\": false}, \"yaxis\": {\"showgrid\": false, \"showline\": false, \"title\": \"Counts\", \"zeroline\": false}}, {\"showLink\": true, \"linkText\": \"Export to plot.ly\", \"plotlyServerURL\": \"https://plot.ly\"})});</script><script type=\"text/javascript\">window.addEventListener(\"resize\", function(){window._Plotly.Plots.resize(document.getElementById(\"6ae3a784-db19-44bc-b665-7d1af21e9ab9\"));});</script>"
      ],
      "text/vnd.plotly.v1+html": [
       "<div id=\"6ae3a784-db19-44bc-b665-7d1af21e9ab9\" style=\"height: 525px; width: 100%;\" class=\"plotly-graph-div\"></div><script type=\"text/javascript\">require([\"plotly\"], function(Plotly) { window.PLOTLYENV=window.PLOTLYENV || {};window.PLOTLYENV.BASE_URL=\"https://plot.ly\";Plotly.newPlot(\"6ae3a784-db19-44bc-b665-7d1af21e9ab9\", [{\"name\": \"Has Detections\", \"x\": [112, 165, 191, 228, 285, 371, 431, 547, 611, 2189], \"y\": [171022, 507414, 110462, 754503, 236785, 147289, 272301, 182365, 115024, 108951], \"type\": \"bar\", \"uid\": \"130e86a4-8ae1-45eb-9ee5-621e28fbee5a\"}, {\"name\": \"No Detections\", \"x\": [112, 165, 191, 228, 285, 371, 431, 547, 611, 2189], \"y\": [175466, 392298, 117793, 659130, 233495, 177978, 274247, 164488, 101752, 114824], \"type\": \"bar\", \"uid\": \"00b49208-7bca-4bca-93cb-2e15b3bac552\"}], {\"barmode\": \"group\", \"legend\": {\"orientation\": \"v\"}, \"title\": \"Counts of Census_OSBuildRevision by top-10 categories\", \"xaxis\": {\"showgrid\": false, \"showline\": false, \"title\": \"Census_OSBuildRevision\", \"zeroline\": false}, \"yaxis\": {\"showgrid\": false, \"showline\": false, \"title\": \"Counts\", \"zeroline\": false}}, {\"showLink\": true, \"linkText\": \"Export to plot.ly\", \"plotlyServerURL\": \"https://plot.ly\"})});</script><script type=\"text/javascript\">window.addEventListener(\"resize\", function(){window._Plotly.Plots.resize(document.getElementById(\"6ae3a784-db19-44bc-b665-7d1af21e9ab9\"));});</script>"
      ]
     },
     "metadata": {},
     "output_type": "display_data"
    }
   ],
   "source": [
    "plot_categorical_feature('Census_OSBuildRevision', True)"
   ]
  },
  {
   "cell_type": "code",
   "execution_count": 65,
   "metadata": {
    "_uuid": "519418df0adb8072989d2fd148e9b574510f985d"
   },
   "outputs": [],
   "source": [
    "train['Census_OSBuildRevision'] = train['Census_OSBuildRevision'].astype('category')\n",
    "test['Census_OSBuildRevision'] = test['Census_OSBuildRevision'].astype('category')"
   ]
  },
  {
   "cell_type": "markdown",
   "metadata": {
    "_uuid": "6b7066691323f6fe95faad5d1bfd952817e94367"
   },
   "source": [
    "### Census_FirmwareManufacturerIdentifier"
   ]
  },
  {
   "cell_type": "code",
   "execution_count": 66,
   "metadata": {
    "_uuid": "9f21580c86024a17f5dcfd723fec070aa01d7cd2"
   },
   "outputs": [
    {
     "name": "stdout",
     "output_type": "stream",
     "text": [
      "Census_FirmwareManufacturerIdentifier has 712 unique values and type: float16.\n",
      "142.0    0.302537\n",
      "628.0    0.137773\n",
      "554.0    0.131720\n",
      "355.0    0.105565\n",
      "556.0    0.089731\n",
      "Name: Census_FirmwareManufacturerIdentifier, dtype: float64\n"
     ]
    },
    {
     "data": {
      "application/vnd.plotly.v1+json": {
       "config": {
        "linkText": "Export to plot.ly",
        "plotlyServerURL": "https://plot.ly",
        "showLink": true
       },
       "data": [
        {
         "name": "Has Detections",
         "type": "bar",
         "uid": "e5ac1bf4-43a4-4c5e-a799-c6aa04a26f47",
         "x": [
          93,
          142,
          355,
          500,
          513,
          554,
          556,
          628,
          807
         ],
         "y": [
          101111,
          1400255,
          482124,
          180328,
          57228,
          599526,
          404023,
          616527,
          74714
         ]
        },
        {
         "name": "No Detections",
         "type": "bar",
         "uid": "3b59d9a9-a5dc-4e38-ac5e-b8578b4ce771",
         "x": [
          93,
          142,
          355,
          500,
          513,
          554,
          556,
          628,
          807
         ],
         "y": [
          91370,
          1298823,
          459669,
          204999,
          85160,
          575611,
          396513,
          612613,
          82458
         ]
        }
       ],
       "layout": {
        "barmode": "group",
        "legend": {
         "orientation": "v"
        },
        "title": "Counts of Census_FirmwareManufacturerIdentifier by top-10 categories",
        "xaxis": {
         "showgrid": false,
         "showline": false,
         "title": "Census_FirmwareManufacturerIdentifier",
         "zeroline": false
        },
        "yaxis": {
         "showgrid": false,
         "showline": false,
         "title": "Counts",
         "zeroline": false
        }
       }
      },
      "text/html": [
       "<div id=\"94fc0200-30a0-43b9-851f-49baaaf0fa52\" style=\"height: 525px; width: 100%;\" class=\"plotly-graph-div\"></div><script type=\"text/javascript\">require([\"plotly\"], function(Plotly) { window.PLOTLYENV=window.PLOTLYENV || {};window.PLOTLYENV.BASE_URL=\"https://plot.ly\";Plotly.newPlot(\"94fc0200-30a0-43b9-851f-49baaaf0fa52\", [{\"name\": \"Has Detections\", \"x\": [93.0, 142.0, 355.0, 500.0, 513.0, 554.0, 556.0, 628.0, 807.0], \"y\": [101111, 1400255, 482124, 180328, 57228, 599526, 404023, 616527, 74714], \"type\": \"bar\", \"uid\": \"8cf3ab4a-cbc6-4198-9620-6134d4e8e066\"}, {\"name\": \"No Detections\", \"x\": [93.0, 142.0, 355.0, 500.0, 513.0, 554.0, 556.0, 628.0, 807.0], \"y\": [91370, 1298823, 459669, 204999, 85160, 575611, 396513, 612613, 82458], \"type\": \"bar\", \"uid\": \"fc8e858c-6ec0-449f-9ddb-bd85d49be36e\"}], {\"barmode\": \"group\", \"legend\": {\"orientation\": \"v\"}, \"title\": \"Counts of Census_FirmwareManufacturerIdentifier by top-10 categories\", \"xaxis\": {\"showgrid\": false, \"showline\": false, \"title\": \"Census_FirmwareManufacturerIdentifier\", \"zeroline\": false}, \"yaxis\": {\"showgrid\": false, \"showline\": false, \"title\": \"Counts\", \"zeroline\": false}}, {\"showLink\": true, \"linkText\": \"Export to plot.ly\", \"plotlyServerURL\": \"https://plot.ly\"})});</script><script type=\"text/javascript\">window.addEventListener(\"resize\", function(){window._Plotly.Plots.resize(document.getElementById(\"94fc0200-30a0-43b9-851f-49baaaf0fa52\"));});</script>"
      ],
      "text/vnd.plotly.v1+html": [
       "<div id=\"94fc0200-30a0-43b9-851f-49baaaf0fa52\" style=\"height: 525px; width: 100%;\" class=\"plotly-graph-div\"></div><script type=\"text/javascript\">require([\"plotly\"], function(Plotly) { window.PLOTLYENV=window.PLOTLYENV || {};window.PLOTLYENV.BASE_URL=\"https://plot.ly\";Plotly.newPlot(\"94fc0200-30a0-43b9-851f-49baaaf0fa52\", [{\"name\": \"Has Detections\", \"x\": [93.0, 142.0, 355.0, 500.0, 513.0, 554.0, 556.0, 628.0, 807.0], \"y\": [101111, 1400255, 482124, 180328, 57228, 599526, 404023, 616527, 74714], \"type\": \"bar\", \"uid\": \"8cf3ab4a-cbc6-4198-9620-6134d4e8e066\"}, {\"name\": \"No Detections\", \"x\": [93.0, 142.0, 355.0, 500.0, 513.0, 554.0, 556.0, 628.0, 807.0], \"y\": [91370, 1298823, 459669, 204999, 85160, 575611, 396513, 612613, 82458], \"type\": \"bar\", \"uid\": \"fc8e858c-6ec0-449f-9ddb-bd85d49be36e\"}], {\"barmode\": \"group\", \"legend\": {\"orientation\": \"v\"}, \"title\": \"Counts of Census_FirmwareManufacturerIdentifier by top-10 categories\", \"xaxis\": {\"showgrid\": false, \"showline\": false, \"title\": \"Census_FirmwareManufacturerIdentifier\", \"zeroline\": false}, \"yaxis\": {\"showgrid\": false, \"showline\": false, \"title\": \"Counts\", \"zeroline\": false}}, {\"showLink\": true, \"linkText\": \"Export to plot.ly\", \"plotlyServerURL\": \"https://plot.ly\"})});</script><script type=\"text/javascript\">window.addEventListener(\"resize\", function(){window._Plotly.Plots.resize(document.getElementById(\"94fc0200-30a0-43b9-851f-49baaaf0fa52\"));});</script>"
      ]
     },
     "metadata": {},
     "output_type": "display_data"
    }
   ],
   "source": [
    "plot_categorical_feature('Census_FirmwareManufacturerIdentifier', True)"
   ]
  },
  {
   "cell_type": "code",
   "execution_count": 67,
   "metadata": {
    "_uuid": "4269f5becd963ab57a558d5d872220c168462027"
   },
   "outputs": [],
   "source": [
    "train['Census_FirmwareManufacturerIdentifier'] = train['Census_FirmwareManufacturerIdentifier'].astype('category')\n",
    "test['Census_FirmwareManufacturerIdentifier'] = test['Census_FirmwareManufacturerIdentifier'].astype('category')"
   ]
  },
  {
   "cell_type": "markdown",
   "metadata": {
    "_uuid": "12f57f7f92ba616047ca6c4cc9e1b7aebc18c881"
   },
   "source": [
    "### Census_FirmwareVersionIdentifier"
   ]
  },
  {
   "cell_type": "code",
   "execution_count": 68,
   "metadata": {
    "_uuid": "9931bade616315f1cbcf26c4986718ca1068733b"
   },
   "outputs": [
    {
     "name": "stdout",
     "output_type": "stream",
     "text": [
      "Census_FirmwareVersionIdentifier has 50494 unique values and type: float32.\n",
      "NaN         0.017949\n",
      " 33105.0    0.010044\n",
      " 33111.0    0.006903\n",
      " 33054.0    0.006347\n",
      " 33108.0    0.006169\n",
      "Name: Census_FirmwareVersionIdentifier, dtype: float64\n"
     ]
    },
    {
     "data": {
      "application/vnd.plotly.v1+json": {
       "config": {
        "linkText": "Export to plot.ly",
        "plotlyServerURL": "https://plot.ly",
        "showLink": true
       },
       "data": [
        {
         "name": "Has Detections",
         "type": "bar",
         "uid": "3570eb96-8317-4c9c-aab7-fb6db0a868ca",
         "x": [
          11778,
          33054,
          33060,
          33105,
          33108,
          33111,
          33115,
          63155,
          63175
         ],
         "y": [
          28027,
          28930,
          23869,
          45370,
          28068,
          31624,
          26119,
          23689,
          25437
         ]
        },
        {
         "name": "No Detections",
         "type": "bar",
         "uid": "4f23fa28-fb52-4f46-b0e4-eb52ff30724c",
         "x": [
          11778,
          33054,
          33060,
          33105,
          33108,
          33111,
          33115,
          63155,
          63175
         ],
         "y": [
          25758,
          27696,
          24718,
          44241,
          26972,
          29959,
          24853,
          25385,
          27067
         ]
        }
       ],
       "layout": {
        "barmode": "group",
        "legend": {
         "orientation": "v"
        },
        "title": "Counts of Census_FirmwareVersionIdentifier by top-10 categories",
        "xaxis": {
         "showgrid": false,
         "showline": false,
         "title": "Census_FirmwareVersionIdentifier",
         "zeroline": false
        },
        "yaxis": {
         "showgrid": false,
         "showline": false,
         "title": "Counts",
         "zeroline": false
        }
       }
      },
      "text/html": [
       "<div id=\"4ae6ac6f-9009-46e0-afdd-a8ccf0c8447f\" style=\"height: 525px; width: 100%;\" class=\"plotly-graph-div\"></div><script type=\"text/javascript\">require([\"plotly\"], function(Plotly) { window.PLOTLYENV=window.PLOTLYENV || {};window.PLOTLYENV.BASE_URL=\"https://plot.ly\";Plotly.newPlot(\"4ae6ac6f-9009-46e0-afdd-a8ccf0c8447f\", [{\"name\": \"Has Detections\", \"x\": [11778.0, 33054.0, 33060.0, 33105.0, 33108.0, 33111.0, 33115.0, 63155.0, 63175.0], \"y\": [28027, 28930, 23869, 45370, 28068, 31624, 26119, 23689, 25437], \"type\": \"bar\", \"uid\": \"df3f018e-7383-4d23-8826-c82b0850c490\"}, {\"name\": \"No Detections\", \"x\": [11778.0, 33054.0, 33060.0, 33105.0, 33108.0, 33111.0, 33115.0, 63155.0, 63175.0], \"y\": [25758, 27696, 24718, 44241, 26972, 29959, 24853, 25385, 27067], \"type\": \"bar\", \"uid\": \"a45beef0-a5ad-4674-9c4a-29bb38065990\"}], {\"barmode\": \"group\", \"legend\": {\"orientation\": \"v\"}, \"title\": \"Counts of Census_FirmwareVersionIdentifier by top-10 categories\", \"xaxis\": {\"showgrid\": false, \"showline\": false, \"title\": \"Census_FirmwareVersionIdentifier\", \"zeroline\": false}, \"yaxis\": {\"showgrid\": false, \"showline\": false, \"title\": \"Counts\", \"zeroline\": false}}, {\"showLink\": true, \"linkText\": \"Export to plot.ly\", \"plotlyServerURL\": \"https://plot.ly\"})});</script><script type=\"text/javascript\">window.addEventListener(\"resize\", function(){window._Plotly.Plots.resize(document.getElementById(\"4ae6ac6f-9009-46e0-afdd-a8ccf0c8447f\"));});</script>"
      ],
      "text/vnd.plotly.v1+html": [
       "<div id=\"4ae6ac6f-9009-46e0-afdd-a8ccf0c8447f\" style=\"height: 525px; width: 100%;\" class=\"plotly-graph-div\"></div><script type=\"text/javascript\">require([\"plotly\"], function(Plotly) { window.PLOTLYENV=window.PLOTLYENV || {};window.PLOTLYENV.BASE_URL=\"https://plot.ly\";Plotly.newPlot(\"4ae6ac6f-9009-46e0-afdd-a8ccf0c8447f\", [{\"name\": \"Has Detections\", \"x\": [11778.0, 33054.0, 33060.0, 33105.0, 33108.0, 33111.0, 33115.0, 63155.0, 63175.0], \"y\": [28027, 28930, 23869, 45370, 28068, 31624, 26119, 23689, 25437], \"type\": \"bar\", \"uid\": \"df3f018e-7383-4d23-8826-c82b0850c490\"}, {\"name\": \"No Detections\", \"x\": [11778.0, 33054.0, 33060.0, 33105.0, 33108.0, 33111.0, 33115.0, 63155.0, 63175.0], \"y\": [25758, 27696, 24718, 44241, 26972, 29959, 24853, 25385, 27067], \"type\": \"bar\", \"uid\": \"a45beef0-a5ad-4674-9c4a-29bb38065990\"}], {\"barmode\": \"group\", \"legend\": {\"orientation\": \"v\"}, \"title\": \"Counts of Census_FirmwareVersionIdentifier by top-10 categories\", \"xaxis\": {\"showgrid\": false, \"showline\": false, \"title\": \"Census_FirmwareVersionIdentifier\", \"zeroline\": false}, \"yaxis\": {\"showgrid\": false, \"showline\": false, \"title\": \"Counts\", \"zeroline\": false}}, {\"showLink\": true, \"linkText\": \"Export to plot.ly\", \"plotlyServerURL\": \"https://plot.ly\"})});</script><script type=\"text/javascript\">window.addEventListener(\"resize\", function(){window._Plotly.Plots.resize(document.getElementById(\"4ae6ac6f-9009-46e0-afdd-a8ccf0c8447f\"));});</script>"
      ]
     },
     "metadata": {},
     "output_type": "display_data"
    }
   ],
   "source": [
    "plot_categorical_feature('Census_FirmwareVersionIdentifier', True)"
   ]
  },
  {
   "cell_type": "code",
   "execution_count": 69,
   "metadata": {
    "_uuid": "6f780aeb066bf4792913b4be3a66d76c897c2fd4"
   },
   "outputs": [],
   "source": [
    "train['Census_FirmwareVersionIdentifier'] = train['Census_FirmwareVersionIdentifier'].astype('category')\n",
    "test['Census_FirmwareVersionIdentifier'] = test['Census_FirmwareVersionIdentifier'].astype('category')"
   ]
  },
  {
   "cell_type": "markdown",
   "metadata": {
    "_uuid": "00bde2f28f3f8cdbe4558245b1f686f50aedc58e"
   },
   "source": [
    "### OsBuild"
   ]
  },
  {
   "cell_type": "code",
   "execution_count": 70,
   "metadata": {
    "_uuid": "ec0b6a188aa0a595e5da75adbdf160e5697fdef1"
   },
   "outputs": [
    {
     "name": "stdout",
     "output_type": "stream",
     "text": [
      "OsBuild has 76 unique values and type: int16.\n",
      "17134    0.438887\n",
      "16299    0.280635\n",
      "15063    0.087460\n",
      "14393    0.081917\n",
      "10586    0.046136\n",
      "Name: OsBuild, dtype: float64\n"
     ]
    },
    {
     "data": {
      "application/vnd.plotly.v1+json": {
       "config": {
        "linkText": "Export to plot.ly",
        "plotlyServerURL": "https://plot.ly",
        "showLink": true
       },
       "data": [
        {
         "name": "Has Detections",
         "type": "bar",
         "uid": "20134f61-0c1b-4993-84df-efd0d44f861d",
         "x": [
          7601,
          9600,
          10240,
          10586,
          14393,
          15063,
          16299,
          17134,
          17692,
          17738
         ],
         "y": [
          45387,
          98561,
          131471,
          191739,
          337835,
          373652,
          1232131,
          2038918,
          1412,
          1103
         ]
        },
        {
         "name": "No Detections",
         "type": "bar",
         "uid": "c947fb26-4c17-45c4-9d21-14ecdcecb47c",
         "x": [
          7601,
          9600,
          10240,
          10586,
          14393,
          15063,
          16299,
          17134,
          17692,
          17738
         ],
         "y": [
          47919,
          95947,
          138721,
          219867,
          392984,
          406618,
          1271550,
          1876603,
          1772,
          1375
         ]
        }
       ],
       "layout": {
        "barmode": "group",
        "legend": {
         "orientation": "v"
        },
        "title": "Counts of OsBuild by top-10 categories",
        "xaxis": {
         "showgrid": false,
         "showline": false,
         "title": "OsBuild",
         "zeroline": false
        },
        "yaxis": {
         "showgrid": false,
         "showline": false,
         "title": "Counts",
         "zeroline": false
        }
       }
      },
      "text/html": [
       "<div id=\"4b029d0b-9ec0-4261-8abc-63dd337f85d2\" style=\"height: 525px; width: 100%;\" class=\"plotly-graph-div\"></div><script type=\"text/javascript\">require([\"plotly\"], function(Plotly) { window.PLOTLYENV=window.PLOTLYENV || {};window.PLOTLYENV.BASE_URL=\"https://plot.ly\";Plotly.newPlot(\"4b029d0b-9ec0-4261-8abc-63dd337f85d2\", [{\"name\": \"Has Detections\", \"x\": [7601, 9600, 10240, 10586, 14393, 15063, 16299, 17134, 17692, 17738], \"y\": [45387, 98561, 131471, 191739, 337835, 373652, 1232131, 2038918, 1412, 1103], \"type\": \"bar\", \"uid\": \"af107374-5349-4c46-a0d8-57cb6d9efae1\"}, {\"name\": \"No Detections\", \"x\": [7601, 9600, 10240, 10586, 14393, 15063, 16299, 17134, 17692, 17738], \"y\": [47919, 95947, 138721, 219867, 392984, 406618, 1271550, 1876603, 1772, 1375], \"type\": \"bar\", \"uid\": \"9738a457-e581-4eeb-8d0f-d76efc50981a\"}], {\"barmode\": \"group\", \"legend\": {\"orientation\": \"v\"}, \"title\": \"Counts of OsBuild by top-10 categories\", \"xaxis\": {\"showgrid\": false, \"showline\": false, \"title\": \"OsBuild\", \"zeroline\": false}, \"yaxis\": {\"showgrid\": false, \"showline\": false, \"title\": \"Counts\", \"zeroline\": false}}, {\"showLink\": true, \"linkText\": \"Export to plot.ly\", \"plotlyServerURL\": \"https://plot.ly\"})});</script><script type=\"text/javascript\">window.addEventListener(\"resize\", function(){window._Plotly.Plots.resize(document.getElementById(\"4b029d0b-9ec0-4261-8abc-63dd337f85d2\"));});</script>"
      ],
      "text/vnd.plotly.v1+html": [
       "<div id=\"4b029d0b-9ec0-4261-8abc-63dd337f85d2\" style=\"height: 525px; width: 100%;\" class=\"plotly-graph-div\"></div><script type=\"text/javascript\">require([\"plotly\"], function(Plotly) { window.PLOTLYENV=window.PLOTLYENV || {};window.PLOTLYENV.BASE_URL=\"https://plot.ly\";Plotly.newPlot(\"4b029d0b-9ec0-4261-8abc-63dd337f85d2\", [{\"name\": \"Has Detections\", \"x\": [7601, 9600, 10240, 10586, 14393, 15063, 16299, 17134, 17692, 17738], \"y\": [45387, 98561, 131471, 191739, 337835, 373652, 1232131, 2038918, 1412, 1103], \"type\": \"bar\", \"uid\": \"af107374-5349-4c46-a0d8-57cb6d9efae1\"}, {\"name\": \"No Detections\", \"x\": [7601, 9600, 10240, 10586, 14393, 15063, 16299, 17134, 17692, 17738], \"y\": [47919, 95947, 138721, 219867, 392984, 406618, 1271550, 1876603, 1772, 1375], \"type\": \"bar\", \"uid\": \"9738a457-e581-4eeb-8d0f-d76efc50981a\"}], {\"barmode\": \"group\", \"legend\": {\"orientation\": \"v\"}, \"title\": \"Counts of OsBuild by top-10 categories\", \"xaxis\": {\"showgrid\": false, \"showline\": false, \"title\": \"OsBuild\", \"zeroline\": false}, \"yaxis\": {\"showgrid\": false, \"showline\": false, \"title\": \"Counts\", \"zeroline\": false}}, {\"showLink\": true, \"linkText\": \"Export to plot.ly\", \"plotlyServerURL\": \"https://plot.ly\"})});</script><script type=\"text/javascript\">window.addEventListener(\"resize\", function(){window._Plotly.Plots.resize(document.getElementById(\"4b029d0b-9ec0-4261-8abc-63dd337f85d2\"));});</script>"
      ]
     },
     "metadata": {},
     "output_type": "display_data"
    }
   ],
   "source": [
    "plot_categorical_feature('OsBuild', True)"
   ]
  },
  {
   "cell_type": "code",
   "execution_count": 71,
   "metadata": {
    "_uuid": "6de456231a80333374474f0c1cb8d407e688ae65"
   },
   "outputs": [],
   "source": [
    "train['OsBuild'] = train['OsBuild'].astype('category')\n",
    "test['OsBuild'] = test['OsBuild'].astype('category')"
   ]
  },
  {
   "cell_type": "markdown",
   "metadata": {
    "_uuid": "006c82109b384b575dc57ab18df68513bedcceb2"
   },
   "source": [
    "### Census_ChassisTypeName"
   ]
  },
  {
   "cell_type": "code",
   "execution_count": 72,
   "metadata": {
    "_uuid": "3ecd8498657f4154f4ac0a5426131167d83c503f"
   },
   "outputs": [
    {
     "name": "stdout",
     "output_type": "stream",
     "text": [
      "Census_ChassisTypeName has 52 unique values and type: category.\n",
      "Notebook    0.588334\n",
      "Desktop     0.209845\n",
      "Laptop      0.076846\n",
      "Portable    0.040453\n",
      "AllinOne    0.022899\n",
      "Name: Census_ChassisTypeName, dtype: float64\n"
     ]
    },
    {
     "data": {
      "application/vnd.plotly.v1+json": {
       "config": {
        "linkText": "Export to plot.ly",
        "plotlyServerURL": "https://plot.ly",
        "showLink": true
       },
       "data": [
        {
         "name": "Nontouch device counts",
         "type": "bar",
         "uid": "1269f442-4f3d-4b5a-ab21-f342acc6182b",
         "x": [
          "AllinOne",
          "Desktop",
          "Laptop",
          "LowProfileDesktop",
          "MiniTower",
          "Notebook",
          "Other",
          "Portable",
          "SpaceSaving",
          "UNKNOWN"
         ],
         "y": [
          155932,
          1793256,
          502110,
          49568,
          84676,
          4701078,
          73219,
          301628,
          28751,
          60889
         ]
        },
        {
         "name": "Detections rate for nontouch devices",
         "type": "scatter",
         "uid": "b8bf65a1-ff32-4031-8e79-b74de20ea5c0",
         "x": [
          "AllinOne",
          "Desktop",
          "Laptop",
          "LowProfileDesktop",
          "MiniTower",
          "Notebook",
          "Other",
          "Portable",
          "SpaceSaving",
          "UNKNOWN"
         ],
         "y": [
          0.5216376369186568,
          0.531734453976454,
          0.4979606062416602,
          0.5077267591994835,
          0.5291700127544995,
          0.5049099376781241,
          0.26497220666766824,
          0.48754757515880487,
          0.4936523946993148,
          0.44848823268570676
         ],
         "yaxis": "y2"
        }
       ],
       "layout": {
        "barmode": "group",
        "legend": {
         "orientation": "v"
        },
        "title": "Counts of Census_ChassisTypeName by top-10 categories for nontouch devices",
        "xaxis": {
         "showgrid": false,
         "showline": false,
         "title": "Census_ChassisTypeName",
         "type": "category",
         "zeroline": false
        },
        "yaxis": {
         "showgrid": false,
         "showline": false,
         "title": "Counts",
         "zeroline": false
        },
        "yaxis2": {
         "overlaying": "y",
         "side": "right",
         "title": "Detections rate"
        }
       }
      },
      "text/html": [
       "<div id=\"0e59feeb-b4e0-4b3b-8ca3-834fae565742\" style=\"height: 525px; width: 100%;\" class=\"plotly-graph-div\"></div><script type=\"text/javascript\">require([\"plotly\"], function(Plotly) { window.PLOTLYENV=window.PLOTLYENV || {};window.PLOTLYENV.BASE_URL=\"https://plot.ly\";Plotly.newPlot(\"0e59feeb-b4e0-4b3b-8ca3-834fae565742\", [{\"name\": \"Nontouch device counts\", \"x\": [\"AllinOne\", \"Desktop\", \"Laptop\", \"LowProfileDesktop\", \"MiniTower\", \"Notebook\", \"Other\", \"Portable\", \"SpaceSaving\", \"UNKNOWN\"], \"y\": [155932, 1793256, 502110, 49568, 84676, 4701078, 73219, 301628, 28751, 60889], \"type\": \"bar\", \"uid\": \"05a06be7-8e5b-4bbc-b031-5f1722e97138\"}, {\"name\": \"Detections rate for nontouch devices\", \"x\": [\"AllinOne\", \"Desktop\", \"Laptop\", \"LowProfileDesktop\", \"MiniTower\", \"Notebook\", \"Other\", \"Portable\", \"SpaceSaving\", \"UNKNOWN\"], \"y\": [0.5216376369186568, 0.531734453976454, 0.4979606062416602, 0.5077267591994835, 0.5291700127544995, 0.5049099376781241, 0.26497220666766824, 0.48754757515880487, 0.4936523946993148, 0.44848823268570676], \"yaxis\": \"y2\", \"type\": \"scatter\", \"uid\": \"ff5dd8db-2b59-41e9-bbd9-0ffe6c8d01bd\"}], {\"barmode\": \"group\", \"legend\": {\"orientation\": \"v\"}, \"title\": \"Counts of Census_ChassisTypeName by top-10 categories for nontouch devices\", \"xaxis\": {\"showgrid\": false, \"showline\": false, \"title\": \"Census_ChassisTypeName\", \"type\": \"category\", \"zeroline\": false}, \"yaxis\": {\"showgrid\": false, \"showline\": false, \"title\": \"Counts\", \"zeroline\": false}, \"yaxis2\": {\"overlaying\": \"y\", \"side\": \"right\", \"title\": \"Detections rate\"}}, {\"showLink\": true, \"linkText\": \"Export to plot.ly\", \"plotlyServerURL\": \"https://plot.ly\"})});</script><script type=\"text/javascript\">window.addEventListener(\"resize\", function(){window._Plotly.Plots.resize(document.getElementById(\"0e59feeb-b4e0-4b3b-8ca3-834fae565742\"));});</script>"
      ],
      "text/vnd.plotly.v1+html": [
       "<div id=\"0e59feeb-b4e0-4b3b-8ca3-834fae565742\" style=\"height: 525px; width: 100%;\" class=\"plotly-graph-div\"></div><script type=\"text/javascript\">require([\"plotly\"], function(Plotly) { window.PLOTLYENV=window.PLOTLYENV || {};window.PLOTLYENV.BASE_URL=\"https://plot.ly\";Plotly.newPlot(\"0e59feeb-b4e0-4b3b-8ca3-834fae565742\", [{\"name\": \"Nontouch device counts\", \"x\": [\"AllinOne\", \"Desktop\", \"Laptop\", \"LowProfileDesktop\", \"MiniTower\", \"Notebook\", \"Other\", \"Portable\", \"SpaceSaving\", \"UNKNOWN\"], \"y\": [155932, 1793256, 502110, 49568, 84676, 4701078, 73219, 301628, 28751, 60889], \"type\": \"bar\", \"uid\": \"05a06be7-8e5b-4bbc-b031-5f1722e97138\"}, {\"name\": \"Detections rate for nontouch devices\", \"x\": [\"AllinOne\", \"Desktop\", \"Laptop\", \"LowProfileDesktop\", \"MiniTower\", \"Notebook\", \"Other\", \"Portable\", \"SpaceSaving\", \"UNKNOWN\"], \"y\": [0.5216376369186568, 0.531734453976454, 0.4979606062416602, 0.5077267591994835, 0.5291700127544995, 0.5049099376781241, 0.26497220666766824, 0.48754757515880487, 0.4936523946993148, 0.44848823268570676], \"yaxis\": \"y2\", \"type\": \"scatter\", \"uid\": \"ff5dd8db-2b59-41e9-bbd9-0ffe6c8d01bd\"}], {\"barmode\": \"group\", \"legend\": {\"orientation\": \"v\"}, \"title\": \"Counts of Census_ChassisTypeName by top-10 categories for nontouch devices\", \"xaxis\": {\"showgrid\": false, \"showline\": false, \"title\": \"Census_ChassisTypeName\", \"type\": \"category\", \"zeroline\": false}, \"yaxis\": {\"showgrid\": false, \"showline\": false, \"title\": \"Counts\", \"zeroline\": false}, \"yaxis2\": {\"overlaying\": \"y\", \"side\": \"right\", \"title\": \"Detections rate\"}}, {\"showLink\": true, \"linkText\": \"Export to plot.ly\", \"plotlyServerURL\": \"https://plot.ly\"})});</script><script type=\"text/javascript\">window.addEventListener(\"resize\", function(){window._Plotly.Plots.resize(document.getElementById(\"0e59feeb-b4e0-4b3b-8ca3-834fae565742\"));});</script>"
      ]
     },
     "metadata": {},
     "output_type": "display_data"
    },
    {
     "data": {
      "application/vnd.plotly.v1+json": {
       "config": {
        "linkText": "Export to plot.ly",
        "plotlyServerURL": "https://plot.ly",
        "showLink": true
       },
       "data": [
        {
         "name": "Touch device counts",
         "type": "bar",
         "uid": "94bc9fc2-d488-4316-8e08-0f01de8fb482",
         "x": [
          "AllinOne",
          "Convertible",
          "Desktop",
          "Detachable",
          "HandHeld",
          "Laptop",
          "Notebook",
          "Portable",
          "Tablet",
          "UNKNOWN"
         ],
         "y": [
          48363,
          82041,
          78869,
          50290,
          38509,
          183471,
          547734,
          59275,
          9848,
          6323
         ]
        },
        {
         "name": "Detections rate for touch devices",
         "type": "scatter",
         "uid": "af1f0bff-83a2-482a-b63a-6d24088c16ef",
         "x": [
          "AllinOne",
          "Convertible",
          "Desktop",
          "Detachable",
          "HandHeld",
          "Laptop",
          "Notebook",
          "Portable",
          "Tablet",
          "UNKNOWN"
         ],
         "y": [
          0.49752910282654095,
          0.4781146012359674,
          0.36233501122113887,
          0.3305229667926029,
          0.2667688072918019,
          0.4788386175471873,
          0.4666407416738782,
          0.44678194854491776,
          0.3333671811535337,
          0.4069270915704571
         ],
         "yaxis": "y2"
        }
       ],
       "layout": {
        "barmode": "group",
        "legend": {
         "orientation": "v"
        },
        "title": "Counts of Census_ChassisTypeName by top-10 categories for touch devices",
        "xaxis": {
         "showgrid": false,
         "showline": false,
         "title": "Census_ChassisTypeName",
         "type": "category",
         "zeroline": false
        },
        "yaxis": {
         "showgrid": false,
         "showline": false,
         "title": "Counts",
         "zeroline": false
        },
        "yaxis2": {
         "overlaying": "y",
         "side": "right",
         "title": "Detections rate"
        }
       }
      },
      "text/html": [
       "<div id=\"976b1eca-fa5c-41d4-8c09-421379ff9831\" style=\"height: 525px; width: 100%;\" class=\"plotly-graph-div\"></div><script type=\"text/javascript\">require([\"plotly\"], function(Plotly) { window.PLOTLYENV=window.PLOTLYENV || {};window.PLOTLYENV.BASE_URL=\"https://plot.ly\";Plotly.newPlot(\"976b1eca-fa5c-41d4-8c09-421379ff9831\", [{\"name\": \"Touch device counts\", \"x\": [\"AllinOne\", \"Convertible\", \"Desktop\", \"Detachable\", \"HandHeld\", \"Laptop\", \"Notebook\", \"Portable\", \"Tablet\", \"UNKNOWN\"], \"y\": [48363, 82041, 78869, 50290, 38509, 183471, 547734, 59275, 9848, 6323], \"type\": \"bar\", \"uid\": \"410b5636-2f4c-443f-9c79-4663e78d511c\"}, {\"name\": \"Detections rate for touch devices\", \"x\": [\"AllinOne\", \"Convertible\", \"Desktop\", \"Detachable\", \"HandHeld\", \"Laptop\", \"Notebook\", \"Portable\", \"Tablet\", \"UNKNOWN\"], \"y\": [0.49752910282654095, 0.4781146012359674, 0.36233501122113887, 0.3305229667926029, 0.2667688072918019, 0.4788386175471873, 0.4666407416738782, 0.44678194854491776, 0.3333671811535337, 0.4069270915704571], \"yaxis\": \"y2\", \"type\": \"scatter\", \"uid\": \"fb2be680-7601-4822-8be7-d17a3f29f0f4\"}], {\"barmode\": \"group\", \"legend\": {\"orientation\": \"v\"}, \"title\": \"Counts of Census_ChassisTypeName by top-10 categories for touch devices\", \"xaxis\": {\"showgrid\": false, \"showline\": false, \"title\": \"Census_ChassisTypeName\", \"type\": \"category\", \"zeroline\": false}, \"yaxis\": {\"showgrid\": false, \"showline\": false, \"title\": \"Counts\", \"zeroline\": false}, \"yaxis2\": {\"overlaying\": \"y\", \"side\": \"right\", \"title\": \"Detections rate\"}}, {\"showLink\": true, \"linkText\": \"Export to plot.ly\", \"plotlyServerURL\": \"https://plot.ly\"})});</script><script type=\"text/javascript\">window.addEventListener(\"resize\", function(){window._Plotly.Plots.resize(document.getElementById(\"976b1eca-fa5c-41d4-8c09-421379ff9831\"));});</script>"
      ],
      "text/vnd.plotly.v1+html": [
       "<div id=\"976b1eca-fa5c-41d4-8c09-421379ff9831\" style=\"height: 525px; width: 100%;\" class=\"plotly-graph-div\"></div><script type=\"text/javascript\">require([\"plotly\"], function(Plotly) { window.PLOTLYENV=window.PLOTLYENV || {};window.PLOTLYENV.BASE_URL=\"https://plot.ly\";Plotly.newPlot(\"976b1eca-fa5c-41d4-8c09-421379ff9831\", [{\"name\": \"Touch device counts\", \"x\": [\"AllinOne\", \"Convertible\", \"Desktop\", \"Detachable\", \"HandHeld\", \"Laptop\", \"Notebook\", \"Portable\", \"Tablet\", \"UNKNOWN\"], \"y\": [48363, 82041, 78869, 50290, 38509, 183471, 547734, 59275, 9848, 6323], \"type\": \"bar\", \"uid\": \"410b5636-2f4c-443f-9c79-4663e78d511c\"}, {\"name\": \"Detections rate for touch devices\", \"x\": [\"AllinOne\", \"Convertible\", \"Desktop\", \"Detachable\", \"HandHeld\", \"Laptop\", \"Notebook\", \"Portable\", \"Tablet\", \"UNKNOWN\"], \"y\": [0.49752910282654095, 0.4781146012359674, 0.36233501122113887, 0.3305229667926029, 0.2667688072918019, 0.4788386175471873, 0.4666407416738782, 0.44678194854491776, 0.3333671811535337, 0.4069270915704571], \"yaxis\": \"y2\", \"type\": \"scatter\", \"uid\": \"fb2be680-7601-4822-8be7-d17a3f29f0f4\"}], {\"barmode\": \"group\", \"legend\": {\"orientation\": \"v\"}, \"title\": \"Counts of Census_ChassisTypeName by top-10 categories for touch devices\", \"xaxis\": {\"showgrid\": false, \"showline\": false, \"title\": \"Census_ChassisTypeName\", \"type\": \"category\", \"zeroline\": false}, \"yaxis\": {\"showgrid\": false, \"showline\": false, \"title\": \"Counts\", \"zeroline\": false}, \"yaxis2\": {\"overlaying\": \"y\", \"side\": \"right\", \"title\": \"Detections rate\"}}, {\"showLink\": true, \"linkText\": \"Export to plot.ly\", \"plotlyServerURL\": \"https://plot.ly\"})});</script><script type=\"text/javascript\">window.addEventListener(\"resize\", function(){window._Plotly.Plots.resize(document.getElementById(\"976b1eca-fa5c-41d4-8c09-421379ff9831\"));});</script>"
      ]
     },
     "metadata": {},
     "output_type": "display_data"
    }
   ],
   "source": [
    "plot_categorical_feature('Census_ChassisTypeName', True, by_touch=True)"
   ]
  },
  {
   "cell_type": "markdown",
   "metadata": {
    "_uuid": "ad710f3a426a5a1bef1231cd396fddaddbf2b1c5"
   },
   "source": [
    "### Census_InternalBatteryType"
   ]
  },
  {
   "cell_type": "code",
   "execution_count": 73,
   "metadata": {
    "_uuid": "07e111cbab58815e858c8513c5aa5c44dc0104b0"
   },
   "outputs": [],
   "source": [
    "# https://www.kaggle.com/youhanlee/my-eda-i-want-to-see-all\n",
    "# grouping battary types by name\n",
    "def group_battery(x):\n",
    "    x = x.lower()\n",
    "    if 'li' in x:\n",
    "        return 1\n",
    "    else:\n",
    "        return 0\n",
    "    \n",
    "train['Census_InternalBatteryType'] = train['Census_InternalBatteryType'].apply(group_battery)\n",
    "test['Census_InternalBatteryType'] = test['Census_InternalBatteryType'].apply(group_battery)"
   ]
  },
  {
   "cell_type": "code",
   "execution_count": 74,
   "metadata": {
    "_uuid": "52005e53ca31550aad34c3a2e3360f726bc2e213"
   },
   "outputs": [
    {
     "name": "stdout",
     "output_type": "stream",
     "text": [
      "Census_InternalBatteryType has 2 unique values and type: int64.\n",
      "0    0.732778\n",
      "1    0.267222\n",
      "Name: Census_InternalBatteryType, dtype: float64\n"
     ]
    },
    {
     "data": {
      "application/vnd.plotly.v1+json": {
       "config": {
        "linkText": "Export to plot.ly",
        "plotlyServerURL": "https://plot.ly",
        "showLink": true
       },
       "data": [
        {
         "name": "Has Detections",
         "type": "bar",
         "uid": "edc2d48b-47c1-4a12-a651-ab18b54e71e7",
         "x": [
          0,
          1
         ],
         "y": [
          3303851,
          1155041
         ]
        },
        {
         "name": "No Detections",
         "type": "bar",
         "uid": "1dba2229-47ce-4352-b7f7-f5e89bcc519f",
         "x": [
          0,
          1
         ],
         "y": [
          3233613,
          1228978
         ]
        }
       ],
       "layout": {
        "barmode": "group",
        "legend": {
         "orientation": "v"
        },
        "title": "Counts of Census_InternalBatteryType by top-2 categories",
        "xaxis": {
         "showgrid": false,
         "showline": false,
         "title": "Census_InternalBatteryType",
         "zeroline": false
        },
        "yaxis": {
         "showgrid": false,
         "showline": false,
         "title": "Counts",
         "zeroline": false
        }
       }
      },
      "text/html": [
       "<div id=\"f55a771f-0614-47ac-b255-1e1e2c786bf1\" style=\"height: 525px; width: 100%;\" class=\"plotly-graph-div\"></div><script type=\"text/javascript\">require([\"plotly\"], function(Plotly) { window.PLOTLYENV=window.PLOTLYENV || {};window.PLOTLYENV.BASE_URL=\"https://plot.ly\";Plotly.newPlot(\"f55a771f-0614-47ac-b255-1e1e2c786bf1\", [{\"name\": \"Has Detections\", \"x\": [0, 1], \"y\": [3303851, 1155041], \"type\": \"bar\", \"uid\": \"09944480-469a-434f-b69b-880a52ecc697\"}, {\"name\": \"No Detections\", \"x\": [0, 1], \"y\": [3233613, 1228978], \"type\": \"bar\", \"uid\": \"1fd52590-66e9-46d7-ab6b-828fb2073ea9\"}], {\"barmode\": \"group\", \"legend\": {\"orientation\": \"v\"}, \"title\": \"Counts of Census_InternalBatteryType by top-2 categories\", \"xaxis\": {\"showgrid\": false, \"showline\": false, \"title\": \"Census_InternalBatteryType\", \"zeroline\": false}, \"yaxis\": {\"showgrid\": false, \"showline\": false, \"title\": \"Counts\", \"zeroline\": false}}, {\"showLink\": true, \"linkText\": \"Export to plot.ly\", \"plotlyServerURL\": \"https://plot.ly\"})});</script><script type=\"text/javascript\">window.addEventListener(\"resize\", function(){window._Plotly.Plots.resize(document.getElementById(\"f55a771f-0614-47ac-b255-1e1e2c786bf1\"));});</script>"
      ],
      "text/vnd.plotly.v1+html": [
       "<div id=\"f55a771f-0614-47ac-b255-1e1e2c786bf1\" style=\"height: 525px; width: 100%;\" class=\"plotly-graph-div\"></div><script type=\"text/javascript\">require([\"plotly\"], function(Plotly) { window.PLOTLYENV=window.PLOTLYENV || {};window.PLOTLYENV.BASE_URL=\"https://plot.ly\";Plotly.newPlot(\"f55a771f-0614-47ac-b255-1e1e2c786bf1\", [{\"name\": \"Has Detections\", \"x\": [0, 1], \"y\": [3303851, 1155041], \"type\": \"bar\", \"uid\": \"09944480-469a-434f-b69b-880a52ecc697\"}, {\"name\": \"No Detections\", \"x\": [0, 1], \"y\": [3233613, 1228978], \"type\": \"bar\", \"uid\": \"1fd52590-66e9-46d7-ab6b-828fb2073ea9\"}], {\"barmode\": \"group\", \"legend\": {\"orientation\": \"v\"}, \"title\": \"Counts of Census_InternalBatteryType by top-2 categories\", \"xaxis\": {\"showgrid\": false, \"showline\": false, \"title\": \"Census_InternalBatteryType\", \"zeroline\": false}, \"yaxis\": {\"showgrid\": false, \"showline\": false, \"title\": \"Counts\", \"zeroline\": false}}, {\"showLink\": true, \"linkText\": \"Export to plot.ly\", \"plotlyServerURL\": \"https://plot.ly\"})});</script><script type=\"text/javascript\">window.addEventListener(\"resize\", function(){window._Plotly.Plots.resize(document.getElementById(\"f55a771f-0614-47ac-b255-1e1e2c786bf1\"));});</script>"
      ]
     },
     "metadata": {},
     "output_type": "display_data"
    }
   ],
   "source": [
    "plot_categorical_feature('Census_InternalBatteryType', True)"
   ]
  },
  {
   "cell_type": "markdown",
   "metadata": {
    "_uuid": "f56d477bac7d7301e987ec9908a93ee24e1c221b"
   },
   "source": [
    "### Census_OSEdition\n",
    "\n",
    "I'll combine similar versions into one."
   ]
  },
  {
   "cell_type": "code",
   "execution_count": 75,
   "metadata": {
    "_uuid": "9079f3e805b54e8992a52b07c427f60ce4a67b9a"
   },
   "outputs": [],
   "source": [
    "def rename_edition(x):\n",
    "    x = x.lower()\n",
    "    if 'core' in x:\n",
    "        return 'Core'\n",
    "    elif 'pro' in x:\n",
    "        return 'pro'\n",
    "    elif 'enterprise' in x:\n",
    "        return 'Enterprise'\n",
    "    elif 'server' in x:\n",
    "        return 'Server'\n",
    "    elif 'home' in x:\n",
    "        return 'Home'\n",
    "    elif 'education' in x:\n",
    "        return 'Education'\n",
    "    elif 'cloud' in x:\n",
    "        return 'Cloud'\n",
    "    else:\n",
    "        return x"
   ]
  },
  {
   "cell_type": "code",
   "execution_count": 76,
   "metadata": {
    "_uuid": "e62be3517da71aea151be8f4e3e0ddd2cfa971c2"
   },
   "outputs": [],
   "source": [
    "train['Census_OSEdition'] = train['Census_OSEdition'].astype(str)\n",
    "test['Census_OSEdition'] = test['Census_OSEdition'].astype(str)\n",
    "train['Census_OSEdition'] = train['Census_OSEdition'].apply(rename_edition)\n",
    "test['Census_OSEdition'] = test['Census_OSEdition'].apply(rename_edition)\n",
    "train['Census_OSEdition'] = train['Census_OSEdition'].astype('category')\n",
    "test['Census_OSEdition'] = test['Census_OSEdition'].astype('category')"
   ]
  },
  {
   "cell_type": "code",
   "execution_count": 77,
   "metadata": {
    "_uuid": "63b54b387ec34b83a6494622f7e0e036baa58271"
   },
   "outputs": [
    {
     "name": "stdout",
     "output_type": "stream",
     "text": [
      "Census_OSEdition has 8 unique values and type: category.\n",
      "Core          0.626167\n",
      "pro           0.360472\n",
      "Enterprise    0.006373\n",
      "Education     0.004667\n",
      "Server        0.001615\n",
      "Name: Census_OSEdition, dtype: float64\n"
     ]
    },
    {
     "data": {
      "application/vnd.plotly.v1+json": {
       "config": {
        "linkText": "Export to plot.ly",
        "plotlyServerURL": "https://plot.ly",
        "showLink": true
       },
       "data": [
        {
         "name": "Nontouch device counts",
         "type": "bar",
         "uid": "33d3447e-6001-4814-bb86-1efd2c400226",
         "x": [
          "Cloud",
          "Core",
          "Education",
          "Enterprise",
          "Home",
          "Server",
          "pro",
          "ultimate"
         ],
         "y": [
          4465,
          4750834,
          40108,
          52321,
          6,
          13777,
          2939937,
          4
         ]
        },
        {
         "name": "Detections rate for nontouch devices",
         "type": "scatter",
         "uid": "6ebe3ca1-11ea-4f9b-95d8-6412afd025b5",
         "x": [
          "Cloud",
          "Core",
          "Education",
          "Enterprise",
          "Home",
          "Server",
          "pro",
          "ultimate"
         ],
         "y": [
          0.3997760358342665,
          0.501651078526423,
          0.5324872843323027,
          0.5288125226964316,
          0.5,
          0.3446323582782899,
          0.5170212831091279,
          0.75
         ],
         "yaxis": "y2"
        }
       ],
       "layout": {
        "barmode": "group",
        "legend": {
         "orientation": "v"
        },
        "title": "Counts of Census_OSEdition by top-10 categories for nontouch devices",
        "xaxis": {
         "showgrid": false,
         "showline": false,
         "title": "Census_OSEdition",
         "type": "category",
         "zeroline": false
        },
        "yaxis": {
         "showgrid": false,
         "showline": false,
         "title": "Counts",
         "zeroline": false
        },
        "yaxis2": {
         "overlaying": "y",
         "side": "right",
         "title": "Detections rate"
        }
       }
      },
      "text/html": [
       "<div id=\"54e768b1-404c-4c71-a0fd-e0f6ec8021c9\" style=\"height: 525px; width: 100%;\" class=\"plotly-graph-div\"></div><script type=\"text/javascript\">require([\"plotly\"], function(Plotly) { window.PLOTLYENV=window.PLOTLYENV || {};window.PLOTLYENV.BASE_URL=\"https://plot.ly\";Plotly.newPlot(\"54e768b1-404c-4c71-a0fd-e0f6ec8021c9\", [{\"name\": \"Nontouch device counts\", \"x\": [\"Cloud\", \"Core\", \"Education\", \"Enterprise\", \"Home\", \"Server\", \"pro\", \"ultimate\"], \"y\": [4465, 4750834, 40108, 52321, 6, 13777, 2939937, 4], \"type\": \"bar\", \"uid\": \"289d276c-17d1-4b19-a6f7-a9cf643c26d9\"}, {\"name\": \"Detections rate for nontouch devices\", \"x\": [\"Cloud\", \"Core\", \"Education\", \"Enterprise\", \"Home\", \"Server\", \"pro\", \"ultimate\"], \"y\": [0.3997760358342665, 0.501651078526423, 0.5324872843323027, 0.5288125226964316, 0.5, 0.3446323582782899, 0.5170212831091279, 0.75], \"yaxis\": \"y2\", \"type\": \"scatter\", \"uid\": \"6217bdbc-5fff-484a-965b-da982af7232d\"}], {\"barmode\": \"group\", \"legend\": {\"orientation\": \"v\"}, \"title\": \"Counts of Census_OSEdition by top-10 categories for nontouch devices\", \"xaxis\": {\"showgrid\": false, \"showline\": false, \"title\": \"Census_OSEdition\", \"type\": \"category\", \"zeroline\": false}, \"yaxis\": {\"showgrid\": false, \"showline\": false, \"title\": \"Counts\", \"zeroline\": false}, \"yaxis2\": {\"overlaying\": \"y\", \"side\": \"right\", \"title\": \"Detections rate\"}}, {\"showLink\": true, \"linkText\": \"Export to plot.ly\", \"plotlyServerURL\": \"https://plot.ly\"})});</script><script type=\"text/javascript\">window.addEventListener(\"resize\", function(){window._Plotly.Plots.resize(document.getElementById(\"54e768b1-404c-4c71-a0fd-e0f6ec8021c9\"));});</script>"
      ],
      "text/vnd.plotly.v1+html": [
       "<div id=\"54e768b1-404c-4c71-a0fd-e0f6ec8021c9\" style=\"height: 525px; width: 100%;\" class=\"plotly-graph-div\"></div><script type=\"text/javascript\">require([\"plotly\"], function(Plotly) { window.PLOTLYENV=window.PLOTLYENV || {};window.PLOTLYENV.BASE_URL=\"https://plot.ly\";Plotly.newPlot(\"54e768b1-404c-4c71-a0fd-e0f6ec8021c9\", [{\"name\": \"Nontouch device counts\", \"x\": [\"Cloud\", \"Core\", \"Education\", \"Enterprise\", \"Home\", \"Server\", \"pro\", \"ultimate\"], \"y\": [4465, 4750834, 40108, 52321, 6, 13777, 2939937, 4], \"type\": \"bar\", \"uid\": \"289d276c-17d1-4b19-a6f7-a9cf643c26d9\"}, {\"name\": \"Detections rate for nontouch devices\", \"x\": [\"Cloud\", \"Core\", \"Education\", \"Enterprise\", \"Home\", \"Server\", \"pro\", \"ultimate\"], \"y\": [0.3997760358342665, 0.501651078526423, 0.5324872843323027, 0.5288125226964316, 0.5, 0.3446323582782899, 0.5170212831091279, 0.75], \"yaxis\": \"y2\", \"type\": \"scatter\", \"uid\": \"6217bdbc-5fff-484a-965b-da982af7232d\"}], {\"barmode\": \"group\", \"legend\": {\"orientation\": \"v\"}, \"title\": \"Counts of Census_OSEdition by top-10 categories for nontouch devices\", \"xaxis\": {\"showgrid\": false, \"showline\": false, \"title\": \"Census_OSEdition\", \"type\": \"category\", \"zeroline\": false}, \"yaxis\": {\"showgrid\": false, \"showline\": false, \"title\": \"Counts\", \"zeroline\": false}, \"yaxis2\": {\"overlaying\": \"y\", \"side\": \"right\", \"title\": \"Detections rate\"}}, {\"showLink\": true, \"linkText\": \"Export to plot.ly\", \"plotlyServerURL\": \"https://plot.ly\"})});</script><script type=\"text/javascript\">window.addEventListener(\"resize\", function(){window._Plotly.Plots.resize(document.getElementById(\"54e768b1-404c-4c71-a0fd-e0f6ec8021c9\"));});</script>"
      ]
     },
     "metadata": {},
     "output_type": "display_data"
    },
    {
     "data": {
      "application/vnd.plotly.v1+json": {
       "config": {
        "linkText": "Export to plot.ly",
        "plotlyServerURL": "https://plot.ly",
        "showLink": true
       },
       "data": [
        {
         "name": "Touch device counts",
         "type": "bar",
         "uid": "be66f199-512d-498e-a185-9e9dbb95a4ee",
         "x": [
          "Cloud",
          "Core",
          "Education",
          "Enterprise",
          "Home",
          "Server",
          "pro",
          "ultimate"
         ],
         "y": [
          1818,
          835508,
          1528,
          4532,
          0,
          634,
          276011,
          0
         ]
        },
        {
         "name": "Detections rate for touch devices",
         "type": "scatter",
         "uid": "68fedc02-301a-4551-82eb-018ee1b596ed",
         "x": [
          "Cloud",
          "Core",
          "Education",
          "Enterprise",
          "Home",
          "Server",
          "pro",
          "ultimate"
         ],
         "y": [
          0.40594059405940597,
          0.4411471823130359,
          0.45418848167539266,
          0.3936451897616946,
          null,
          0.44637223974763407,
          0.4636626801105753,
          null
         ],
         "yaxis": "y2"
        }
       ],
       "layout": {
        "barmode": "group",
        "legend": {
         "orientation": "v"
        },
        "title": "Counts of Census_OSEdition by top-10 categories for touch devices",
        "xaxis": {
         "showgrid": false,
         "showline": false,
         "title": "Census_OSEdition",
         "type": "category",
         "zeroline": false
        },
        "yaxis": {
         "showgrid": false,
         "showline": false,
         "title": "Counts",
         "zeroline": false
        },
        "yaxis2": {
         "overlaying": "y",
         "side": "right",
         "title": "Detections rate"
        }
       }
      },
      "text/html": [
       "<div id=\"8acc93d7-fc65-4457-a7ac-e5a45307e073\" style=\"height: 525px; width: 100%;\" class=\"plotly-graph-div\"></div><script type=\"text/javascript\">require([\"plotly\"], function(Plotly) { window.PLOTLYENV=window.PLOTLYENV || {};window.PLOTLYENV.BASE_URL=\"https://plot.ly\";Plotly.newPlot(\"8acc93d7-fc65-4457-a7ac-e5a45307e073\", [{\"name\": \"Touch device counts\", \"x\": [\"Cloud\", \"Core\", \"Education\", \"Enterprise\", \"Home\", \"Server\", \"pro\", \"ultimate\"], \"y\": [1818, 835508, 1528, 4532, 0, 634, 276011, 0], \"type\": \"bar\", \"uid\": \"362d6dde-475e-4f64-af39-7a30bd6b5667\"}, {\"name\": \"Detections rate for touch devices\", \"x\": [\"Cloud\", \"Core\", \"Education\", \"Enterprise\", \"Home\", \"Server\", \"pro\", \"ultimate\"], \"y\": [0.40594059405940597, 0.4411471823130359, 0.45418848167539266, 0.3936451897616946, null, 0.44637223974763407, 0.4636626801105753, null], \"yaxis\": \"y2\", \"type\": \"scatter\", \"uid\": \"c8668489-875e-4f9c-9f9f-7b20534d9e71\"}], {\"barmode\": \"group\", \"legend\": {\"orientation\": \"v\"}, \"title\": \"Counts of Census_OSEdition by top-10 categories for touch devices\", \"xaxis\": {\"showgrid\": false, \"showline\": false, \"title\": \"Census_OSEdition\", \"type\": \"category\", \"zeroline\": false}, \"yaxis\": {\"showgrid\": false, \"showline\": false, \"title\": \"Counts\", \"zeroline\": false}, \"yaxis2\": {\"overlaying\": \"y\", \"side\": \"right\", \"title\": \"Detections rate\"}}, {\"showLink\": true, \"linkText\": \"Export to plot.ly\", \"plotlyServerURL\": \"https://plot.ly\"})});</script><script type=\"text/javascript\">window.addEventListener(\"resize\", function(){window._Plotly.Plots.resize(document.getElementById(\"8acc93d7-fc65-4457-a7ac-e5a45307e073\"));});</script>"
      ],
      "text/vnd.plotly.v1+html": [
       "<div id=\"8acc93d7-fc65-4457-a7ac-e5a45307e073\" style=\"height: 525px; width: 100%;\" class=\"plotly-graph-div\"></div><script type=\"text/javascript\">require([\"plotly\"], function(Plotly) { window.PLOTLYENV=window.PLOTLYENV || {};window.PLOTLYENV.BASE_URL=\"https://plot.ly\";Plotly.newPlot(\"8acc93d7-fc65-4457-a7ac-e5a45307e073\", [{\"name\": \"Touch device counts\", \"x\": [\"Cloud\", \"Core\", \"Education\", \"Enterprise\", \"Home\", \"Server\", \"pro\", \"ultimate\"], \"y\": [1818, 835508, 1528, 4532, 0, 634, 276011, 0], \"type\": \"bar\", \"uid\": \"362d6dde-475e-4f64-af39-7a30bd6b5667\"}, {\"name\": \"Detections rate for touch devices\", \"x\": [\"Cloud\", \"Core\", \"Education\", \"Enterprise\", \"Home\", \"Server\", \"pro\", \"ultimate\"], \"y\": [0.40594059405940597, 0.4411471823130359, 0.45418848167539266, 0.3936451897616946, null, 0.44637223974763407, 0.4636626801105753, null], \"yaxis\": \"y2\", \"type\": \"scatter\", \"uid\": \"c8668489-875e-4f9c-9f9f-7b20534d9e71\"}], {\"barmode\": \"group\", \"legend\": {\"orientation\": \"v\"}, \"title\": \"Counts of Census_OSEdition by top-10 categories for touch devices\", \"xaxis\": {\"showgrid\": false, \"showline\": false, \"title\": \"Census_OSEdition\", \"type\": \"category\", \"zeroline\": false}, \"yaxis\": {\"showgrid\": false, \"showline\": false, \"title\": \"Counts\", \"zeroline\": false}, \"yaxis2\": {\"overlaying\": \"y\", \"side\": \"right\", \"title\": \"Detections rate\"}}, {\"showLink\": true, \"linkText\": \"Export to plot.ly\", \"plotlyServerURL\": \"https://plot.ly\"})});</script><script type=\"text/javascript\">window.addEventListener(\"resize\", function(){window._Plotly.Plots.resize(document.getElementById(\"8acc93d7-fc65-4457-a7ac-e5a45307e073\"));});</script>"
      ]
     },
     "metadata": {},
     "output_type": "display_data"
    }
   ],
   "source": [
    "plot_categorical_feature('Census_OSEdition', True, by_touch=True)"
   ]
  },
  {
   "cell_type": "markdown",
   "metadata": {
    "_uuid": "f2ceb5503736dcfd906a5c2bf92f197874d80f70"
   },
   "source": [
    "### Census_OSSkuName\n",
    "Almost the same as previous variable"
   ]
  },
  {
   "cell_type": "code",
   "execution_count": 78,
   "metadata": {
    "_uuid": "94869b267bad800d28eaba8c2a32818d6d88b4e9"
   },
   "outputs": [],
   "source": [
    "train['Census_OSSkuName'] = train['Census_OSSkuName'].astype(str)\n",
    "test['Census_OSSkuName'] = test['Census_OSSkuName'].astype(str)\n",
    "train['Census_OSSkuName'] = train['Census_OSSkuName'].apply(rename_edition)\n",
    "test['Census_OSSkuName'] = test['Census_OSSkuName'].apply(rename_edition)\n",
    "train['Census_OSSkuName'] = train['Census_OSSkuName'].astype('category')\n",
    "test['Census_OSSkuName'] = test['Census_OSSkuName'].astype('category')"
   ]
  },
  {
   "cell_type": "code",
   "execution_count": 79,
   "metadata": {
    "_uuid": "c217a75dec714b63f6cd2a31125d52f476f6d902"
   },
   "outputs": [
    {
     "name": "stdout",
     "output_type": "stream",
     "text": [
      "Census_OSSkuName has 10 unique values and type: category.\n",
      "Core          0.626093\n",
      "pro           0.360543\n",
      "Enterprise    0.006374\n",
      "Education     0.004680\n",
      "Server        0.001616\n",
      "Name: Census_OSSkuName, dtype: float64\n"
     ]
    },
    {
     "data": {
      "application/vnd.plotly.v1+json": {
       "config": {
        "linkText": "Export to plot.ly",
        "plotlyServerURL": "https://plot.ly",
        "showLink": true
       },
       "data": [
        {
         "name": "Nontouch device counts",
         "type": "bar",
         "uid": "1d5621b1-555e-4db8-88f8-6a4a317675c0",
         "x": [
          "Cloud",
          "Core",
          "Education",
          "Enterprise",
          "Server",
          "pro",
          "starter",
          "ultimate",
          "undefined",
          "unlicensed"
         ],
         "y": [
          4422,
          4750224,
          40223,
          52327,
          13780,
          2940453,
          1,
          4,
          1,
          17
         ]
        },
        {
         "name": "Detections rate for nontouch devices",
         "type": "scatter",
         "uid": "91732a0c-2011-4050-b295-e97419ab199c",
         "x": [
          "Cloud",
          "Core",
          "Education",
          "Enterprise",
          "Server",
          "pro",
          "starter",
          "ultimate",
          "undefined",
          "unlicensed"
         ],
         "y": [
          0.3995929443690638,
          0.5016405542138644,
          0.5328046142754146,
          0.5285034494620368,
          0.3448476052249637,
          0.5170335999249095,
          0,
          0.75,
          1,
          0.47058823529411764
         ],
         "yaxis": "y2"
        }
       ],
       "layout": {
        "barmode": "group",
        "legend": {
         "orientation": "v"
        },
        "title": "Counts of Census_OSSkuName by top-10 categories for nontouch devices",
        "xaxis": {
         "showgrid": false,
         "showline": false,
         "title": "Census_OSSkuName",
         "type": "category",
         "zeroline": false
        },
        "yaxis": {
         "showgrid": false,
         "showline": false,
         "title": "Counts",
         "zeroline": false
        },
        "yaxis2": {
         "overlaying": "y",
         "side": "right",
         "title": "Detections rate"
        }
       }
      },
      "text/html": [
       "<div id=\"44c79ebb-289c-4e7b-b3cd-3167062b0f60\" style=\"height: 525px; width: 100%;\" class=\"plotly-graph-div\"></div><script type=\"text/javascript\">require([\"plotly\"], function(Plotly) { window.PLOTLYENV=window.PLOTLYENV || {};window.PLOTLYENV.BASE_URL=\"https://plot.ly\";Plotly.newPlot(\"44c79ebb-289c-4e7b-b3cd-3167062b0f60\", [{\"name\": \"Nontouch device counts\", \"x\": [\"Cloud\", \"Core\", \"Education\", \"Enterprise\", \"Server\", \"pro\", \"starter\", \"ultimate\", \"undefined\", \"unlicensed\"], \"y\": [4422, 4750224, 40223, 52327, 13780, 2940453, 1, 4, 1, 17], \"type\": \"bar\", \"uid\": \"3216288c-3250-4afb-9f0a-219e46aa1e9b\"}, {\"name\": \"Detections rate for nontouch devices\", \"x\": [\"Cloud\", \"Core\", \"Education\", \"Enterprise\", \"Server\", \"pro\", \"starter\", \"ultimate\", \"undefined\", \"unlicensed\"], \"y\": [0.3995929443690638, 0.5016405542138644, 0.5328046142754146, 0.5285034494620368, 0.3448476052249637, 0.5170335999249095, 0.0, 0.75, 1.0, 0.47058823529411764], \"yaxis\": \"y2\", \"type\": \"scatter\", \"uid\": \"b5958072-1f42-44da-b673-a36c22c6eb6b\"}], {\"barmode\": \"group\", \"legend\": {\"orientation\": \"v\"}, \"title\": \"Counts of Census_OSSkuName by top-10 categories for nontouch devices\", \"xaxis\": {\"showgrid\": false, \"showline\": false, \"title\": \"Census_OSSkuName\", \"type\": \"category\", \"zeroline\": false}, \"yaxis\": {\"showgrid\": false, \"showline\": false, \"title\": \"Counts\", \"zeroline\": false}, \"yaxis2\": {\"overlaying\": \"y\", \"side\": \"right\", \"title\": \"Detections rate\"}}, {\"showLink\": true, \"linkText\": \"Export to plot.ly\", \"plotlyServerURL\": \"https://plot.ly\"})});</script><script type=\"text/javascript\">window.addEventListener(\"resize\", function(){window._Plotly.Plots.resize(document.getElementById(\"44c79ebb-289c-4e7b-b3cd-3167062b0f60\"));});</script>"
      ],
      "text/vnd.plotly.v1+html": [
       "<div id=\"44c79ebb-289c-4e7b-b3cd-3167062b0f60\" style=\"height: 525px; width: 100%;\" class=\"plotly-graph-div\"></div><script type=\"text/javascript\">require([\"plotly\"], function(Plotly) { window.PLOTLYENV=window.PLOTLYENV || {};window.PLOTLYENV.BASE_URL=\"https://plot.ly\";Plotly.newPlot(\"44c79ebb-289c-4e7b-b3cd-3167062b0f60\", [{\"name\": \"Nontouch device counts\", \"x\": [\"Cloud\", \"Core\", \"Education\", \"Enterprise\", \"Server\", \"pro\", \"starter\", \"ultimate\", \"undefined\", \"unlicensed\"], \"y\": [4422, 4750224, 40223, 52327, 13780, 2940453, 1, 4, 1, 17], \"type\": \"bar\", \"uid\": \"3216288c-3250-4afb-9f0a-219e46aa1e9b\"}, {\"name\": \"Detections rate for nontouch devices\", \"x\": [\"Cloud\", \"Core\", \"Education\", \"Enterprise\", \"Server\", \"pro\", \"starter\", \"ultimate\", \"undefined\", \"unlicensed\"], \"y\": [0.3995929443690638, 0.5016405542138644, 0.5328046142754146, 0.5285034494620368, 0.3448476052249637, 0.5170335999249095, 0.0, 0.75, 1.0, 0.47058823529411764], \"yaxis\": \"y2\", \"type\": \"scatter\", \"uid\": \"b5958072-1f42-44da-b673-a36c22c6eb6b\"}], {\"barmode\": \"group\", \"legend\": {\"orientation\": \"v\"}, \"title\": \"Counts of Census_OSSkuName by top-10 categories for nontouch devices\", \"xaxis\": {\"showgrid\": false, \"showline\": false, \"title\": \"Census_OSSkuName\", \"type\": \"category\", \"zeroline\": false}, \"yaxis\": {\"showgrid\": false, \"showline\": false, \"title\": \"Counts\", \"zeroline\": false}, \"yaxis2\": {\"overlaying\": \"y\", \"side\": \"right\", \"title\": \"Detections rate\"}}, {\"showLink\": true, \"linkText\": \"Export to plot.ly\", \"plotlyServerURL\": \"https://plot.ly\"})});</script><script type=\"text/javascript\">window.addEventListener(\"resize\", function(){window._Plotly.Plots.resize(document.getElementById(\"44c79ebb-289c-4e7b-b3cd-3167062b0f60\"));});</script>"
      ]
     },
     "metadata": {},
     "output_type": "display_data"
    },
    {
     "data": {
      "application/vnd.plotly.v1+json": {
       "config": {
        "linkText": "Export to plot.ly",
        "plotlyServerURL": "https://plot.ly",
        "showLink": true
       },
       "data": [
        {
         "name": "Touch device counts",
         "type": "bar",
         "uid": "924ea6d1-aa59-40e8-ad2f-bb6dbbe37b27",
         "x": [
          "Cloud",
          "Core",
          "Education",
          "Enterprise",
          "Server",
          "pro",
          "starter",
          "ultimate",
          "undefined",
          "unlicensed"
         ],
         "y": [
          1752,
          835451,
          1531,
          4535,
          634,
          276128,
          0,
          0,
          0,
          0
         ]
        },
        {
         "name": "Detections rate for touch devices",
         "type": "scatter",
         "uid": "90873557-e35f-4e6d-b299-96d0f1975f54",
         "x": [
          "Cloud",
          "Core",
          "Education",
          "Enterprise",
          "Server",
          "pro",
          "starter",
          "ultimate",
          "undefined",
          "unlicensed"
         ],
         "y": [
          0.4006849315068493,
          0.4411461593797841,
          0.45460483344219466,
          0.3938257993384785,
          0.44637223974763407,
          0.46367626607949936,
          null,
          null,
          null,
          null
         ],
         "yaxis": "y2"
        }
       ],
       "layout": {
        "barmode": "group",
        "legend": {
         "orientation": "v"
        },
        "title": "Counts of Census_OSSkuName by top-10 categories for touch devices",
        "xaxis": {
         "showgrid": false,
         "showline": false,
         "title": "Census_OSSkuName",
         "type": "category",
         "zeroline": false
        },
        "yaxis": {
         "showgrid": false,
         "showline": false,
         "title": "Counts",
         "zeroline": false
        },
        "yaxis2": {
         "overlaying": "y",
         "side": "right",
         "title": "Detections rate"
        }
       }
      },
      "text/html": [
       "<div id=\"8d59b64f-a17d-4aed-b6e6-0a88fd0a93ad\" style=\"height: 525px; width: 100%;\" class=\"plotly-graph-div\"></div><script type=\"text/javascript\">require([\"plotly\"], function(Plotly) { window.PLOTLYENV=window.PLOTLYENV || {};window.PLOTLYENV.BASE_URL=\"https://plot.ly\";Plotly.newPlot(\"8d59b64f-a17d-4aed-b6e6-0a88fd0a93ad\", [{\"name\": \"Touch device counts\", \"x\": [\"Cloud\", \"Core\", \"Education\", \"Enterprise\", \"Server\", \"pro\", \"starter\", \"ultimate\", \"undefined\", \"unlicensed\"], \"y\": [1752, 835451, 1531, 4535, 634, 276128, 0, 0, 0, 0], \"type\": \"bar\", \"uid\": \"443de34c-ad8e-496b-8240-c517d6c3c089\"}, {\"name\": \"Detections rate for touch devices\", \"x\": [\"Cloud\", \"Core\", \"Education\", \"Enterprise\", \"Server\", \"pro\", \"starter\", \"ultimate\", \"undefined\", \"unlicensed\"], \"y\": [0.4006849315068493, 0.4411461593797841, 0.45460483344219466, 0.3938257993384785, 0.44637223974763407, 0.46367626607949936, null, null, null, null], \"yaxis\": \"y2\", \"type\": \"scatter\", \"uid\": \"bb0943fc-d595-4c21-956c-a35c5e56bca5\"}], {\"barmode\": \"group\", \"legend\": {\"orientation\": \"v\"}, \"title\": \"Counts of Census_OSSkuName by top-10 categories for touch devices\", \"xaxis\": {\"showgrid\": false, \"showline\": false, \"title\": \"Census_OSSkuName\", \"type\": \"category\", \"zeroline\": false}, \"yaxis\": {\"showgrid\": false, \"showline\": false, \"title\": \"Counts\", \"zeroline\": false}, \"yaxis2\": {\"overlaying\": \"y\", \"side\": \"right\", \"title\": \"Detections rate\"}}, {\"showLink\": true, \"linkText\": \"Export to plot.ly\", \"plotlyServerURL\": \"https://plot.ly\"})});</script><script type=\"text/javascript\">window.addEventListener(\"resize\", function(){window._Plotly.Plots.resize(document.getElementById(\"8d59b64f-a17d-4aed-b6e6-0a88fd0a93ad\"));});</script>"
      ],
      "text/vnd.plotly.v1+html": [
       "<div id=\"8d59b64f-a17d-4aed-b6e6-0a88fd0a93ad\" style=\"height: 525px; width: 100%;\" class=\"plotly-graph-div\"></div><script type=\"text/javascript\">require([\"plotly\"], function(Plotly) { window.PLOTLYENV=window.PLOTLYENV || {};window.PLOTLYENV.BASE_URL=\"https://plot.ly\";Plotly.newPlot(\"8d59b64f-a17d-4aed-b6e6-0a88fd0a93ad\", [{\"name\": \"Touch device counts\", \"x\": [\"Cloud\", \"Core\", \"Education\", \"Enterprise\", \"Server\", \"pro\", \"starter\", \"ultimate\", \"undefined\", \"unlicensed\"], \"y\": [1752, 835451, 1531, 4535, 634, 276128, 0, 0, 0, 0], \"type\": \"bar\", \"uid\": \"443de34c-ad8e-496b-8240-c517d6c3c089\"}, {\"name\": \"Detections rate for touch devices\", \"x\": [\"Cloud\", \"Core\", \"Education\", \"Enterprise\", \"Server\", \"pro\", \"starter\", \"ultimate\", \"undefined\", \"unlicensed\"], \"y\": [0.4006849315068493, 0.4411461593797841, 0.45460483344219466, 0.3938257993384785, 0.44637223974763407, 0.46367626607949936, null, null, null, null], \"yaxis\": \"y2\", \"type\": \"scatter\", \"uid\": \"bb0943fc-d595-4c21-956c-a35c5e56bca5\"}], {\"barmode\": \"group\", \"legend\": {\"orientation\": \"v\"}, \"title\": \"Counts of Census_OSSkuName by top-10 categories for touch devices\", \"xaxis\": {\"showgrid\": false, \"showline\": false, \"title\": \"Census_OSSkuName\", \"type\": \"category\", \"zeroline\": false}, \"yaxis\": {\"showgrid\": false, \"showline\": false, \"title\": \"Counts\", \"zeroline\": false}, \"yaxis2\": {\"overlaying\": \"y\", \"side\": \"right\", \"title\": \"Detections rate\"}}, {\"showLink\": true, \"linkText\": \"Export to plot.ly\", \"plotlyServerURL\": \"https://plot.ly\"})});</script><script type=\"text/javascript\">window.addEventListener(\"resize\", function(){window._Plotly.Plots.resize(document.getElementById(\"8d59b64f-a17d-4aed-b6e6-0a88fd0a93ad\"));});</script>"
      ]
     },
     "metadata": {},
     "output_type": "display_data"
    }
   ],
   "source": [
    "plot_categorical_feature('Census_OSSkuName', True, by_touch=True)"
   ]
  },
  {
   "cell_type": "markdown",
   "metadata": {
    "_uuid": "5a60346a6176d5796b0b9d0642672ee9200f96a3"
   },
   "source": [
    "### Census_OSInstallLanguageIdentifier\n",
    "Sadly we don't know what mean these numbers."
   ]
  },
  {
   "cell_type": "code",
   "execution_count": 80,
   "metadata": {
    "_uuid": "08099fc2ad912bcad776f57f36f5a8322b97e0da"
   },
   "outputs": [
    {
     "name": "stdout",
     "output_type": "stream",
     "text": [
      "Census_OSInstallLanguageIdentifier has 39 unique values and type: float16.\n",
      "8.0     0.356360\n",
      "9.0     0.115923\n",
      "7.0     0.057474\n",
      "29.0    0.055178\n",
      "14.0    0.048479\n",
      "Name: Census_OSInstallLanguageIdentifier, dtype: float64\n"
     ]
    },
    {
     "data": {
      "application/vnd.plotly.v1+json": {
       "config": {
        "linkText": "Export to plot.ly",
        "plotlyServerURL": "https://plot.ly",
        "showLink": true
       },
       "data": [
        {
         "name": "Has Detections",
         "type": "bar",
         "uid": "abd69551-2c34-4199-a052-ead7471a43fc",
         "x": [
          5,
          7,
          8,
          9,
          10,
          14,
          26,
          29,
          35,
          37
         ],
         "y": [
          111350,
          249160,
          1612174,
          529033,
          197462,
          203234,
          170360,
          249820,
          106313,
          208475
         ]
        },
        {
         "name": "No Detections",
         "type": "bar",
         "uid": "fc242e86-7d67-4cd9-bd1b-5256dbb844f0",
         "x": [
          5,
          7,
          8,
          9,
          10,
          14,
          26,
          29,
          35,
          37
         ],
         "y": [
          141537,
          263593,
          1567088,
          505168,
          169174,
          229269,
          164406,
          242447,
          98519,
          194715
         ]
        }
       ],
       "layout": {
        "barmode": "group",
        "legend": {
         "orientation": "v"
        },
        "title": "Counts of Census_OSInstallLanguageIdentifier by top-10 categories",
        "xaxis": {
         "showgrid": false,
         "showline": false,
         "title": "Census_OSInstallLanguageIdentifier",
         "zeroline": false
        },
        "yaxis": {
         "showgrid": false,
         "showline": false,
         "title": "Counts",
         "zeroline": false
        }
       }
      },
      "text/html": [
       "<div id=\"1bcddcd9-42b9-42b3-b867-99bb58afe0d0\" style=\"height: 525px; width: 100%;\" class=\"plotly-graph-div\"></div><script type=\"text/javascript\">require([\"plotly\"], function(Plotly) { window.PLOTLYENV=window.PLOTLYENV || {};window.PLOTLYENV.BASE_URL=\"https://plot.ly\";Plotly.newPlot(\"1bcddcd9-42b9-42b3-b867-99bb58afe0d0\", [{\"name\": \"Has Detections\", \"x\": [5.0, 7.0, 8.0, 9.0, 10.0, 14.0, 26.0, 29.0, 35.0, 37.0], \"y\": [111350, 249160, 1612174, 529033, 197462, 203234, 170360, 249820, 106313, 208475], \"type\": \"bar\", \"uid\": \"05a97273-e28d-47bd-9d0b-b1917ccdc04e\"}, {\"name\": \"No Detections\", \"x\": [5.0, 7.0, 8.0, 9.0, 10.0, 14.0, 26.0, 29.0, 35.0, 37.0], \"y\": [141537, 263593, 1567088, 505168, 169174, 229269, 164406, 242447, 98519, 194715], \"type\": \"bar\", \"uid\": \"4de7207c-b2f7-4694-956a-2dcf9f572c2d\"}], {\"barmode\": \"group\", \"legend\": {\"orientation\": \"v\"}, \"title\": \"Counts of Census_OSInstallLanguageIdentifier by top-10 categories\", \"xaxis\": {\"showgrid\": false, \"showline\": false, \"title\": \"Census_OSInstallLanguageIdentifier\", \"zeroline\": false}, \"yaxis\": {\"showgrid\": false, \"showline\": false, \"title\": \"Counts\", \"zeroline\": false}}, {\"showLink\": true, \"linkText\": \"Export to plot.ly\", \"plotlyServerURL\": \"https://plot.ly\"})});</script><script type=\"text/javascript\">window.addEventListener(\"resize\", function(){window._Plotly.Plots.resize(document.getElementById(\"1bcddcd9-42b9-42b3-b867-99bb58afe0d0\"));});</script>"
      ],
      "text/vnd.plotly.v1+html": [
       "<div id=\"1bcddcd9-42b9-42b3-b867-99bb58afe0d0\" style=\"height: 525px; width: 100%;\" class=\"plotly-graph-div\"></div><script type=\"text/javascript\">require([\"plotly\"], function(Plotly) { window.PLOTLYENV=window.PLOTLYENV || {};window.PLOTLYENV.BASE_URL=\"https://plot.ly\";Plotly.newPlot(\"1bcddcd9-42b9-42b3-b867-99bb58afe0d0\", [{\"name\": \"Has Detections\", \"x\": [5.0, 7.0, 8.0, 9.0, 10.0, 14.0, 26.0, 29.0, 35.0, 37.0], \"y\": [111350, 249160, 1612174, 529033, 197462, 203234, 170360, 249820, 106313, 208475], \"type\": \"bar\", \"uid\": \"05a97273-e28d-47bd-9d0b-b1917ccdc04e\"}, {\"name\": \"No Detections\", \"x\": [5.0, 7.0, 8.0, 9.0, 10.0, 14.0, 26.0, 29.0, 35.0, 37.0], \"y\": [141537, 263593, 1567088, 505168, 169174, 229269, 164406, 242447, 98519, 194715], \"type\": \"bar\", \"uid\": \"4de7207c-b2f7-4694-956a-2dcf9f572c2d\"}], {\"barmode\": \"group\", \"legend\": {\"orientation\": \"v\"}, \"title\": \"Counts of Census_OSInstallLanguageIdentifier by top-10 categories\", \"xaxis\": {\"showgrid\": false, \"showline\": false, \"title\": \"Census_OSInstallLanguageIdentifier\", \"zeroline\": false}, \"yaxis\": {\"showgrid\": false, \"showline\": false, \"title\": \"Counts\", \"zeroline\": false}}, {\"showLink\": true, \"linkText\": \"Export to plot.ly\", \"plotlyServerURL\": \"https://plot.ly\"})});</script><script type=\"text/javascript\">window.addEventListener(\"resize\", function(){window._Plotly.Plots.resize(document.getElementById(\"1bcddcd9-42b9-42b3-b867-99bb58afe0d0\"));});</script>"
      ]
     },
     "metadata": {},
     "output_type": "display_data"
    }
   ],
   "source": [
    "plot_categorical_feature('Census_OSInstallLanguageIdentifier', True)"
   ]
  },
  {
   "cell_type": "code",
   "execution_count": 81,
   "metadata": {
    "_uuid": "e585da1bc2dd5172aac2513ea31b4afd55b8d932"
   },
   "outputs": [],
   "source": [
    "train['Census_OSInstallLanguageIdentifier'] = train['Census_OSInstallLanguageIdentifier'].astype('category')\n",
    "test['Census_OSInstallLanguageIdentifier'] = test['Census_OSInstallLanguageIdentifier'].astype('category')"
   ]
  },
  {
   "cell_type": "markdown",
   "metadata": {
    "_uuid": "16e72639b4c7c3f0bc2b516e89b01c70ddad2baa"
   },
   "source": [
    "### Census_OSUILocaleIdentifier"
   ]
  },
  {
   "cell_type": "code",
   "execution_count": 82,
   "metadata": {
    "_uuid": "41307fd1cbc5958625a8aa528f47357941f7b10f"
   },
   "outputs": [
    {
     "name": "stdout",
     "output_type": "stream",
     "text": [
      "Census_OSUILocaleIdentifier has 147 unique values and type: int16.\n",
      "31     0.355414\n",
      "34     0.116577\n",
      "30     0.057613\n",
      "125    0.055847\n",
      "49     0.048948\n",
      "Name: Census_OSUILocaleIdentifier, dtype: float64\n"
     ]
    },
    {
     "data": {
      "application/vnd.plotly.v1+json": {
       "config": {
        "linkText": "Export to plot.ly",
        "plotlyServerURL": "https://plot.ly",
        "showLink": true
       },
       "data": [
        {
         "name": "Has Detections",
         "type": "bar",
         "uid": "9a2108d6-0a08-43ee-b33b-e5b4ba5b6f03",
         "x": [
          26,
          30,
          31,
          34,
          35,
          49,
          119,
          125,
          148,
          158
         ],
         "y": [
          111208,
          249447,
          1606877,
          532015,
          203579,
          205293,
          171996,
          253204,
          107373,
          211376
         ]
        },
        {
         "name": "No Detections",
         "type": "bar",
         "uid": "8b3fc765-1bf4-4adf-bf4f-dda0ee16ec65",
         "x": [
          26,
          30,
          31,
          34,
          35,
          49,
          119,
          125,
          148,
          158
         ],
         "y": [
          141655,
          264548,
          1563947,
          508027,
          173492,
          231398,
          165992,
          245032,
          99481,
          196742
         ]
        }
       ],
       "layout": {
        "barmode": "group",
        "legend": {
         "orientation": "v"
        },
        "title": "Counts of Census_OSUILocaleIdentifier by top-10 categories",
        "xaxis": {
         "showgrid": false,
         "showline": false,
         "title": "Census_OSUILocaleIdentifier",
         "zeroline": false
        },
        "yaxis": {
         "showgrid": false,
         "showline": false,
         "title": "Counts",
         "zeroline": false
        }
       }
      },
      "text/html": [
       "<div id=\"023f9d90-5acc-48d1-bff9-31344a1b2169\" style=\"height: 525px; width: 100%;\" class=\"plotly-graph-div\"></div><script type=\"text/javascript\">require([\"plotly\"], function(Plotly) { window.PLOTLYENV=window.PLOTLYENV || {};window.PLOTLYENV.BASE_URL=\"https://plot.ly\";Plotly.newPlot(\"023f9d90-5acc-48d1-bff9-31344a1b2169\", [{\"name\": \"Has Detections\", \"x\": [26, 30, 31, 34, 35, 49, 119, 125, 148, 158], \"y\": [111208, 249447, 1606877, 532015, 203579, 205293, 171996, 253204, 107373, 211376], \"type\": \"bar\", \"uid\": \"54bb4ecf-4cfa-45ac-bf23-24fb328f5c1d\"}, {\"name\": \"No Detections\", \"x\": [26, 30, 31, 34, 35, 49, 119, 125, 148, 158], \"y\": [141655, 264548, 1563947, 508027, 173492, 231398, 165992, 245032, 99481, 196742], \"type\": \"bar\", \"uid\": \"3e33454a-09c2-4461-9ed1-138514249f07\"}], {\"barmode\": \"group\", \"legend\": {\"orientation\": \"v\"}, \"title\": \"Counts of Census_OSUILocaleIdentifier by top-10 categories\", \"xaxis\": {\"showgrid\": false, \"showline\": false, \"title\": \"Census_OSUILocaleIdentifier\", \"zeroline\": false}, \"yaxis\": {\"showgrid\": false, \"showline\": false, \"title\": \"Counts\", \"zeroline\": false}}, {\"showLink\": true, \"linkText\": \"Export to plot.ly\", \"plotlyServerURL\": \"https://plot.ly\"})});</script><script type=\"text/javascript\">window.addEventListener(\"resize\", function(){window._Plotly.Plots.resize(document.getElementById(\"023f9d90-5acc-48d1-bff9-31344a1b2169\"));});</script>"
      ],
      "text/vnd.plotly.v1+html": [
       "<div id=\"023f9d90-5acc-48d1-bff9-31344a1b2169\" style=\"height: 525px; width: 100%;\" class=\"plotly-graph-div\"></div><script type=\"text/javascript\">require([\"plotly\"], function(Plotly) { window.PLOTLYENV=window.PLOTLYENV || {};window.PLOTLYENV.BASE_URL=\"https://plot.ly\";Plotly.newPlot(\"023f9d90-5acc-48d1-bff9-31344a1b2169\", [{\"name\": \"Has Detections\", \"x\": [26, 30, 31, 34, 35, 49, 119, 125, 148, 158], \"y\": [111208, 249447, 1606877, 532015, 203579, 205293, 171996, 253204, 107373, 211376], \"type\": \"bar\", \"uid\": \"54bb4ecf-4cfa-45ac-bf23-24fb328f5c1d\"}, {\"name\": \"No Detections\", \"x\": [26, 30, 31, 34, 35, 49, 119, 125, 148, 158], \"y\": [141655, 264548, 1563947, 508027, 173492, 231398, 165992, 245032, 99481, 196742], \"type\": \"bar\", \"uid\": \"3e33454a-09c2-4461-9ed1-138514249f07\"}], {\"barmode\": \"group\", \"legend\": {\"orientation\": \"v\"}, \"title\": \"Counts of Census_OSUILocaleIdentifier by top-10 categories\", \"xaxis\": {\"showgrid\": false, \"showline\": false, \"title\": \"Census_OSUILocaleIdentifier\", \"zeroline\": false}, \"yaxis\": {\"showgrid\": false, \"showline\": false, \"title\": \"Counts\", \"zeroline\": false}}, {\"showLink\": true, \"linkText\": \"Export to plot.ly\", \"plotlyServerURL\": \"https://plot.ly\"})});</script><script type=\"text/javascript\">window.addEventListener(\"resize\", function(){window._Plotly.Plots.resize(document.getElementById(\"023f9d90-5acc-48d1-bff9-31344a1b2169\"));});</script>"
      ]
     },
     "metadata": {},
     "output_type": "display_data"
    }
   ],
   "source": [
    "plot_categorical_feature('Census_OSUILocaleIdentifier', True)"
   ]
  },
  {
   "cell_type": "code",
   "execution_count": 83,
   "metadata": {
    "_uuid": "85ec564c9e3839d8ec9d89a748416c02eae7052e"
   },
   "outputs": [],
   "source": [
    "train['Census_OSUILocaleIdentifier'] = train['Census_OSUILocaleIdentifier'].astype('category')\n",
    "test['Census_OSUILocaleIdentifier'] = test['Census_OSUILocaleIdentifier'].astype('category')"
   ]
  },
  {
   "cell_type": "markdown",
   "metadata": {
    "_uuid": "1a782c75db81cd46d8fe68f25a42b1cfdf7ff7f7"
   },
   "source": [
    "### Census_OSUILocaleIdentifier"
   ]
  },
  {
   "cell_type": "code",
   "execution_count": 84,
   "metadata": {
    "_uuid": "264c6a77762f12465368874a69e040097d42e8e6"
   },
   "outputs": [
    {
     "name": "stdout",
     "output_type": "stream",
     "text": [
      "Census_OSUILocaleIdentifier has 147 unique values and type: category.\n",
      "31     0.355414\n",
      "34     0.116577\n",
      "30     0.057613\n",
      "125    0.055847\n",
      "49     0.048948\n",
      "Name: Census_OSUILocaleIdentifier, dtype: float64\n"
     ]
    },
    {
     "data": {
      "application/vnd.plotly.v1+json": {
       "config": {
        "linkText": "Export to plot.ly",
        "plotlyServerURL": "https://plot.ly",
        "showLink": true
       },
       "data": [
        {
         "name": "Has Detections",
         "type": "bar",
         "uid": "cd2b80d2-9a21-44ca-9b42-c7aaa25b228f",
         "x": [
          26,
          30,
          31,
          34,
          35,
          49,
          119,
          125,
          148,
          158
         ],
         "y": [
          111208,
          249447,
          1606877,
          532015,
          203579,
          205293,
          171996,
          253204,
          107373,
          211376
         ]
        },
        {
         "name": "No Detections",
         "type": "bar",
         "uid": "44e4bfe7-cd48-442a-85c9-fdf3ce6bae2e",
         "x": [
          26,
          30,
          31,
          34,
          35,
          49,
          119,
          125,
          148,
          158
         ],
         "y": [
          141655,
          264548,
          1563947,
          508027,
          173492,
          231398,
          165992,
          245032,
          99481,
          196742
         ]
        }
       ],
       "layout": {
        "barmode": "group",
        "legend": {
         "orientation": "v"
        },
        "title": "Counts of Census_OSUILocaleIdentifier by top-10 categories",
        "xaxis": {
         "showgrid": false,
         "showline": false,
         "title": "Census_OSUILocaleIdentifier",
         "zeroline": false
        },
        "yaxis": {
         "showgrid": false,
         "showline": false,
         "title": "Counts",
         "zeroline": false
        }
       }
      },
      "text/html": [
       "<div id=\"c2f48730-2c39-42a8-95ac-21a3004a507f\" style=\"height: 525px; width: 100%;\" class=\"plotly-graph-div\"></div><script type=\"text/javascript\">require([\"plotly\"], function(Plotly) { window.PLOTLYENV=window.PLOTLYENV || {};window.PLOTLYENV.BASE_URL=\"https://plot.ly\";Plotly.newPlot(\"c2f48730-2c39-42a8-95ac-21a3004a507f\", [{\"name\": \"Has Detections\", \"x\": [26, 30, 31, 34, 35, 49, 119, 125, 148, 158], \"y\": [111208, 249447, 1606877, 532015, 203579, 205293, 171996, 253204, 107373, 211376], \"type\": \"bar\", \"uid\": \"511eb936-6574-46cc-9f3e-4c002d766e3f\"}, {\"name\": \"No Detections\", \"x\": [26, 30, 31, 34, 35, 49, 119, 125, 148, 158], \"y\": [141655, 264548, 1563947, 508027, 173492, 231398, 165992, 245032, 99481, 196742], \"type\": \"bar\", \"uid\": \"eea67551-5cc0-4453-9ba8-c22228911bc1\"}], {\"barmode\": \"group\", \"legend\": {\"orientation\": \"v\"}, \"title\": \"Counts of Census_OSUILocaleIdentifier by top-10 categories\", \"xaxis\": {\"showgrid\": false, \"showline\": false, \"title\": \"Census_OSUILocaleIdentifier\", \"zeroline\": false}, \"yaxis\": {\"showgrid\": false, \"showline\": false, \"title\": \"Counts\", \"zeroline\": false}}, {\"showLink\": true, \"linkText\": \"Export to plot.ly\", \"plotlyServerURL\": \"https://plot.ly\"})});</script><script type=\"text/javascript\">window.addEventListener(\"resize\", function(){window._Plotly.Plots.resize(document.getElementById(\"c2f48730-2c39-42a8-95ac-21a3004a507f\"));});</script>"
      ],
      "text/vnd.plotly.v1+html": [
       "<div id=\"c2f48730-2c39-42a8-95ac-21a3004a507f\" style=\"height: 525px; width: 100%;\" class=\"plotly-graph-div\"></div><script type=\"text/javascript\">require([\"plotly\"], function(Plotly) { window.PLOTLYENV=window.PLOTLYENV || {};window.PLOTLYENV.BASE_URL=\"https://plot.ly\";Plotly.newPlot(\"c2f48730-2c39-42a8-95ac-21a3004a507f\", [{\"name\": \"Has Detections\", \"x\": [26, 30, 31, 34, 35, 49, 119, 125, 148, 158], \"y\": [111208, 249447, 1606877, 532015, 203579, 205293, 171996, 253204, 107373, 211376], \"type\": \"bar\", \"uid\": \"511eb936-6574-46cc-9f3e-4c002d766e3f\"}, {\"name\": \"No Detections\", \"x\": [26, 30, 31, 34, 35, 49, 119, 125, 148, 158], \"y\": [141655, 264548, 1563947, 508027, 173492, 231398, 165992, 245032, 99481, 196742], \"type\": \"bar\", \"uid\": \"eea67551-5cc0-4453-9ba8-c22228911bc1\"}], {\"barmode\": \"group\", \"legend\": {\"orientation\": \"v\"}, \"title\": \"Counts of Census_OSUILocaleIdentifier by top-10 categories\", \"xaxis\": {\"showgrid\": false, \"showline\": false, \"title\": \"Census_OSUILocaleIdentifier\", \"zeroline\": false}, \"yaxis\": {\"showgrid\": false, \"showline\": false, \"title\": \"Counts\", \"zeroline\": false}}, {\"showLink\": true, \"linkText\": \"Export to plot.ly\", \"plotlyServerURL\": \"https://plot.ly\"})});</script><script type=\"text/javascript\">window.addEventListener(\"resize\", function(){window._Plotly.Plots.resize(document.getElementById(\"c2f48730-2c39-42a8-95ac-21a3004a507f\"));});</script>"
      ]
     },
     "metadata": {},
     "output_type": "display_data"
    }
   ],
   "source": [
    "plot_categorical_feature('Census_OSUILocaleIdentifier', True)"
   ]
  },
  {
   "cell_type": "markdown",
   "metadata": {
    "_uuid": "50c4e621572120b2b15481d2374bfb33696ae0c5"
   },
   "source": [
    "### OsSuite"
   ]
  },
  {
   "cell_type": "code",
   "execution_count": 85,
   "metadata": {
    "_uuid": "cf623e5b2b206ad090c4501408ccac8d5e14ffa1"
   },
   "outputs": [
    {
     "name": "stdout",
     "output_type": "stream",
     "text": [
      "OsSuite has 14 unique values and type: int16.\n",
      "768    0.623289\n",
      "256    0.375078\n",
      "272    0.001355\n",
      "400    0.000089\n",
      "16     0.000082\n",
      "Name: OsSuite, dtype: float64\n"
     ]
    },
    {
     "data": {
      "application/vnd.plotly.v1+json": {
       "config": {
        "linkText": "Export to plot.ly",
        "plotlyServerURL": "https://plot.ly",
        "showLink": true
       },
       "data": [
        {
         "name": "Has Detections",
         "type": "bar",
         "uid": "3abccb04-8310-44d5-8145-f84d8a4448d9",
         "x": [
          16,
          49,
          144,
          256,
          272,
          274,
          305,
          400,
          768,
          784
         ],
         "y": [
          440,
          9,
          18,
          1718312,
          4056,
          11,
          279,
          210,
          2735465,
          89
         ]
        },
        {
         "name": "No Detections",
         "type": "bar",
         "uid": "b937a624-4d1a-4c6f-bb38-d12157a76683",
         "x": [
          16,
          49,
          144,
          256,
          272,
          274,
          305,
          400,
          768,
          784
         ],
         "y": [
          291,
          8,
          16,
          1627939,
          8036,
          28,
          383,
          583,
          2825196,
          109
         ]
        }
       ],
       "layout": {
        "barmode": "group",
        "legend": {
         "orientation": "v"
        },
        "title": "Counts of OsSuite by top-10 categories",
        "xaxis": {
         "showgrid": false,
         "showline": false,
         "title": "OsSuite",
         "zeroline": false
        },
        "yaxis": {
         "showgrid": false,
         "showline": false,
         "title": "Counts",
         "zeroline": false
        }
       }
      },
      "text/html": [
       "<div id=\"91b3e322-40d9-4e23-8186-bce247bb3e4c\" style=\"height: 525px; width: 100%;\" class=\"plotly-graph-div\"></div><script type=\"text/javascript\">require([\"plotly\"], function(Plotly) { window.PLOTLYENV=window.PLOTLYENV || {};window.PLOTLYENV.BASE_URL=\"https://plot.ly\";Plotly.newPlot(\"91b3e322-40d9-4e23-8186-bce247bb3e4c\", [{\"name\": \"Has Detections\", \"x\": [16, 49, 144, 256, 272, 274, 305, 400, 768, 784], \"y\": [440, 9, 18, 1718312, 4056, 11, 279, 210, 2735465, 89], \"type\": \"bar\", \"uid\": \"985a37e5-c408-4c1d-9c93-8f2a8e89d15b\"}, {\"name\": \"No Detections\", \"x\": [16, 49, 144, 256, 272, 274, 305, 400, 768, 784], \"y\": [291, 8, 16, 1627939, 8036, 28, 383, 583, 2825196, 109], \"type\": \"bar\", \"uid\": \"23f1ccee-a606-4d4c-b7f7-4f7f3b96580e\"}], {\"barmode\": \"group\", \"legend\": {\"orientation\": \"v\"}, \"title\": \"Counts of OsSuite by top-10 categories\", \"xaxis\": {\"showgrid\": false, \"showline\": false, \"title\": \"OsSuite\", \"zeroline\": false}, \"yaxis\": {\"showgrid\": false, \"showline\": false, \"title\": \"Counts\", \"zeroline\": false}}, {\"showLink\": true, \"linkText\": \"Export to plot.ly\", \"plotlyServerURL\": \"https://plot.ly\"})});</script><script type=\"text/javascript\">window.addEventListener(\"resize\", function(){window._Plotly.Plots.resize(document.getElementById(\"91b3e322-40d9-4e23-8186-bce247bb3e4c\"));});</script>"
      ],
      "text/vnd.plotly.v1+html": [
       "<div id=\"91b3e322-40d9-4e23-8186-bce247bb3e4c\" style=\"height: 525px; width: 100%;\" class=\"plotly-graph-div\"></div><script type=\"text/javascript\">require([\"plotly\"], function(Plotly) { window.PLOTLYENV=window.PLOTLYENV || {};window.PLOTLYENV.BASE_URL=\"https://plot.ly\";Plotly.newPlot(\"91b3e322-40d9-4e23-8186-bce247bb3e4c\", [{\"name\": \"Has Detections\", \"x\": [16, 49, 144, 256, 272, 274, 305, 400, 768, 784], \"y\": [440, 9, 18, 1718312, 4056, 11, 279, 210, 2735465, 89], \"type\": \"bar\", \"uid\": \"985a37e5-c408-4c1d-9c93-8f2a8e89d15b\"}, {\"name\": \"No Detections\", \"x\": [16, 49, 144, 256, 272, 274, 305, 400, 768, 784], \"y\": [291, 8, 16, 1627939, 8036, 28, 383, 583, 2825196, 109], \"type\": \"bar\", \"uid\": \"23f1ccee-a606-4d4c-b7f7-4f7f3b96580e\"}], {\"barmode\": \"group\", \"legend\": {\"orientation\": \"v\"}, \"title\": \"Counts of OsSuite by top-10 categories\", \"xaxis\": {\"showgrid\": false, \"showline\": false, \"title\": \"OsSuite\", \"zeroline\": false}, \"yaxis\": {\"showgrid\": false, \"showline\": false, \"title\": \"Counts\", \"zeroline\": false}}, {\"showLink\": true, \"linkText\": \"Export to plot.ly\", \"plotlyServerURL\": \"https://plot.ly\"})});</script><script type=\"text/javascript\">window.addEventListener(\"resize\", function(){window._Plotly.Plots.resize(document.getElementById(\"91b3e322-40d9-4e23-8186-bce247bb3e4c\"));});</script>"
      ]
     },
     "metadata": {},
     "output_type": "display_data"
    }
   ],
   "source": [
    "plot_categorical_feature('OsSuite', True)"
   ]
  },
  {
   "cell_type": "code",
   "execution_count": 86,
   "metadata": {
    "_uuid": "d6baefa63eadbe4a1bab03032a316030b2ebbe1b"
   },
   "outputs": [],
   "source": [
    "train['OsSuite'] = train['OsSuite'].astype('category')\n",
    "test['OsSuite'] = test['OsSuite'].astype('category')"
   ]
  },
  {
   "cell_type": "markdown",
   "metadata": {
    "_uuid": "2146fda9560a3baae156a6c21b781bf76de438e7"
   },
   "source": [
    "### Wdft_RegionIdentifier"
   ]
  },
  {
   "cell_type": "code",
   "execution_count": 87,
   "metadata": {
    "_uuid": "564aa98e4cd1219bfeedaa193af54efbc020cf66"
   },
   "outputs": [
    {
     "name": "stdout",
     "output_type": "stream",
     "text": [
      "Wdft_RegionIdentifier has 15 unique values and type: float16.\n",
      "10.0    0.201772\n",
      "11.0    0.151077\n",
      "3.0     0.145255\n",
      "1.0     0.138123\n",
      "15.0    0.114061\n",
      "Name: Wdft_RegionIdentifier, dtype: float64\n"
     ]
    },
    {
     "data": {
      "application/vnd.plotly.v1+json": {
       "config": {
        "linkText": "Export to plot.ly",
        "plotlyServerURL": "https://plot.ly",
        "showLink": true
       },
       "data": [
        {
         "name": "Has Detections",
         "type": "bar",
         "uid": "0cbb08ac-ccf8-4f88-8ecd-40a39cb73b71",
         "x": [
          1,
          3,
          5,
          7,
          8,
          10,
          11,
          13,
          15
         ],
         "y": [
          659826,
          638119,
          99113,
          299335,
          135824,
          916641,
          678230,
          107481,
          474349
         ]
        },
        {
         "name": "No Detections",
         "type": "bar",
         "uid": "2766d8c4-895f-49e1-96f1-cdeff6268aec",
         "x": [
          1,
          3,
          5,
          7,
          8,
          10,
          11,
          13,
          15
         ],
         "y": [
          572432,
          657773,
          106259,
          297962,
          140205,
          883464,
          669598,
          117649,
          543242
         ]
        }
       ],
       "layout": {
        "barmode": "group",
        "legend": {
         "orientation": "v"
        },
        "title": "Counts of Wdft_RegionIdentifier by top-10 categories",
        "xaxis": {
         "showgrid": false,
         "showline": false,
         "title": "Wdft_RegionIdentifier",
         "zeroline": false
        },
        "yaxis": {
         "showgrid": false,
         "showline": false,
         "title": "Counts",
         "zeroline": false
        }
       }
      },
      "text/html": [
       "<div id=\"5a7580ff-63a7-4bcc-9b54-9e30c9624543\" style=\"height: 525px; width: 100%;\" class=\"plotly-graph-div\"></div><script type=\"text/javascript\">require([\"plotly\"], function(Plotly) { window.PLOTLYENV=window.PLOTLYENV || {};window.PLOTLYENV.BASE_URL=\"https://plot.ly\";Plotly.newPlot(\"5a7580ff-63a7-4bcc-9b54-9e30c9624543\", [{\"name\": \"Has Detections\", \"x\": [1.0, 3.0, 5.0, 7.0, 8.0, 10.0, 11.0, 13.0, 15.0], \"y\": [659826, 638119, 99113, 299335, 135824, 916641, 678230, 107481, 474349], \"type\": \"bar\", \"uid\": \"bbce92f8-10ca-44a6-99c7-f6c642c4980a\"}, {\"name\": \"No Detections\", \"x\": [1.0, 3.0, 5.0, 7.0, 8.0, 10.0, 11.0, 13.0, 15.0], \"y\": [572432, 657773, 106259, 297962, 140205, 883464, 669598, 117649, 543242], \"type\": \"bar\", \"uid\": \"866d8dc7-c41b-4939-990c-0fcc74349993\"}], {\"barmode\": \"group\", \"legend\": {\"orientation\": \"v\"}, \"title\": \"Counts of Wdft_RegionIdentifier by top-10 categories\", \"xaxis\": {\"showgrid\": false, \"showline\": false, \"title\": \"Wdft_RegionIdentifier\", \"zeroline\": false}, \"yaxis\": {\"showgrid\": false, \"showline\": false, \"title\": \"Counts\", \"zeroline\": false}}, {\"showLink\": true, \"linkText\": \"Export to plot.ly\", \"plotlyServerURL\": \"https://plot.ly\"})});</script><script type=\"text/javascript\">window.addEventListener(\"resize\", function(){window._Plotly.Plots.resize(document.getElementById(\"5a7580ff-63a7-4bcc-9b54-9e30c9624543\"));});</script>"
      ],
      "text/vnd.plotly.v1+html": [
       "<div id=\"5a7580ff-63a7-4bcc-9b54-9e30c9624543\" style=\"height: 525px; width: 100%;\" class=\"plotly-graph-div\"></div><script type=\"text/javascript\">require([\"plotly\"], function(Plotly) { window.PLOTLYENV=window.PLOTLYENV || {};window.PLOTLYENV.BASE_URL=\"https://plot.ly\";Plotly.newPlot(\"5a7580ff-63a7-4bcc-9b54-9e30c9624543\", [{\"name\": \"Has Detections\", \"x\": [1.0, 3.0, 5.0, 7.0, 8.0, 10.0, 11.0, 13.0, 15.0], \"y\": [659826, 638119, 99113, 299335, 135824, 916641, 678230, 107481, 474349], \"type\": \"bar\", \"uid\": \"bbce92f8-10ca-44a6-99c7-f6c642c4980a\"}, {\"name\": \"No Detections\", \"x\": [1.0, 3.0, 5.0, 7.0, 8.0, 10.0, 11.0, 13.0, 15.0], \"y\": [572432, 657773, 106259, 297962, 140205, 883464, 669598, 117649, 543242], \"type\": \"bar\", \"uid\": \"866d8dc7-c41b-4939-990c-0fcc74349993\"}], {\"barmode\": \"group\", \"legend\": {\"orientation\": \"v\"}, \"title\": \"Counts of Wdft_RegionIdentifier by top-10 categories\", \"xaxis\": {\"showgrid\": false, \"showline\": false, \"title\": \"Wdft_RegionIdentifier\", \"zeroline\": false}, \"yaxis\": {\"showgrid\": false, \"showline\": false, \"title\": \"Counts\", \"zeroline\": false}}, {\"showLink\": true, \"linkText\": \"Export to plot.ly\", \"plotlyServerURL\": \"https://plot.ly\"})});</script><script type=\"text/javascript\">window.addEventListener(\"resize\", function(){window._Plotly.Plots.resize(document.getElementById(\"5a7580ff-63a7-4bcc-9b54-9e30c9624543\"));});</script>"
      ]
     },
     "metadata": {},
     "output_type": "display_data"
    }
   ],
   "source": [
    "plot_categorical_feature('Wdft_RegionIdentifier', True)"
   ]
  },
  {
   "cell_type": "code",
   "execution_count": 88,
   "metadata": {
    "_uuid": "f5d2080bccae8290be543f08194f4dbfd7315f29"
   },
   "outputs": [],
   "source": [
    "train['Wdft_RegionIdentifier'] = train['Wdft_RegionIdentifier'].astype('category')\n",
    "test['Wdft_RegionIdentifier'] = test['Wdft_RegionIdentifier'].astype('category')"
   ]
  },
  {
   "cell_type": "markdown",
   "metadata": {
    "_uuid": "9c48c198de84660bbc824025ff9334859fb714cf"
   },
   "source": [
    "### SkuEdition"
   ]
  },
  {
   "cell_type": "code",
   "execution_count": 89,
   "metadata": {
    "_uuid": "6791a1d96df24f3851c10cd641d74715df1d127f"
   },
   "outputs": [
    {
     "data": {
      "text/plain": [
       "Home               0.618097\n",
       "Pro                0.361393\n",
       "Invalid            0.008749\n",
       "Education          0.004561\n",
       "Enterprise         0.003851\n",
       "Enterprise LTSB    0.002320\n",
       "Cloud              0.000626\n",
       "Server             0.000402\n",
       "Name: SkuEdition, dtype: float64"
      ]
     },
     "execution_count": 89,
     "metadata": {},
     "output_type": "execute_result"
    }
   ],
   "source": [
    "train['SkuEdition'].value_counts(dropna=False, normalize=True)"
   ]
  },
  {
   "cell_type": "markdown",
   "metadata": {
    "_uuid": "19883aa3ae39defdd6e9bd2f956b19372caa7950"
   },
   "source": [
    "Home and Pro editions together give 97.9%+ of all values. Condidering that other categories are for Enterprise mostly, I combine them with Pro."
   ]
  },
  {
   "cell_type": "code",
   "execution_count": 90,
   "metadata": {
    "_uuid": "e7834f78da3cd248abf682b8dadc99a279570410"
   },
   "outputs": [],
   "source": [
    "# train.loc[train['SkuEdition'] != 'Home', 'SkuEdition'] = 'Pro'\n",
    "# test.loc[test['SkuEdition'] != 'Home', 'SkuEdition'] = 'Pro'\n",
    "\n",
    "# train['SkuEdition'] = train['SkuEdition'].cat.remove_unused_categories()\n",
    "# test['SkuEdition'] = test['SkuEdition'].cat.remove_unused_categories()"
   ]
  },
  {
   "cell_type": "code",
   "execution_count": 91,
   "metadata": {
    "_uuid": "c013be9dcc8b75c4bec742fdeab24d0c4148fa51"
   },
   "outputs": [
    {
     "data": {
      "text/html": [
       "<div>\n",
       "<style scoped>\n",
       "    .dataframe tbody tr th:only-of-type {\n",
       "        vertical-align: middle;\n",
       "    }\n",
       "\n",
       "    .dataframe tbody tr th {\n",
       "        vertical-align: top;\n",
       "    }\n",
       "\n",
       "    .dataframe thead th {\n",
       "        text-align: right;\n",
       "    }\n",
       "</style>\n",
       "<table border=\"1\" class=\"dataframe\">\n",
       "  <thead>\n",
       "    <tr style=\"text-align: right;\">\n",
       "      <th>Census_OSEdition</th>\n",
       "      <th>Cloud</th>\n",
       "      <th>Core</th>\n",
       "      <th>Education</th>\n",
       "      <th>Enterprise</th>\n",
       "      <th>Home</th>\n",
       "      <th>Server</th>\n",
       "      <th>pro</th>\n",
       "      <th>ultimate</th>\n",
       "    </tr>\n",
       "    <tr>\n",
       "      <th>SkuEdition</th>\n",
       "      <th></th>\n",
       "      <th></th>\n",
       "      <th></th>\n",
       "      <th></th>\n",
       "      <th></th>\n",
       "      <th></th>\n",
       "      <th></th>\n",
       "      <th></th>\n",
       "    </tr>\n",
       "  </thead>\n",
       "  <tbody>\n",
       "    <tr>\n",
       "      <th>Cloud</th>\n",
       "      <td>0.888429</td>\n",
       "      <td>7.160321e-07</td>\n",
       "      <td>0.000000</td>\n",
       "      <td>0.000000</td>\n",
       "      <td>0.000000</td>\n",
       "      <td>0.000000</td>\n",
       "      <td>9.328509e-07</td>\n",
       "      <td>0.0</td>\n",
       "    </tr>\n",
       "    <tr>\n",
       "      <th>Education</th>\n",
       "      <td>0.000000</td>\n",
       "      <td>1.521568e-05</td>\n",
       "      <td>0.966952</td>\n",
       "      <td>0.000000</td>\n",
       "      <td>0.000000</td>\n",
       "      <td>0.000000</td>\n",
       "      <td>1.085217e-04</td>\n",
       "      <td>0.0</td>\n",
       "    </tr>\n",
       "    <tr>\n",
       "      <th>Enterprise</th>\n",
       "      <td>0.000000</td>\n",
       "      <td>2.148096e-06</td>\n",
       "      <td>0.000024</td>\n",
       "      <td>0.603117</td>\n",
       "      <td>0.000000</td>\n",
       "      <td>0.000139</td>\n",
       "      <td>1.648037e-05</td>\n",
       "      <td>0.0</td>\n",
       "    </tr>\n",
       "    <tr>\n",
       "      <th>Enterprise LTSB</th>\n",
       "      <td>0.000000</td>\n",
       "      <td>5.370240e-07</td>\n",
       "      <td>0.000048</td>\n",
       "      <td>0.363763</td>\n",
       "      <td>0.000000</td>\n",
       "      <td>0.000000</td>\n",
       "      <td>4.975205e-06</td>\n",
       "      <td>0.0</td>\n",
       "    </tr>\n",
       "    <tr>\n",
       "      <th>Home</th>\n",
       "      <td>0.001751</td>\n",
       "      <td>9.860368e-01</td>\n",
       "      <td>0.003843</td>\n",
       "      <td>0.001706</td>\n",
       "      <td>0.166667</td>\n",
       "      <td>0.000416</td>\n",
       "      <td>1.780812e-03</td>\n",
       "      <td>0.0</td>\n",
       "    </tr>\n",
       "    <tr>\n",
       "      <th>Invalid</th>\n",
       "      <td>0.000000</td>\n",
       "      <td>8.670432e-03</td>\n",
       "      <td>0.000360</td>\n",
       "      <td>0.000000</td>\n",
       "      <td>0.166667</td>\n",
       "      <td>0.748525</td>\n",
       "      <td>5.849286e-03</td>\n",
       "      <td>1.0</td>\n",
       "    </tr>\n",
       "    <tr>\n",
       "      <th>Pro</th>\n",
       "      <td>0.109820</td>\n",
       "      <td>5.274113e-03</td>\n",
       "      <td>0.028773</td>\n",
       "      <td>0.031379</td>\n",
       "      <td>0.666667</td>\n",
       "      <td>0.002498</td>\n",
       "      <td>9.922390e-01</td>\n",
       "      <td>0.0</td>\n",
       "    </tr>\n",
       "    <tr>\n",
       "      <th>Server</th>\n",
       "      <td>0.000000</td>\n",
       "      <td>0.000000e+00</td>\n",
       "      <td>0.000000</td>\n",
       "      <td>0.000035</td>\n",
       "      <td>0.000000</td>\n",
       "      <td>0.248421</td>\n",
       "      <td>0.000000e+00</td>\n",
       "      <td>0.0</td>\n",
       "    </tr>\n",
       "  </tbody>\n",
       "</table>\n",
       "</div>"
      ],
      "text/plain": [
       "Census_OSEdition     Cloud          Core  Education  Enterprise      Home  \\\n",
       "SkuEdition                                                                  \n",
       "Cloud             0.888429  7.160321e-07   0.000000    0.000000  0.000000   \n",
       "Education         0.000000  1.521568e-05   0.966952    0.000000  0.000000   \n",
       "Enterprise        0.000000  2.148096e-06   0.000024    0.603117  0.000000   \n",
       "Enterprise LTSB   0.000000  5.370240e-07   0.000048    0.363763  0.000000   \n",
       "Home              0.001751  9.860368e-01   0.003843    0.001706  0.166667   \n",
       "Invalid           0.000000  8.670432e-03   0.000360    0.000000  0.166667   \n",
       "Pro               0.109820  5.274113e-03   0.028773    0.031379  0.666667   \n",
       "Server            0.000000  0.000000e+00   0.000000    0.000035  0.000000   \n",
       "\n",
       "Census_OSEdition    Server           pro  ultimate  \n",
       "SkuEdition                                          \n",
       "Cloud             0.000000  9.328509e-07       0.0  \n",
       "Education         0.000000  1.085217e-04       0.0  \n",
       "Enterprise        0.000139  1.648037e-05       0.0  \n",
       "Enterprise LTSB   0.000000  4.975205e-06       0.0  \n",
       "Home              0.000416  1.780812e-03       0.0  \n",
       "Invalid           0.748525  5.849286e-03       1.0  \n",
       "Pro               0.002498  9.922390e-01       0.0  \n",
       "Server            0.248421  0.000000e+00       0.0  "
      ]
     },
     "execution_count": 91,
     "metadata": {},
     "output_type": "execute_result"
    }
   ],
   "source": [
    "pd.crosstab(train['SkuEdition'], train['Census_OSEdition'], normalize='columns')"
   ]
  },
  {
   "cell_type": "markdown",
   "metadata": {
    "_uuid": "1bf4e2154ebc5eea75908acc632fa63668ded470"
   },
   "source": [
    "It seems that Home Sku edition corresponds to Core OS Edition, and Pro Sku edition corresponts to all other OS editions."
   ]
  },
  {
   "cell_type": "markdown",
   "metadata": {
    "_uuid": "60f69dcfbb2349a0735da19f1981863244182b8e"
   },
   "source": [
    "### SmartScreen"
   ]
  },
  {
   "cell_type": "code",
   "execution_count": 92,
   "metadata": {
    "_uuid": "61c1aeb6ea5481bf03e0e38ab282121acfb8091a"
   },
   "outputs": [
    {
     "data": {
      "text/plain": [
       "RequireAdmin    0.483797\n",
       "NaN             0.839905\n",
       "ExistsNotSet    0.957170\n",
       "Off             0.978081\n",
       "Warn            0.993267\n",
       "Prompt          0.997138\n",
       "Block           0.999663\n",
       "off             0.999815\n",
       "On              0.999897\n",
       "&#x02;          0.999943\n",
       "&#x01;          0.999981\n",
       "on              0.999997\n",
       "requireadmin    0.999998\n",
       "OFF             0.999999\n",
       "0               0.999999\n",
       "Promt           0.999999\n",
       "&#x03;          0.999999\n",
       "Enabled         1.000000\n",
       "prompt          1.000000\n",
       "warn            1.000000\n",
       "00000000        1.000000\n",
       "requireAdmin    1.000000\n",
       "Name: SmartScreen, dtype: float64"
      ]
     },
     "execution_count": 92,
     "metadata": {},
     "output_type": "execute_result"
    }
   ],
   "source": [
    "train['SmartScreen'].value_counts(dropna=False, normalize=True).cumsum()"
   ]
  },
  {
   "cell_type": "markdown",
   "metadata": {
    "_uuid": "17c8d92d8997703e9674a114b7e182d630eb2cfd"
   },
   "source": [
    "As per description: If the value exists but is blank, the value \"ExistsNotSet\" is sent in telemetry.\n",
    "So missing values and ExistsNotSet are in fact the same. This category + RequireAdmin + Off + Warn are 99.3% of all values. I'll combine all other values into Prompt."
   ]
  },
  {
   "cell_type": "code",
   "execution_count": 93,
   "metadata": {
    "_uuid": "11aeff4b28019f824e49b3ac2b57c16fbe316e2a"
   },
   "outputs": [],
   "source": [
    "# train.loc[train['SmartScreen'].isnull(), 'SmartScreen'] = 'ExistsNotSet'\n",
    "# test.loc[test['SmartScreen'].isnull(), 'SmartScreen'] = 'ExistsNotSet'\n",
    "# train.loc[train['SmartScreen'].isin(['RequireAdmin', 'ExistsNotSet', 'Off', 'Warn']) == False, 'SmartScreen'] = 'Prompt'\n",
    "# test.loc[test['SmartScreen'].isin(['RequireAdmin', 'ExistsNotSet', 'Off', 'Warn']) == False, 'SmartScreen'] = 'Prompt'\n",
    "\n",
    "# train['SmartScreen'] = train['SmartScreen'].cat.remove_unused_categories()\n",
    "# test['SmartScreen'] = test['SmartScreen'].cat.remove_unused_categories()"
   ]
  },
  {
   "cell_type": "code",
   "execution_count": 94,
   "metadata": {
    "_uuid": "7bd86f0102a8e40bb0f9f9e298c105399ec4f419"
   },
   "outputs": [
    {
     "data": {
      "image/png": "[encoded data removed]",
      "text/plain": [
       "<Figure size 1080x576 with 1 Axes>"
      ]
     },
     "metadata": {},
     "output_type": "display_data"
    }
   ],
   "source": [
    "sns.set(rc={'figure.figsize':(15, 8)})\n",
    "sns.countplot(x=\"SmartScreen\", hue=\"HasDetections\",  palette=\"PRGn\", data=train)\n",
    "plt.title(\"SmartScreen counts\")\n",
    "plt.xticks(rotation='vertical')\n",
    "plt.show()"
   ]
  },
  {
   "cell_type": "markdown",
   "metadata": {
    "_uuid": "3d02177c4c115be3538932fddb020a0bf6d16ed4"
   },
   "source": [
    "### Census_MDC2FormFactor"
   ]
  },
  {
   "cell_type": "code",
   "execution_count": 95,
   "metadata": {
    "_uuid": "0c5cfc84d5d455260b8d6ac9cc503d150a51cf66"
   },
   "outputs": [
    {
     "data": {
      "text/plain": [
       "Notebook        0.641521\n",
       "Desktop         0.860216\n",
       "Convertible     0.905655\n",
       "Detachable      0.939083\n",
       "AllInOne        0.971822\n",
       "PCOther         0.987509\n",
       "LargeTablet     0.995033\n",
       "SmallTablet     0.998552\n",
       "SmallServer     0.999519\n",
       "MediumServer    0.999898\n",
       "LargeServer     0.999997\n",
       "ServerOther     1.000000\n",
       "IoTOther        1.000000\n",
       "Name: Census_MDC2FormFactor, dtype: float64"
      ]
     },
     "execution_count": 95,
     "metadata": {},
     "output_type": "execute_result"
    }
   ],
   "source": [
    "train['Census_MDC2FormFactor'].value_counts(dropna=False, normalize=True).cumsum()"
   ]
  },
  {
   "cell_type": "code",
   "execution_count": 96,
   "metadata": {
    "_uuid": "753152537a8b0d760b694b5a951d78822ee00f21"
   },
   "outputs": [],
   "source": [
    "# top_cats = list(train['Census_MDC2FormFactor'].value_counts().index[:5])\n",
    "# train.loc[train['Census_MDC2FormFactor'].isin(top_cats) == False, 'Census_MDC2FormFactor'] = 'PCOther'\n",
    "# test.loc[test['Census_MDC2FormFactor'].isin(top_cats) == False, 'Census_MDC2FormFactor'] = 'PCOther'\n",
    "\n",
    "# train['Census_MDC2FormFactor'] = train['Census_MDC2FormFactor'].cat.remove_unused_categories()\n",
    "# test['Census_MDC2FormFactor'] = test['Census_MDC2FormFactor'].cat.remove_unused_categories()"
   ]
  },
  {
   "cell_type": "code",
   "execution_count": 97,
   "metadata": {
    "_uuid": "5ee720c930ef907a93edff3dffb962a24c6edf69"
   },
   "outputs": [
    {
     "name": "stdout",
     "output_type": "stream",
     "text": [
      "Census_MDC2FormFactor has 13 unique values and type: category.\n",
      "Notebook       0.641521\n",
      "Desktop        0.218695\n",
      "Convertible    0.045438\n",
      "Detachable     0.033429\n",
      "AllInOne       0.032739\n",
      "Name: Census_MDC2FormFactor, dtype: float64\n"
     ]
    },
    {
     "data": {
      "application/vnd.plotly.v1+json": {
       "config": {
        "linkText": "Export to plot.ly",
        "plotlyServerURL": "https://plot.ly",
        "showLink": true
       },
       "data": [
        {
         "name": "Has Detections",
         "type": "bar",
         "uid": "79eca705-eaca-491b-93f9-23f81da18749",
         "x": [
          "AllInOne",
          "Convertible",
          "Desktop",
          "Detachable",
          "LargeTablet",
          "MediumServer",
          "Notebook",
          "PCOther",
          "SmallServer",
          "SmallTablet"
         ],
         "y": [
          150581,
          201394,
          1019851,
          111996,
          20886,
          998,
          2876153,
          67932,
          2996,
          5875
         ]
        },
        {
         "name": "No Detections",
         "type": "bar",
         "uid": "a9e819d7-9afa-43e5-84ea-19a35655ee4a",
         "x": [
          "AllInOne",
          "Convertible",
          "Desktop",
          "Detachable",
          "LargeTablet",
          "MediumServer",
          "Notebook",
          "PCOther",
          "SmallServer",
          "SmallTablet"
         ],
         "y": [
          141496,
          203984,
          931235,
          186237,
          46235,
          2387,
          2847166,
          72023,
          5634,
          25518
         ]
        }
       ],
       "layout": {
        "barmode": "group",
        "legend": {
         "orientation": "v"
        },
        "title": "Counts of Census_MDC2FormFactor by top-10 categories",
        "xaxis": {
         "showgrid": false,
         "showline": false,
         "title": "Census_MDC2FormFactor",
         "zeroline": false
        },
        "yaxis": {
         "showgrid": false,
         "showline": false,
         "title": "Counts",
         "zeroline": false
        }
       }
      },
      "text/html": [
       "<div id=\"e2e5a7ea-4804-4850-be51-0be95ed684d1\" style=\"height: 525px; width: 100%;\" class=\"plotly-graph-div\"></div><script type=\"text/javascript\">require([\"plotly\"], function(Plotly) { window.PLOTLYENV=window.PLOTLYENV || {};window.PLOTLYENV.BASE_URL=\"https://plot.ly\";Plotly.newPlot(\"e2e5a7ea-4804-4850-be51-0be95ed684d1\", [{\"name\": \"Has Detections\", \"x\": [\"AllInOne\", \"Convertible\", \"Desktop\", \"Detachable\", \"LargeTablet\", \"MediumServer\", \"Notebook\", \"PCOther\", \"SmallServer\", \"SmallTablet\"], \"y\": [150581, 201394, 1019851, 111996, 20886, 998, 2876153, 67932, 2996, 5875], \"type\": \"bar\", \"uid\": \"f9a7c173-0f0c-436d-8447-5222112994f2\"}, {\"name\": \"No Detections\", \"x\": [\"AllInOne\", \"Convertible\", \"Desktop\", \"Detachable\", \"LargeTablet\", \"MediumServer\", \"Notebook\", \"PCOther\", \"SmallServer\", \"SmallTablet\"], \"y\": [141496, 203984, 931235, 186237, 46235, 2387, 2847166, 72023, 5634, 25518], \"type\": \"bar\", \"uid\": \"38fc682d-f5d8-4e34-b358-08726ee7de01\"}], {\"barmode\": \"group\", \"legend\": {\"orientation\": \"v\"}, \"title\": \"Counts of Census_MDC2FormFactor by top-10 categories\", \"xaxis\": {\"showgrid\": false, \"showline\": false, \"title\": \"Census_MDC2FormFactor\", \"zeroline\": false}, \"yaxis\": {\"showgrid\": false, \"showline\": false, \"title\": \"Counts\", \"zeroline\": false}}, {\"showLink\": true, \"linkText\": \"Export to plot.ly\", \"plotlyServerURL\": \"https://plot.ly\"})});</script><script type=\"text/javascript\">window.addEventListener(\"resize\", function(){window._Plotly.Plots.resize(document.getElementById(\"e2e5a7ea-4804-4850-be51-0be95ed684d1\"));});</script>"
      ],
      "text/vnd.plotly.v1+html": [
       "<div id=\"e2e5a7ea-4804-4850-be51-0be95ed684d1\" style=\"height: 525px; width: 100%;\" class=\"plotly-graph-div\"></div><script type=\"text/javascript\">require([\"plotly\"], function(Plotly) { window.PLOTLYENV=window.PLOTLYENV || {};window.PLOTLYENV.BASE_URL=\"https://plot.ly\";Plotly.newPlot(\"e2e5a7ea-4804-4850-be51-0be95ed684d1\", [{\"name\": \"Has Detections\", \"x\": [\"AllInOne\", \"Convertible\", \"Desktop\", \"Detachable\", \"LargeTablet\", \"MediumServer\", \"Notebook\", \"PCOther\", \"SmallServer\", \"SmallTablet\"], \"y\": [150581, 201394, 1019851, 111996, 20886, 998, 2876153, 67932, 2996, 5875], \"type\": \"bar\", \"uid\": \"f9a7c173-0f0c-436d-8447-5222112994f2\"}, {\"name\": \"No Detections\", \"x\": [\"AllInOne\", \"Convertible\", \"Desktop\", \"Detachable\", \"LargeTablet\", \"MediumServer\", \"Notebook\", \"PCOther\", \"SmallServer\", \"SmallTablet\"], \"y\": [141496, 203984, 931235, 186237, 46235, 2387, 2847166, 72023, 5634, 25518], \"type\": \"bar\", \"uid\": \"38fc682d-f5d8-4e34-b358-08726ee7de01\"}], {\"barmode\": \"group\", \"legend\": {\"orientation\": \"v\"}, \"title\": \"Counts of Census_MDC2FormFactor by top-10 categories\", \"xaxis\": {\"showgrid\": false, \"showline\": false, \"title\": \"Census_MDC2FormFactor\", \"zeroline\": false}, \"yaxis\": {\"showgrid\": false, \"showline\": false, \"title\": \"Counts\", \"zeroline\": false}}, {\"showLink\": true, \"linkText\": \"Export to plot.ly\", \"plotlyServerURL\": \"https://plot.ly\"})});</script><script type=\"text/javascript\">window.addEventListener(\"resize\", function(){window._Plotly.Plots.resize(document.getElementById(\"e2e5a7ea-4804-4850-be51-0be95ed684d1\"));});</script>"
      ]
     },
     "metadata": {},
     "output_type": "display_data"
    }
   ],
   "source": [
    "plot_categorical_feature('Census_MDC2FormFactor', True)"
   ]
  },
  {
   "cell_type": "code",
   "execution_count": 98,
   "metadata": {
    "_uuid": "ac49ae3b7e860ae1bd80fe4eafa41f5f7f9e4f0b"
   },
   "outputs": [
    {
     "data": {
      "image/png": "[encoded data removed]",
      "text/plain": [
       "<Figure size 1155.05x1800 with 13 Axes>"
      ]
     },
     "metadata": {},
     "output_type": "display_data"
    }
   ],
   "source": [
    "sns.catplot(x=\"Census_PrimaryDiskTypeName\", hue=\"HasDetections\", col=\"Census_MDC2FormFactor\",\n",
    "                data=train, kind=\"count\",col_wrap=3);"
   ]
  },
  {
   "cell_type": "markdown",
   "metadata": {
    "_uuid": "176c990f70dfac85258797f208360d3946bb5203"
   },
   "source": [
    "It is nice to see that these two variables interact reasonably.\n",
    "Detachable devices usually have SSD, desktop PC have HDD and SDD and Notebooks usually have HDD."
   ]
  },
  {
   "cell_type": "code",
   "execution_count": 99,
   "metadata": {
    "_uuid": "eefcb0c456852e26f88bc8409d5fc7387dccd84b"
   },
   "outputs": [
    {
     "data": {
      "text/plain": [
       "HDD            0.650879\n",
       "SSD            0.927381\n",
       "UNKNOWN        0.967537\n",
       "Unspecified    0.998560\n",
       "NaN            1.000000\n",
       "Name: Census_PrimaryDiskTypeName, dtype: float64"
      ]
     },
     "execution_count": 99,
     "metadata": {},
     "output_type": "execute_result"
    }
   ],
   "source": [
    "train['Census_PrimaryDiskTypeName'].value_counts(dropna=False, normalize=True).cumsum()"
   ]
  },
  {
   "cell_type": "code",
   "execution_count": 100,
   "metadata": {
    "_uuid": "e8a0e61c72d33a13e33e4d50dc10e686ec18f35e"
   },
   "outputs": [],
   "source": [
    "# train.loc[train['Census_PrimaryDiskTypeName'].isin(['HDD', 'SSD']) == False, 'Census_PrimaryDiskTypeName'] = 'UNKNOWN'\n",
    "# test.loc[test['Census_PrimaryDiskTypeName'].isin(['HDD', 'SSD']) == False, 'Census_PrimaryDiskTypeName'] = 'UNKNOWN'\n",
    "\n",
    "# train['Census_PrimaryDiskTypeName'] = train['Census_PrimaryDiskTypeName'].cat.remove_unused_categories()\n",
    "# test['Census_PrimaryDiskTypeName'] = test['Census_PrimaryDiskTypeName'].cat.remove_unused_categories()"
   ]
  },
  {
   "cell_type": "markdown",
   "metadata": {
    "_uuid": "989f242c49c989b2d6ac5f5143db0a3763977dff"
   },
   "source": [
    "### Census_ProcessorManufacturerIdentifier"
   ]
  },
  {
   "cell_type": "code",
   "execution_count": 101,
   "metadata": {
    "_uuid": "1c5c0a2feb6243be0bb9e4a66e9884ff7495c328"
   },
   "outputs": [
    {
     "data": {
      "text/plain": [
       " 5.0     0.878701\n",
       " 1.0     0.995306\n",
       "NaN      0.999937\n",
       " 10.0    0.999975\n",
       " 3.0     1.000000\n",
       " 9.0     1.000000\n",
       " 7.0     1.000000\n",
       " 4.0     1.000000\n",
       "Name: Census_ProcessorManufacturerIdentifier, dtype: float64"
      ]
     },
     "execution_count": 101,
     "metadata": {},
     "output_type": "execute_result"
    }
   ],
   "source": [
    "train['Census_ProcessorManufacturerIdentifier'].value_counts(dropna=False, normalize=True).cumsum()"
   ]
  },
  {
   "cell_type": "code",
   "execution_count": 102,
   "metadata": {
    "_uuid": "2b11a7b98c90e5e1bcc0f123083477d722f845fe"
   },
   "outputs": [],
   "source": [
    "# train.loc[train['Census_ProcessorManufacturerIdentifier'].isin([5.0, 1.0]) == False, 'Census_ProcessorManufacturerIdentifier'] = 0.0\n",
    "# test.loc[test['Census_ProcessorManufacturerIdentifier'].isin([5.0, 1.0]) == False, 'Census_ProcessorManufacturerIdentifier'] = 0.0\n",
    "\n",
    "# train['Census_ProcessorManufacturerIdentifier'] = train['Census_ProcessorManufacturerIdentifier'].astype('category')\n",
    "# test['Census_ProcessorManufacturerIdentifier'] = test['Census_ProcessorManufacturerIdentifier'].astype('category')"
   ]
  },
  {
   "cell_type": "code",
   "execution_count": 103,
   "metadata": {
    "_uuid": "a0e5e10c869ddb44cf5336bf8fad70e75b9927a5"
   },
   "outputs": [
    {
     "name": "stdout",
     "output_type": "stream",
     "text": [
      "Census_ProcessorManufacturerIdentifier has 7 unique values and type: float16.\n",
      " 5.0     0.878701\n",
      " 1.0     0.116605\n",
      "NaN      0.004631\n",
      " 10.0    0.000038\n",
      " 3.0     0.000024\n",
      "Name: Census_ProcessorManufacturerIdentifier, dtype: float64\n"
     ]
    },
    {
     "data": {
      "application/vnd.plotly.v1+json": {
       "config": {
        "linkText": "Export to plot.ly",
        "plotlyServerURL": "https://plot.ly",
        "showLink": true
       },
       "data": [
        {
         "name": "Has Detections",
         "type": "bar",
         "uid": "abc0b7c2-6555-481c-bd2a-0b03cc5cfb86",
         "x": [
          1,
          3,
          5,
          10
         ],
         "y": [
          509719,
          51,
          3926620,
          5
         ]
        },
        {
         "name": "No Detections",
         "type": "bar",
         "uid": "c58ff8bb-17be-4f67-a44f-dfa82cd12737",
         "x": [
          1,
          3,
          5,
          7,
          9,
          10
         ],
         "y": [
          530573,
          167,
          3912698,
          1,
          1,
          334
         ]
        }
       ],
       "layout": {
        "barmode": "group",
        "legend": {
         "orientation": "v"
        },
        "title": "Counts of Census_ProcessorManufacturerIdentifier by top-7 categories",
        "xaxis": {
         "showgrid": false,
         "showline": false,
         "title": "Census_ProcessorManufacturerIdentifier",
         "zeroline": false
        },
        "yaxis": {
         "showgrid": false,
         "showline": false,
         "title": "Counts",
         "zeroline": false
        }
       }
      },
      "text/html": [
       "<div id=\"a3cb4a1d-6b85-4f08-bbf8-c09478d90b31\" style=\"height: 525px; width: 100%;\" class=\"plotly-graph-div\"></div><script type=\"text/javascript\">require([\"plotly\"], function(Plotly) { window.PLOTLYENV=window.PLOTLYENV || {};window.PLOTLYENV.BASE_URL=\"https://plot.ly\";Plotly.newPlot(\"a3cb4a1d-6b85-4f08-bbf8-c09478d90b31\", [{\"name\": \"Has Detections\", \"x\": [1.0, 3.0, 5.0, 10.0], \"y\": [509719, 51, 3926620, 5], \"type\": \"bar\", \"uid\": \"10c91afa-80b0-47ea-93c7-9ba09dfdacb3\"}, {\"name\": \"No Detections\", \"x\": [1.0, 3.0, 5.0, 7.0, 9.0, 10.0], \"y\": [530573, 167, 3912698, 1, 1, 334], \"type\": \"bar\", \"uid\": \"0141acd3-6ab5-4a5b-8d6c-a85b3e106664\"}], {\"barmode\": \"group\", \"legend\": {\"orientation\": \"v\"}, \"title\": \"Counts of Census_ProcessorManufacturerIdentifier by top-7 categories\", \"xaxis\": {\"showgrid\": false, \"showline\": false, \"title\": \"Census_ProcessorManufacturerIdentifier\", \"zeroline\": false}, \"yaxis\": {\"showgrid\": false, \"showline\": false, \"title\": \"Counts\", \"zeroline\": false}}, {\"showLink\": true, \"linkText\": \"Export to plot.ly\", \"plotlyServerURL\": \"https://plot.ly\"})});</script><script type=\"text/javascript\">window.addEventListener(\"resize\", function(){window._Plotly.Plots.resize(document.getElementById(\"a3cb4a1d-6b85-4f08-bbf8-c09478d90b31\"));});</script>"
      ],
      "text/vnd.plotly.v1+html": [
       "<div id=\"a3cb4a1d-6b85-4f08-bbf8-c09478d90b31\" style=\"height: 525px; width: 100%;\" class=\"plotly-graph-div\"></div><script type=\"text/javascript\">require([\"plotly\"], function(Plotly) { window.PLOTLYENV=window.PLOTLYENV || {};window.PLOTLYENV.BASE_URL=\"https://plot.ly\";Plotly.newPlot(\"a3cb4a1d-6b85-4f08-bbf8-c09478d90b31\", [{\"name\": \"Has Detections\", \"x\": [1.0, 3.0, 5.0, 10.0], \"y\": [509719, 51, 3926620, 5], \"type\": \"bar\", \"uid\": \"10c91afa-80b0-47ea-93c7-9ba09dfdacb3\"}, {\"name\": \"No Detections\", \"x\": [1.0, 3.0, 5.0, 7.0, 9.0, 10.0], \"y\": [530573, 167, 3912698, 1, 1, 334], \"type\": \"bar\", \"uid\": \"0141acd3-6ab5-4a5b-8d6c-a85b3e106664\"}], {\"barmode\": \"group\", \"legend\": {\"orientation\": \"v\"}, \"title\": \"Counts of Census_ProcessorManufacturerIdentifier by top-7 categories\", \"xaxis\": {\"showgrid\": false, \"showline\": false, \"title\": \"Census_ProcessorManufacturerIdentifier\", \"zeroline\": false}, \"yaxis\": {\"showgrid\": false, \"showline\": false, \"title\": \"Counts\", \"zeroline\": false}}, {\"showLink\": true, \"linkText\": \"Export to plot.ly\", \"plotlyServerURL\": \"https://plot.ly\"})});</script><script type=\"text/javascript\">window.addEventListener(\"resize\", function(){window._Plotly.Plots.resize(document.getElementById(\"a3cb4a1d-6b85-4f08-bbf8-c09478d90b31\"));});</script>"
      ]
     },
     "metadata": {},
     "output_type": "display_data"
    }
   ],
   "source": [
    "plot_categorical_feature('Census_ProcessorManufacturerIdentifier', True)"
   ]
  },
  {
   "cell_type": "markdown",
   "metadata": {
    "_uuid": "d7efe14d62110ac3cafa38e531d24f61ac4e4fa3"
   },
   "source": [
    "Once again anonymized variable."
   ]
  },
  {
   "cell_type": "markdown",
   "metadata": {
    "_uuid": "617ba168677ab496e1d0bc56c794237714ac0242"
   },
   "source": [
    "### Census_PowerPlatformRoleName"
   ]
  },
  {
   "cell_type": "code",
   "execution_count": 104,
   "metadata": {
    "_uuid": "9db88570785a2a548e45333017e648164261e97e"
   },
   "outputs": [
    {
     "data": {
      "text/plain": [
       "Mobile               0.693036\n",
       "Desktop              0.924681\n",
       "Slate                0.979889\n",
       "Workstation          0.992183\n",
       "SOHOServer           0.996425\n",
       "UNKNOWN              0.998737\n",
       "EnterpriseServer     0.999532\n",
       "AppliancePC          0.999982\n",
       "PerformanceServer    0.999993\n",
       "NaN                  0.999999\n",
       "Unspecified          1.000000\n",
       "Name: Census_PowerPlatformRoleName, dtype: float64"
      ]
     },
     "execution_count": 104,
     "metadata": {},
     "output_type": "execute_result"
    }
   ],
   "source": [
    "train['Census_PowerPlatformRoleName'].value_counts(dropna=False, normalize=True).cumsum()"
   ]
  },
  {
   "cell_type": "code",
   "execution_count": 105,
   "metadata": {
    "_uuid": "06d1139c2cadfe11d850177da52a024a113fd3d8"
   },
   "outputs": [],
   "source": [
    "# train.loc[train['Census_PowerPlatformRoleName'].isin(['Mobile', 'Desktop', 'Slate']) == False, 'Census_PowerPlatformRoleName'] = 'UNKNOWN'\n",
    "# test.loc[test['Census_PowerPlatformRoleName'].isin(['Mobile', 'Desktop', 'Slate']) == False, 'Census_PowerPlatformRoleName'] = 'UNKNOWN'\n",
    "\n",
    "# train['Census_PowerPlatformRoleName'] = train['Census_PowerPlatformRoleName'].cat.remove_unused_categories()\n",
    "# test['Census_PowerPlatformRoleName'] = test['Census_PowerPlatformRoleName'].cat.remove_unused_categories()"
   ]
  },
  {
   "cell_type": "code",
   "execution_count": 106,
   "metadata": {
    "_uuid": "c565772adcbebaaef7add7e7b97edcee81f0f9e5"
   },
   "outputs": [
    {
     "name": "stdout",
     "output_type": "stream",
     "text": [
      "Census_PowerPlatformRoleName has 10 unique values and type: category.\n",
      "Mobile         0.693036\n",
      "Desktop        0.231645\n",
      "Slate          0.055208\n",
      "Workstation    0.012294\n",
      "SOHOServer     0.004242\n",
      "Name: Census_PowerPlatformRoleName, dtype: float64\n"
     ]
    },
    {
     "data": {
      "application/vnd.plotly.v1+json": {
       "config": {
        "linkText": "Export to plot.ly",
        "plotlyServerURL": "https://plot.ly",
        "showLink": true
       },
       "data": [
        {
         "name": "Has Detections",
         "type": "bar",
         "uid": "f99f9ac4-9b12-494b-a48f-13eef13fcf25",
         "x": [
          "AppliancePC",
          "Desktop",
          "EnterpriseServer",
          "Mobile",
          "SOHOServer",
          "Slate",
          "UNKNOWN",
          "Workstation",
          "PerformanceServer",
          "Unspecified"
         ],
         "y": [
          1004,
          1083709,
          2823,
          3104529,
          18311,
          181293,
          9965,
          57188,
          41,
          0
         ]
        },
        {
         "name": "No Detections",
         "type": "bar",
         "uid": "6f75c944-dac1-48f0-b9a9-a4dfc27aa055",
         "x": [
          "AppliancePC",
          "Desktop",
          "EnterpriseServer",
          "Mobile",
          "SOHOServer",
          "Slate",
          "UNKNOWN",
          "Workstation",
          "PerformanceServer",
          "Unspecified"
         ],
         "y": [
          3011,
          982911,
          4271,
          3078379,
          19530,
          311244,
          10663,
          52495,
          56,
          0
         ]
        }
       ],
       "layout": {
        "barmode": "group",
        "legend": {
         "orientation": "v"
        },
        "title": "Counts of Census_PowerPlatformRoleName by top-10 categories",
        "xaxis": {
         "showgrid": false,
         "showline": false,
         "title": "Census_PowerPlatformRoleName",
         "zeroline": false
        },
        "yaxis": {
         "showgrid": false,
         "showline": false,
         "title": "Counts",
         "zeroline": false
        }
       }
      },
      "text/html": [
       "<div id=\"c6244106-80b7-495f-88c6-2092cc553ebf\" style=\"height: 525px; width: 100%;\" class=\"plotly-graph-div\"></div><script type=\"text/javascript\">require([\"plotly\"], function(Plotly) { window.PLOTLYENV=window.PLOTLYENV || {};window.PLOTLYENV.BASE_URL=\"https://plot.ly\";Plotly.newPlot(\"c6244106-80b7-495f-88c6-2092cc553ebf\", [{\"name\": \"Has Detections\", \"x\": [\"AppliancePC\", \"Desktop\", \"EnterpriseServer\", \"Mobile\", \"SOHOServer\", \"Slate\", \"UNKNOWN\", \"Workstation\", \"PerformanceServer\", \"Unspecified\"], \"y\": [1004, 1083709, 2823, 3104529, 18311, 181293, 9965, 57188, 41, 0], \"type\": \"bar\", \"uid\": \"90cbd754-775f-4daf-aa0a-c05100357141\"}, {\"name\": \"No Detections\", \"x\": [\"AppliancePC\", \"Desktop\", \"EnterpriseServer\", \"Mobile\", \"SOHOServer\", \"Slate\", \"UNKNOWN\", \"Workstation\", \"PerformanceServer\", \"Unspecified\"], \"y\": [3011, 982911, 4271, 3078379, 19530, 311244, 10663, 52495, 56, 0], \"type\": \"bar\", \"uid\": \"262bca85-bfa6-49ef-a207-2c1c9681ca56\"}], {\"barmode\": \"group\", \"legend\": {\"orientation\": \"v\"}, \"title\": \"Counts of Census_PowerPlatformRoleName by top-10 categories\", \"xaxis\": {\"showgrid\": false, \"showline\": false, \"title\": \"Census_PowerPlatformRoleName\", \"zeroline\": false}, \"yaxis\": {\"showgrid\": false, \"showline\": false, \"title\": \"Counts\", \"zeroline\": false}}, {\"showLink\": true, \"linkText\": \"Export to plot.ly\", \"plotlyServerURL\": \"https://plot.ly\"})});</script><script type=\"text/javascript\">window.addEventListener(\"resize\", function(){window._Plotly.Plots.resize(document.getElementById(\"c6244106-80b7-495f-88c6-2092cc553ebf\"));});</script>"
      ],
      "text/vnd.plotly.v1+html": [
       "<div id=\"c6244106-80b7-495f-88c6-2092cc553ebf\" style=\"height: 525px; width: 100%;\" class=\"plotly-graph-div\"></div><script type=\"text/javascript\">require([\"plotly\"], function(Plotly) { window.PLOTLYENV=window.PLOTLYENV || {};window.PLOTLYENV.BASE_URL=\"https://plot.ly\";Plotly.newPlot(\"c6244106-80b7-495f-88c6-2092cc553ebf\", [{\"name\": \"Has Detections\", \"x\": [\"AppliancePC\", \"Desktop\", \"EnterpriseServer\", \"Mobile\", \"SOHOServer\", \"Slate\", \"UNKNOWN\", \"Workstation\", \"PerformanceServer\", \"Unspecified\"], \"y\": [1004, 1083709, 2823, 3104529, 18311, 181293, 9965, 57188, 41, 0], \"type\": \"bar\", \"uid\": \"90cbd754-775f-4daf-aa0a-c05100357141\"}, {\"name\": \"No Detections\", \"x\": [\"AppliancePC\", \"Desktop\", \"EnterpriseServer\", \"Mobile\", \"SOHOServer\", \"Slate\", \"UNKNOWN\", \"Workstation\", \"PerformanceServer\", \"Unspecified\"], \"y\": [3011, 982911, 4271, 3078379, 19530, 311244, 10663, 52495, 56, 0], \"type\": \"bar\", \"uid\": \"262bca85-bfa6-49ef-a207-2c1c9681ca56\"}], {\"barmode\": \"group\", \"legend\": {\"orientation\": \"v\"}, \"title\": \"Counts of Census_PowerPlatformRoleName by top-10 categories\", \"xaxis\": {\"showgrid\": false, \"showline\": false, \"title\": \"Census_PowerPlatformRoleName\", \"zeroline\": false}, \"yaxis\": {\"showgrid\": false, \"showline\": false, \"title\": \"Counts\", \"zeroline\": false}}, {\"showLink\": true, \"linkText\": \"Export to plot.ly\", \"plotlyServerURL\": \"https://plot.ly\"})});</script><script type=\"text/javascript\">window.addEventListener(\"resize\", function(){window._Plotly.Plots.resize(document.getElementById(\"c6244106-80b7-495f-88c6-2092cc553ebf\"));});</script>"
      ]
     },
     "metadata": {},
     "output_type": "display_data"
    }
   ],
   "source": [
    "plot_categorical_feature('Census_PowerPlatformRoleName', True)"
   ]
  },
  {
   "cell_type": "markdown",
   "metadata": {
    "_uuid": "f875ec60c62e6633d670819d9ee4edd48abb951c"
   },
   "source": [
    "For some reason slates have quite a low rate of detections. Maybe no hackers are interested in them? :)"
   ]
  },
  {
   "cell_type": "markdown",
   "metadata": {
    "_uuid": "5d472bc3b969bf7bde334f706c51402eda249a9a"
   },
   "source": [
    "### Census_OSInstallTypeName"
   ]
  },
  {
   "cell_type": "code",
   "execution_count": 107,
   "metadata": {
    "_uuid": "51799905423edc2eeb8586fa0bc8bf1fe38d63fe"
   },
   "outputs": [
    {
     "name": "stdout",
     "output_type": "stream",
     "text": [
      "Census_OSInstallTypeName has 9 unique values and type: category.\n",
      "UUPUpgrade    0.292332\n",
      "IBSClean      0.185029\n",
      "Update        0.178592\n",
      "Upgrade       0.140286\n",
      "Other         0.094168\n",
      "Name: Census_OSInstallTypeName, dtype: float64\n"
     ]
    },
    {
     "data": {
      "application/vnd.plotly.v1+json": {
       "config": {
        "linkText": "Export to plot.ly",
        "plotlyServerURL": "https://plot.ly",
        "showLink": true
       },
       "data": [
        {
         "name": "Has Detections",
         "type": "bar",
         "uid": "3888c0ab-c7dc-4ce1-9e54-2da75a6fef3c",
         "x": [
          "Clean",
          "CleanPCRefresh",
          "IBSClean",
          "Other",
          "Refresh",
          "Reset",
          "UUPUpgrade",
          "Update",
          "Upgrade"
         ],
         "y": [
          35649,
          24751,
          862680,
          403435,
          93885,
          311696,
          1373135,
          761228,
          592433
         ]
        },
        {
         "name": "No Detections",
         "type": "bar",
         "uid": "5abc61da-288e-409c-bac7-0918f4b1d09f",
         "x": [
          "Clean",
          "CleanPCRefresh",
          "IBSClean",
          "Other",
          "Refresh",
          "Reset",
          "UUPUpgrade",
          "Update",
          "Upgrade"
         ],
         "y": [
          33424,
          28858,
          788053,
          436686,
          111957,
          337505,
          1234902,
          832080,
          659126
         ]
        }
       ],
       "layout": {
        "barmode": "group",
        "legend": {
         "orientation": "v"
        },
        "title": "Counts of Census_OSInstallTypeName by top-9 categories",
        "xaxis": {
         "showgrid": false,
         "showline": false,
         "title": "Census_OSInstallTypeName",
         "zeroline": false
        },
        "yaxis": {
         "showgrid": false,
         "showline": false,
         "title": "Counts",
         "zeroline": false
        }
       }
      },
      "text/html": [
       "<div id=\"c0328b73-d44a-4d20-adbc-1b6ef49ee840\" style=\"height: 525px; width: 100%;\" class=\"plotly-graph-div\"></div><script type=\"text/javascript\">require([\"plotly\"], function(Plotly) { window.PLOTLYENV=window.PLOTLYENV || {};window.PLOTLYENV.BASE_URL=\"https://plot.ly\";Plotly.newPlot(\"c0328b73-d44a-4d20-adbc-1b6ef49ee840\", [{\"name\": \"Has Detections\", \"x\": [\"Clean\", \"CleanPCRefresh\", \"IBSClean\", \"Other\", \"Refresh\", \"Reset\", \"UUPUpgrade\", \"Update\", \"Upgrade\"], \"y\": [35649, 24751, 862680, 403435, 93885, 311696, 1373135, 761228, 592433], \"type\": \"bar\", \"uid\": \"e9589ff4-289e-4ccc-8b25-3d3ae14593ea\"}, {\"name\": \"No Detections\", \"x\": [\"Clean\", \"CleanPCRefresh\", \"IBSClean\", \"Other\", \"Refresh\", \"Reset\", \"UUPUpgrade\", \"Update\", \"Upgrade\"], \"y\": [33424, 28858, 788053, 436686, 111957, 337505, 1234902, 832080, 659126], \"type\": \"bar\", \"uid\": \"5287e3ba-d4e8-475a-917e-aef7b9ee3655\"}], {\"barmode\": \"group\", \"legend\": {\"orientation\": \"v\"}, \"title\": \"Counts of Census_OSInstallTypeName by top-9 categories\", \"xaxis\": {\"showgrid\": false, \"showline\": false, \"title\": \"Census_OSInstallTypeName\", \"zeroline\": false}, \"yaxis\": {\"showgrid\": false, \"showline\": false, \"title\": \"Counts\", \"zeroline\": false}}, {\"showLink\": true, \"linkText\": \"Export to plot.ly\", \"plotlyServerURL\": \"https://plot.ly\"})});</script><script type=\"text/javascript\">window.addEventListener(\"resize\", function(){window._Plotly.Plots.resize(document.getElementById(\"c0328b73-d44a-4d20-adbc-1b6ef49ee840\"));});</script>"
      ],
      "text/vnd.plotly.v1+html": [
       "<div id=\"c0328b73-d44a-4d20-adbc-1b6ef49ee840\" style=\"height: 525px; width: 100%;\" class=\"plotly-graph-div\"></div><script type=\"text/javascript\">require([\"plotly\"], function(Plotly) { window.PLOTLYENV=window.PLOTLYENV || {};window.PLOTLYENV.BASE_URL=\"https://plot.ly\";Plotly.newPlot(\"c0328b73-d44a-4d20-adbc-1b6ef49ee840\", [{\"name\": \"Has Detections\", \"x\": [\"Clean\", \"CleanPCRefresh\", \"IBSClean\", \"Other\", \"Refresh\", \"Reset\", \"UUPUpgrade\", \"Update\", \"Upgrade\"], \"y\": [35649, 24751, 862680, 403435, 93885, 311696, 1373135, 761228, 592433], \"type\": \"bar\", \"uid\": \"e9589ff4-289e-4ccc-8b25-3d3ae14593ea\"}, {\"name\": \"No Detections\", \"x\": [\"Clean\", \"CleanPCRefresh\", \"IBSClean\", \"Other\", \"Refresh\", \"Reset\", \"UUPUpgrade\", \"Update\", \"Upgrade\"], \"y\": [33424, 28858, 788053, 436686, 111957, 337505, 1234902, 832080, 659126], \"type\": \"bar\", \"uid\": \"5287e3ba-d4e8-475a-917e-aef7b9ee3655\"}], {\"barmode\": \"group\", \"legend\": {\"orientation\": \"v\"}, \"title\": \"Counts of Census_OSInstallTypeName by top-9 categories\", \"xaxis\": {\"showgrid\": false, \"showline\": false, \"title\": \"Census_OSInstallTypeName\", \"zeroline\": false}, \"yaxis\": {\"showgrid\": false, \"showline\": false, \"title\": \"Counts\", \"zeroline\": false}}, {\"showLink\": true, \"linkText\": \"Export to plot.ly\", \"plotlyServerURL\": \"https://plot.ly\"})});</script><script type=\"text/javascript\">window.addEventListener(\"resize\", function(){window._Plotly.Plots.resize(document.getElementById(\"c0328b73-d44a-4d20-adbc-1b6ef49ee840\"));});</script>"
      ]
     },
     "metadata": {},
     "output_type": "display_data"
    }
   ],
   "source": [
    "plot_categorical_feature('Census_OSInstallTypeName', True)"
   ]
  },
  {
   "cell_type": "code",
   "execution_count": 108,
   "metadata": {
    "_uuid": "6d8e91616d41f48394ea667fc42a8c65fc342a2b"
   },
   "outputs": [],
   "source": [
    "# top_cats = list(train['Census_OSWUAutoUpdateOptionsName'].value_counts().index[:3])\n",
    "# train.loc[train['Census_OSWUAutoUpdateOptionsName'].isin(top_cats) == False, 'Census_OSWUAutoUpdateOptionsName'] = 'Off'\n",
    "# test.loc[test['Census_OSWUAutoUpdateOptionsName'].isin(top_cats) == False, 'Census_OSWUAutoUpdateOptionsName'] = 'Off'\n",
    "\n",
    "# train['Census_OSWUAutoUpdateOptionsName'] = train['Census_OSWUAutoUpdateOptionsName'].cat.remove_unused_categories()\n",
    "# test['Census_OSWUAutoUpdateOptionsName'] = test['Census_OSWUAutoUpdateOptionsName'].cat.remove_unused_categories()"
   ]
  },
  {
   "cell_type": "code",
   "execution_count": 109,
   "metadata": {
    "_uuid": "d7e3a86f36191dcb22f2ee0f6cc6cb8ae3fa609b"
   },
   "outputs": [],
   "source": [
    "# train.loc[train['Census_GenuineStateName'] == 'UNKNOWN', 'Census_GenuineStateName'] = 'OFFLINE'\n",
    "# test.loc[test['Census_GenuineStateName'] == 'UNKNOWN', 'Census_GenuineStateName'] = 'OFFLINE'\n",
    "\n",
    "# train['Census_GenuineStateName'] = train['Census_GenuineStateName'].cat.remove_unused_categories()\n",
    "# test['Census_GenuineStateName'] = test['Census_GenuineStateName'].cat.remove_unused_categories()"
   ]
  },
  {
   "cell_type": "code",
   "execution_count": 110,
   "metadata": {
    "_uuid": "673ed8144093f6057f504ad22c82e7943be1fc57"
   },
   "outputs": [],
   "source": [
    "# train.loc[train['Census_ActivationChannel'].isin(['Retail', 'OEM:DM']) == False, 'Census_ActivationChannel'] = 'Volume:GVLK'\n",
    "# test.loc[test['Census_ActivationChannel'].isin(['Retail', 'OEM:DM']) == False, 'Census_ActivationChannel'] = 'Volume:GVLK'\n",
    "\n",
    "# train['Census_ActivationChannel'] = train['Census_ActivationChannel'].cat.remove_unused_categories()\n",
    "# test['Census_ActivationChannel'] = test['Census_ActivationChannel'].cat.remove_unused_categories()"
   ]
  },
  {
   "cell_type": "markdown",
   "metadata": {
    "_uuid": "0031a2e687c3359cc3d8daad71052c6d434749d5"
   },
   "source": [
    "## Feature engineering and transformation"
   ]
  },
  {
   "cell_type": "code",
   "execution_count": 111,
   "metadata": {
    "_uuid": "87a88bb2656e21d8f7aa4338da2932c612a0a96c",
    "scrolled": true
   },
   "outputs": [
    {
     "data": {
      "text/html": [
       "<div>\n",
       "<style scoped>\n",
       "    .dataframe tbody tr th:only-of-type {\n",
       "        vertical-align: middle;\n",
       "    }\n",
       "\n",
       "    .dataframe tbody tr th {\n",
       "        vertical-align: top;\n",
       "    }\n",
       "\n",
       "    .dataframe thead th {\n",
       "        text-align: right;\n",
       "    }\n",
       "</style>\n",
       "<table border=\"1\" class=\"dataframe\">\n",
       "  <thead>\n",
       "    <tr style=\"text-align: right;\">\n",
       "      <th></th>\n",
       "      <th>MachineIdentifier</th>\n",
       "      <th>EngineVersion</th>\n",
       "      <th>AppVersion</th>\n",
       "      <th>AvSigVersion</th>\n",
       "      <th>AVProductStatesIdentifier</th>\n",
       "      <th>AVProductsInstalled</th>\n",
       "      <th>CountryIdentifier</th>\n",
       "      <th>CityIdentifier</th>\n",
       "      <th>OrganizationIdentifier</th>\n",
       "      <th>GeoNameIdentifier</th>\n",
       "      <th>LocaleEnglishNameIdentifier</th>\n",
       "      <th>OsBuild</th>\n",
       "      <th>OsSuite</th>\n",
       "      <th>OsPlatformSubRelease</th>\n",
       "      <th>OsBuildLab</th>\n",
       "      <th>SkuEdition</th>\n",
       "      <th>IeVerIdentifier</th>\n",
       "      <th>SmartScreen</th>\n",
       "      <th>Census_MDC2FormFactor</th>\n",
       "      <th>Census_OEMNameIdentifier</th>\n",
       "      <th>Census_OEMModelIdentifier</th>\n",
       "      <th>Census_ProcessorCoreCount</th>\n",
       "      <th>Census_ProcessorManufacturerIdentifier</th>\n",
       "      <th>Census_ProcessorModelIdentifier</th>\n",
       "      <th>Census_PrimaryDiskTotalCapacity</th>\n",
       "      <th>Census_PrimaryDiskTypeName</th>\n",
       "      <th>Census_SystemVolumeTotalCapacity</th>\n",
       "      <th>Census_TotalPhysicalRAM</th>\n",
       "      <th>Census_ChassisTypeName</th>\n",
       "      <th>Census_InternalPrimaryDiagonalDisplaySizeInInches</th>\n",
       "      <th>Census_InternalPrimaryDisplayResolutionHorizontal</th>\n",
       "      <th>Census_InternalPrimaryDisplayResolutionVertical</th>\n",
       "      <th>Census_PowerPlatformRoleName</th>\n",
       "      <th>Census_InternalBatteryType</th>\n",
       "      <th>Census_InternalBatteryNumberOfCharges</th>\n",
       "      <th>Census_OSVersion</th>\n",
       "      <th>Census_OSBranch</th>\n",
       "      <th>Census_OSBuildNumber</th>\n",
       "      <th>Census_OSBuildRevision</th>\n",
       "      <th>Census_OSEdition</th>\n",
       "      <th>Census_OSSkuName</th>\n",
       "      <th>Census_OSInstallTypeName</th>\n",
       "      <th>Census_OSInstallLanguageIdentifier</th>\n",
       "      <th>Census_OSUILocaleIdentifier</th>\n",
       "      <th>Census_OSWUAutoUpdateOptionsName</th>\n",
       "      <th>Census_GenuineStateName</th>\n",
       "      <th>Census_ActivationChannel</th>\n",
       "      <th>Census_IsFlightingInternal</th>\n",
       "      <th>Census_ThresholdOptIn</th>\n",
       "      <th>Census_FirmwareManufacturerIdentifier</th>\n",
       "      <th>Census_FirmwareVersionIdentifier</th>\n",
       "      <th>Census_IsSecureBootEnabled</th>\n",
       "      <th>Census_IsWIMBootEnabled</th>\n",
       "      <th>Census_IsTouchEnabled</th>\n",
       "      <th>Wdft_IsGamer</th>\n",
       "      <th>Wdft_RegionIdentifier</th>\n",
       "      <th>HasDetections</th>\n",
       "    </tr>\n",
       "  </thead>\n",
       "  <tbody>\n",
       "    <tr>\n",
       "      <th>0</th>\n",
       "      <td>0000028988387b115f69f31a3bf04f09</td>\n",
       "      <td>1.1.15100.1</td>\n",
       "      <td>4.18.1807.18075</td>\n",
       "      <td>1.273.1735.0</td>\n",
       "      <td>53447.0</td>\n",
       "      <td>1.0</td>\n",
       "      <td>29</td>\n",
       "      <td>128035.0</td>\n",
       "      <td>18.0</td>\n",
       "      <td>35.0</td>\n",
       "      <td>-85</td>\n",
       "      <td>17134</td>\n",
       "      <td>256</td>\n",
       "      <td>rs4</td>\n",
       "      <td>17134.1.amd64fre.rs4_release.180410-1804</td>\n",
       "      <td>Pro</td>\n",
       "      <td>137.0</td>\n",
       "      <td>NaN</td>\n",
       "      <td>Desktop</td>\n",
       "      <td>2668.0</td>\n",
       "      <td>9124.0</td>\n",
       "      <td>4.0</td>\n",
       "      <td>5.0</td>\n",
       "      <td>2340.0</td>\n",
       "      <td>476940.0</td>\n",
       "      <td>HDD</td>\n",
       "      <td>299451.0</td>\n",
       "      <td>4096.0</td>\n",
       "      <td>Desktop</td>\n",
       "      <td>18.906250</td>\n",
       "      <td>1440.0</td>\n",
       "      <td>900.0</td>\n",
       "      <td>Desktop</td>\n",
       "      <td>0</td>\n",
       "      <td>4.294967e+09</td>\n",
       "      <td>10.0.17134.165</td>\n",
       "      <td>rs4_release</td>\n",
       "      <td>17134</td>\n",
       "      <td>165</td>\n",
       "      <td>pro</td>\n",
       "      <td>pro</td>\n",
       "      <td>UUPUpgrade</td>\n",
       "      <td>26.0</td>\n",
       "      <td>119</td>\n",
       "      <td>UNKNOWN</td>\n",
       "      <td>IS_GENUINE</td>\n",
       "      <td>Retail</td>\n",
       "      <td>NaN</td>\n",
       "      <td>NaN</td>\n",
       "      <td>628.0</td>\n",
       "      <td>36144.0</td>\n",
       "      <td>0</td>\n",
       "      <td>NaN</td>\n",
       "      <td>0</td>\n",
       "      <td>0.0</td>\n",
       "      <td>10.0</td>\n",
       "      <td>0</td>\n",
       "    </tr>\n",
       "    <tr>\n",
       "      <th>1</th>\n",
       "      <td>000007535c3f730efa9ea0b7ef1bd645</td>\n",
       "      <td>1.1.14600.4</td>\n",
       "      <td>4.13.17134.1</td>\n",
       "      <td>1.263.48.0</td>\n",
       "      <td>53447.0</td>\n",
       "      <td>1.0</td>\n",
       "      <td>93</td>\n",
       "      <td>1482.0</td>\n",
       "      <td>18.0</td>\n",
       "      <td>119.0</td>\n",
       "      <td>64</td>\n",
       "      <td>17134</td>\n",
       "      <td>256</td>\n",
       "      <td>rs4</td>\n",
       "      <td>17134.1.amd64fre.rs4_release.180410-1804</td>\n",
       "      <td>Pro</td>\n",
       "      <td>137.0</td>\n",
       "      <td>NaN</td>\n",
       "      <td>Notebook</td>\n",
       "      <td>2668.0</td>\n",
       "      <td>91656.0</td>\n",
       "      <td>4.0</td>\n",
       "      <td>5.0</td>\n",
       "      <td>2404.0</td>\n",
       "      <td>476940.0</td>\n",
       "      <td>HDD</td>\n",
       "      <td>102385.0</td>\n",
       "      <td>4096.0</td>\n",
       "      <td>Notebook</td>\n",
       "      <td>13.898438</td>\n",
       "      <td>1366.0</td>\n",
       "      <td>768.0</td>\n",
       "      <td>Mobile</td>\n",
       "      <td>0</td>\n",
       "      <td>1.000000e+00</td>\n",
       "      <td>10.0.17134.1</td>\n",
       "      <td>rs4_release</td>\n",
       "      <td>17134</td>\n",
       "      <td>1</td>\n",
       "      <td>pro</td>\n",
       "      <td>pro</td>\n",
       "      <td>IBSClean</td>\n",
       "      <td>8.0</td>\n",
       "      <td>31</td>\n",
       "      <td>UNKNOWN</td>\n",
       "      <td>OFFLINE</td>\n",
       "      <td>Retail</td>\n",
       "      <td>NaN</td>\n",
       "      <td>NaN</td>\n",
       "      <td>628.0</td>\n",
       "      <td>57858.0</td>\n",
       "      <td>0</td>\n",
       "      <td>NaN</td>\n",
       "      <td>0</td>\n",
       "      <td>0.0</td>\n",
       "      <td>8.0</td>\n",
       "      <td>0</td>\n",
       "    </tr>\n",
       "    <tr>\n",
       "      <th>2</th>\n",
       "      <td>000007905a28d863f6d0d597892cd692</td>\n",
       "      <td>1.1.15100.1</td>\n",
       "      <td>4.18.1807.18075</td>\n",
       "      <td>1.273.1341.0</td>\n",
       "      <td>53447.0</td>\n",
       "      <td>1.0</td>\n",
       "      <td>86</td>\n",
       "      <td>153579.0</td>\n",
       "      <td>18.0</td>\n",
       "      <td>64.0</td>\n",
       "      <td>49</td>\n",
       "      <td>17134</td>\n",
       "      <td>768</td>\n",
       "      <td>rs4</td>\n",
       "      <td>17134.1.amd64fre.rs4_release.180410-1804</td>\n",
       "      <td>Home</td>\n",
       "      <td>137.0</td>\n",
       "      <td>RequireAdmin</td>\n",
       "      <td>Desktop</td>\n",
       "      <td>4908.0</td>\n",
       "      <td>317701.0</td>\n",
       "      <td>4.0</td>\n",
       "      <td>5.0</td>\n",
       "      <td>1972.0</td>\n",
       "      <td>114473.0</td>\n",
       "      <td>SSD</td>\n",
       "      <td>113907.0</td>\n",
       "      <td>4096.0</td>\n",
       "      <td>Desktop</td>\n",
       "      <td>21.500000</td>\n",
       "      <td>1920.0</td>\n",
       "      <td>1080.0</td>\n",
       "      <td>Desktop</td>\n",
       "      <td>0</td>\n",
       "      <td>4.294967e+09</td>\n",
       "      <td>10.0.17134.165</td>\n",
       "      <td>rs4_release</td>\n",
       "      <td>17134</td>\n",
       "      <td>165</td>\n",
       "      <td>Core</td>\n",
       "      <td>Core</td>\n",
       "      <td>UUPUpgrade</td>\n",
       "      <td>7.0</td>\n",
       "      <td>30</td>\n",
       "      <td>FullAuto</td>\n",
       "      <td>IS_GENUINE</td>\n",
       "      <td>OEM:NONSLP</td>\n",
       "      <td>NaN</td>\n",
       "      <td>NaN</td>\n",
       "      <td>142.0</td>\n",
       "      <td>52682.0</td>\n",
       "      <td>0</td>\n",
       "      <td>NaN</td>\n",
       "      <td>0</td>\n",
       "      <td>0.0</td>\n",
       "      <td>3.0</td>\n",
       "      <td>0</td>\n",
       "    </tr>\n",
       "    <tr>\n",
       "      <th>3</th>\n",
       "      <td>00000b11598a75ea8ba1beea8459149f</td>\n",
       "      <td>1.1.15100.1</td>\n",
       "      <td>4.18.1807.18075</td>\n",
       "      <td>1.273.1527.0</td>\n",
       "      <td>53447.0</td>\n",
       "      <td>1.0</td>\n",
       "      <td>88</td>\n",
       "      <td>20710.0</td>\n",
       "      <td>48.0</td>\n",
       "      <td>117.0</td>\n",
       "      <td>115</td>\n",
       "      <td>17134</td>\n",
       "      <td>256</td>\n",
       "      <td>rs4</td>\n",
       "      <td>17134.1.amd64fre.rs4_release.180410-1804</td>\n",
       "      <td>Pro</td>\n",
       "      <td>137.0</td>\n",
       "      <td>ExistsNotSet</td>\n",
       "      <td>Desktop</td>\n",
       "      <td>1443.0</td>\n",
       "      <td>275890.0</td>\n",
       "      <td>4.0</td>\n",
       "      <td>5.0</td>\n",
       "      <td>2272.0</td>\n",
       "      <td>238475.0</td>\n",
       "      <td>UNKNOWN</td>\n",
       "      <td>227116.0</td>\n",
       "      <td>4096.0</td>\n",
       "      <td>MiniTower</td>\n",
       "      <td>18.500000</td>\n",
       "      <td>1366.0</td>\n",
       "      <td>768.0</td>\n",
       "      <td>Desktop</td>\n",
       "      <td>0</td>\n",
       "      <td>4.294967e+09</td>\n",
       "      <td>10.0.17134.228</td>\n",
       "      <td>rs4_release</td>\n",
       "      <td>17134</td>\n",
       "      <td>228</td>\n",
       "      <td>pro</td>\n",
       "      <td>pro</td>\n",
       "      <td>UUPUpgrade</td>\n",
       "      <td>17.0</td>\n",
       "      <td>64</td>\n",
       "      <td>FullAuto</td>\n",
       "      <td>IS_GENUINE</td>\n",
       "      <td>OEM:NONSLP</td>\n",
       "      <td>NaN</td>\n",
       "      <td>NaN</td>\n",
       "      <td>355.0</td>\n",
       "      <td>20050.0</td>\n",
       "      <td>0</td>\n",
       "      <td>NaN</td>\n",
       "      <td>0</td>\n",
       "      <td>0.0</td>\n",
       "      <td>3.0</td>\n",
       "      <td>1</td>\n",
       "    </tr>\n",
       "    <tr>\n",
       "      <th>4</th>\n",
       "      <td>000014a5f00daa18e76b81417eeb99fc</td>\n",
       "      <td>1.1.15100.1</td>\n",
       "      <td>4.18.1807.18075</td>\n",
       "      <td>1.273.1379.0</td>\n",
       "      <td>53447.0</td>\n",
       "      <td>1.0</td>\n",
       "      <td>18</td>\n",
       "      <td>37376.0</td>\n",
       "      <td>48.0</td>\n",
       "      <td>277.0</td>\n",
       "      <td>75</td>\n",
       "      <td>17134</td>\n",
       "      <td>768</td>\n",
       "      <td>rs4</td>\n",
       "      <td>17134.1.amd64fre.rs4_release.180410-1804</td>\n",
       "      <td>Home</td>\n",
       "      <td>137.0</td>\n",
       "      <td>RequireAdmin</td>\n",
       "      <td>Notebook</td>\n",
       "      <td>1443.0</td>\n",
       "      <td>331929.0</td>\n",
       "      <td>4.0</td>\n",
       "      <td>5.0</td>\n",
       "      <td>2500.0</td>\n",
       "      <td>476940.0</td>\n",
       "      <td>HDD</td>\n",
       "      <td>101900.0</td>\n",
       "      <td>6144.0</td>\n",
       "      <td>Portable</td>\n",
       "      <td>14.000000</td>\n",
       "      <td>1366.0</td>\n",
       "      <td>768.0</td>\n",
       "      <td>Mobile</td>\n",
       "      <td>1</td>\n",
       "      <td>0.000000e+00</td>\n",
       "      <td>10.0.17134.191</td>\n",
       "      <td>rs4_release</td>\n",
       "      <td>17134</td>\n",
       "      <td>191</td>\n",
       "      <td>Core</td>\n",
       "      <td>Core</td>\n",
       "      <td>Update</td>\n",
       "      <td>8.0</td>\n",
       "      <td>31</td>\n",
       "      <td>FullAuto</td>\n",
       "      <td>IS_GENUINE</td>\n",
       "      <td>Retail</td>\n",
       "      <td>0.0</td>\n",
       "      <td>0.0</td>\n",
       "      <td>355.0</td>\n",
       "      <td>19844.0</td>\n",
       "      <td>0</td>\n",
       "      <td>0.0</td>\n",
       "      <td>0</td>\n",
       "      <td>0.0</td>\n",
       "      <td>1.0</td>\n",
       "      <td>1</td>\n",
       "    </tr>\n",
       "  </tbody>\n",
       "</table>\n",
       "</div>"
      ],
      "text/plain": [
       "                  MachineIdentifier EngineVersion       AppVersion  \\\n",
       "0  0000028988387b115f69f31a3bf04f09   1.1.15100.1  4.18.1807.18075   \n",
       "1  000007535c3f730efa9ea0b7ef1bd645   1.1.14600.4     4.13.17134.1   \n",
       "2  000007905a28d863f6d0d597892cd692   1.1.15100.1  4.18.1807.18075   \n",
       "3  00000b11598a75ea8ba1beea8459149f   1.1.15100.1  4.18.1807.18075   \n",
       "4  000014a5f00daa18e76b81417eeb99fc   1.1.15100.1  4.18.1807.18075   \n",
       "\n",
       "   AvSigVersion AVProductStatesIdentifier AVProductsInstalled  \\\n",
       "0  1.273.1735.0                   53447.0                 1.0   \n",
       "1    1.263.48.0                   53447.0                 1.0   \n",
       "2  1.273.1341.0                   53447.0                 1.0   \n",
       "3  1.273.1527.0                   53447.0                 1.0   \n",
       "4  1.273.1379.0                   53447.0                 1.0   \n",
       "\n",
       "  CountryIdentifier CityIdentifier OrganizationIdentifier GeoNameIdentifier  \\\n",
       "0                29       128035.0                   18.0              35.0   \n",
       "1                93         1482.0                   18.0             119.0   \n",
       "2                86       153579.0                   18.0              64.0   \n",
       "3                88        20710.0                   48.0             117.0   \n",
       "4                18        37376.0                   48.0             277.0   \n",
       "\n",
       "  LocaleEnglishNameIdentifier OsBuild OsSuite OsPlatformSubRelease  \\\n",
       "0                         -85   17134     256                  rs4   \n",
       "1                          64   17134     256                  rs4   \n",
       "2                          49   17134     768                  rs4   \n",
       "3                         115   17134     256                  rs4   \n",
       "4                          75   17134     768                  rs4   \n",
       "\n",
       "                                 OsBuildLab SkuEdition IeVerIdentifier  \\\n",
       "0  17134.1.amd64fre.rs4_release.180410-1804        Pro           137.0   \n",
       "1  17134.1.amd64fre.rs4_release.180410-1804        Pro           137.0   \n",
       "2  17134.1.amd64fre.rs4_release.180410-1804       Home           137.0   \n",
       "3  17134.1.amd64fre.rs4_release.180410-1804        Pro           137.0   \n",
       "4  17134.1.amd64fre.rs4_release.180410-1804       Home           137.0   \n",
       "\n",
       "    SmartScreen Census_MDC2FormFactor Census_OEMNameIdentifier  \\\n",
       "0           NaN               Desktop                   2668.0   \n",
       "1           NaN              Notebook                   2668.0   \n",
       "2  RequireAdmin               Desktop                   4908.0   \n",
       "3  ExistsNotSet               Desktop                   1443.0   \n",
       "4  RequireAdmin              Notebook                   1443.0   \n",
       "\n",
       "  Census_OEMModelIdentifier  Census_ProcessorCoreCount  \\\n",
       "0                    9124.0                        4.0   \n",
       "1                   91656.0                        4.0   \n",
       "2                  317701.0                        4.0   \n",
       "3                  275890.0                        4.0   \n",
       "4                  331929.0                        4.0   \n",
       "\n",
       "   Census_ProcessorManufacturerIdentifier Census_ProcessorModelIdentifier  \\\n",
       "0                                     5.0                          2340.0   \n",
       "1                                     5.0                          2404.0   \n",
       "2                                     5.0                          1972.0   \n",
       "3                                     5.0                          2272.0   \n",
       "4                                     5.0                          2500.0   \n",
       "\n",
       "   Census_PrimaryDiskTotalCapacity Census_PrimaryDiskTypeName  \\\n",
       "0                         476940.0                        HDD   \n",
       "1                         476940.0                        HDD   \n",
       "2                         114473.0                        SSD   \n",
       "3                         238475.0                    UNKNOWN   \n",
       "4                         476940.0                        HDD   \n",
       "\n",
       "   Census_SystemVolumeTotalCapacity  Census_TotalPhysicalRAM  \\\n",
       "0                          299451.0                   4096.0   \n",
       "1                          102385.0                   4096.0   \n",
       "2                          113907.0                   4096.0   \n",
       "3                          227116.0                   4096.0   \n",
       "4                          101900.0                   6144.0   \n",
       "\n",
       "  Census_ChassisTypeName  Census_InternalPrimaryDiagonalDisplaySizeInInches  \\\n",
       "0                Desktop                                          18.906250   \n",
       "1               Notebook                                          13.898438   \n",
       "2                Desktop                                          21.500000   \n",
       "3              MiniTower                                          18.500000   \n",
       "4               Portable                                          14.000000   \n",
       "\n",
       "   Census_InternalPrimaryDisplayResolutionHorizontal  \\\n",
       "0                                             1440.0   \n",
       "1                                             1366.0   \n",
       "2                                             1920.0   \n",
       "3                                             1366.0   \n",
       "4                                             1366.0   \n",
       "\n",
       "   Census_InternalPrimaryDisplayResolutionVertical  \\\n",
       "0                                            900.0   \n",
       "1                                            768.0   \n",
       "2                                           1080.0   \n",
       "3                                            768.0   \n",
       "4                                            768.0   \n",
       "\n",
       "  Census_PowerPlatformRoleName  Census_InternalBatteryType  \\\n",
       "0                      Desktop                           0   \n",
       "1                       Mobile                           0   \n",
       "2                      Desktop                           0   \n",
       "3                      Desktop                           0   \n",
       "4                       Mobile                           1   \n",
       "\n",
       "  Census_InternalBatteryNumberOfCharges Census_OSVersion Census_OSBranch  \\\n",
       "0                          4.294967e+09   10.0.17134.165     rs4_release   \n",
       "1                          1.000000e+00     10.0.17134.1     rs4_release   \n",
       "2                          4.294967e+09   10.0.17134.165     rs4_release   \n",
       "3                          4.294967e+09   10.0.17134.228     rs4_release   \n",
       "4                          0.000000e+00   10.0.17134.191     rs4_release   \n",
       "\n",
       "  Census_OSBuildNumber Census_OSBuildRevision Census_OSEdition  \\\n",
       "0                17134                    165              pro   \n",
       "1                17134                      1              pro   \n",
       "2                17134                    165             Core   \n",
       "3                17134                    228              pro   \n",
       "4                17134                    191             Core   \n",
       "\n",
       "  Census_OSSkuName Census_OSInstallTypeName  \\\n",
       "0              pro               UUPUpgrade   \n",
       "1              pro                 IBSClean   \n",
       "2             Core               UUPUpgrade   \n",
       "3              pro               UUPUpgrade   \n",
       "4             Core                   Update   \n",
       "\n",
       "  Census_OSInstallLanguageIdentifier Census_OSUILocaleIdentifier  \\\n",
       "0                               26.0                         119   \n",
       "1                                8.0                          31   \n",
       "2                                7.0                          30   \n",
       "3                               17.0                          64   \n",
       "4                                8.0                          31   \n",
       "\n",
       "  Census_OSWUAutoUpdateOptionsName Census_GenuineStateName  \\\n",
       "0                          UNKNOWN              IS_GENUINE   \n",
       "1                          UNKNOWN                 OFFLINE   \n",
       "2                         FullAuto              IS_GENUINE   \n",
       "3                         FullAuto              IS_GENUINE   \n",
       "4                         FullAuto              IS_GENUINE   \n",
       "\n",
       "  Census_ActivationChannel  Census_IsFlightingInternal  Census_ThresholdOptIn  \\\n",
       "0                   Retail                         NaN                    NaN   \n",
       "1                   Retail                         NaN                    NaN   \n",
       "2               OEM:NONSLP                         NaN                    NaN   \n",
       "3               OEM:NONSLP                         NaN                    NaN   \n",
       "4                   Retail                         0.0                    0.0   \n",
       "\n",
       "  Census_FirmwareManufacturerIdentifier Census_FirmwareVersionIdentifier  \\\n",
       "0                                 628.0                          36144.0   \n",
       "1                                 628.0                          57858.0   \n",
       "2                                 142.0                          52682.0   \n",
       "3                                 355.0                          20050.0   \n",
       "4                                 355.0                          19844.0   \n",
       "\n",
       "   Census_IsSecureBootEnabled  Census_IsWIMBootEnabled  Census_IsTouchEnabled  \\\n",
       "0                           0                      NaN                      0   \n",
       "1                           0                      NaN                      0   \n",
       "2                           0                      NaN                      0   \n",
       "3                           0                      NaN                      0   \n",
       "4                           0                      0.0                      0   \n",
       "\n",
       "   Wdft_IsGamer Wdft_RegionIdentifier  HasDetections  \n",
       "0           0.0                  10.0              0  \n",
       "1           0.0                   8.0              0  \n",
       "2           0.0                   3.0              0  \n",
       "3           0.0                   3.0              1  \n",
       "4           0.0                   1.0              1  "
      ]
     },
     "execution_count": 111,
     "metadata": {},
     "output_type": "execute_result"
    }
   ],
   "source": [
    "train.head()"
   ]
  },
  {
   "cell_type": "code",
   "execution_count": 112,
   "metadata": {
    "_uuid": "929ff493993727b75ba409d3c975043ee64af043"
   },
   "outputs": [],
   "source": [
    "train['OsBuildLab'] = train['OsBuildLab'].cat.add_categories(['0.0.0.0.0-0'])\n",
    "train['OsBuildLab'] = train['OsBuildLab'].fillna('0.0.0.0.0-0')\n",
    "test['OsBuildLab'] = test['OsBuildLab'].cat.add_categories(['0.0.0.0.0-0'])\n",
    "test['OsBuildLab'] = test['OsBuildLab'].fillna('0.0.0.0.0-0')"
   ]
  },
  {
   "cell_type": "code",
   "execution_count": 113,
   "metadata": {
    "_uuid": "b0ab5cf44a087d69aafdff03f9d40cd52115e31d"
   },
   "outputs": [],
   "source": [
    "def fe(df):\n",
    "    df['EngineVersion_2'] = df['EngineVersion'].apply(lambda x: x.split('.')[2]).astype('category')\n",
    "    df['EngineVersion_3'] = df['EngineVersion'].apply(lambda x: x.split('.')[3]).astype('category')\n",
    "\n",
    "    df['AppVersion_1'] = df['AppVersion'].apply(lambda x: x.split('.')[1]).astype('category')\n",
    "    df['AppVersion_2'] = df['AppVersion'].apply(lambda x: x.split('.')[2]).astype('category')\n",
    "    df['AppVersion_3'] = df['AppVersion'].apply(lambda x: x.split('.')[3]).astype('category')\n",
    "\n",
    "    df['AvSigVersion_0'] = df['AvSigVersion'].apply(lambda x: x.split('.')[0]).astype('category')\n",
    "    df['AvSigVersion_1'] = df['AvSigVersion'].apply(lambda x: x.split('.')[1]).astype('category')\n",
    "    df['AvSigVersion_2'] = df['AvSigVersion'].apply(lambda x: x.split('.')[2]).astype('category')\n",
    "\n",
    "    df['OsBuildLab_0'] = df['OsBuildLab'].apply(lambda x: x.split('.')[0]).astype('category')\n",
    "    df['OsBuildLab_1'] = df['OsBuildLab'].apply(lambda x: x.split('.')[1]).astype('category')\n",
    "    df['OsBuildLab_2'] = df['OsBuildLab'].apply(lambda x: x.split('.')[2]).astype('category')\n",
    "    df['OsBuildLab_3'] = df['OsBuildLab'].apply(lambda x: x.split('.')[3]).astype('category')\n",
    "    # df['OsBuildLab_40'] = df['OsBuildLab'].apply(lambda x: x.split('.')[4].split('-')[0]).astype('category')\n",
    "    # df['OsBuildLab_41'] = df['OsBuildLab'].apply(lambda x: x.split('.')[4].split('-')[1]).astype('category')\n",
    "\n",
    "    df['Census_OSVersion_0'] = df['Census_OSVersion'].apply(lambda x: x.split('.')[0]).astype('category')\n",
    "    df['Census_OSVersion_1'] = df['Census_OSVersion'].apply(lambda x: x.split('.')[1]).astype('category')\n",
    "    df['Census_OSVersion_2'] = df['Census_OSVersion'].apply(lambda x: x.split('.')[2]).astype('category')\n",
    "    df['Census_OSVersion_3'] = df['Census_OSVersion'].apply(lambda x: x.split('.')[3]).astype('category')\n",
    "\n",
    "    # https://www.kaggle.com/adityaecdrid/simple-feature-engineering-xd\n",
    "    df['primary_drive_c_ratio'] = df['Census_SystemVolumeTotalCapacity']/ df['Census_PrimaryDiskTotalCapacity']\n",
    "    df['non_primary_drive_MB'] = df['Census_PrimaryDiskTotalCapacity'] - df['Census_SystemVolumeTotalCapacity']\n",
    "\n",
    "    df['aspect_ratio'] = df['Census_InternalPrimaryDisplayResolutionHorizontal']/ df['Census_InternalPrimaryDisplayResolutionVertical']\n",
    "\n",
    "    df['monitor_dims'] = df['Census_InternalPrimaryDisplayResolutionHorizontal'].astype(str) + '*' + df['Census_InternalPrimaryDisplayResolutionVertical'].astype('str')\n",
    "    df['monitor_dims'] = df['monitor_dims'].astype('category')\n",
    "\n",
    "    df['dpi'] = ((df['Census_InternalPrimaryDisplayResolutionHorizontal']**2 + df['Census_InternalPrimaryDisplayResolutionVertical']**2)**.5)/(df['Census_InternalPrimaryDiagonalDisplaySizeInInches'])\n",
    "\n",
    "    df['dpi_square'] = df['dpi'] ** 2\n",
    "\n",
    "    df['MegaPixels'] = (df['Census_InternalPrimaryDisplayResolutionHorizontal'] * df['Census_InternalPrimaryDisplayResolutionVertical'])/1e6\n",
    "\n",
    "    df['Screen_Area'] = (df['aspect_ratio']* (df['Census_InternalPrimaryDiagonalDisplaySizeInInches']**2))/(df['aspect_ratio']**2 + 1)\n",
    "\n",
    "    df['ram_per_processor'] = df['Census_TotalPhysicalRAM']/ df['Census_ProcessorCoreCount']\n",
    "\n",
    "    df['new_num_0'] = df['Census_InternalPrimaryDiagonalDisplaySizeInInches'] / df['Census_ProcessorCoreCount']\n",
    "\n",
    "    df['new_num_1'] = df['Census_ProcessorCoreCount'] * df['Census_InternalPrimaryDiagonalDisplaySizeInInches']\n",
    "    \n",
    "    df['Census_IsFlightingInternal'] = df['Census_IsFlightingInternal'].fillna(1)\n",
    "    df['Census_ThresholdOptIn'] = df['Census_ThresholdOptIn'].fillna(1)\n",
    "    df['Census_IsWIMBootEnabled'] = df['Census_IsWIMBootEnabled'].fillna(1)\n",
    "    df['Wdft_IsGamer'] = df['Wdft_IsGamer'].fillna(0)\n",
    "    \n",
    "    return df"
   ]
  },
  {
   "cell_type": "code",
   "execution_count": 114,
   "metadata": {
    "_uuid": "9f51ffbd25d969ac089e8155eadbee4afb59ace3"
   },
   "outputs": [],
   "source": [
    "train = fe(train)\n",
    "test = fe(test)"
   ]
  },
  {
   "cell_type": "code",
   "execution_count": 115,
   "metadata": {},
   "outputs": [
    {
     "data": {
      "text/html": [
       "<div>\n",
       "<style scoped>\n",
       "    .dataframe tbody tr th:only-of-type {\n",
       "        vertical-align: middle;\n",
       "    }\n",
       "\n",
       "    .dataframe tbody tr th {\n",
       "        vertical-align: top;\n",
       "    }\n",
       "\n",
       "    .dataframe thead th {\n",
       "        text-align: right;\n",
       "    }\n",
       "</style>\n",
       "<table border=\"1\" class=\"dataframe\">\n",
       "  <thead>\n",
       "    <tr style=\"text-align: right;\">\n",
       "      <th></th>\n",
       "      <th>MachineIdentifier</th>\n",
       "      <th>EngineVersion</th>\n",
       "      <th>AppVersion</th>\n",
       "      <th>AvSigVersion</th>\n",
       "      <th>AVProductStatesIdentifier</th>\n",
       "      <th>AVProductsInstalled</th>\n",
       "      <th>CountryIdentifier</th>\n",
       "      <th>CityIdentifier</th>\n",
       "      <th>OrganizationIdentifier</th>\n",
       "      <th>GeoNameIdentifier</th>\n",
       "      <th>LocaleEnglishNameIdentifier</th>\n",
       "      <th>OsBuild</th>\n",
       "      <th>OsSuite</th>\n",
       "      <th>OsPlatformSubRelease</th>\n",
       "      <th>OsBuildLab</th>\n",
       "      <th>SkuEdition</th>\n",
       "      <th>IeVerIdentifier</th>\n",
       "      <th>SmartScreen</th>\n",
       "      <th>Census_MDC2FormFactor</th>\n",
       "      <th>Census_OEMNameIdentifier</th>\n",
       "      <th>Census_OEMModelIdentifier</th>\n",
       "      <th>Census_ProcessorCoreCount</th>\n",
       "      <th>Census_ProcessorManufacturerIdentifier</th>\n",
       "      <th>Census_ProcessorModelIdentifier</th>\n",
       "      <th>Census_PrimaryDiskTotalCapacity</th>\n",
       "      <th>Census_PrimaryDiskTypeName</th>\n",
       "      <th>Census_SystemVolumeTotalCapacity</th>\n",
       "      <th>Census_TotalPhysicalRAM</th>\n",
       "      <th>Census_ChassisTypeName</th>\n",
       "      <th>Census_InternalPrimaryDiagonalDisplaySizeInInches</th>\n",
       "      <th>Census_InternalPrimaryDisplayResolutionHorizontal</th>\n",
       "      <th>Census_InternalPrimaryDisplayResolutionVertical</th>\n",
       "      <th>Census_PowerPlatformRoleName</th>\n",
       "      <th>Census_InternalBatteryType</th>\n",
       "      <th>Census_InternalBatteryNumberOfCharges</th>\n",
       "      <th>Census_OSVersion</th>\n",
       "      <th>Census_OSBranch</th>\n",
       "      <th>Census_OSBuildNumber</th>\n",
       "      <th>Census_OSBuildRevision</th>\n",
       "      <th>Census_OSEdition</th>\n",
       "      <th>Census_OSSkuName</th>\n",
       "      <th>Census_OSInstallTypeName</th>\n",
       "      <th>Census_OSInstallLanguageIdentifier</th>\n",
       "      <th>Census_OSUILocaleIdentifier</th>\n",
       "      <th>Census_OSWUAutoUpdateOptionsName</th>\n",
       "      <th>Census_GenuineStateName</th>\n",
       "      <th>Census_ActivationChannel</th>\n",
       "      <th>Census_IsFlightingInternal</th>\n",
       "      <th>Census_ThresholdOptIn</th>\n",
       "      <th>Census_FirmwareManufacturerIdentifier</th>\n",
       "      <th>Census_FirmwareVersionIdentifier</th>\n",
       "      <th>Census_IsSecureBootEnabled</th>\n",
       "      <th>Census_IsWIMBootEnabled</th>\n",
       "      <th>Census_IsTouchEnabled</th>\n",
       "      <th>Wdft_IsGamer</th>\n",
       "      <th>Wdft_RegionIdentifier</th>\n",
       "      <th>HasDetections</th>\n",
       "      <th>EngineVersion_2</th>\n",
       "      <th>EngineVersion_3</th>\n",
       "      <th>AppVersion_1</th>\n",
       "      <th>AppVersion_2</th>\n",
       "      <th>AppVersion_3</th>\n",
       "      <th>AvSigVersion_0</th>\n",
       "      <th>AvSigVersion_1</th>\n",
       "      <th>AvSigVersion_2</th>\n",
       "      <th>OsBuildLab_0</th>\n",
       "      <th>OsBuildLab_1</th>\n",
       "      <th>OsBuildLab_2</th>\n",
       "      <th>OsBuildLab_3</th>\n",
       "      <th>Census_OSVersion_0</th>\n",
       "      <th>Census_OSVersion_1</th>\n",
       "      <th>Census_OSVersion_2</th>\n",
       "      <th>Census_OSVersion_3</th>\n",
       "      <th>primary_drive_c_ratio</th>\n",
       "      <th>non_primary_drive_MB</th>\n",
       "      <th>aspect_ratio</th>\n",
       "      <th>monitor_dims</th>\n",
       "      <th>dpi</th>\n",
       "      <th>dpi_square</th>\n",
       "      <th>MegaPixels</th>\n",
       "      <th>Screen_Area</th>\n",
       "      <th>ram_per_processor</th>\n",
       "      <th>new_num_0</th>\n",
       "      <th>new_num_1</th>\n",
       "    </tr>\n",
       "  </thead>\n",
       "  <tbody>\n",
       "    <tr>\n",
       "      <th>0</th>\n",
       "      <td>0000028988387b115f69f31a3bf04f09</td>\n",
       "      <td>1.1.15100.1</td>\n",
       "      <td>4.18.1807.18075</td>\n",
       "      <td>1.273.1735.0</td>\n",
       "      <td>53447.0</td>\n",
       "      <td>1.0</td>\n",
       "      <td>29</td>\n",
       "      <td>128035.0</td>\n",
       "      <td>18.0</td>\n",
       "      <td>35.0</td>\n",
       "      <td>-85</td>\n",
       "      <td>17134</td>\n",
       "      <td>256</td>\n",
       "      <td>rs4</td>\n",
       "      <td>17134.1.amd64fre.rs4_release.180410-1804</td>\n",
       "      <td>Pro</td>\n",
       "      <td>137.0</td>\n",
       "      <td>NaN</td>\n",
       "      <td>Desktop</td>\n",
       "      <td>2668.0</td>\n",
       "      <td>9124.0</td>\n",
       "      <td>4.0</td>\n",
       "      <td>5.0</td>\n",
       "      <td>2340.0</td>\n",
       "      <td>476940.0</td>\n",
       "      <td>HDD</td>\n",
       "      <td>299451.0</td>\n",
       "      <td>4096.0</td>\n",
       "      <td>Desktop</td>\n",
       "      <td>18.906250</td>\n",
       "      <td>1440.0</td>\n",
       "      <td>900.0</td>\n",
       "      <td>Desktop</td>\n",
       "      <td>0</td>\n",
       "      <td>4.294967e+09</td>\n",
       "      <td>10.0.17134.165</td>\n",
       "      <td>rs4_release</td>\n",
       "      <td>17134</td>\n",
       "      <td>165</td>\n",
       "      <td>pro</td>\n",
       "      <td>pro</td>\n",
       "      <td>UUPUpgrade</td>\n",
       "      <td>26.0</td>\n",
       "      <td>119</td>\n",
       "      <td>UNKNOWN</td>\n",
       "      <td>IS_GENUINE</td>\n",
       "      <td>Retail</td>\n",
       "      <td>1.0</td>\n",
       "      <td>1.0</td>\n",
       "      <td>628.0</td>\n",
       "      <td>36144.0</td>\n",
       "      <td>0</td>\n",
       "      <td>1.0</td>\n",
       "      <td>0</td>\n",
       "      <td>0.0</td>\n",
       "      <td>10.0</td>\n",
       "      <td>0</td>\n",
       "      <td>15100</td>\n",
       "      <td>1</td>\n",
       "      <td>18</td>\n",
       "      <td>1807</td>\n",
       "      <td>18075</td>\n",
       "      <td>1</td>\n",
       "      <td>273</td>\n",
       "      <td>1735</td>\n",
       "      <td>17134</td>\n",
       "      <td>1</td>\n",
       "      <td>amd64fre</td>\n",
       "      <td>rs4_release</td>\n",
       "      <td>10</td>\n",
       "      <td>0</td>\n",
       "      <td>17134</td>\n",
       "      <td>165</td>\n",
       "      <td>0.627859</td>\n",
       "      <td>177489.0</td>\n",
       "      <td>1.599609</td>\n",
       "      <td>1440.0*900.0</td>\n",
       "      <td>inf</td>\n",
       "      <td>inf</td>\n",
       "      <td>inf</td>\n",
       "      <td>160.7500</td>\n",
       "      <td>1024.0</td>\n",
       "      <td>4.726562</td>\n",
       "      <td>75.62500</td>\n",
       "    </tr>\n",
       "    <tr>\n",
       "      <th>1</th>\n",
       "      <td>000007535c3f730efa9ea0b7ef1bd645</td>\n",
       "      <td>1.1.14600.4</td>\n",
       "      <td>4.13.17134.1</td>\n",
       "      <td>1.263.48.0</td>\n",
       "      <td>53447.0</td>\n",
       "      <td>1.0</td>\n",
       "      <td>93</td>\n",
       "      <td>1482.0</td>\n",
       "      <td>18.0</td>\n",
       "      <td>119.0</td>\n",
       "      <td>64</td>\n",
       "      <td>17134</td>\n",
       "      <td>256</td>\n",
       "      <td>rs4</td>\n",
       "      <td>17134.1.amd64fre.rs4_release.180410-1804</td>\n",
       "      <td>Pro</td>\n",
       "      <td>137.0</td>\n",
       "      <td>NaN</td>\n",
       "      <td>Notebook</td>\n",
       "      <td>2668.0</td>\n",
       "      <td>91656.0</td>\n",
       "      <td>4.0</td>\n",
       "      <td>5.0</td>\n",
       "      <td>2404.0</td>\n",
       "      <td>476940.0</td>\n",
       "      <td>HDD</td>\n",
       "      <td>102385.0</td>\n",
       "      <td>4096.0</td>\n",
       "      <td>Notebook</td>\n",
       "      <td>13.898438</td>\n",
       "      <td>1366.0</td>\n",
       "      <td>768.0</td>\n",
       "      <td>Mobile</td>\n",
       "      <td>0</td>\n",
       "      <td>1.000000e+00</td>\n",
       "      <td>10.0.17134.1</td>\n",
       "      <td>rs4_release</td>\n",
       "      <td>17134</td>\n",
       "      <td>1</td>\n",
       "      <td>pro</td>\n",
       "      <td>pro</td>\n",
       "      <td>IBSClean</td>\n",
       "      <td>8.0</td>\n",
       "      <td>31</td>\n",
       "      <td>UNKNOWN</td>\n",
       "      <td>OFFLINE</td>\n",
       "      <td>Retail</td>\n",
       "      <td>1.0</td>\n",
       "      <td>1.0</td>\n",
       "      <td>628.0</td>\n",
       "      <td>57858.0</td>\n",
       "      <td>0</td>\n",
       "      <td>1.0</td>\n",
       "      <td>0</td>\n",
       "      <td>0.0</td>\n",
       "      <td>8.0</td>\n",
       "      <td>0</td>\n",
       "      <td>14600</td>\n",
       "      <td>4</td>\n",
       "      <td>13</td>\n",
       "      <td>17134</td>\n",
       "      <td>1</td>\n",
       "      <td>1</td>\n",
       "      <td>263</td>\n",
       "      <td>48</td>\n",
       "      <td>17134</td>\n",
       "      <td>1</td>\n",
       "      <td>amd64fre</td>\n",
       "      <td>rs4_release</td>\n",
       "      <td>10</td>\n",
       "      <td>0</td>\n",
       "      <td>17134</td>\n",
       "      <td>1</td>\n",
       "      <td>0.214671</td>\n",
       "      <td>374555.0</td>\n",
       "      <td>1.778320</td>\n",
       "      <td>1366.0*768.0</td>\n",
       "      <td>inf</td>\n",
       "      <td>inf</td>\n",
       "      <td>inf</td>\n",
       "      <td>82.5000</td>\n",
       "      <td>1024.0</td>\n",
       "      <td>3.474609</td>\n",
       "      <td>55.59375</td>\n",
       "    </tr>\n",
       "    <tr>\n",
       "      <th>2</th>\n",
       "      <td>000007905a28d863f6d0d597892cd692</td>\n",
       "      <td>1.1.15100.1</td>\n",
       "      <td>4.18.1807.18075</td>\n",
       "      <td>1.273.1341.0</td>\n",
       "      <td>53447.0</td>\n",
       "      <td>1.0</td>\n",
       "      <td>86</td>\n",
       "      <td>153579.0</td>\n",
       "      <td>18.0</td>\n",
       "      <td>64.0</td>\n",
       "      <td>49</td>\n",
       "      <td>17134</td>\n",
       "      <td>768</td>\n",
       "      <td>rs4</td>\n",
       "      <td>17134.1.amd64fre.rs4_release.180410-1804</td>\n",
       "      <td>Home</td>\n",
       "      <td>137.0</td>\n",
       "      <td>RequireAdmin</td>\n",
       "      <td>Desktop</td>\n",
       "      <td>4908.0</td>\n",
       "      <td>317701.0</td>\n",
       "      <td>4.0</td>\n",
       "      <td>5.0</td>\n",
       "      <td>1972.0</td>\n",
       "      <td>114473.0</td>\n",
       "      <td>SSD</td>\n",
       "      <td>113907.0</td>\n",
       "      <td>4096.0</td>\n",
       "      <td>Desktop</td>\n",
       "      <td>21.500000</td>\n",
       "      <td>1920.0</td>\n",
       "      <td>1080.0</td>\n",
       "      <td>Desktop</td>\n",
       "      <td>0</td>\n",
       "      <td>4.294967e+09</td>\n",
       "      <td>10.0.17134.165</td>\n",
       "      <td>rs4_release</td>\n",
       "      <td>17134</td>\n",
       "      <td>165</td>\n",
       "      <td>Core</td>\n",
       "      <td>Core</td>\n",
       "      <td>UUPUpgrade</td>\n",
       "      <td>7.0</td>\n",
       "      <td>30</td>\n",
       "      <td>FullAuto</td>\n",
       "      <td>IS_GENUINE</td>\n",
       "      <td>OEM:NONSLP</td>\n",
       "      <td>1.0</td>\n",
       "      <td>1.0</td>\n",
       "      <td>142.0</td>\n",
       "      <td>52682.0</td>\n",
       "      <td>0</td>\n",
       "      <td>1.0</td>\n",
       "      <td>0</td>\n",
       "      <td>0.0</td>\n",
       "      <td>3.0</td>\n",
       "      <td>0</td>\n",
       "      <td>15100</td>\n",
       "      <td>1</td>\n",
       "      <td>18</td>\n",
       "      <td>1807</td>\n",
       "      <td>18075</td>\n",
       "      <td>1</td>\n",
       "      <td>273</td>\n",
       "      <td>1341</td>\n",
       "      <td>17134</td>\n",
       "      <td>1</td>\n",
       "      <td>amd64fre</td>\n",
       "      <td>rs4_release</td>\n",
       "      <td>10</td>\n",
       "      <td>0</td>\n",
       "      <td>17134</td>\n",
       "      <td>165</td>\n",
       "      <td>0.995056</td>\n",
       "      <td>566.0</td>\n",
       "      <td>1.777344</td>\n",
       "      <td>1920.0*1080.0</td>\n",
       "      <td>inf</td>\n",
       "      <td>inf</td>\n",
       "      <td>inf</td>\n",
       "      <td>197.6250</td>\n",
       "      <td>1024.0</td>\n",
       "      <td>5.375000</td>\n",
       "      <td>86.00000</td>\n",
       "    </tr>\n",
       "    <tr>\n",
       "      <th>3</th>\n",
       "      <td>00000b11598a75ea8ba1beea8459149f</td>\n",
       "      <td>1.1.15100.1</td>\n",
       "      <td>4.18.1807.18075</td>\n",
       "      <td>1.273.1527.0</td>\n",
       "      <td>53447.0</td>\n",
       "      <td>1.0</td>\n",
       "      <td>88</td>\n",
       "      <td>20710.0</td>\n",
       "      <td>48.0</td>\n",
       "      <td>117.0</td>\n",
       "      <td>115</td>\n",
       "      <td>17134</td>\n",
       "      <td>256</td>\n",
       "      <td>rs4</td>\n",
       "      <td>17134.1.amd64fre.rs4_release.180410-1804</td>\n",
       "      <td>Pro</td>\n",
       "      <td>137.0</td>\n",
       "      <td>ExistsNotSet</td>\n",
       "      <td>Desktop</td>\n",
       "      <td>1443.0</td>\n",
       "      <td>275890.0</td>\n",
       "      <td>4.0</td>\n",
       "      <td>5.0</td>\n",
       "      <td>2272.0</td>\n",
       "      <td>238475.0</td>\n",
       "      <td>UNKNOWN</td>\n",
       "      <td>227116.0</td>\n",
       "      <td>4096.0</td>\n",
       "      <td>MiniTower</td>\n",
       "      <td>18.500000</td>\n",
       "      <td>1366.0</td>\n",
       "      <td>768.0</td>\n",
       "      <td>Desktop</td>\n",
       "      <td>0</td>\n",
       "      <td>4.294967e+09</td>\n",
       "      <td>10.0.17134.228</td>\n",
       "      <td>rs4_release</td>\n",
       "      <td>17134</td>\n",
       "      <td>228</td>\n",
       "      <td>pro</td>\n",
       "      <td>pro</td>\n",
       "      <td>UUPUpgrade</td>\n",
       "      <td>17.0</td>\n",
       "      <td>64</td>\n",
       "      <td>FullAuto</td>\n",
       "      <td>IS_GENUINE</td>\n",
       "      <td>OEM:NONSLP</td>\n",
       "      <td>1.0</td>\n",
       "      <td>1.0</td>\n",
       "      <td>355.0</td>\n",
       "      <td>20050.0</td>\n",
       "      <td>0</td>\n",
       "      <td>1.0</td>\n",
       "      <td>0</td>\n",
       "      <td>0.0</td>\n",
       "      <td>3.0</td>\n",
       "      <td>1</td>\n",
       "      <td>15100</td>\n",
       "      <td>1</td>\n",
       "      <td>18</td>\n",
       "      <td>1807</td>\n",
       "      <td>18075</td>\n",
       "      <td>1</td>\n",
       "      <td>273</td>\n",
       "      <td>1527</td>\n",
       "      <td>17134</td>\n",
       "      <td>1</td>\n",
       "      <td>amd64fre</td>\n",
       "      <td>rs4_release</td>\n",
       "      <td>10</td>\n",
       "      <td>0</td>\n",
       "      <td>17134</td>\n",
       "      <td>228</td>\n",
       "      <td>0.952368</td>\n",
       "      <td>11359.0</td>\n",
       "      <td>1.778320</td>\n",
       "      <td>1366.0*768.0</td>\n",
       "      <td>inf</td>\n",
       "      <td>inf</td>\n",
       "      <td>inf</td>\n",
       "      <td>146.1250</td>\n",
       "      <td>1024.0</td>\n",
       "      <td>4.625000</td>\n",
       "      <td>74.00000</td>\n",
       "    </tr>\n",
       "    <tr>\n",
       "      <th>4</th>\n",
       "      <td>000014a5f00daa18e76b81417eeb99fc</td>\n",
       "      <td>1.1.15100.1</td>\n",
       "      <td>4.18.1807.18075</td>\n",
       "      <td>1.273.1379.0</td>\n",
       "      <td>53447.0</td>\n",
       "      <td>1.0</td>\n",
       "      <td>18</td>\n",
       "      <td>37376.0</td>\n",
       "      <td>48.0</td>\n",
       "      <td>277.0</td>\n",
       "      <td>75</td>\n",
       "      <td>17134</td>\n",
       "      <td>768</td>\n",
       "      <td>rs4</td>\n",
       "      <td>17134.1.amd64fre.rs4_release.180410-1804</td>\n",
       "      <td>Home</td>\n",
       "      <td>137.0</td>\n",
       "      <td>RequireAdmin</td>\n",
       "      <td>Notebook</td>\n",
       "      <td>1443.0</td>\n",
       "      <td>331929.0</td>\n",
       "      <td>4.0</td>\n",
       "      <td>5.0</td>\n",
       "      <td>2500.0</td>\n",
       "      <td>476940.0</td>\n",
       "      <td>HDD</td>\n",
       "      <td>101900.0</td>\n",
       "      <td>6144.0</td>\n",
       "      <td>Portable</td>\n",
       "      <td>14.000000</td>\n",
       "      <td>1366.0</td>\n",
       "      <td>768.0</td>\n",
       "      <td>Mobile</td>\n",
       "      <td>1</td>\n",
       "      <td>0.000000e+00</td>\n",
       "      <td>10.0.17134.191</td>\n",
       "      <td>rs4_release</td>\n",
       "      <td>17134</td>\n",
       "      <td>191</td>\n",
       "      <td>Core</td>\n",
       "      <td>Core</td>\n",
       "      <td>Update</td>\n",
       "      <td>8.0</td>\n",
       "      <td>31</td>\n",
       "      <td>FullAuto</td>\n",
       "      <td>IS_GENUINE</td>\n",
       "      <td>Retail</td>\n",
       "      <td>0.0</td>\n",
       "      <td>0.0</td>\n",
       "      <td>355.0</td>\n",
       "      <td>19844.0</td>\n",
       "      <td>0</td>\n",
       "      <td>0.0</td>\n",
       "      <td>0</td>\n",
       "      <td>0.0</td>\n",
       "      <td>1.0</td>\n",
       "      <td>1</td>\n",
       "      <td>15100</td>\n",
       "      <td>1</td>\n",
       "      <td>18</td>\n",
       "      <td>1807</td>\n",
       "      <td>18075</td>\n",
       "      <td>1</td>\n",
       "      <td>273</td>\n",
       "      <td>1379</td>\n",
       "      <td>17134</td>\n",
       "      <td>1</td>\n",
       "      <td>amd64fre</td>\n",
       "      <td>rs4_release</td>\n",
       "      <td>10</td>\n",
       "      <td>0</td>\n",
       "      <td>17134</td>\n",
       "      <td>191</td>\n",
       "      <td>0.213654</td>\n",
       "      <td>375040.0</td>\n",
       "      <td>1.778320</td>\n",
       "      <td>1366.0*768.0</td>\n",
       "      <td>inf</td>\n",
       "      <td>inf</td>\n",
       "      <td>inf</td>\n",
       "      <td>83.6875</td>\n",
       "      <td>1536.0</td>\n",
       "      <td>3.500000</td>\n",
       "      <td>56.00000</td>\n",
       "    </tr>\n",
       "  </tbody>\n",
       "</table>\n",
       "</div>"
      ],
      "text/plain": [
       "                  MachineIdentifier EngineVersion       AppVersion  \\\n",
       "0  0000028988387b115f69f31a3bf04f09   1.1.15100.1  4.18.1807.18075   \n",
       "1  000007535c3f730efa9ea0b7ef1bd645   1.1.14600.4     4.13.17134.1   \n",
       "2  000007905a28d863f6d0d597892cd692   1.1.15100.1  4.18.1807.18075   \n",
       "3  00000b11598a75ea8ba1beea8459149f   1.1.15100.1  4.18.1807.18075   \n",
       "4  000014a5f00daa18e76b81417eeb99fc   1.1.15100.1  4.18.1807.18075   \n",
       "\n",
       "   AvSigVersion AVProductStatesIdentifier AVProductsInstalled  \\\n",
       "0  1.273.1735.0                   53447.0                 1.0   \n",
       "1    1.263.48.0                   53447.0                 1.0   \n",
       "2  1.273.1341.0                   53447.0                 1.0   \n",
       "3  1.273.1527.0                   53447.0                 1.0   \n",
       "4  1.273.1379.0                   53447.0                 1.0   \n",
       "\n",
       "  CountryIdentifier CityIdentifier OrganizationIdentifier GeoNameIdentifier  \\\n",
       "0                29       128035.0                   18.0              35.0   \n",
       "1                93         1482.0                   18.0             119.0   \n",
       "2                86       153579.0                   18.0              64.0   \n",
       "3                88        20710.0                   48.0             117.0   \n",
       "4                18        37376.0                   48.0             277.0   \n",
       "\n",
       "  LocaleEnglishNameIdentifier OsBuild OsSuite OsPlatformSubRelease  \\\n",
       "0                         -85   17134     256                  rs4   \n",
       "1                          64   17134     256                  rs4   \n",
       "2                          49   17134     768                  rs4   \n",
       "3                         115   17134     256                  rs4   \n",
       "4                          75   17134     768                  rs4   \n",
       "\n",
       "                                 OsBuildLab SkuEdition IeVerIdentifier  \\\n",
       "0  17134.1.amd64fre.rs4_release.180410-1804        Pro           137.0   \n",
       "1  17134.1.amd64fre.rs4_release.180410-1804        Pro           137.0   \n",
       "2  17134.1.amd64fre.rs4_release.180410-1804       Home           137.0   \n",
       "3  17134.1.amd64fre.rs4_release.180410-1804        Pro           137.0   \n",
       "4  17134.1.amd64fre.rs4_release.180410-1804       Home           137.0   \n",
       "\n",
       "    SmartScreen Census_MDC2FormFactor Census_OEMNameIdentifier  \\\n",
       "0           NaN               Desktop                   2668.0   \n",
       "1           NaN              Notebook                   2668.0   \n",
       "2  RequireAdmin               Desktop                   4908.0   \n",
       "3  ExistsNotSet               Desktop                   1443.0   \n",
       "4  RequireAdmin              Notebook                   1443.0   \n",
       "\n",
       "  Census_OEMModelIdentifier  Census_ProcessorCoreCount  \\\n",
       "0                    9124.0                        4.0   \n",
       "1                   91656.0                        4.0   \n",
       "2                  317701.0                        4.0   \n",
       "3                  275890.0                        4.0   \n",
       "4                  331929.0                        4.0   \n",
       "\n",
       "   Census_ProcessorManufacturerIdentifier Census_ProcessorModelIdentifier  \\\n",
       "0                                     5.0                          2340.0   \n",
       "1                                     5.0                          2404.0   \n",
       "2                                     5.0                          1972.0   \n",
       "3                                     5.0                          2272.0   \n",
       "4                                     5.0                          2500.0   \n",
       "\n",
       "   Census_PrimaryDiskTotalCapacity Census_PrimaryDiskTypeName  \\\n",
       "0                         476940.0                        HDD   \n",
       "1                         476940.0                        HDD   \n",
       "2                         114473.0                        SSD   \n",
       "3                         238475.0                    UNKNOWN   \n",
       "4                         476940.0                        HDD   \n",
       "\n",
       "   Census_SystemVolumeTotalCapacity  Census_TotalPhysicalRAM  \\\n",
       "0                          299451.0                   4096.0   \n",
       "1                          102385.0                   4096.0   \n",
       "2                          113907.0                   4096.0   \n",
       "3                          227116.0                   4096.0   \n",
       "4                          101900.0                   6144.0   \n",
       "\n",
       "  Census_ChassisTypeName  Census_InternalPrimaryDiagonalDisplaySizeInInches  \\\n",
       "0                Desktop                                          18.906250   \n",
       "1               Notebook                                          13.898438   \n",
       "2                Desktop                                          21.500000   \n",
       "3              MiniTower                                          18.500000   \n",
       "4               Portable                                          14.000000   \n",
       "\n",
       "   Census_InternalPrimaryDisplayResolutionHorizontal  \\\n",
       "0                                             1440.0   \n",
       "1                                             1366.0   \n",
       "2                                             1920.0   \n",
       "3                                             1366.0   \n",
       "4                                             1366.0   \n",
       "\n",
       "   Census_InternalPrimaryDisplayResolutionVertical  \\\n",
       "0                                            900.0   \n",
       "1                                            768.0   \n",
       "2                                           1080.0   \n",
       "3                                            768.0   \n",
       "4                                            768.0   \n",
       "\n",
       "  Census_PowerPlatformRoleName  Census_InternalBatteryType  \\\n",
       "0                      Desktop                           0   \n",
       "1                       Mobile                           0   \n",
       "2                      Desktop                           0   \n",
       "3                      Desktop                           0   \n",
       "4                       Mobile                           1   \n",
       "\n",
       "  Census_InternalBatteryNumberOfCharges Census_OSVersion Census_OSBranch  \\\n",
       "0                          4.294967e+09   10.0.17134.165     rs4_release   \n",
       "1                          1.000000e+00     10.0.17134.1     rs4_release   \n",
       "2                          4.294967e+09   10.0.17134.165     rs4_release   \n",
       "3                          4.294967e+09   10.0.17134.228     rs4_release   \n",
       "4                          0.000000e+00   10.0.17134.191     rs4_release   \n",
       "\n",
       "  Census_OSBuildNumber Census_OSBuildRevision Census_OSEdition  \\\n",
       "0                17134                    165              pro   \n",
       "1                17134                      1              pro   \n",
       "2                17134                    165             Core   \n",
       "3                17134                    228              pro   \n",
       "4                17134                    191             Core   \n",
       "\n",
       "  Census_OSSkuName Census_OSInstallTypeName  \\\n",
       "0              pro               UUPUpgrade   \n",
       "1              pro                 IBSClean   \n",
       "2             Core               UUPUpgrade   \n",
       "3              pro               UUPUpgrade   \n",
       "4             Core                   Update   \n",
       "\n",
       "  Census_OSInstallLanguageIdentifier Census_OSUILocaleIdentifier  \\\n",
       "0                               26.0                         119   \n",
       "1                                8.0                          31   \n",
       "2                                7.0                          30   \n",
       "3                               17.0                          64   \n",
       "4                                8.0                          31   \n",
       "\n",
       "  Census_OSWUAutoUpdateOptionsName Census_GenuineStateName  \\\n",
       "0                          UNKNOWN              IS_GENUINE   \n",
       "1                          UNKNOWN                 OFFLINE   \n",
       "2                         FullAuto              IS_GENUINE   \n",
       "3                         FullAuto              IS_GENUINE   \n",
       "4                         FullAuto              IS_GENUINE   \n",
       "\n",
       "  Census_ActivationChannel  Census_IsFlightingInternal  Census_ThresholdOptIn  \\\n",
       "0                   Retail                         1.0                    1.0   \n",
       "1                   Retail                         1.0                    1.0   \n",
       "2               OEM:NONSLP                         1.0                    1.0   \n",
       "3               OEM:NONSLP                         1.0                    1.0   \n",
       "4                   Retail                         0.0                    0.0   \n",
       "\n",
       "  Census_FirmwareManufacturerIdentifier Census_FirmwareVersionIdentifier  \\\n",
       "0                                 628.0                          36144.0   \n",
       "1                                 628.0                          57858.0   \n",
       "2                                 142.0                          52682.0   \n",
       "3                                 355.0                          20050.0   \n",
       "4                                 355.0                          19844.0   \n",
       "\n",
       "   Census_IsSecureBootEnabled  Census_IsWIMBootEnabled  Census_IsTouchEnabled  \\\n",
       "0                           0                      1.0                      0   \n",
       "1                           0                      1.0                      0   \n",
       "2                           0                      1.0                      0   \n",
       "3                           0                      1.0                      0   \n",
       "4                           0                      0.0                      0   \n",
       "\n",
       "   Wdft_IsGamer Wdft_RegionIdentifier  HasDetections EngineVersion_2  \\\n",
       "0           0.0                  10.0              0           15100   \n",
       "1           0.0                   8.0              0           14600   \n",
       "2           0.0                   3.0              0           15100   \n",
       "3           0.0                   3.0              1           15100   \n",
       "4           0.0                   1.0              1           15100   \n",
       "\n",
       "  EngineVersion_3 AppVersion_1 AppVersion_2 AppVersion_3 AvSigVersion_0  \\\n",
       "0               1           18         1807        18075              1   \n",
       "1               4           13        17134            1              1   \n",
       "2               1           18         1807        18075              1   \n",
       "3               1           18         1807        18075              1   \n",
       "4               1           18         1807        18075              1   \n",
       "\n",
       "  AvSigVersion_1 AvSigVersion_2 OsBuildLab_0 OsBuildLab_1 OsBuildLab_2  \\\n",
       "0            273           1735        17134            1     amd64fre   \n",
       "1            263             48        17134            1     amd64fre   \n",
       "2            273           1341        17134            1     amd64fre   \n",
       "3            273           1527        17134            1     amd64fre   \n",
       "4            273           1379        17134            1     amd64fre   \n",
       "\n",
       "  OsBuildLab_3 Census_OSVersion_0 Census_OSVersion_1 Census_OSVersion_2  \\\n",
       "0  rs4_release                 10                  0              17134   \n",
       "1  rs4_release                 10                  0              17134   \n",
       "2  rs4_release                 10                  0              17134   \n",
       "3  rs4_release                 10                  0              17134   \n",
       "4  rs4_release                 10                  0              17134   \n",
       "\n",
       "  Census_OSVersion_3  primary_drive_c_ratio  non_primary_drive_MB  \\\n",
       "0                165               0.627859              177489.0   \n",
       "1                  1               0.214671              374555.0   \n",
       "2                165               0.995056                 566.0   \n",
       "3                228               0.952368               11359.0   \n",
       "4                191               0.213654              375040.0   \n",
       "\n",
       "   aspect_ratio   monitor_dims  dpi  dpi_square  MegaPixels  Screen_Area  \\\n",
       "0      1.599609   1440.0*900.0  inf         inf         inf     160.7500   \n",
       "1      1.778320   1366.0*768.0  inf         inf         inf      82.5000   \n",
       "2      1.777344  1920.0*1080.0  inf         inf         inf     197.6250   \n",
       "3      1.778320   1366.0*768.0  inf         inf         inf     146.1250   \n",
       "4      1.778320   1366.0*768.0  inf         inf         inf      83.6875   \n",
       "\n",
       "   ram_per_processor  new_num_0  new_num_1  \n",
       "0             1024.0   4.726562   75.62500  \n",
       "1             1024.0   3.474609   55.59375  \n",
       "2             1024.0   5.375000   86.00000  \n",
       "3             1024.0   4.625000   74.00000  \n",
       "4             1536.0   3.500000   56.00000  "
      ]
     },
     "execution_count": 115,
     "metadata": {},
     "output_type": "execute_result"
    }
   ],
   "source": [
    "train.head()"
   ]
  },
  {
   "cell_type": "code",
   "execution_count": 116,
   "metadata": {
    "_uuid": "760554ddb8d074381d9bfbe249d428fa4f73502f"
   },
   "outputs": [
    {
     "data": {
      "text/plain": [
       "57"
      ]
     },
     "execution_count": 116,
     "metadata": {},
     "output_type": "execute_result"
    }
   ],
   "source": [
    "cat_cols = [col for col in train.columns if col not in ['MachineIdentifier', 'Census_SystemVolumeTotalCapacity', 'HasDetections'] and str(train[col].dtype) == 'category']\n",
    "len(cat_cols)"
   ]
  },
  {
   "cell_type": "code",
   "execution_count": 117,
   "metadata": {
    "_kg_hide-input": true,
    "_uuid": "54b60b82f6680eb067544a7dce6a77909c349bfd"
   },
   "outputs": [],
   "source": [
    "more_cat_cols = []\n",
    "add_cat_feats = [\n",
    " 'Census_OSBuildRevision',\n",
    " 'OsBuildLab',\n",
    " 'SmartScreen',\n",
    "'AVProductsInstalled']\n",
    "for col1 in add_cat_feats:\n",
    "    for col2 in add_cat_feats:\n",
    "        if col1 != col2:\n",
    "            train[col1 + '__' + col2] = train[col1].astype(str) + train[col2].astype(str)\n",
    "            train[col1 + '__' + col2] = train[col1 + '__' + col2].astype('category')\n",
    "            \n",
    "            test[col1 + '__' + col2] = test[col1].astype(str) + test[col2].astype(str)\n",
    "            test[col1 + '__' + col2] = test[col1 + '__' + col2].astype('category')\n",
    "            more_cat_cols.append(col1 + '__' + col2)\n",
    "            \n",
    "cat_cols = cat_cols + more_cat_cols"
   ]
  },
  {
   "cell_type": "code",
   "execution_count": 118,
   "metadata": {
    "_uuid": "11fb825b7e73c8d674544697dd8ba7e55145bb8c"
   },
   "outputs": [
    {
     "name": "stdout",
     "output_type": "stream",
     "text": [
      "AvSigVersion 8531\n",
      "AVProductStatesIdentifier 28970\n",
      "CityIdentifier 107366\n",
      "Census_OEMNameIdentifier 2564\n",
      "Census_OEMModelIdentifier 175365\n",
      "Census_ProcessorModelIdentifier 2583\n",
      "Census_InternalBatteryNumberOfCharges 41087\n",
      "Census_FirmwareVersionIdentifier 50494\n",
      "AvSigVersion_2 2766\n",
      "monitor_dims 10061\n",
      "Census_OSBuildRevision__OsBuildLab 15367\n",
      "Census_OSBuildRevision__SmartScreen 1763\n",
      "Census_OSBuildRevision__AVProductsInstalled 1169\n",
      "OsBuildLab__Census_OSBuildRevision 15367\n",
      "OsBuildLab__SmartScreen 2307\n",
      "OsBuildLab__AVProductsInstalled 1951\n",
      "SmartScreen__Census_OSBuildRevision 1763\n",
      "SmartScreen__OsBuildLab 2307\n",
      "AVProductsInstalled__Census_OSBuildRevision 1169\n",
      "AVProductsInstalled__OsBuildLab 1951\n"
     ]
    }
   ],
   "source": [
    "to_encode = []\n",
    "for col in cat_cols:\n",
    "    if train[col].nunique() > 1000:\n",
    "        print(col, train[col].nunique())\n",
    "        to_encode.append(col)"
   ]
  },
  {
   "cell_type": "markdown",
   "metadata": {
    "_uuid": "613a9f1e88c85daf2e68a15ea59663bedf8a4f32"
   },
   "source": [
    "### Frequency encoding\n",
    "\n",
    "From this kernel:  https://www.kaggle.com/fabiendaniel/detecting-malwares-with-lgbm\n",
    "\n",
    "I do frequency and label encoding on the full dataset, because I think I'll get more correct values this way."
   ]
  },
  {
   "cell_type": "code",
   "execution_count": 119,
   "metadata": {
    "_uuid": "55b7e64e717555b2e14103a85a30e2ee9f7a1d32"
   },
   "outputs": [
    {
     "name": "stdout",
     "output_type": "stream",
     "text": [
      "Mem. usage decreased to 2077.17 Mb (-5.6% reduction)\n",
      "Mem. usage decreased to 1859.83 Mb (-5.5% reduction)\n"
     ]
    },
    {
     "data": {
      "text/plain": [
       "41777"
      ]
     },
     "execution_count": 119,
     "metadata": {},
     "output_type": "execute_result"
    }
   ],
   "source": [
    "train = reduce_mem_usage(train)\n",
    "test = reduce_mem_usage(test)\n",
    "gc.collect()"
   ]
  },
  {
   "cell_type": "code",
   "execution_count": 120,
   "metadata": {
    "_kg_hide-input": true,
    "_uuid": "4dbb7a07fe5ce21fab1cc863c5430a4169bdbd7f"
   },
   "outputs": [],
   "source": [
    "def frequency_encoding(variable):\n",
    "    t = pd.concat([train[variable], test[variable]]).value_counts().reset_index()\n",
    "    t = t.reset_index()\n",
    "    t.loc[t[variable] == 1, 'level_0'] = np.nan\n",
    "    t.set_index('index', inplace=True)\n",
    "    max_label = t['level_0'].max() + 1\n",
    "    t.fillna(max_label, inplace=True)\n",
    "    return t.to_dict()['level_0']"
   ]
  },
  {
   "cell_type": "code",
   "execution_count": 121,
   "metadata": {
    "_uuid": "1c125b8c76922a109d85676252a48baf459b4391",
    "scrolled": true
   },
   "outputs": [
    {
     "data": {
      "application/vnd.jupyter.widget-view+json": {
       "model_id": "169e9cf12cc445d5b5ad68e4b87198c0",
       "version_major": 2,
       "version_minor": 0
      },
      "text/plain": [
       "HBox(children=(IntProgress(value=0, max=20), HTML(value='')))"
      ]
     },
     "metadata": {},
     "output_type": "display_data"
    },
    {
     "name": "stdout",
     "output_type": "stream",
     "text": [
      "\n"
     ]
    }
   ],
   "source": [
    "for col in tqdm_notebook(to_encode):\n",
    "    freq_enc_dict = frequency_encoding(col)\n",
    "    train[col] = train[col].map(lambda x: freq_enc_dict.get(x, np.nan))\n",
    "    test[col] = test[col].map(lambda x: freq_enc_dict.get(x, np.nan))\n",
    "    cat_cols.remove(col)"
   ]
  },
  {
   "cell_type": "markdown",
   "metadata": {
    "_uuid": "08794f88aa1c9e478c2853fbcf2a699955d333d1"
   },
   "source": [
    "### Label Encoding"
   ]
  },
  {
   "cell_type": "code",
   "execution_count": 122,
   "metadata": {
    "_uuid": "317a913227f877ae5e7463beb100565dfd4597fc",
    "scrolled": true
   },
   "outputs": [
    {
     "data": {
      "application/vnd.jupyter.widget-view+json": {
       "model_id": "2a5194415481400582da491fb69acbd3",
       "version_major": 2,
       "version_minor": 0
      },
      "text/plain": [
       "HBox(children=(IntProgress(value=0, max=49), HTML(value='')))"
      ]
     },
     "metadata": {},
     "output_type": "display_data"
    },
    {
     "name": "stdout",
     "output_type": "stream",
     "text": [
      "\n",
      "Wall time: 31min 58s\n"
     ]
    }
   ],
   "source": [
    "%%time\n",
    "indexer = {}\n",
    "for col in cat_cols:\n",
    "    # print(col)\n",
    "    _, indexer[col] = pd.factorize(train[col].astype(str))\n",
    "    \n",
    "for col in tqdm_notebook(cat_cols):\n",
    "    # print(col)\n",
    "    train[col] = indexer[col].get_indexer(train[col].astype(str))\n",
    "    test[col] = indexer[col].get_indexer(test[col].astype(str))\n",
    "    \n",
    "    train = reduce_mem_usage(train, verbose=False)\n",
    "    test = reduce_mem_usage(test, verbose=False)"
   ]
  },
  {
   "cell_type": "code",
   "execution_count": 123,
   "metadata": {
    "_uuid": "165774a25c033658faec35697a5e45e4a7505393"
   },
   "outputs": [],
   "source": [
    "del indexer"
   ]
  },
  {
   "cell_type": "code",
   "execution_count": 124,
   "metadata": {
    "_uuid": "fb700c15e5eeff5d9b7842d246552ab1e1bd27ba"
   },
   "outputs": [
    {
     "data": {
      "text/html": [
       "<div>\n",
       "<style scoped>\n",
       "    .dataframe tbody tr th:only-of-type {\n",
       "        vertical-align: middle;\n",
       "    }\n",
       "\n",
       "    .dataframe tbody tr th {\n",
       "        vertical-align: top;\n",
       "    }\n",
       "\n",
       "    .dataframe thead th {\n",
       "        text-align: right;\n",
       "    }\n",
       "</style>\n",
       "<table border=\"1\" class=\"dataframe\">\n",
       "  <thead>\n",
       "    <tr style=\"text-align: right;\">\n",
       "      <th></th>\n",
       "      <th>MachineIdentifier</th>\n",
       "      <th>EngineVersion</th>\n",
       "      <th>AppVersion</th>\n",
       "      <th>AvSigVersion</th>\n",
       "      <th>AVProductStatesIdentifier</th>\n",
       "      <th>AVProductsInstalled</th>\n",
       "      <th>CountryIdentifier</th>\n",
       "      <th>CityIdentifier</th>\n",
       "      <th>OrganizationIdentifier</th>\n",
       "      <th>GeoNameIdentifier</th>\n",
       "      <th>LocaleEnglishNameIdentifier</th>\n",
       "      <th>OsBuild</th>\n",
       "      <th>OsSuite</th>\n",
       "      <th>OsPlatformSubRelease</th>\n",
       "      <th>OsBuildLab</th>\n",
       "      <th>SkuEdition</th>\n",
       "      <th>IeVerIdentifier</th>\n",
       "      <th>SmartScreen</th>\n",
       "      <th>Census_MDC2FormFactor</th>\n",
       "      <th>Census_OEMNameIdentifier</th>\n",
       "      <th>Census_OEMModelIdentifier</th>\n",
       "      <th>Census_ProcessorCoreCount</th>\n",
       "      <th>Census_ProcessorManufacturerIdentifier</th>\n",
       "      <th>Census_ProcessorModelIdentifier</th>\n",
       "      <th>Census_PrimaryDiskTotalCapacity</th>\n",
       "      <th>Census_PrimaryDiskTypeName</th>\n",
       "      <th>Census_SystemVolumeTotalCapacity</th>\n",
       "      <th>Census_TotalPhysicalRAM</th>\n",
       "      <th>Census_ChassisTypeName</th>\n",
       "      <th>Census_InternalPrimaryDiagonalDisplaySizeInInches</th>\n",
       "      <th>Census_InternalPrimaryDisplayResolutionHorizontal</th>\n",
       "      <th>Census_InternalPrimaryDisplayResolutionVertical</th>\n",
       "      <th>Census_PowerPlatformRoleName</th>\n",
       "      <th>Census_InternalBatteryType</th>\n",
       "      <th>Census_InternalBatteryNumberOfCharges</th>\n",
       "      <th>Census_OSVersion</th>\n",
       "      <th>Census_OSBranch</th>\n",
       "      <th>Census_OSBuildNumber</th>\n",
       "      <th>Census_OSBuildRevision</th>\n",
       "      <th>Census_OSEdition</th>\n",
       "      <th>Census_OSSkuName</th>\n",
       "      <th>Census_OSInstallTypeName</th>\n",
       "      <th>Census_OSInstallLanguageIdentifier</th>\n",
       "      <th>Census_OSUILocaleIdentifier</th>\n",
       "      <th>Census_OSWUAutoUpdateOptionsName</th>\n",
       "      <th>Census_GenuineStateName</th>\n",
       "      <th>Census_ActivationChannel</th>\n",
       "      <th>Census_IsFlightingInternal</th>\n",
       "      <th>Census_ThresholdOptIn</th>\n",
       "      <th>Census_FirmwareManufacturerIdentifier</th>\n",
       "      <th>Census_FirmwareVersionIdentifier</th>\n",
       "      <th>Census_IsSecureBootEnabled</th>\n",
       "      <th>Census_IsWIMBootEnabled</th>\n",
       "      <th>Census_IsTouchEnabled</th>\n",
       "      <th>Wdft_IsGamer</th>\n",
       "      <th>Wdft_RegionIdentifier</th>\n",
       "      <th>HasDetections</th>\n",
       "      <th>EngineVersion_2</th>\n",
       "      <th>EngineVersion_3</th>\n",
       "      <th>AppVersion_1</th>\n",
       "      <th>AppVersion_2</th>\n",
       "      <th>AppVersion_3</th>\n",
       "      <th>AvSigVersion_0</th>\n",
       "      <th>AvSigVersion_1</th>\n",
       "      <th>AvSigVersion_2</th>\n",
       "      <th>OsBuildLab_0</th>\n",
       "      <th>OsBuildLab_1</th>\n",
       "      <th>OsBuildLab_2</th>\n",
       "      <th>OsBuildLab_3</th>\n",
       "      <th>Census_OSVersion_0</th>\n",
       "      <th>Census_OSVersion_1</th>\n",
       "      <th>Census_OSVersion_2</th>\n",
       "      <th>Census_OSVersion_3</th>\n",
       "      <th>primary_drive_c_ratio</th>\n",
       "      <th>non_primary_drive_MB</th>\n",
       "      <th>aspect_ratio</th>\n",
       "      <th>monitor_dims</th>\n",
       "      <th>dpi</th>\n",
       "      <th>dpi_square</th>\n",
       "      <th>MegaPixels</th>\n",
       "      <th>Screen_Area</th>\n",
       "      <th>ram_per_processor</th>\n",
       "      <th>new_num_0</th>\n",
       "      <th>new_num_1</th>\n",
       "      <th>Census_OSBuildRevision__OsBuildLab</th>\n",
       "      <th>Census_OSBuildRevision__SmartScreen</th>\n",
       "      <th>Census_OSBuildRevision__AVProductsInstalled</th>\n",
       "      <th>OsBuildLab__Census_OSBuildRevision</th>\n",
       "      <th>OsBuildLab__SmartScreen</th>\n",
       "      <th>OsBuildLab__AVProductsInstalled</th>\n",
       "      <th>SmartScreen__Census_OSBuildRevision</th>\n",
       "      <th>SmartScreen__OsBuildLab</th>\n",
       "      <th>SmartScreen__AVProductsInstalled</th>\n",
       "      <th>AVProductsInstalled__Census_OSBuildRevision</th>\n",
       "      <th>AVProductsInstalled__OsBuildLab</th>\n",
       "      <th>AVProductsInstalled__SmartScreen</th>\n",
       "    </tr>\n",
       "  </thead>\n",
       "  <tbody>\n",
       "    <tr>\n",
       "      <th>0</th>\n",
       "      <td>0000028988387b115f69f31a3bf04f09</td>\n",
       "      <td>0</td>\n",
       "      <td>0</td>\n",
       "      <td>134.0</td>\n",
       "      <td>0.0</td>\n",
       "      <td>0</td>\n",
       "      <td>0</td>\n",
       "      <td>205.0</td>\n",
       "      <td>0</td>\n",
       "      <td>0</td>\n",
       "      <td>0</td>\n",
       "      <td>0</td>\n",
       "      <td>0</td>\n",
       "      <td>0</td>\n",
       "      <td>0</td>\n",
       "      <td>0</td>\n",
       "      <td>0</td>\n",
       "      <td>0</td>\n",
       "      <td>0</td>\n",
       "      <td>0.0</td>\n",
       "      <td>22022.0</td>\n",
       "      <td>4.0</td>\n",
       "      <td>5.0</td>\n",
       "      <td>135.0</td>\n",
       "      <td>476940.0</td>\n",
       "      <td>0</td>\n",
       "      <td>299451.0</td>\n",
       "      <td>4096.0</td>\n",
       "      <td>0</td>\n",
       "      <td>18.906250</td>\n",
       "      <td>1440.0</td>\n",
       "      <td>900.0</td>\n",
       "      <td>0</td>\n",
       "      <td>0</td>\n",
       "      <td>1.0</td>\n",
       "      <td>0</td>\n",
       "      <td>0</td>\n",
       "      <td>0</td>\n",
       "      <td>0</td>\n",
       "      <td>0</td>\n",
       "      <td>0</td>\n",
       "      <td>0</td>\n",
       "      <td>0</td>\n",
       "      <td>0</td>\n",
       "      <td>0</td>\n",
       "      <td>0</td>\n",
       "      <td>0</td>\n",
       "      <td>1.0</td>\n",
       "      <td>1.0</td>\n",
       "      <td>0</td>\n",
       "      <td>2572.0</td>\n",
       "      <td>0</td>\n",
       "      <td>1.0</td>\n",
       "      <td>0</td>\n",
       "      <td>0.0</td>\n",
       "      <td>0</td>\n",
       "      <td>0</td>\n",
       "      <td>0</td>\n",
       "      <td>0</td>\n",
       "      <td>0</td>\n",
       "      <td>0</td>\n",
       "      <td>0</td>\n",
       "      <td>0</td>\n",
       "      <td>0</td>\n",
       "      <td>211.0</td>\n",
       "      <td>0</td>\n",
       "      <td>0</td>\n",
       "      <td>0</td>\n",
       "      <td>0</td>\n",
       "      <td>0</td>\n",
       "      <td>0</td>\n",
       "      <td>0</td>\n",
       "      <td>0</td>\n",
       "      <td>0.627930</td>\n",
       "      <td>177489.0</td>\n",
       "      <td>1.599609</td>\n",
       "      <td>6.0</td>\n",
       "      <td>inf</td>\n",
       "      <td>inf</td>\n",
       "      <td>inf</td>\n",
       "      <td>160.7500</td>\n",
       "      <td>1024.0</td>\n",
       "      <td>4.726562</td>\n",
       "      <td>75.62500</td>\n",
       "      <td>3.0</td>\n",
       "      <td>8.0</td>\n",
       "      <td>3.0</td>\n",
       "      <td>3.0</td>\n",
       "      <td>0.0</td>\n",
       "      <td>0.0</td>\n",
       "      <td>8.0</td>\n",
       "      <td>0.0</td>\n",
       "      <td>0</td>\n",
       "      <td>3.0</td>\n",
       "      <td>0.0</td>\n",
       "      <td>0</td>\n",
       "    </tr>\n",
       "    <tr>\n",
       "      <th>1</th>\n",
       "      <td>000007535c3f730efa9ea0b7ef1bd645</td>\n",
       "      <td>1</td>\n",
       "      <td>1</td>\n",
       "      <td>0.0</td>\n",
       "      <td>0.0</td>\n",
       "      <td>0</td>\n",
       "      <td>1</td>\n",
       "      <td>171.0</td>\n",
       "      <td>0</td>\n",
       "      <td>1</td>\n",
       "      <td>1</td>\n",
       "      <td>0</td>\n",
       "      <td>0</td>\n",
       "      <td>0</td>\n",
       "      <td>0</td>\n",
       "      <td>0</td>\n",
       "      <td>0</td>\n",
       "      <td>0</td>\n",
       "      <td>1</td>\n",
       "      <td>0.0</td>\n",
       "      <td>118655.0</td>\n",
       "      <td>4.0</td>\n",
       "      <td>5.0</td>\n",
       "      <td>134.0</td>\n",
       "      <td>476940.0</td>\n",
       "      <td>0</td>\n",
       "      <td>102385.0</td>\n",
       "      <td>4096.0</td>\n",
       "      <td>1</td>\n",
       "      <td>13.898438</td>\n",
       "      <td>1366.0</td>\n",
       "      <td>768.0</td>\n",
       "      <td>1</td>\n",
       "      <td>0</td>\n",
       "      <td>2.0</td>\n",
       "      <td>1</td>\n",
       "      <td>0</td>\n",
       "      <td>0</td>\n",
       "      <td>1</td>\n",
       "      <td>0</td>\n",
       "      <td>0</td>\n",
       "      <td>1</td>\n",
       "      <td>1</td>\n",
       "      <td>1</td>\n",
       "      <td>0</td>\n",
       "      <td>1</td>\n",
       "      <td>0</td>\n",
       "      <td>1.0</td>\n",
       "      <td>1.0</td>\n",
       "      <td>0</td>\n",
       "      <td>1415.0</td>\n",
       "      <td>0</td>\n",
       "      <td>1.0</td>\n",
       "      <td>0</td>\n",
       "      <td>0.0</td>\n",
       "      <td>1</td>\n",
       "      <td>0</td>\n",
       "      <td>1</td>\n",
       "      <td>1</td>\n",
       "      <td>1</td>\n",
       "      <td>1</td>\n",
       "      <td>1</td>\n",
       "      <td>0</td>\n",
       "      <td>1</td>\n",
       "      <td>0.0</td>\n",
       "      <td>0</td>\n",
       "      <td>0</td>\n",
       "      <td>0</td>\n",
       "      <td>0</td>\n",
       "      <td>0</td>\n",
       "      <td>0</td>\n",
       "      <td>0</td>\n",
       "      <td>1</td>\n",
       "      <td>0.214722</td>\n",
       "      <td>374555.0</td>\n",
       "      <td>1.778320</td>\n",
       "      <td>0.0</td>\n",
       "      <td>inf</td>\n",
       "      <td>inf</td>\n",
       "      <td>inf</td>\n",
       "      <td>82.5000</td>\n",
       "      <td>1024.0</td>\n",
       "      <td>3.474609</td>\n",
       "      <td>55.59375</td>\n",
       "      <td>19.0</td>\n",
       "      <td>17.0</td>\n",
       "      <td>19.0</td>\n",
       "      <td>19.0</td>\n",
       "      <td>0.0</td>\n",
       "      <td>0.0</td>\n",
       "      <td>17.0</td>\n",
       "      <td>0.0</td>\n",
       "      <td>0</td>\n",
       "      <td>19.0</td>\n",
       "      <td>0.0</td>\n",
       "      <td>0</td>\n",
       "    </tr>\n",
       "    <tr>\n",
       "      <th>2</th>\n",
       "      <td>000007905a28d863f6d0d597892cd692</td>\n",
       "      <td>0</td>\n",
       "      <td>0</td>\n",
       "      <td>336.0</td>\n",
       "      <td>0.0</td>\n",
       "      <td>0</td>\n",
       "      <td>2</td>\n",
       "      <td>673.0</td>\n",
       "      <td>0</td>\n",
       "      <td>2</td>\n",
       "      <td>2</td>\n",
       "      <td>0</td>\n",
       "      <td>1</td>\n",
       "      <td>0</td>\n",
       "      <td>0</td>\n",
       "      <td>1</td>\n",
       "      <td>0</td>\n",
       "      <td>1</td>\n",
       "      <td>0</td>\n",
       "      <td>10.0</td>\n",
       "      <td>2.0</td>\n",
       "      <td>4.0</td>\n",
       "      <td>5.0</td>\n",
       "      <td>191.0</td>\n",
       "      <td>114473.0</td>\n",
       "      <td>1</td>\n",
       "      <td>113907.0</td>\n",
       "      <td>4096.0</td>\n",
       "      <td>0</td>\n",
       "      <td>21.500000</td>\n",
       "      <td>1920.0</td>\n",
       "      <td>1080.0</td>\n",
       "      <td>0</td>\n",
       "      <td>0</td>\n",
       "      <td>1.0</td>\n",
       "      <td>0</td>\n",
       "      <td>0</td>\n",
       "      <td>0</td>\n",
       "      <td>0</td>\n",
       "      <td>1</td>\n",
       "      <td>1</td>\n",
       "      <td>0</td>\n",
       "      <td>2</td>\n",
       "      <td>2</td>\n",
       "      <td>1</td>\n",
       "      <td>0</td>\n",
       "      <td>1</td>\n",
       "      <td>1.0</td>\n",
       "      <td>1.0</td>\n",
       "      <td>1</td>\n",
       "      <td>184.0</td>\n",
       "      <td>0</td>\n",
       "      <td>1.0</td>\n",
       "      <td>0</td>\n",
       "      <td>0.0</td>\n",
       "      <td>2</td>\n",
       "      <td>0</td>\n",
       "      <td>0</td>\n",
       "      <td>0</td>\n",
       "      <td>0</td>\n",
       "      <td>0</td>\n",
       "      <td>0</td>\n",
       "      <td>0</td>\n",
       "      <td>0</td>\n",
       "      <td>295.0</td>\n",
       "      <td>0</td>\n",
       "      <td>0</td>\n",
       "      <td>0</td>\n",
       "      <td>0</td>\n",
       "      <td>0</td>\n",
       "      <td>0</td>\n",
       "      <td>0</td>\n",
       "      <td>0</td>\n",
       "      <td>0.995117</td>\n",
       "      <td>566.0</td>\n",
       "      <td>1.777344</td>\n",
       "      <td>1.0</td>\n",
       "      <td>inf</td>\n",
       "      <td>inf</td>\n",
       "      <td>inf</td>\n",
       "      <td>197.6250</td>\n",
       "      <td>1024.0</td>\n",
       "      <td>5.375000</td>\n",
       "      <td>86.00000</td>\n",
       "      <td>3.0</td>\n",
       "      <td>7.0</td>\n",
       "      <td>3.0</td>\n",
       "      <td>3.0</td>\n",
       "      <td>1.0</td>\n",
       "      <td>0.0</td>\n",
       "      <td>7.0</td>\n",
       "      <td>1.0</td>\n",
       "      <td>1</td>\n",
       "      <td>3.0</td>\n",
       "      <td>0.0</td>\n",
       "      <td>1</td>\n",
       "    </tr>\n",
       "    <tr>\n",
       "      <th>3</th>\n",
       "      <td>00000b11598a75ea8ba1beea8459149f</td>\n",
       "      <td>0</td>\n",
       "      <td>0</td>\n",
       "      <td>25.0</td>\n",
       "      <td>0.0</td>\n",
       "      <td>0</td>\n",
       "      <td>3</td>\n",
       "      <td>20.0</td>\n",
       "      <td>1</td>\n",
       "      <td>3</td>\n",
       "      <td>3</td>\n",
       "      <td>0</td>\n",
       "      <td>0</td>\n",
       "      <td>0</td>\n",
       "      <td>0</td>\n",
       "      <td>0</td>\n",
       "      <td>0</td>\n",
       "      <td>2</td>\n",
       "      <td>0</td>\n",
       "      <td>2.0</td>\n",
       "      <td>158.0</td>\n",
       "      <td>4.0</td>\n",
       "      <td>5.0</td>\n",
       "      <td>63.0</td>\n",
       "      <td>238475.0</td>\n",
       "      <td>2</td>\n",
       "      <td>227116.0</td>\n",
       "      <td>4096.0</td>\n",
       "      <td>2</td>\n",
       "      <td>18.500000</td>\n",
       "      <td>1366.0</td>\n",
       "      <td>768.0</td>\n",
       "      <td>0</td>\n",
       "      <td>0</td>\n",
       "      <td>1.0</td>\n",
       "      <td>2</td>\n",
       "      <td>0</td>\n",
       "      <td>0</td>\n",
       "      <td>2</td>\n",
       "      <td>0</td>\n",
       "      <td>0</td>\n",
       "      <td>0</td>\n",
       "      <td>3</td>\n",
       "      <td>3</td>\n",
       "      <td>1</td>\n",
       "      <td>0</td>\n",
       "      <td>1</td>\n",
       "      <td>1.0</td>\n",
       "      <td>1.0</td>\n",
       "      <td>2</td>\n",
       "      <td>30.0</td>\n",
       "      <td>0</td>\n",
       "      <td>1.0</td>\n",
       "      <td>0</td>\n",
       "      <td>0.0</td>\n",
       "      <td>2</td>\n",
       "      <td>1</td>\n",
       "      <td>0</td>\n",
       "      <td>0</td>\n",
       "      <td>0</td>\n",
       "      <td>0</td>\n",
       "      <td>0</td>\n",
       "      <td>0</td>\n",
       "      <td>0</td>\n",
       "      <td>23.0</td>\n",
       "      <td>0</td>\n",
       "      <td>0</td>\n",
       "      <td>0</td>\n",
       "      <td>0</td>\n",
       "      <td>0</td>\n",
       "      <td>0</td>\n",
       "      <td>0</td>\n",
       "      <td>2</td>\n",
       "      <td>0.952148</td>\n",
       "      <td>11359.0</td>\n",
       "      <td>1.778320</td>\n",
       "      <td>0.0</td>\n",
       "      <td>inf</td>\n",
       "      <td>inf</td>\n",
       "      <td>inf</td>\n",
       "      <td>146.1250</td>\n",
       "      <td>1024.0</td>\n",
       "      <td>4.625000</td>\n",
       "      <td>74.00000</td>\n",
       "      <td>0.0</td>\n",
       "      <td>22.0</td>\n",
       "      <td>0.0</td>\n",
       "      <td>0.0</td>\n",
       "      <td>6.0</td>\n",
       "      <td>0.0</td>\n",
       "      <td>22.0</td>\n",
       "      <td>6.0</td>\n",
       "      <td>2</td>\n",
       "      <td>0.0</td>\n",
       "      <td>0.0</td>\n",
       "      <td>2</td>\n",
       "    </tr>\n",
       "    <tr>\n",
       "      <th>4</th>\n",
       "      <td>000014a5f00daa18e76b81417eeb99fc</td>\n",
       "      <td>0</td>\n",
       "      <td>0</td>\n",
       "      <td>18.0</td>\n",
       "      <td>0.0</td>\n",
       "      <td>0</td>\n",
       "      <td>4</td>\n",
       "      <td>13.0</td>\n",
       "      <td>1</td>\n",
       "      <td>4</td>\n",
       "      <td>4</td>\n",
       "      <td>0</td>\n",
       "      <td>1</td>\n",
       "      <td>0</td>\n",
       "      <td>0</td>\n",
       "      <td>1</td>\n",
       "      <td>0</td>\n",
       "      <td>1</td>\n",
       "      <td>1</td>\n",
       "      <td>2.0</td>\n",
       "      <td>2269.0</td>\n",
       "      <td>4.0</td>\n",
       "      <td>5.0</td>\n",
       "      <td>52.0</td>\n",
       "      <td>476940.0</td>\n",
       "      <td>0</td>\n",
       "      <td>101900.0</td>\n",
       "      <td>6144.0</td>\n",
       "      <td>3</td>\n",
       "      <td>14.000000</td>\n",
       "      <td>1366.0</td>\n",
       "      <td>768.0</td>\n",
       "      <td>1</td>\n",
       "      <td>1</td>\n",
       "      <td>0.0</td>\n",
       "      <td>3</td>\n",
       "      <td>0</td>\n",
       "      <td>0</td>\n",
       "      <td>3</td>\n",
       "      <td>1</td>\n",
       "      <td>1</td>\n",
       "      <td>2</td>\n",
       "      <td>1</td>\n",
       "      <td>1</td>\n",
       "      <td>1</td>\n",
       "      <td>0</td>\n",
       "      <td>0</td>\n",
       "      <td>0.0</td>\n",
       "      <td>0.0</td>\n",
       "      <td>2</td>\n",
       "      <td>129.0</td>\n",
       "      <td>0</td>\n",
       "      <td>0.0</td>\n",
       "      <td>0</td>\n",
       "      <td>0.0</td>\n",
       "      <td>3</td>\n",
       "      <td>1</td>\n",
       "      <td>0</td>\n",
       "      <td>0</td>\n",
       "      <td>0</td>\n",
       "      <td>0</td>\n",
       "      <td>0</td>\n",
       "      <td>0</td>\n",
       "      <td>0</td>\n",
       "      <td>26.0</td>\n",
       "      <td>0</td>\n",
       "      <td>0</td>\n",
       "      <td>0</td>\n",
       "      <td>0</td>\n",
       "      <td>0</td>\n",
       "      <td>0</td>\n",
       "      <td>0</td>\n",
       "      <td>3</td>\n",
       "      <td>0.213623</td>\n",
       "      <td>375040.0</td>\n",
       "      <td>1.778320</td>\n",
       "      <td>0.0</td>\n",
       "      <td>inf</td>\n",
       "      <td>inf</td>\n",
       "      <td>inf</td>\n",
       "      <td>83.6875</td>\n",
       "      <td>1536.0</td>\n",
       "      <td>3.500000</td>\n",
       "      <td>56.00000</td>\n",
       "      <td>18.0</td>\n",
       "      <td>40.0</td>\n",
       "      <td>21.0</td>\n",
       "      <td>18.0</td>\n",
       "      <td>1.0</td>\n",
       "      <td>0.0</td>\n",
       "      <td>40.0</td>\n",
       "      <td>1.0</td>\n",
       "      <td>1</td>\n",
       "      <td>21.0</td>\n",
       "      <td>0.0</td>\n",
       "      <td>1</td>\n",
       "    </tr>\n",
       "  </tbody>\n",
       "</table>\n",
       "</div>"
      ],
      "text/plain": [
       "                  MachineIdentifier  EngineVersion  AppVersion  AvSigVersion  \\\n",
       "0  0000028988387b115f69f31a3bf04f09              0           0         134.0   \n",
       "1  000007535c3f730efa9ea0b7ef1bd645              1           1           0.0   \n",
       "2  000007905a28d863f6d0d597892cd692              0           0         336.0   \n",
       "3  00000b11598a75ea8ba1beea8459149f              0           0          25.0   \n",
       "4  000014a5f00daa18e76b81417eeb99fc              0           0          18.0   \n",
       "\n",
       "   AVProductStatesIdentifier  AVProductsInstalled  CountryIdentifier  \\\n",
       "0                        0.0                    0                  0   \n",
       "1                        0.0                    0                  1   \n",
       "2                        0.0                    0                  2   \n",
       "3                        0.0                    0                  3   \n",
       "4                        0.0                    0                  4   \n",
       "\n",
       "   CityIdentifier  OrganizationIdentifier  GeoNameIdentifier  \\\n",
       "0           205.0                       0                  0   \n",
       "1           171.0                       0                  1   \n",
       "2           673.0                       0                  2   \n",
       "3            20.0                       1                  3   \n",
       "4            13.0                       1                  4   \n",
       "\n",
       "   LocaleEnglishNameIdentifier  OsBuild  OsSuite  OsPlatformSubRelease  \\\n",
       "0                            0        0        0                     0   \n",
       "1                            1        0        0                     0   \n",
       "2                            2        0        1                     0   \n",
       "3                            3        0        0                     0   \n",
       "4                            4        0        1                     0   \n",
       "\n",
       "   OsBuildLab  SkuEdition  IeVerIdentifier  SmartScreen  \\\n",
       "0           0           0                0            0   \n",
       "1           0           0                0            0   \n",
       "2           0           1                0            1   \n",
       "3           0           0                0            2   \n",
       "4           0           1                0            1   \n",
       "\n",
       "   Census_MDC2FormFactor  Census_OEMNameIdentifier  Census_OEMModelIdentifier  \\\n",
       "0                      0                       0.0                    22022.0   \n",
       "1                      1                       0.0                   118655.0   \n",
       "2                      0                      10.0                        2.0   \n",
       "3                      0                       2.0                      158.0   \n",
       "4                      1                       2.0                     2269.0   \n",
       "\n",
       "   Census_ProcessorCoreCount  Census_ProcessorManufacturerIdentifier  \\\n",
       "0                        4.0                                     5.0   \n",
       "1                        4.0                                     5.0   \n",
       "2                        4.0                                     5.0   \n",
       "3                        4.0                                     5.0   \n",
       "4                        4.0                                     5.0   \n",
       "\n",
       "   Census_ProcessorModelIdentifier  Census_PrimaryDiskTotalCapacity  \\\n",
       "0                            135.0                         476940.0   \n",
       "1                            134.0                         476940.0   \n",
       "2                            191.0                         114473.0   \n",
       "3                             63.0                         238475.0   \n",
       "4                             52.0                         476940.0   \n",
       "\n",
       "   Census_PrimaryDiskTypeName  Census_SystemVolumeTotalCapacity  \\\n",
       "0                           0                          299451.0   \n",
       "1                           0                          102385.0   \n",
       "2                           1                          113907.0   \n",
       "3                           2                          227116.0   \n",
       "4                           0                          101900.0   \n",
       "\n",
       "   Census_TotalPhysicalRAM  Census_ChassisTypeName  \\\n",
       "0                   4096.0                       0   \n",
       "1                   4096.0                       1   \n",
       "2                   4096.0                       0   \n",
       "3                   4096.0                       2   \n",
       "4                   6144.0                       3   \n",
       "\n",
       "   Census_InternalPrimaryDiagonalDisplaySizeInInches  \\\n",
       "0                                          18.906250   \n",
       "1                                          13.898438   \n",
       "2                                          21.500000   \n",
       "3                                          18.500000   \n",
       "4                                          14.000000   \n",
       "\n",
       "   Census_InternalPrimaryDisplayResolutionHorizontal  \\\n",
       "0                                             1440.0   \n",
       "1                                             1366.0   \n",
       "2                                             1920.0   \n",
       "3                                             1366.0   \n",
       "4                                             1366.0   \n",
       "\n",
       "   Census_InternalPrimaryDisplayResolutionVertical  \\\n",
       "0                                            900.0   \n",
       "1                                            768.0   \n",
       "2                                           1080.0   \n",
       "3                                            768.0   \n",
       "4                                            768.0   \n",
       "\n",
       "   Census_PowerPlatformRoleName  Census_InternalBatteryType  \\\n",
       "0                             0                           0   \n",
       "1                             1                           0   \n",
       "2                             0                           0   \n",
       "3                             0                           0   \n",
       "4                             1                           1   \n",
       "\n",
       "   Census_InternalBatteryNumberOfCharges  Census_OSVersion  Census_OSBranch  \\\n",
       "0                                    1.0                 0                0   \n",
       "1                                    2.0                 1                0   \n",
       "2                                    1.0                 0                0   \n",
       "3                                    1.0                 2                0   \n",
       "4                                    0.0                 3                0   \n",
       "\n",
       "   Census_OSBuildNumber  Census_OSBuildRevision  Census_OSEdition  \\\n",
       "0                     0                       0                 0   \n",
       "1                     0                       1                 0   \n",
       "2                     0                       0                 1   \n",
       "3                     0                       2                 0   \n",
       "4                     0                       3                 1   \n",
       "\n",
       "   Census_OSSkuName  Census_OSInstallTypeName  \\\n",
       "0                 0                         0   \n",
       "1                 0                         1   \n",
       "2                 1                         0   \n",
       "3                 0                         0   \n",
       "4                 1                         2   \n",
       "\n",
       "   Census_OSInstallLanguageIdentifier  Census_OSUILocaleIdentifier  \\\n",
       "0                                   0                            0   \n",
       "1                                   1                            1   \n",
       "2                                   2                            2   \n",
       "3                                   3                            3   \n",
       "4                                   1                            1   \n",
       "\n",
       "   Census_OSWUAutoUpdateOptionsName  Census_GenuineStateName  \\\n",
       "0                                 0                        0   \n",
       "1                                 0                        1   \n",
       "2                                 1                        0   \n",
       "3                                 1                        0   \n",
       "4                                 1                        0   \n",
       "\n",
       "   Census_ActivationChannel  Census_IsFlightingInternal  \\\n",
       "0                         0                         1.0   \n",
       "1                         0                         1.0   \n",
       "2                         1                         1.0   \n",
       "3                         1                         1.0   \n",
       "4                         0                         0.0   \n",
       "\n",
       "   Census_ThresholdOptIn  Census_FirmwareManufacturerIdentifier  \\\n",
       "0                    1.0                                      0   \n",
       "1                    1.0                                      0   \n",
       "2                    1.0                                      1   \n",
       "3                    1.0                                      2   \n",
       "4                    0.0                                      2   \n",
       "\n",
       "   Census_FirmwareVersionIdentifier  Census_IsSecureBootEnabled  \\\n",
       "0                            2572.0                           0   \n",
       "1                            1415.0                           0   \n",
       "2                             184.0                           0   \n",
       "3                              30.0                           0   \n",
       "4                             129.0                           0   \n",
       "\n",
       "   Census_IsWIMBootEnabled  Census_IsTouchEnabled  Wdft_IsGamer  \\\n",
       "0                      1.0                      0           0.0   \n",
       "1                      1.0                      0           0.0   \n",
       "2                      1.0                      0           0.0   \n",
       "3                      1.0                      0           0.0   \n",
       "4                      0.0                      0           0.0   \n",
       "\n",
       "   Wdft_RegionIdentifier  HasDetections  EngineVersion_2  EngineVersion_3  \\\n",
       "0                      0              0                0                0   \n",
       "1                      1              0                1                1   \n",
       "2                      2              0                0                0   \n",
       "3                      2              1                0                0   \n",
       "4                      3              1                0                0   \n",
       "\n",
       "   AppVersion_1  AppVersion_2  AppVersion_3  AvSigVersion_0  AvSigVersion_1  \\\n",
       "0             0             0             0               0               0   \n",
       "1             1             1             1               0               1   \n",
       "2             0             0             0               0               0   \n",
       "3             0             0             0               0               0   \n",
       "4             0             0             0               0               0   \n",
       "\n",
       "   AvSigVersion_2  OsBuildLab_0  OsBuildLab_1  OsBuildLab_2  OsBuildLab_3  \\\n",
       "0           211.0             0             0             0             0   \n",
       "1             0.0             0             0             0             0   \n",
       "2           295.0             0             0             0             0   \n",
       "3            23.0             0             0             0             0   \n",
       "4            26.0             0             0             0             0   \n",
       "\n",
       "   Census_OSVersion_0  Census_OSVersion_1  Census_OSVersion_2  \\\n",
       "0                   0                   0                   0   \n",
       "1                   0                   0                   0   \n",
       "2                   0                   0                   0   \n",
       "3                   0                   0                   0   \n",
       "4                   0                   0                   0   \n",
       "\n",
       "   Census_OSVersion_3  primary_drive_c_ratio  non_primary_drive_MB  \\\n",
       "0                   0               0.627930              177489.0   \n",
       "1                   1               0.214722              374555.0   \n",
       "2                   0               0.995117                 566.0   \n",
       "3                   2               0.952148               11359.0   \n",
       "4                   3               0.213623              375040.0   \n",
       "\n",
       "   aspect_ratio  monitor_dims  dpi  dpi_square  MegaPixels  Screen_Area  \\\n",
       "0      1.599609           6.0  inf         inf         inf     160.7500   \n",
       "1      1.778320           0.0  inf         inf         inf      82.5000   \n",
       "2      1.777344           1.0  inf         inf         inf     197.6250   \n",
       "3      1.778320           0.0  inf         inf         inf     146.1250   \n",
       "4      1.778320           0.0  inf         inf         inf      83.6875   \n",
       "\n",
       "   ram_per_processor  new_num_0  new_num_1  \\\n",
       "0             1024.0   4.726562   75.62500   \n",
       "1             1024.0   3.474609   55.59375   \n",
       "2             1024.0   5.375000   86.00000   \n",
       "3             1024.0   4.625000   74.00000   \n",
       "4             1536.0   3.500000   56.00000   \n",
       "\n",
       "   Census_OSBuildRevision__OsBuildLab  Census_OSBuildRevision__SmartScreen  \\\n",
       "0                                 3.0                                  8.0   \n",
       "1                                19.0                                 17.0   \n",
       "2                                 3.0                                  7.0   \n",
       "3                                 0.0                                 22.0   \n",
       "4                                18.0                                 40.0   \n",
       "\n",
       "   Census_OSBuildRevision__AVProductsInstalled  \\\n",
       "0                                          3.0   \n",
       "1                                         19.0   \n",
       "2                                          3.0   \n",
       "3                                          0.0   \n",
       "4                                         21.0   \n",
       "\n",
       "   OsBuildLab__Census_OSBuildRevision  OsBuildLab__SmartScreen  \\\n",
       "0                                 3.0                      0.0   \n",
       "1                                19.0                      0.0   \n",
       "2                                 3.0                      1.0   \n",
       "3                                 0.0                      6.0   \n",
       "4                                18.0                      1.0   \n",
       "\n",
       "   OsBuildLab__AVProductsInstalled  SmartScreen__Census_OSBuildRevision  \\\n",
       "0                              0.0                                  8.0   \n",
       "1                              0.0                                 17.0   \n",
       "2                              0.0                                  7.0   \n",
       "3                              0.0                                 22.0   \n",
       "4                              0.0                                 40.0   \n",
       "\n",
       "   SmartScreen__OsBuildLab  SmartScreen__AVProductsInstalled  \\\n",
       "0                      0.0                                 0   \n",
       "1                      0.0                                 0   \n",
       "2                      1.0                                 1   \n",
       "3                      6.0                                 2   \n",
       "4                      1.0                                 1   \n",
       "\n",
       "   AVProductsInstalled__Census_OSBuildRevision  \\\n",
       "0                                          3.0   \n",
       "1                                         19.0   \n",
       "2                                          3.0   \n",
       "3                                          0.0   \n",
       "4                                         21.0   \n",
       "\n",
       "   AVProductsInstalled__OsBuildLab  AVProductsInstalled__SmartScreen  \n",
       "0                              0.0                                 0  \n",
       "1                              0.0                                 0  \n",
       "2                              0.0                                 1  \n",
       "3                              0.0                                 2  \n",
       "4                              0.0                                 1  "
      ]
     },
     "execution_count": 124,
     "metadata": {},
     "output_type": "execute_result"
    }
   ],
   "source": [
    "train.head()"
   ]
  },
  {
   "cell_type": "markdown",
   "metadata": {
    "_uuid": "3c974533eecb12de33c5ab8e83257c4ce2582ca4"
   },
   "source": [
    "## Idea of training on all data\n",
    "Let's try training model on three subsets of train data separately and blend the predictions."
   ]
  },
  {
   "cell_type": "code",
   "execution_count": 125,
   "metadata": {
    "_uuid": "44aa875be4159b9b0fdf5817a81e469f4c4d2a83",
    "scrolled": true
   },
   "outputs": [],
   "source": [
    "y = train['HasDetections']\n",
    "train = train.drop(['HasDetections', 'MachineIdentifier'], axis=1)\n",
    "test = test.drop(['MachineIdentifier'], axis=1)\n",
    "gc.collect()\n",
    "train.sort_values('AvSigVersion')\n",
    "# train1 = train[:3000000]\n",
    "# train = train[3000000:]\n",
    "# train2 = train[:3000000]\n",
    "# train = train[3000000:]\n",
    "\n",
    "# y1 = y[:3000000]\n",
    "# y = y[3000000:]\n",
    "# y2 = y[:3000000]\n",
    "# y = y[3000000:]\n",
    "\n",
    "train1 = train[:4000000]\n",
    "train = train[4000000:8000000]\n",
    "# train2 = train[:4000000]\n",
    "# train = train[4000000:]\n",
    "\n",
    "y1 = y[:4000000]\n",
    "y = y[4000000:8000000]\n",
    "# y2 = y[:3000000]\n",
    "# y = y[3000000:]"
   ]
  },
  {
   "cell_type": "markdown",
   "metadata": {
    "_uuid": "5d55153ea6421b0fac3cc791237330f84f5160d6"
   },
   "source": [
    "### Modelling\n",
    "\n",
    "Added possibility to do rank averaging."
   ]
  },
  {
   "cell_type": "code",
   "execution_count": 126,
   "metadata": {
    "_uuid": "ed5bc3ceecad8e4fdfb99d5124b80177ed7ed222"
   },
   "outputs": [],
   "source": [
    "n_fold = 5\n",
    "folds = StratifiedKFold(n_splits=n_fold, shuffle=True, random_state=15)\n",
    "# folds = TimeSeriesSplit(n_splits=5)"
   ]
  },
  {
   "cell_type": "code",
   "execution_count": 127,
   "metadata": {
    "_kg_hide-input": true,
    "_uuid": "7f092d9b5b35c4669b05a05da281cc2f4bdc43ae"
   },
   "outputs": [],
   "source": [
    "from numba import jit\n",
    "# fast roc_auc computation: https://www.kaggle.com/c/microsoft-malware-prediction/discussion/76013\n",
    "@jit\n",
    "def fast_auc(y_true, y_prob):\n",
    "    y_true = np.asarray(y_true)\n",
    "    y_true = y_true[np.argsort(y_prob)]\n",
    "    nfalse = 0\n",
    "    auc = 0\n",
    "    n = len(y_true)\n",
    "    for i in range(n):\n",
    "        y_i = y_true[i]\n",
    "        nfalse += (1 - y_i)\n",
    "        auc += y_i * nfalse\n",
    "    auc /= (nfalse * (n - nfalse))\n",
    "    return auc\n",
    "\n",
    "def eval_auc(preds, dtrain):\n",
    "    labels = dtrain.get_label()\n",
    "    return 'auc', fast_auc(labels, preds), True\n",
    "\n",
    "# idea from this kernel: https://www.kaggle.com/fabiendaniel/detecting-malwares-with-lgbm\n",
    "def predict_chunk(model, test):\n",
    "    initial_idx = 0\n",
    "    chunk_size = 1000000\n",
    "    current_pred = np.zeros(len(test))\n",
    "    while initial_idx < test.shape[0]:\n",
    "        final_idx = min(initial_idx + chunk_size, test.shape[0])\n",
    "        idx = range(initial_idx, final_idx)\n",
    "        current_pred[idx] = model.predict(test.iloc[idx], num_iteration=model.best_iteration)\n",
    "        initial_idx = final_idx\n",
    "    #predictions += current_pred / min(folds.n_splits, max_iter)\n",
    "    return current_pred\n",
    "\n",
    "\n",
    "def train_model(X=train, X_test=test, y=y, params=None, folds=folds, model_type='lgb', plot_feature_importance=False, averaging='usual', make_oof=False):\n",
    "    result_dict = {}\n",
    "    if make_oof:\n",
    "        oof = np.zeros(len(X))\n",
    "    prediction = np.zeros(len(X_test))\n",
    "    scores = []\n",
    "    feature_importance = pd.DataFrame()\n",
    "    for fold_n, (train_index, valid_index) in enumerate(folds.split(X, y)):\n",
    "        gc.collect()\n",
    "        print('Fold', fold_n + 1, 'started at', time.ctime())\n",
    "        X_train, X_valid = X.iloc[train_index], X.iloc[valid_index]\n",
    "        y_train, y_valid = y.iloc[train_index], y.iloc[valid_index]\n",
    "        \n",
    "        \n",
    "        if model_type == 'lgb':\n",
    "            train_data = lgb.Dataset(X_train, label=y_train, categorical_feature = cat_cols)\n",
    "            valid_data = lgb.Dataset(X_valid, label=y_valid, categorical_feature = cat_cols)\n",
    "            \n",
    "            model = lgb.train(params,\n",
    "                    train_data,\n",
    "                    num_boost_round=2000,\n",
    "                    valid_sets = [train_data, valid_data],\n",
    "                    verbose_eval=100,\n",
    "                    early_stopping_rounds = 200,\n",
    "                    feval=eval_auc)\n",
    "\n",
    "            del train_data, valid_data\n",
    "            \n",
    "            y_pred_valid = model.predict(X_valid, num_iteration=model.best_iteration)\n",
    "            del X_valid\n",
    "            gc.collect()\n",
    "            # print('predicting on test')\n",
    "            # y_pred = model.predict(X_test, num_iteration=model.best_iteration)\n",
    "            y_pred = predict_chunk(model, X_test)\n",
    "            # print('predicted')\n",
    "            \n",
    "        if model_type == 'xgb':\n",
    "            train_data = xgb.DMatrix(data=X_train, label=y_train)\n",
    "            valid_data = xgb.DMatrix(data=X_valid, label=y_valid)\n",
    "\n",
    "            watchlist = [(train_data, 'train'), (valid_data, 'valid_data')]\n",
    "            model = xgb.train(dtrain=train_data, num_boost_round=20000, evals=watchlist, early_stopping_rounds=200, verbose_eval=500, params=params)\n",
    "            y_pred_valid = model.predict(xgb.DMatrix(X_valid), ntree_limit=model.best_ntree_limit)\n",
    "            #y_pred = model.predict(xgb.DMatrix(X_test), ntree_limit=model.best_ntree_limit)\n",
    "            y_pred = predict_chunk(model, xgb.DMatrix(X_test))\n",
    "            \n",
    "        if model_type == 'lcv':\n",
    "            model = LogisticRegressionCV(scoring='roc_auc', cv=3)\n",
    "            model.fit(X_train, y_train)\n",
    "\n",
    "            y_pred_valid = model.predict(X_valid)\n",
    "            # y_pred = model.predict(X_test)\n",
    "            y_pred = predict_chunk(model, X_test)\n",
    "            \n",
    "        if model_type == 'cat':\n",
    "            model = CatBoostRegressor(iterations=20000,  eval_metric='AUC', **params)\n",
    "            model.fit(X_train, y_train, eval_set=(X_valid, y_valid), cat_features=[], use_best_model=True, verbose=False)\n",
    "\n",
    "            y_pred_valid = model.predict(X_valid)\n",
    "            # y_pred = model.predict(X_test)\n",
    "            y_pred = predict_chunk(model, X_test)\n",
    "        \n",
    "        if make_oof:\n",
    "            oof[valid_index] = y_pred_valid.reshape(-1,)\n",
    "            \n",
    "        scores.append(fast_auc(y_valid, y_pred_valid))\n",
    "        print('Fold roc_auc:', roc_auc_score(y_valid, y_pred_valid))\n",
    "        print('')\n",
    "        \n",
    "        if averaging == 'usual':\n",
    "            prediction += y_pred\n",
    "        elif averaging == 'rank':\n",
    "            prediction += pd.Series(y_pred).rank().values\n",
    "        \n",
    "        if model_type == 'lgb':\n",
    "            # feature importance\n",
    "            fold_importance = pd.DataFrame()\n",
    "            fold_importance[\"feature\"] = X.columns\n",
    "            fold_importance[\"importance\"] = model.feature_importance()\n",
    "            fold_importance[\"fold\"] = fold_n + 1\n",
    "            feature_importance = pd.concat([feature_importance, fold_importance], axis=0)\n",
    "\n",
    "    prediction /= n_fold\n",
    "    \n",
    "    print('CV mean score: {0:.4f}, std: {1:.4f}.'.format(np.mean(scores), np.std(scores)))\n",
    "    \n",
    "    if model_type == 'lgb':\n",
    "        \n",
    "        if plot_feature_importance:\n",
    "            feature_importance[\"importance\"] /= n_fold\n",
    "            cols = feature_importance[[\"feature\", \"importance\"]].groupby(\"feature\").mean().sort_values(\n",
    "                by=\"importance\", ascending=False)[:50].index\n",
    "\n",
    "            best_features = feature_importance.loc[feature_importance.feature.isin(cols)]\n",
    "            logging.info('Top features')\n",
    "            for f in best_features.sort_values(by=\"importance\", ascending=False)['feature'].values:\n",
    "                logging.info(f)\n",
    "\n",
    "            plt.figure(figsize=(16, 12));\n",
    "            sns.barplot(x=\"importance\", y=\"feature\", data=best_features.sort_values(by=\"importance\", ascending=False));\n",
    "            plt.title('LGB Features (avg over folds)');\n",
    "            \n",
    "            result_dict['feature_importance'] = feature_importance\n",
    "            \n",
    "    result_dict['prediction'] = prediction\n",
    "    if make_oof:\n",
    "        result_dict['oof'] = oof\n",
    "    \n",
    "    return result_dict"
   ]
  },
  {
   "cell_type": "code",
   "execution_count": 128,
   "metadata": {
    "_uuid": "b4e1a50a2f760037ffedbdbe0f35cc52e37e5a61"
   },
   "outputs": [],
   "source": [
    "# params from https://www.kaggle.com/fabiendaniel/detecting-malwares-with-lgbm\n",
    "params = {'num_leaves': 128,\n",
    "         'min_data_in_leaf': 60,\n",
    "         'objective': 'binary',\n",
    "         'max_depth': -1,\n",
    "         'learning_rate': 0.05,\n",
    "         \"boosting\": \"gbdt\",\n",
    "         \"feature_fraction\": 0.8,\n",
    "         \"bagging_freq\": 3,\n",
    "         \"bagging_fraction\": 0.8,\n",
    "         \"bagging_seed\": 11,\n",
    "         #\"metric\": 'auc',\n",
    "         \"lambda_l1\": 0.1,\n",
    "         \"random_state\": 42,          \n",
    "         \"verbosity\": -1}"
   ]
  },
  {
   "cell_type": "code",
   "execution_count": 129,
   "metadata": {
    "_uuid": "5b2b950929852ded6bfa8abef935eb9deab14166"
   },
   "outputs": [],
   "source": [
    "del stats_df, freq_enc_dict"
   ]
  },
  {
   "cell_type": "code",
   "execution_count": null,
   "metadata": {
    "_uuid": "a3ad3415096aeed64c6fe0952f3a4980797ef934"
   },
   "outputs": [
    {
     "name": "stdout",
     "output_type": "stream",
     "text": [
      "Fold 1 started at Sun Jan  6 17:22:09 2019\n",
      "Training until validation scores don't improve for 200 rounds.\n"
     ]
    }
   ],
   "source": [
    "result_dict1 = train_model(X=train1, X_test=test, y=y1, params=params, model_type='lgb', plot_feature_importance=True, averaging='rank')"
   ]
  },
  {
   "cell_type": "code",
   "execution_count": null,
   "metadata": {
    "_uuid": "a21edfe9b24c7a5907ff8d05720dde4e06ee85ee"
   },
   "outputs": [],
   "source": [
    "del train1, y1"
   ]
  },
  {
   "cell_type": "code",
   "execution_count": null,
   "metadata": {
    "_uuid": "49dd8bb54b47b44cfbb54bad24ca43ab1e4b4f77"
   },
   "outputs": [],
   "source": [
    "# result_dict2 = train_model(X=train2, X_test=test, y=y2, params=params, model_type='lgb', plot_feature_importance=False, averaging='rank')"
   ]
  },
  {
   "cell_type": "code",
   "execution_count": null,
   "metadata": {
    "_uuid": "97ec8881caaeba2de4f377d283f4aaf1e4cfc908"
   },
   "outputs": [],
   "source": [
    "# del train2, y2"
   ]
  },
  {
   "cell_type": "code",
   "execution_count": null,
   "metadata": {
    "_uuid": "41fe40e790c7d89e7090efcb61ca540a3b566146"
   },
   "outputs": [],
   "source": [
    "result_dict = train_model(X=train, X_test=test, y=y, params=params, model_type='lgb', plot_feature_importance=False, averaging='rank')"
   ]
  },
  {
   "cell_type": "code",
   "execution_count": null,
   "metadata": {
    "_uuid": "236e5eece3750269e0a7747a96899d2c67f4958a"
   },
   "outputs": [],
   "source": [
    "submission = pd.read_csv('sample_submission.csv')\n",
    "\n",
    "# submission['HasDetections'] = (result_dict['prediction'] + result_dict1['prediction'] + result_dict2['prediction']) / 3\n",
    "submission['HasDetections'] = (result_dict['prediction'] + result_dict1['prediction']) / 2\n",
    "# submission['HasDetections'] = result_dict['prediction']\n",
    "submission.to_csv('lgb_rank.csv', index=False)"
   ]
  },
  {
   "cell_type": "markdown",
   "metadata": {
    "_uuid": "f540389599fe87c66bf2451d05ab45cf1ae79668"
   },
   "source": [
    "### Blending\n",
    "I'll try blending my solution with the output of one of the top kernels.\n",
    "https://www.kaggle.com/roydatascience/new-blend"
   ]
  },
  {
   "cell_type": "code",
   "execution_count": null,
   "metadata": {
    "_uuid": "fad13ac183b42da0bb00c266ea2a2368d415a9ef"
   },
   "outputs": [],
   "source": [
    "import os\n",
    "add_sub = pd.read_csv(\"../input/new-blend/super_blend.csv\")"
   ]
  },
  {
   "cell_type": "code",
   "execution_count": null,
   "metadata": {
    "_uuid": "c6dde0ab808cd494d9e691b55d85d8931d235a97"
   },
   "outputs": [],
   "source": [
    "submission['HasDetections'] = (submission['HasDetections'] + add_sub['HasDetections'].rank().values) / 2\n",
    "submission.to_csv('blend.csv', index=False)"
   ]
  }
 ],
 "metadata": {
  "kernelspec": {
   "display_name": "Python 3",
   "language": "python",
   "name": "python3"
  },
  "language_info": {
   "codemirror_mode": {
    "name": "ipython",
    "version": 3
   },
   "file_extension": ".py",
   "mimetype": "text/x-python",
   "name": "python",
   "nbconvert_exporter": "python",
   "pygments_lexer": "ipython3",
   "version": "3.7.0"
  }
 },
 "nbformat": 4,
 "nbformat_minor": 1
}
