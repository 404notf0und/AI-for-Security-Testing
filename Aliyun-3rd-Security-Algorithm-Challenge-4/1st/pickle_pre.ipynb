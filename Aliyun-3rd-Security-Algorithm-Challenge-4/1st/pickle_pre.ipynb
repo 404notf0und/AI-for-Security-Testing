{
 "cells": [
  {
   "cell_type": "code",
   "execution_count": 4,
   "metadata": {},
   "outputs": [],
   "source": [
    "import pandas as pd\n",
    "\n",
    "meta_train = pd.read_pickle('../meta/train_meta_dilated_cnn.pkl')\n",
    "meta_test = pd.read_pickle('../meta/test_meta_dilated_cnn.pkl')\n",
    "\n",
    "import pickle\n",
    "\n",
    "f=open('../meta/train_meta_dilated_cnn_a.pkl','wb')  \n",
    "pickle.dump(meta_train,f,0)  \n",
    "f.close()\n",
    "\n",
    "f=open('../meta/test_meta_dilated_cnn_a.pkl','wb')  \n",
    "pickle.dump(meta_test,f,0)  \n",
    "f.close()"
   ]
  },
  {
   "cell_type": "code",
   "execution_count": null,
   "metadata": {},
   "outputs": [],
   "source": [
    "meta_train = pd.read_pickle('../meta/train_meta_cnn.pkl')\n",
    "meta_test = pd.read_pickle('../meta/test_meta_cnn.pkl')\n",
    "\n",
    "f=open('../meta/train_meta_cnn_a.pkl','wb')  \n",
    "pickle.dump(meta_train,f,0)  \n",
    "f.close()\n",
    "\n",
    "f=open('../meta/test_meta_cnn_a.pkl','wb')  \n",
    "pickle.dump(meta_test,f,0)  \n",
    "f.close()"
   ]
  },
  {
   "cell_type": "code",
   "execution_count": 2,
   "metadata": {},
   "outputs": [
    {
     "data": {
      "text/plain": [
       "'/Users/didi/天池/安全赛复赛/temp'"
      ]
     },
     "execution_count": 2,
     "metadata": {},
     "output_type": "execute_result"
    }
   ],
   "source": [
    "%pwd"
   ]
  },
  {
   "cell_type": "code",
   "execution_count": null,
   "metadata": {},
   "outputs": [],
   "source": []
  }
 ],
 "metadata": {
  "kernelspec": {
   "display_name": "Python 3",
   "language": "python",
   "name": "python3"
  },
  "language_info": {
   "codemirror_mode": {
    "name": "ipython",
    "version": 3
   },
   "file_extension": ".py",
   "mimetype": "text/x-python",
   "name": "python",
   "nbconvert_exporter": "python",
   "pygments_lexer": "ipython3",
   "version": "3.6.5"
  }
 },
 "nbformat": 4,
 "nbformat_minor": 2
}
